{
  "cells": [
    {
      "cell_type": "code",
      "execution_count": null,
      "metadata": {
        "id": "OfQQPHnZxnva"
      },
      "outputs": [],
      "source": [
        ""
      ]
    },
    {
      "cell_type": "code",
      "execution_count": null,
      "metadata": {
        "id": "b6pnQAULxp0T"
      },
      "outputs": [],
      "source": [
        ""
      ]
    },
    {
      "cell_type": "code",
      "execution_count": null,
      "metadata": {
        "colab": {
          "base_uri": "https://localhost:8080/",
          "height": 1000,
          "referenced_widgets": [
            "4dd2d26168d64bc98164017cd6b11246",
            "4ee7ade824804a159f1af8ff6e79bf0f",
            "80a3b9da23384e11860530f571d4b0c3",
            "e3e6b1deb128473baabea9d5bb69d76d",
            "005f0d161f404c3ca643180e12d2f5fc",
            "c1a4cfcff6c84db98f5a0b9391ffd06d",
            "0ccd75112fa84a1b8a18576cf1873d4e",
            "de2ec87c8d1349c280f06f0b0110bd6e",
            "bbf69e167cc54846af3cf42969336723",
            "e98cdfad03e74cd6809870426a5a8ab7",
            "116d3a444be1483e8ba7c4956f1ef342"
          ]
        },
        "id": "5KIXedZnAV4s",
        "outputId": "7c1bdab9-afd3-4d90-a98e-b14efe665cc3"
      },
      "outputs": [
        {
          "output_type": "stream",
          "name": "stdout",
          "text": [
            "cuda:0\n",
            "Num Experts = 1\n",
            "Trial: 0\n",
            "Downloading https://www.cs.toronto.edu/~kriz/cifar-100-python.tar.gz to ../data/cifar-100-python.tar.gz\n"
          ]
        },
        {
          "output_type": "display_data",
          "data": {
            "text/plain": [
              "  0%|          | 0/169001437 [00:00<?, ?it/s]"
            ],
            "application/vnd.jupyter.widget-view+json": {
              "version_major": 2,
              "version_minor": 0,
              "model_id": "4dd2d26168d64bc98164017cd6b11246"
            }
          },
          "metadata": {}
        },
        {
          "output_type": "stream",
          "name": "stdout",
          "text": [
            "Extracting ../data/cifar-100-python.tar.gz to ../data\n",
            "Number of model parameters: 5872437\n"
          ]
        },
        {
          "output_type": "stream",
          "name": "stderr",
          "text": [
            "/usr/local/lib/python3.7/dist-packages/ipykernel_launcher.py:334: UserWarning: Implicit dimension choice for softmax has been deprecated. Change the call to include dim=X as an argument.\n"
          ]
        },
        {
          "output_type": "stream",
          "name": "stdout",
          "text": [
            "Epoch: [0][0/352]\tTime 1.099 (1.099)\tLoss 8.4763 (8.4763)\tPrec@1 1.562 (1.562)\n",
            "Epoch: [0][10/352]\tTime 0.121 (0.213)\tLoss 7.4935 (7.6882)\tPrec@1 1.562 (0.284)\n",
            "Epoch: [0][20/352]\tTime 0.122 (0.171)\tLoss 7.2633 (7.5575)\tPrec@1 0.000 (0.260)\n",
            "Epoch: [0][30/352]\tTime 0.132 (0.158)\tLoss 6.8750 (7.4365)\tPrec@1 0.000 (0.328)\n",
            "Epoch: [0][40/352]\tTime 0.123 (0.150)\tLoss 7.0214 (7.3469)\tPrec@1 1.562 (0.495)\n",
            "Epoch: [0][50/352]\tTime 0.123 (0.145)\tLoss 6.9894 (7.2868)\tPrec@1 0.000 (0.429)\n",
            "Epoch: [0][60/352]\tTime 0.130 (0.143)\tLoss 7.1467 (7.2257)\tPrec@1 0.781 (0.448)\n",
            "Epoch: [0][70/352]\tTime 0.135 (0.141)\tLoss 6.6406 (7.1704)\tPrec@1 1.562 (0.517)\n",
            "Epoch: [0][80/352]\tTime 0.122 (0.139)\tLoss 6.6639 (7.1153)\tPrec@1 1.562 (0.617)\n",
            "Epoch: [0][90/352]\tTime 0.119 (0.138)\tLoss 6.9320 (7.0758)\tPrec@1 0.000 (0.713)\n",
            "Epoch: [0][100/352]\tTime 0.131 (0.137)\tLoss 6.6550 (7.0368)\tPrec@1 3.125 (0.804)\n",
            "Epoch: [0][110/352]\tTime 0.120 (0.136)\tLoss 6.5279 (7.0003)\tPrec@1 0.000 (0.859)\n",
            "Epoch: [0][120/352]\tTime 0.123 (0.135)\tLoss 6.4760 (6.9668)\tPrec@1 3.125 (0.968)\n",
            "Epoch: [0][130/352]\tTime 0.122 (0.135)\tLoss 6.4374 (6.9362)\tPrec@1 0.000 (1.020)\n",
            "Epoch: [0][140/352]\tTime 0.129 (0.134)\tLoss 6.3825 (6.9021)\tPrec@1 1.562 (1.169)\n",
            "Epoch: [0][150/352]\tTime 0.133 (0.134)\tLoss 6.4012 (6.8723)\tPrec@1 2.344 (1.283)\n",
            "Epoch: [0][160/352]\tTime 0.121 (0.133)\tLoss 6.3699 (6.8388)\tPrec@1 7.031 (1.427)\n",
            "Epoch: [0][170/352]\tTime 0.126 (0.133)\tLoss 6.4581 (6.8118)\tPrec@1 2.344 (1.494)\n",
            "Epoch: [0][180/352]\tTime 0.129 (0.133)\tLoss 6.3300 (6.7796)\tPrec@1 2.344 (1.623)\n",
            "Epoch: [0][190/352]\tTime 0.124 (0.133)\tLoss 6.2748 (6.7543)\tPrec@1 3.125 (1.681)\n",
            "Epoch: [0][200/352]\tTime 0.129 (0.132)\tLoss 6.2415 (6.7318)\tPrec@1 6.250 (1.800)\n",
            "Epoch: [0][210/352]\tTime 0.124 (0.132)\tLoss 6.2433 (6.7129)\tPrec@1 4.688 (1.888)\n",
            "Epoch: [0][220/352]\tTime 0.129 (0.132)\tLoss 6.2962 (6.6932)\tPrec@1 1.562 (1.923)\n",
            "Epoch: [0][230/352]\tTime 0.123 (0.132)\tLoss 6.0276 (6.6713)\tPrec@1 8.594 (2.029)\n"
          ]
        },
        {
          "output_type": "error",
          "ename": "KeyboardInterrupt",
          "evalue": "ignored",
          "traceback": [
            "\u001b[0;31m---------------------------------------------------------------------------\u001b[0m",
            "\u001b[0;31mKeyboardInterrupt\u001b[0m                         Traceback (most recent call last)",
            "\u001b[0;32m<ipython-input-4-7225c31aee42>\u001b[0m in \u001b[0;36m<module>\u001b[0;34m()\u001b[0m\n\u001b[1;32m    751\u001b[0m         \u001b[0malpha\u001b[0m \u001b[0;34m=\u001b[0m \u001b[0;36m1\u001b[0m\u001b[0;34m\u001b[0m\u001b[0;34m\u001b[0m\u001b[0m\n\u001b[1;32m    752\u001b[0m         \u001b[0mnum_epochs\u001b[0m \u001b[0;34m=\u001b[0m \u001b[0;36m10\u001b[0m\u001b[0;34m\u001b[0m\u001b[0;34m\u001b[0m\u001b[0m\n\u001b[0;32m--> 753\u001b[0;31m         \u001b[0mtrain_loader\u001b[0m\u001b[0;34m,\u001b[0m\u001b[0mtest_loader\u001b[0m\u001b[0;34m,\u001b[0m\u001b[0mcalibration_loader\u001b[0m\u001b[0;34m,\u001b[0m\u001b[0mmodel_deferral\u001b[0m \u001b[0;34m=\u001b[0m \u001b[0mrun_reject\u001b[0m\u001b[0;34m(\u001b[0m\u001b[0mmodel_deferral\u001b[0m\u001b[0;34m,\u001b[0m \u001b[0;32mTrue\u001b[0m\u001b[0;34m,\u001b[0m \u001b[0mn_dataset\u001b[0m\u001b[0;34m,\u001b[0m \u001b[0mexpert\u001b[0m\u001b[0;34m.\u001b[0m\u001b[0mpredict\u001b[0m\u001b[0;34m,\u001b[0m \u001b[0mnum_epochs\u001b[0m\u001b[0;34m,\u001b[0m \u001b[0malpha\u001b[0m\u001b[0;34m,\u001b[0m\u001b[0mdefer\u001b[0m\u001b[0;34m,\u001b[0m\u001b[0mbeta\u001b[0m \u001b[0;34m=\u001b[0m \u001b[0mbeta\u001b[0m\u001b[0;34m)\u001b[0m \u001b[0;31m# train for 'num_epochs' epochs\u001b[0m\u001b[0;34m\u001b[0m\u001b[0;34m\u001b[0m\u001b[0m\n\u001b[0m\u001b[1;32m    754\u001b[0m         \u001b[0;31m# torch.save(model.cuda(),'cifar_100_deferral_k={}.pth'.format(k))\u001b[0m\u001b[0;34m\u001b[0m\u001b[0;34m\u001b[0m\u001b[0;34m\u001b[0m\u001b[0m\n\u001b[1;32m    755\u001b[0m \u001b[0;34m\u001b[0m\u001b[0m\n",
            "\u001b[0;32m<ipython-input-4-7225c31aee42>\u001b[0m in \u001b[0;36mrun_reject\u001b[0;34m(model, data_aug, n_dataset, expert_fn, epochs, alpha, defer, skew, beta)\u001b[0m\n\u001b[1;32m    573\u001b[0m         \u001b[0;31m# train for one epoch\u001b[0m\u001b[0;34m\u001b[0m\u001b[0;34m\u001b[0m\u001b[0;34m\u001b[0m\u001b[0m\n\u001b[1;32m    574\u001b[0m         \u001b[0;32mif\u001b[0m \u001b[0mdefer\u001b[0m\u001b[0;34m:\u001b[0m\u001b[0;34m\u001b[0m\u001b[0;34m\u001b[0m\u001b[0m\n\u001b[0;32m--> 575\u001b[0;31m           \u001b[0mtrain_reject\u001b[0m\u001b[0;34m(\u001b[0m\u001b[0mtrain_loader\u001b[0m\u001b[0;34m,\u001b[0m \u001b[0mmodel\u001b[0m\u001b[0;34m,\u001b[0m \u001b[0moptimizer\u001b[0m\u001b[0;34m,\u001b[0m \u001b[0mscheduler\u001b[0m\u001b[0;34m,\u001b[0m \u001b[0mepoch\u001b[0m\u001b[0;34m,\u001b[0m \u001b[0mexpert_fn\u001b[0m\u001b[0;34m,\u001b[0m \u001b[0mn_dataset\u001b[0m\u001b[0;34m,\u001b[0m \u001b[0malpha\u001b[0m\u001b[0;34m,\u001b[0m\u001b[0mbeta\u001b[0m\u001b[0;34m)\u001b[0m\u001b[0;34m\u001b[0m\u001b[0;34m\u001b[0m\u001b[0m\n\u001b[0m\u001b[1;32m    576\u001b[0m           \u001b[0;32mif\u001b[0m \u001b[0mepoch\u001b[0m \u001b[0;34m%\u001b[0m \u001b[0;36m1\u001b[0m \u001b[0;34m==\u001b[0m \u001b[0;36m0\u001b[0m\u001b[0;34m:\u001b[0m\u001b[0;34m\u001b[0m\u001b[0;34m\u001b[0m\u001b[0m\n\u001b[1;32m    577\u001b[0m               \u001b[0mmetrics_print\u001b[0m\u001b[0;34m(\u001b[0m\u001b[0mmodel\u001b[0m\u001b[0;34m,\u001b[0m \u001b[0mexpert_fn\u001b[0m\u001b[0;34m,\u001b[0m \u001b[0mn_dataset\u001b[0m\u001b[0;34m,\u001b[0m \u001b[0mtest_loader\u001b[0m\u001b[0;34m)\u001b[0m\u001b[0;34m\u001b[0m\u001b[0;34m\u001b[0m\u001b[0m\n",
            "\u001b[0;32m<ipython-input-4-7225c31aee42>\u001b[0m in \u001b[0;36mtrain_reject\u001b[0;34m(train_loader, model, optimizer, scheduler, epoch, expert_fn, n_classes, alpha, beta)\u001b[0m\n\u001b[1;32m    340\u001b[0m         \u001b[0mbatch_size\u001b[0m \u001b[0;34m=\u001b[0m \u001b[0moutput\u001b[0m\u001b[0;34m.\u001b[0m\u001b[0msize\u001b[0m\u001b[0;34m(\u001b[0m\u001b[0;34m)\u001b[0m\u001b[0;34m[\u001b[0m\u001b[0;36m0\u001b[0m\u001b[0;34m]\u001b[0m  \u001b[0;31m# batch_size\u001b[0m\u001b[0;34m\u001b[0m\u001b[0;34m\u001b[0m\u001b[0m\n\u001b[1;32m    341\u001b[0m         \u001b[0mdeferral_size\u001b[0m \u001b[0;34m=\u001b[0m \u001b[0mmath\u001b[0m\u001b[0;34m.\u001b[0m\u001b[0mceil\u001b[0m\u001b[0;34m(\u001b[0m\u001b[0mbatch_size\u001b[0m\u001b[0;34m*\u001b[0m\u001b[0;36m1\u001b[0m\u001b[0;34m)\u001b[0m\u001b[0;34m\u001b[0m\u001b[0;34m\u001b[0m\u001b[0m\n\u001b[0;32m--> 342\u001b[0;31m         \u001b[0mm\u001b[0m \u001b[0;34m=\u001b[0m \u001b[0mexpert_fn\u001b[0m\u001b[0;34m(\u001b[0m\u001b[0minput\u001b[0m\u001b[0;34m[\u001b[0m\u001b[0;34m:\u001b[0m\u001b[0mdeferral_size\u001b[0m\u001b[0;34m]\u001b[0m\u001b[0;34m,\u001b[0m \u001b[0mtarget\u001b[0m\u001b[0;34m[\u001b[0m\u001b[0;34m:\u001b[0m\u001b[0mdeferral_size\u001b[0m\u001b[0;34m]\u001b[0m\u001b[0;34m)\u001b[0m\u001b[0;34m\u001b[0m\u001b[0;34m\u001b[0m\u001b[0m\n\u001b[0m\u001b[1;32m    343\u001b[0m         \u001b[0;31m# alpha = 1\u001b[0m\u001b[0;34m\u001b[0m\u001b[0;34m\u001b[0m\u001b[0;34m\u001b[0m\u001b[0m\n\u001b[1;32m    344\u001b[0m         \u001b[0mm2\u001b[0m \u001b[0;34m=\u001b[0m \u001b[0;34m[\u001b[0m\u001b[0;36m0\u001b[0m\u001b[0;34m]\u001b[0m \u001b[0;34m*\u001b[0m \u001b[0mdeferral_size\u001b[0m\u001b[0;34m\u001b[0m\u001b[0;34m\u001b[0m\u001b[0m\n",
            "\u001b[0;32m<ipython-input-4-7225c31aee42>\u001b[0m in \u001b[0;36mpredict\u001b[0;34m(self, input, labels)\u001b[0m\n\u001b[1;32m    639\u001b[0m             \u001b[0mrand\u001b[0m \u001b[0;34m=\u001b[0m \u001b[0mnp\u001b[0m\u001b[0;34m.\u001b[0m\u001b[0mrandom\u001b[0m\u001b[0;34m.\u001b[0m\u001b[0mrand\u001b[0m\u001b[0;34m(\u001b[0m\u001b[0;34m)\u001b[0m\u001b[0;34m\u001b[0m\u001b[0;34m\u001b[0m\u001b[0m\n\u001b[1;32m    640\u001b[0m             \u001b[0;32mif\u001b[0m \u001b[0mrand\u001b[0m \u001b[0;34m<\u001b[0m \u001b[0mself\u001b[0m\u001b[0;34m.\u001b[0m\u001b[0mprob\u001b[0m\u001b[0;34m:\u001b[0m\u001b[0;34m\u001b[0m\u001b[0;34m\u001b[0m\u001b[0m\n\u001b[0;32m--> 641\u001b[0;31m               \u001b[0mvals\u001b[0m\u001b[0;34m[\u001b[0m\u001b[0mint\u001b[0m\u001b[0;34m(\u001b[0m\u001b[0mlabels\u001b[0m\u001b[0;34m[\u001b[0m\u001b[0mi\u001b[0m\u001b[0;34m]\u001b[0m\u001b[0;34m.\u001b[0m\u001b[0mitem\u001b[0m\u001b[0;34m(\u001b[0m\u001b[0;34m)\u001b[0m\u001b[0;34m)\u001b[0m\u001b[0;34m]\u001b[0m \u001b[0;34m+=\u001b[0m \u001b[0;36m1\u001b[0m\u001b[0;34m\u001b[0m\u001b[0;34m\u001b[0m\u001b[0m\n\u001b[0m\u001b[1;32m    642\u001b[0m             \u001b[0;32melse\u001b[0m\u001b[0;34m:\u001b[0m\u001b[0;34m\u001b[0m\u001b[0;34m\u001b[0m\u001b[0m\n\u001b[1;32m    643\u001b[0m               \u001b[0mprediction_rand\u001b[0m \u001b[0;34m=\u001b[0m \u001b[0mrandom\u001b[0m\u001b[0;34m.\u001b[0m\u001b[0mrandint\u001b[0m\u001b[0;34m(\u001b[0m\u001b[0;36m0\u001b[0m\u001b[0;34m,\u001b[0m \u001b[0mself\u001b[0m\u001b[0;34m.\u001b[0m\u001b[0mn_classes\u001b[0m \u001b[0;34m-\u001b[0m \u001b[0;36m1\u001b[0m\u001b[0;34m)\u001b[0m\u001b[0;34m\u001b[0m\u001b[0;34m\u001b[0m\u001b[0m\n",
            "\u001b[0;31mKeyboardInterrupt\u001b[0m: "
          ]
        }
      ],
      "source": [
        "# CIFAR0-10 learning to reject.ipynb\n",
        "\n",
        "# Text cell <undefined>\n",
        "# #%% [markdown]\n",
        "# This notebook goes through learning a classifier and rejector using our proposed loss function L_{CE}^{\\alpha} for a synthehtic expert (described in the paper) on CIFAR-10/100.\n",
        "\n",
        "# Text cell <a7Aympk-qwGu>\n",
        "# #%% [markdown]\n",
        "# # Preliminaries: model definition and utilities\n",
        "# !git clone https://github.com/clinicalml/learn-to-defer.git\n",
        "# !rm -r conformal_classification\n",
        "# !git clone https://github.com/aangelopoulos/conformal_classification.git\n",
        "# Code cell <cFhWBUzvqmZF>\n",
        "# %% [code]\n",
        "import math\n",
        "import torch\n",
        "import torch.nn as nn\n",
        "import random\n",
        "import numpy as np\n",
        "import torch.nn.functional as F\n",
        "import argparse\n",
        "import os\n",
        "import shutil\n",
        "import time\n",
        "import torch.nn.parallel\n",
        "import torchvision\n",
        "import torch.backends.cudnn as cudnn\n",
        "import torch.optim\n",
        "import torch.utils.data\n",
        "import pickle as pkl\n",
        "import matplotlib.pyplot as plt\n",
        "import torchvision.transforms as transforms\n",
        "import torchvision.datasets as datasets\n",
        "from torch.autograd import Variable\n",
        "import os, sys, inspect\n",
        "sys.path.insert(1, os.path.join(sys.path[0], './conformal_classification/'))\n",
        "from tqdm import tqdm\n",
        "\n",
        "device = torch.device(\"cuda:0\" if torch.cuda.is_available() else \"cpu\")\n",
        "print(device)\n",
        "\n",
        "\n",
        "# Text cell <plcXrgr8q_dR>\n",
        "# #%% [markdown]\n",
        "# WideResNet from following [repo](https://github.com/xternalz/WideResNet-pytorch/blob/master/wideresnet.py)\n",
        "\n",
        "# Code cell <qP2NJY4BrEH8>\n",
        "# %% [code]\n",
        "class BasicBlock(nn.Module):\n",
        "    def __init__(self, in_planes, out_planes, stride, dropRate=0.0):\n",
        "        super(BasicBlock, self).__init__()\n",
        "        self.bn1 = nn.BatchNorm2d(in_planes)\n",
        "        self.relu1 = nn.ReLU(inplace=True)\n",
        "        self.conv1 = nn.Conv2d(in_planes, out_planes, kernel_size=3, stride=stride,\n",
        "                               padding=1, bias=False)\n",
        "        self.bn2 = nn.BatchNorm2d(out_planes)\n",
        "        self.relu2 = nn.ReLU(inplace=True)\n",
        "        self.conv2 = nn.Conv2d(out_planes, out_planes, kernel_size=3, stride=1,\n",
        "                               padding=1, bias=False)\n",
        "        self.droprate = dropRate\n",
        "        self.equalInOut = (in_planes == out_planes)\n",
        "        self.convShortcut = (not self.equalInOut) and nn.Conv2d(in_planes, out_planes, kernel_size=1, stride=stride,\n",
        "                                                                padding=0, bias=False) or None\n",
        "    def forward(self, x):\n",
        "        if not self.equalInOut:\n",
        "            x = self.relu1(self.bn1(x))\n",
        "        else:\n",
        "            out = self.relu1(self.bn1(x))\n",
        "        out = self.relu2(self.bn2(self.conv1(out if self.equalInOut else x)))\n",
        "        if self.droprate > 0:\n",
        "            out = F.dropout(out, p=self.droprate, training=self.training)\n",
        "        out = self.conv2(out)\n",
        "        return torch.add(x if self.equalInOut else self.convShortcut(x), out)\n",
        "\n",
        "\n",
        "class NetworkBlock(nn.Module):\n",
        "    def __init__(self, nb_layers, in_planes, out_planes, block, stride, dropRate=0.0):\n",
        "        super(NetworkBlock, self).__init__()\n",
        "        self.layer = self._make_layer(block, in_planes, out_planes, nb_layers, stride, dropRate)\n",
        "    def _make_layer(self, block, in_planes, out_planes, nb_layers, stride, dropRate):\n",
        "        layers = []\n",
        "        for i in range(int(nb_layers)):\n",
        "            layers.append(block(i == 0 and in_planes or out_planes, out_planes, i == 0 and stride or 1, dropRate))\n",
        "        return nn.Sequential(*layers)\n",
        "    def forward(self, x):\n",
        "        return self.layer(x)\n",
        "\n",
        "\n",
        "class WideResNet(nn.Module):\n",
        "    def __init__(self, depth, num_classes, widen_factor=1, dropRate=0.0):\n",
        "        super(WideResNet, self).__init__()\n",
        "        nChannels = [16, 16 * widen_factor, 32 * widen_factor, 64 * widen_factor]\n",
        "        assert ((depth - 4) % 6 == 0)\n",
        "        n = (depth - 4) / 6\n",
        "        block = BasicBlock\n",
        "        # 1st conv before any network block\n",
        "        self.conv1 = nn.Conv2d(3, nChannels[0], kernel_size=3, stride=1,\n",
        "                               padding=1, bias=False)\n",
        "        # 1st block\n",
        "        self.block1 = NetworkBlock(n, nChannels[0], nChannels[1], block, 1, dropRate)\n",
        "        # 2nd block\n",
        "        self.block2 = NetworkBlock(n, nChannels[1], nChannels[2], block, 2, dropRate)\n",
        "        # 3rd block\n",
        "        self.block3 = NetworkBlock(n, nChannels[2], nChannels[3], block, 2, dropRate)\n",
        "        # global average pooling and classifier\n",
        "        self.bn1 = nn.BatchNorm2d(nChannels[3])\n",
        "        self.relu = nn.ReLU(inplace=True)\n",
        "        self.fc = nn.Linear(nChannels[3], num_classes)\n",
        "        self.nChannels = nChannels[3]\n",
        "        self.softmax = nn.Softmax()\n",
        "        for m in self.modules():\n",
        "            if isinstance(m, nn.Conv2d):\n",
        "                nn.init.kaiming_normal_(m.weight, mode='fan_out', nonlinearity='relu')\n",
        "            elif isinstance(m, nn.BatchNorm2d):\n",
        "                m.weight.data.fill_(1)\n",
        "                m.bias.data.zero_()\n",
        "            elif isinstance(m, nn.Linear):\n",
        "                m.bias.data.zero_()\n",
        "    def forward(self, x):\n",
        "        out = self.conv1(x)\n",
        "        out = self.block1(out)\n",
        "        out = self.block2(out)\n",
        "        out = self.block3(out)\n",
        "        out = self.relu(self.bn1(out))\n",
        "        out = F.avg_pool2d(out, 8)\n",
        "        out = out.view(-1, self.nChannels)\n",
        "        out = self.fc(out)\n",
        "        # out = self.softmax(out)\n",
        "        return out\n",
        "\n",
        "# Text cell <9ll6QD_IrQeD>\n",
        "# #%% [markdown]\n",
        "# metrics and utilities\n",
        "\n",
        "# Code cell <m93DvFTXrRwt>\n",
        "# #%% [code]\n",
        "class AverageMeter(object):\n",
        "    \"\"\"Computes and stores the average and current value\"\"\"\n",
        "    def __init__(self):\n",
        "        self.reset()\n",
        "\n",
        "    def reset(self):\n",
        "        self.val = 0\n",
        "        self.avg = 0\n",
        "        self.sum = 0\n",
        "        self.count = 0\n",
        "\n",
        "    def update(self, val, n=1):\n",
        "        self.val = val\n",
        "        self.sum += val * n\n",
        "        self.count += n\n",
        "        self.avg = self.sum / self.count\n",
        "\n",
        "def accuracy(output, target, topk=(1,)):\n",
        "    \"\"\"Computes the precision@k for the specified values of k\"\"\"\n",
        "    maxk = max(topk)\n",
        "    batch_size = target.size(0)\n",
        "\n",
        "    _, pred = output.topk(maxk, 1, True, True)\n",
        "    pred = pred.t()\n",
        "    correct = pred.eq(target.view(1, -1).expand_as(pred))\n",
        "\n",
        "    res = []\n",
        "    for k in topk:\n",
        "        correct_k = correct[:k].view(-1).float().sum(0)\n",
        "        res.append(correct_k.mul_(100.0 / batch_size))\n",
        "    return res\n",
        "\n",
        "def metrics_print(net,expert_fn, n_classes, loader,return_stats = False):\n",
        "    '''\n",
        "    Computes metrics for deferal\n",
        "    -----\n",
        "    Arguments:\n",
        "    net: model\n",
        "    expert_fn: expert model\n",
        "    n_classes: number of classes\n",
        "    loader: data loader\n",
        "    '''\n",
        "    correct = 0\n",
        "    correct_sys = 0\n",
        "    exp = 0\n",
        "    exp_total = 0\n",
        "    total = 0\n",
        "    real_total = 0\n",
        "    alone_correct = 0\n",
        "    with torch.no_grad():\n",
        "        for data in loader:\n",
        "            images, labels = data\n",
        "            images, labels = images.to(device), labels.to(device)\n",
        "            outputs = net(images)\n",
        "            outputs = nn.Softmax()(outputs)\n",
        "            _, predicted = torch.max(outputs.data, 1)\n",
        "            batch_size = outputs.size()[0]  # batch_size\n",
        "            exp_prediction = expert_fn(images, labels)\n",
        "            for i in range(0, batch_size):\n",
        "                r = (predicted[i].item() == n_classes)\n",
        "                prediction = predicted[i]\n",
        "                if predicted[i] == n_classes:\n",
        "                    max_idx = 0\n",
        "                    # get second max\n",
        "                    for j in range(0, n_classes):\n",
        "                        if outputs.data[i][j] >= outputs.data[i][max_idx]:\n",
        "                            max_idx = j\n",
        "                    prediction = max_idx\n",
        "                else:\n",
        "                    prediction = predicted[i]\n",
        "                alone_correct += (prediction == labels[i]).item()\n",
        "                if r == 0:\n",
        "                    total += 1\n",
        "                    correct += (predicted[i] == labels[i]).item()\n",
        "                    correct_sys += (predicted[i] == labels[i]).item()\n",
        "                if r == 1:\n",
        "                    exp += (exp_prediction[i] == labels[i].item())\n",
        "                    correct_sys += (exp_prediction[i] == labels[i].item())\n",
        "                    exp_total += 1\n",
        "                real_total += 1\n",
        "    cov = str(total) + str(\" out of\") + str(real_total)\n",
        "    to_print = {\"coverage\": cov, \"system accuracy\": 100 * correct_sys / real_total,\n",
        "                \"expert accuracy\": 100 * exp / (exp_total + 0.0002),\n",
        "                \"classifier accuracy\": 100 * correct / (total + 0.0001),\n",
        "                \"alone classifier\": 100 * alone_correct / real_total}\n",
        "    print(to_print)\n",
        "    if return_stats:\n",
        "      return correct_sys / real_total\n",
        "\n",
        "\n",
        "def metrics_print_baseline(net_class, expert_fn, n_classes, loader):\n",
        "    correct = 0\n",
        "    correct_sys = 0\n",
        "    exp = 0\n",
        "    exp_total = 0\n",
        "    total = 0\n",
        "    real_total = 0\n",
        "    with torch.no_grad():\n",
        "        for data in loader:\n",
        "            images, labels = data\n",
        "            images, labels = images.to(device), labels.to(device)\n",
        "            outputs_class = net_class(images)\n",
        "            outputs_class = nn.Softmax()(outputs_class)\n",
        "            _, predicted = torch.max(outputs_class.data, 1)\n",
        "            batch_size = outputs_class.size()[0]  # batch_size\n",
        "\n",
        "            exp_prediction = expert_fn(images, labels)\n",
        "            for i in range(0, batch_size):\n",
        "                r = (exp_prediction[i] == labels[i].item())\n",
        "                if r == 0:\n",
        "                    total += 1\n",
        "                    prediction = predicted[i]\n",
        "                    if predicted[i] == n_classes:\n",
        "                        max_idx = 0\n",
        "                        for j in range(0, n_classes):\n",
        "                            if outputs_class.data[i][j] >= outputs_class.data[i][max_idx]:\n",
        "                                max_idx = j\n",
        "                        prediction = max_idx\n",
        "                    else:\n",
        "                        prediction = predicted[i]\n",
        "                    correct += (prediction == labels[i]).item()\n",
        "                    correct_sys += (prediction == labels[i]).item()\n",
        "                if r == 1:\n",
        "                    exp += (exp_prediction[i] == labels[i].item())\n",
        "                    correct_sys += (exp_prediction[i] == labels[i].item())\n",
        "                    exp_total += 1\n",
        "                real_total += 1\n",
        "    cov = str(total) + str(\" out of\") + str(real_total)\n",
        "    to_print = {\"coverage\": cov, \"system accuracy\": 100 * correct_sys / real_total,\n",
        "                \"expert accuracy\": 100 * exp / (exp_total + 0.0002),\n",
        "                \"classifier accuracy\": 100 * correct / (total + 0.0001)}\n",
        "    print(to_print)\n",
        "\n",
        "\n",
        "# Text cell <E-GzRg6nrsSB>\n",
        "# #%% [markdown]\n",
        "# # Our Method\n",
        "\n",
        "# Code cell <4bojqcOrsdDA>\n",
        "# #%% [code]\n",
        "def reject_CrossEntropyLoss(outputs, m, labels, m2, n_classes):\n",
        "    '''\n",
        "    The L_{CE} loss implementation for CIFAR\n",
        "    ----\n",
        "    outputs: network outputs\n",
        "    m: cost of deferring to expert cost of classifier predicting (alpha* I_{m\\neq y} + I_{m =y})\n",
        "    labels: target\n",
        "    m2:  cost of classifier predicting (alpha* I_{m\\neq y} + I_{m =y})\n",
        "    n_classes: number of classes\n",
        "    '''\n",
        "    batch_size = outputs.size()[0]  # batch_size\n",
        "    rc = [n_classes] * batch_size # This is the expert class (class 100) so when m = 1 we defer to the expert\n",
        "    # print(torch.log2(outputs[range(batch_size), rc]),outputs)\n",
        "    outputs = -m * torch.log2(outputs[range(batch_size), rc]) - m2 * torch.log2(\n",
        "        outputs[range(batch_size), labels])\n",
        "    return torch.sum(outputs) / batch_size\n",
        "\n",
        "# def defer_CrossEntropyLoss(outputs, m, labels, m2, n_classes):\n",
        "#     '''\n",
        "#     The L_{CE} loss implementation for CIFAR\n",
        "#     ----\n",
        "#     outputs: network outputs\n",
        "#     m: cost of deferring to expert cost of classifier predicting (alpha* I_{m\\neq y} + I_{m =y})\n",
        "#     labels: target\n",
        "#     m2:  cost of classifier predicting (alpha* I_{m\\neq y} + I_{m =y})\n",
        "#     n_classes: number of classes\n",
        "#     '''\n",
        "#     batch_size = outputs.size()[0]  # batch_size\n",
        "#     rc = [n_classes] * batch_size # This is the expert class (class 100) so when m = 1 we defer to the expert\n",
        "#     outputs = -m * torch.log2(outputs[range(batch_size), rc])\n",
        "#     # outputs = -0.2*m * torch.log2(outputs[range(batch_size), rc]) - m2 * torch.log(outputs[range(batch_size), labels]) + skewloss(m,outputs,labels)  \n",
        "#     return torch.sum(outputs) / batch_size\n",
        "\n",
        "def my_CrossEntropyLoss(outputs, labels,skew=False,skewloss=None,n_epoch=0):\n",
        "    # Regular Cross entropy loss\n",
        "    if not skew:\n",
        "      batch_size = outputs.size()[0]  # batch_size\n",
        "      outputs = - torch.log2(outputs[range(batch_size), labels]) # regular CE\n",
        "      return torch.sum(outputs) / batch_size\n",
        "    else:\n",
        "      return skewloss(outputs,labels,flag=False,n_epoch=n_epoch)    \n",
        "\n",
        "def train_reject(train_loader, model, optimizer, scheduler, epoch, expert_fn, n_classes, alpha,beta=1):\n",
        "    \"\"\"Train for one epoch on the training set with deferral\"\"\"\n",
        "    batch_time = AverageMeter()\n",
        "    losses = AverageMeter()\n",
        "    top1 = AverageMeter()\n",
        "\n",
        "    # switch to train mode\n",
        "    model.train()\n",
        "\n",
        "    end = time.time()\n",
        "    for i, (input, target) in enumerate(train_loader):\n",
        "        target = target.to(device)\n",
        "        input = input.to(device)\n",
        "        # compute output\n",
        "        output = model(input)\n",
        "        output = nn.Softmax()(output)\n",
        "        # _,idxs = torch.sort(output[:,-1],descending=True)\n",
        "        # output = output[idxs]\n",
        "        # target = target[idxs]\n",
        "        # input = input[idxs]\n",
        "        # get expert  predictions and costs\n",
        "        batch_size = output.size()[0]  # batch_size\n",
        "        deferral_size = math.ceil(batch_size*1)\n",
        "        m = expert_fn(input[:deferral_size], target[:deferral_size])\n",
        "        # alpha = 1\n",
        "        m2 = [0] * deferral_size\n",
        "        for j in range(0, deferral_size):\n",
        "            if m[j] == target[j].item():\n",
        "                m[j] = beta # Controls the deferral rate. High beta => we defer more often\n",
        "                m2[j] = alpha # alpha\n",
        "            else:\n",
        "                m[j] = 0\n",
        "                m2[j] = 1 # 1\n",
        "        m = torch.tensor(m)\n",
        "        m2 = torch.tensor(m2)\n",
        "        m = m.to(device)\n",
        "        m2 = m2.to(device)\n",
        "        # compute loss\n",
        "        # print(reject_CrossEntropyLoss(output[:deferral_size], m, target[:deferral_size], m2, n_classes),my_CrossEntropyLoss(output[deferral_size:],target[deferral_size:]))\n",
        "        \n",
        "        loss = reject_CrossEntropyLoss(output[:deferral_size], m, target[:deferral_size], m2, n_classes)\n",
        "              # + my_CrossEntropyLoss(output,target)\n",
        "\n",
        "        # measure accuracy and record loss\n",
        "        prec1 = accuracy(output.data, target, topk=(1,))[0]\n",
        "        losses.update(loss.data.item(), input.size(0))\n",
        "        top1.update(prec1.item(), input.size(0))\n",
        "\n",
        "        # compute gradient and do SGD step\n",
        "        optimizer.zero_grad()\n",
        "        loss.backward()\n",
        "        optimizer.step()\n",
        "        scheduler.step()\n",
        "\n",
        "        # measure elapsed time\n",
        "        batch_time.update(time.time() - end)\n",
        "        end = time.time()\n",
        "\n",
        "        if i % 10 == 0:\n",
        "            print('Epoch: [{0}][{1}/{2}]\\t'\n",
        "                  'Time {batch_time.val:.3f} ({batch_time.avg:.3f})\\t'\n",
        "                  'Loss {loss.val:.4f} ({loss.avg:.4f})\\t'\n",
        "                  'Prec@1 {top1.val:.3f} ({top1.avg:.3f})'.format(\n",
        "                epoch, i, len(train_loader), batch_time=batch_time,\n",
        "                loss=losses, top1=top1))\n",
        "\n",
        "def train_reject_class(train_loader, model, optimizer, scheduler, epoch, expert_fn, n_classes, alpha,skew=False):\n",
        "    \"\"\"Train for one epoch on the training set without deferral\"\"\"\n",
        "    batch_time = AverageMeter()\n",
        "    losses = AverageMeter()\n",
        "    top1 = AverageMeter()\n",
        "\n",
        "    # switch to train mode\n",
        "    model.train()\n",
        "    if skew:\n",
        "      skewloss = SkewLoss(1)\n",
        "    else:\n",
        "      skewloss = None\n",
        "    end = time.time()\n",
        "    for i, (input, target) in enumerate(train_loader):\n",
        "        target = target.to(device)\n",
        "        input = input.to(device)\n",
        "\n",
        "        # compute output\n",
        "        output = model(input)\n",
        "        output = nn.Softmax()(output)\n",
        "        \n",
        "        # compute loss\n",
        "\n",
        "        loss = my_CrossEntropyLoss(output, target,skew,skewloss,epoch)\n",
        "\n",
        "        # measure accuracy and record loss\n",
        "        prec1 = accuracy(output.data, target, topk=(1,))[0]\n",
        "        losses.update(loss.data.item(), input.size(0))\n",
        "        top1.update(prec1.item(), input.size(0))\n",
        "\n",
        "        # compute gradient and do SGD step\n",
        "        optimizer.zero_grad()\n",
        "        loss.backward()\n",
        "        optimizer.step()\n",
        "        scheduler.step()\n",
        "\n",
        "        # measure elapsed time\n",
        "        batch_time.update(time.time() - end)\n",
        "        end = time.time()\n",
        "\n",
        "        if i % 10 == 0:\n",
        "            print('Epoch: [{0}][{1}/{2}]\\t'\n",
        "                  'Time {batch_time.val:.3f} ({batch_time.avg:.3f})\\t'\n",
        "                  'Loss {loss.val:.4f} ({loss.avg:.4f})\\t'\n",
        "                  'Prec@1 {top1.val:.3f} ({top1.avg:.3f})'.format(\n",
        "                epoch, i, len(train_loader), batch_time=batch_time,\n",
        "                loss=losses, top1=top1))\n",
        "\n",
        "def validate_reject(val_loader, model, epoch, expert_fn, n_classes,beta):\n",
        "    \"\"\"Perform validation on the validation set with deferral\"\"\"\n",
        "    batch_time = AverageMeter()\n",
        "    losses = AverageMeter()\n",
        "    top1 = AverageMeter()\n",
        "\n",
        "    # switch to evaluate mode\n",
        "    model.eval()\n",
        "\n",
        "    end = time.time()\n",
        "    for i, (input, target) in enumerate(val_loader):\n",
        "        target = target.to(device)\n",
        "        input = input.to(device)\n",
        "        # compute output\n",
        "        with torch.no_grad():\n",
        "            output = model(input)\n",
        "            output = nn.Softmax()(output)\n",
        "            # _,idxs = torch.sort(output[:,-1],descending=True)\n",
        "            # output = output[idxs]\n",
        "            # target = target[idxs]\n",
        "            # input = input[idxs]\n",
        "        # expert prediction\n",
        "        batch_size = output.size()[0]  # batch_size\n",
        "        deferral_size = math.ceil(batch_size*1)\n",
        "        m = expert_fn(input[:deferral_size], target[:deferral_size])\n",
        "        alpha = 0.01\n",
        "        m2 = [0] * deferral_size\n",
        "        for j in range(0, deferral_size):\n",
        "            if m[j] == target[j].item():\n",
        "                m[j] = beta\n",
        "                m2[j] = alpha # alpha\n",
        "            else:\n",
        "                m[j] = 0\n",
        "                m2[j] = 1 # 1\n",
        "        m = torch.tensor(m)\n",
        "        m2 = torch.tensor(m2)\n",
        "        m = m.to(device)\n",
        "        m2 = m2.to(device)\n",
        "        # compute loss\n",
        "        loss = reject_CrossEntropyLoss(output[:deferral_size], m, target[:deferral_size], m2, n_classes)\n",
        "              # + my_CrossEntropyLoss(output,target)\n",
        "\n",
        "        # measure accuracy and record loss\n",
        "        prec1 = accuracy(output.data, target, topk=(1,))[0]\n",
        "        losses.update(loss.data.item(), input.size(0))\n",
        "        top1.update(prec1.item(), input.size(0))\n",
        "\n",
        "        # measure elapsed time\n",
        "        batch_time.update(time.time() - end)\n",
        "        end = time.time()\n",
        "\n",
        "        if i % 10 == 0:\n",
        "            print('Test: [{0}/{1}]\\t'\n",
        "                  'Time {batch_time.val:.3f} ({batch_time.avg:.3f})\\t'\n",
        "                  'Loss {loss.val:.4f} ({loss.avg:.4f})\\t'\n",
        "                  'Prec@1 {top1.val:.3f} ({top1.avg:.3f})'.format(\n",
        "                i, len(val_loader), batch_time=batch_time, loss=losses,\n",
        "                top1=top1))\n",
        "\n",
        "    print(' * Prec@1 {top1.avg:.3f}'.format(top1=top1))\n",
        "\n",
        "    return top1.avg\n",
        "def run_reject(model, data_aug, n_dataset, expert_fn, epochs, alpha,defer,skew=False,beta=1):\n",
        "    '''\n",
        "    model: WideResNet model\n",
        "    data_aug: boolean to use data augmentation in training\n",
        "    n_dataset: number of classes\n",
        "    expert_fn: expert model\n",
        "    epochs: number of epochs to train\n",
        "    alpha: alpha parameter in L_{CE}^{\\alpha}\n",
        "    '''\n",
        "    # Data loading code\n",
        "    normalize = transforms.Normalize(mean=[x / 255.0 for x in [125.3, 123.0, 113.9]],\n",
        "                                     std=[x / 255.0 for x in [63.0, 62.1, 66.7]])\n",
        "\n",
        "    if data_aug:\n",
        "        transform_train = transforms.Compose([\n",
        "            transforms.ToTensor(),\n",
        "            transforms.Lambda(lambda x: F.pad(x.unsqueeze(0),\n",
        "                                              (4, 4, 4, 4), mode='reflect').squeeze()),\n",
        "            transforms.ToPILImage(),\n",
        "            transforms.RandomCrop(32),\n",
        "            transforms.RandomHorizontalFlip(),\n",
        "            transforms.ToTensor(),\n",
        "            normalize,\n",
        "        ])\n",
        "    else:\n",
        "        transform_train = transforms.Compose([\n",
        "            transforms.ToTensor(),\n",
        "            normalize,\n",
        "        ])\n",
        "    transform_test = transforms.Compose([\n",
        "        transforms.ToTensor(),\n",
        "        normalize\n",
        "    ])\n",
        "\n",
        "    if n_dataset == 10:\n",
        "        dataset = 'cifar10'\n",
        "    elif n_dataset == 100:\n",
        "        dataset = 'cifar100'\n",
        "\n",
        "    kwargs = {'num_workers': 0, 'pin_memory': True}\n",
        "\n",
        "    train_dataset_all = datasets.__dict__[dataset.upper()]('../data', train=True, download=True,\n",
        "                                                           transform=transform_train)\n",
        "    train_size = int(0.90 * len(train_dataset_all))\n",
        "    test_size = int(0.05 * len(train_dataset_all))\n",
        "    calibration_size = len(train_dataset_all) - train_size - test_size\n",
        "    torch.manual_seed(42)\n",
        "    np.random.seed(42)\n",
        "    train_dataset, test_dataset, calibration_dataset = torch.utils.data.random_split(train_dataset_all, [train_size, test_size,calibration_size],generator=torch.Generator().manual_seed(42))              \n",
        "    \n",
        "    train_loader = torch.utils.data.DataLoader(train_dataset,\n",
        "                                               batch_size=128, shuffle=True, **kwargs)\n",
        "    test_loader = torch.utils.data.DataLoader(test_dataset,\n",
        "                                               batch_size=128, shuffle=True, **kwargs)\n",
        "    calibration_loader = torch.utils.data.DataLoader(calibration_dataset,\n",
        "                                               batch_size=128, shuffle=True, **kwargs)\n",
        "    # get the number of model parameters\n",
        "    print('Number of model parameters: {}'.format(\n",
        "        sum([p.data.nelement() for p in model.parameters()])))\n",
        "\n",
        "    # for training on multiple GPUs.\n",
        "    # Use CUDA_VISIBLE_DEVICES=0,1 to specify which GPUs to use\n",
        "    # model = torch.nn.DataParallel(model).cuda()\n",
        "    model = model.to(device)\n",
        "\n",
        "    # optionally resume from a checkpoint\n",
        "\n",
        "    cudnn.benchmark = True\n",
        "\n",
        "    # define loss function (criterion) and optimizer\n",
        "    optimizer = torch.optim.SGD(model.parameters(), 0.1,\n",
        "                                momentum=0.9, nesterov=True,\n",
        "                                weight_decay=5e-4)\n",
        "\n",
        "    # cosine learning rate\n",
        "    scheduler = torch.optim.lr_scheduler.CosineAnnealingLR(optimizer, len(train_loader) * epochs)\n",
        "\n",
        "    for epoch in range(0, epochs):\n",
        "        # train for one epoch\n",
        "        if defer:\n",
        "          train_reject(train_loader, model, optimizer, scheduler, epoch, expert_fn, n_dataset, alpha,beta)\n",
        "          if epoch % 1 == 0:\n",
        "              metrics_print(model, expert_fn, n_dataset, test_loader)\n",
        "        else:\n",
        "          train_reject_class(train_loader, model, optimizer, scheduler, epoch, expert_fn, n_dataset-1, alpha,skew)\n",
        "          if epoch % 1 == 0:\n",
        "              metrics_print(model, expert_fn, n_dataset-1, test_loader)\n",
        "\n",
        "    return train_loader,test_loader, calibration_loader,model\n",
        "\n",
        "# Text cell <iqf_r99A1OcX>\n",
        "# #%% [markdown]\n",
        "# # Initialize expert and model\n",
        "\n",
        "# Code cell <wZxCEtfhRAFB>\n",
        "# %% [code]\n",
        "\n",
        "# Code cell <qXfR2kpyzs_5>\n",
        "# %% [code]\n",
        "n_dataset = 100  # cifar-10\n",
        "\n",
        "class synth_expert:\n",
        "    '''\n",
        "    simple class to describe our synthetic expert on CIFAR-10\n",
        "    ----\n",
        "    k: number of classes expert can predict\n",
        "    n_classes: number of classes (10+1 for CIFAR-10)\n",
        "    '''\n",
        "    def __init__(self, k, n_classes):\n",
        "        self.k = k\n",
        "        self.n_classes = n_classes\n",
        "        self.class_set = set(random.sample([i for i in range(n_classes)],self.k))\n",
        "        # print(self.class_set)\n",
        "    def predict(self, input, labels):\n",
        "        batch_size = labels.size()[0]  # batch_size\n",
        "        outs = [0] * batch_size\n",
        "        # print(labels[0].item(),self.class_set)\n",
        "        for i in range(0, batch_size):\n",
        "            if labels[i].item() in self.class_set:\n",
        "                outs[i] = labels[i].item()\n",
        "            else:\n",
        "                prediction_rand = random.randint(0, self.n_classes - 1)\n",
        "                outs[i] = prediction_rand\n",
        "        return outs\n",
        "\n",
        "class synth_expert_prob:\n",
        "    '''\n",
        "    simple class to describe our synthetic expert on CIFAR-10\n",
        "    ----\n",
        "    k: number of classes expert can predict\n",
        "    n_classes: number of classes (10+1 for CIFAR-10)\n",
        "    '''\n",
        "    def __init__(self, n_classes,prob,num_experts = 10):\n",
        "        self.n_classes = n_classes\n",
        "        # self.class_set = set(random.sample([i for i in range(n_classes)],self.k))\n",
        "        self.prob = prob\n",
        "        self.num_experts = num_experts\n",
        "\n",
        "    def predict(self, input, labels):\n",
        "        batch_size = labels.size()[0]  # batch_size\n",
        "        outs = [0] * batch_size\n",
        "        for i in range(0, batch_size):\n",
        "          vals = np.zeros(self.n_classes)\n",
        "          for exp in range(self.num_experts): # Simulating multiple expert decisions\n",
        "            rand = np.random.rand()\n",
        "            if rand < self.prob:\n",
        "              vals[int(labels[i].item())] += 1\n",
        "            else:\n",
        "              prediction_rand = random.randint(0, self.n_classes - 1)\n",
        "              vals[int(prediction_rand)] += 1\n",
        "          outs[i] = np.argmax(vals) # Majority voting\n",
        "          # outs[i] = labels[i].item()\n",
        "        return outs\n",
        "# class synth_expert_prob:\n",
        "#     '''\n",
        "#     simple class to describe our synthetic expert on CIFAR-10\n",
        "#     ----\n",
        "#     k: number of classes expert can predict\n",
        "#     n_classes: number of classes (10+1 for CIFAR-10)\n",
        "#     '''\n",
        "#     def __init__(self, n_classes,prob_agreeing_with_model,prob_otherwise,num_experts = 10):\n",
        "#         self.n_classes = n_classes\n",
        "#         # self.class_set = set(random.sample([i for i in range(n_classes)],self.k))\n",
        "#         self.prob_agreeing_with_model = prob_agreeing_with_model\n",
        "#         self.num_experts = num_experts\n",
        "#         self.prob_otherwise = prob_otherwise\n",
        "#     def predict(self, input, labels,model):\n",
        "#         batch_size = labels.size()[0]  # batch_size\n",
        "#         outs = np.zeros((batch_size,self.n_classes))\n",
        "#         model_outs = torch.argmax(model(input),1).long().cuda()\n",
        "#         for i in range(0, batch_size):\n",
        "#           vals = np.zeros(self.n_classes)\n",
        "#           for exp in range(self.num_experts): # Simulating multiple expert decisions\n",
        "#             if model_outs[i] == labels[i]:\n",
        "#               rand = np.random.rand()\n",
        "#               if rand < self.prob_agreeing_with_model:\n",
        "#                 vals[int(labels[i].item())] += 1\n",
        "#               else:\n",
        "#                 prediction_rand = random.randint(0, self.n_classes - 1)\n",
        "#                 vals[int(prediction_rand)] += 1\n",
        "#             else:\n",
        "#               rand = np.random.rand()\n",
        "#               if rand < self.prob_otherwise:\n",
        "#                 vals[int(labels[i].item())] += 1\n",
        "#               else:\n",
        "#                 prediction_rand = random.randint(0, self.n_classes - 1)\n",
        "#                 vals[int(prediction_rand)] += 1\n",
        "#           outs[i,:] = vals/np.sum(vals) # Majority voting\n",
        "#           # outs[i] = labels[i].item()\n",
        "#         return torch.Tensor(outs)\n",
        "\n",
        "def binary_coverage_calibrator(model, alpha,delta,tol,calibration_loader,triage_testloader,max_iters = 5,defer=False):\n",
        "  # Calibrating the 1-alpha significant conformity score for the triage testloader\n",
        "  model_conformal = ConformalModel(deepcopy(model),calibration_loader, alpha=alpha, lamda_criterion='size',defer=defer)\n",
        "  top_1,top_5,coverage,set_size,percentage_not_deferred = validate(triage_testloader,model_conformal,True)\n",
        "  sigma = alpha\n",
        "  iters = 0\n",
        "  while abs(coverage-(1-alpha)) > tol and iters < max_iters:\n",
        "    iters += 1\n",
        "    if coverage > 1 - alpha:\n",
        "      sigma += delta\n",
        "      model_conformal = ConformalModel(deepcopy(model),calibration_loader, alpha=sigma, lamda_criterion='size',defer=defer)\n",
        "      top_1,top_5,coverage,set_size, percentage_not_deferred= validate(triage_testloader,model_conformal,True)\n",
        "      delta /= 2\n",
        "    else:\n",
        "      sigma -= delta\n",
        "      sigma = max(0,sigma)\n",
        "      model_conformal = ConformalModel(deepcopy(model),calibration_loader, alpha=sigma, lamda_criterion='size',defer=defer)\n",
        "      top_1,top_5,coverage,set_size,percentage_not_deferred = validate(triage_testloader,model_conformal,True)\n",
        "      delta /= 2\n",
        "  return top_1,top_5,coverage,set_size,percentage_not_deferred, model_conformal\n",
        "\n",
        "\n",
        "expert_prediction_classes = [i for i in range(1,100,10)]\n",
        "expert_prediction_probs = [0.7]\n",
        "experts = [1]\n",
        "prob_agreeing_with_model = 0.7\n",
        "prob_otherwise = 0.7\n",
        "# prob = expert_prediction_probs[0]\n",
        "all_betas = [[0.5]]\n",
        "num_experts = [1]\n",
        "num_trials = 1\n",
        "lam = 1\n",
        "LAC = False\n",
        "lamda = None\n",
        "kreg = None\n",
        "for prob in expert_prediction_probs:\n",
        "  for index2, num_experts in enumerate(experts):\n",
        "    # for index, beta in enumerate(betas):\n",
        "    betas = all_betas[index2]\n",
        "    for index,prob in enumerate(betas):\n",
        "      # k = beta\n",
        "      deferral_size = []\n",
        "      deferral_coverage = []\n",
        "      deferral_top_1 = []\n",
        "      deferral_system_top_1 = []\n",
        "      # k = num_experts\n",
        "      beta = betas[index]\n",
        "      # print(\"K={}, Trial={}\".format(k,_))\n",
        "      print(\"Num Experts = {}\".format(num_experts))\n",
        "    # if k!= 3:\n",
        "    # k = 30 # number of classes expert can predict\n",
        "      # expert = synth_expert(k, n_dataset)\n",
        "      expert = synth_expert_prob(n_dataset,prob,num_experts=1)\n",
        "      # expert = synth_expert_prob(100,prob_agreeing_with_model,num_experts)\n",
        "      defer = True # Whether to train a model with deferral or not\n",
        "      skew = False\n",
        "      set_sizes_LAC = []\n",
        "      set_sizes_RAPS = []\n",
        "      set_sizes_APS = []\n",
        "      for _ in range(num_trials):\n",
        "        print(\"Trial: {}\".format(_))\n",
        "        # if defer:\n",
        "        model_deferral = WideResNet(28, n_dataset + 1, 4, dropRate=0)\n",
        "      # else:\n",
        "        model_non_deferral = WideResNet(28, n_dataset, 4, dropRate=0)\n",
        "        alpha = 1\n",
        "        num_epochs = 10\n",
        "        train_loader,test_loader,calibration_loader,model_deferral = run_reject(model_deferral, True, n_dataset, expert.predict, num_epochs, alpha,defer,beta = beta) # train for 'num_epochs' epochs\n",
        "        # torch.save(model.cuda(),'cifar_100_deferral_k={}.pth'.format(k))\n",
        "\n",
        "        normalize = transforms.Normalize(mean=[x / 255.0 for x in [125.3, 123.0, 113.9]],\n",
        "                                        std=[x / 255.0 for x in [63.0, 62.1, 66.7]])\n",
        "        kwargs = {'num_workers': 1, 'pin_memory': True}\n",
        "\n",
        "        transform_test = transforms.Compose([\n",
        "            transforms.ToTensor(),\n",
        "            normalize\n",
        "        ])\n",
        "        val_loader = torch.utils.data.DataLoader(\n",
        "            datasets.__dict__[\"cifar100\".upper()]('../data', train=False, transform=transform_test, download=True),\n",
        "            batch_size=128, shuffle=True, **kwargs)\n",
        "\n",
        "        correct_sys = metrics_print(model_deferral, expert.predict, n_dataset, val_loader,return_stats = True)\n",
        "        deferral_system_top_1.append(correct_sys)\n",
        "        model_deferral.eval()\n",
        "        print(\"Training Non-Deferral Model\")\n",
        "        _,_,_,model_non_deferral = run_reject(model_non_deferral, True, n_dataset, expert.predict, num_epochs, alpha,defer=False,beta = beta) # train for 'num_epochs' epochs\n",
        "\n",
        "        # print(\"Prob={}, Trial={}\".format(prob,_))\n",
        "        cmodel_deferral = ConformalModel(model_deferral, calibration_loader, alpha=0.1, lamda = None, kreg = None, lamda_criterion='size',defer=defer,LAC=False)\n",
        "        top1_deferral, top5_deferral, coverage_deferral, size_deferral,cmodel_deferral_percentage_not_deferred = validate(val_loader, cmodel_deferral, print_bool=True)\n",
        "        set_sizes_RAPS.append(size_deferral)\n",
        "        print(size_deferral,cmodel_deferral_percentage_not_deferred,correct_sys)\n",
        "\n",
        "        cmodel_deferral = ConformalModel(model_deferral, calibration_loader, alpha=0.1, lamda = None, kreg = None, lamda_criterion='size',defer=defer,LAC=True)\n",
        "        top1_deferral, top5_deferral, coverage_deferral, size_deferral,cmodel_deferral_percentage_not_deferred = validate(val_loader, cmodel_deferral, print_bool=True)\n",
        "        print(size_deferral,cmodel_deferral_percentage_not_deferred,correct_sys)\n",
        "        set_sizes_LAC.append(size_deferral)\n",
        "\n",
        "        deferral_top_1.append(top1_deferral)\n",
        "        deferral_coverage.append(1-cmodel_deferral_percentage_not_deferred)\n",
        "\n",
        "        cmodel_deferral = ConformalModel(model_deferral, calibration_loader, alpha=0.1, lamda = 0, kreg = 0, lamda_criterion='size',defer=defer,LAC=False)\n",
        "        top1_deferral, top5_deferral, coverage_deferral, size_deferral,cmodel_deferral_percentage_not_deferred = validate(val_loader, cmodel_deferral, print_bool=True)\n",
        "        set_sizes_APS.append(size_deferral)\n",
        "        # print(size_deferral,cmodel_deferral_percentage_not_deferred,correct_sys)\n",
        "      set_sizes_APS,set_sizes_RAPS,set_sizes_LAC = np.array(set_sizes_APS), np.array(set_sizes_RAPS),np.array(set_sizes_LAC)\n",
        "      deferral_size.append({'LAC': (set_sizes_LAC.mean(),set_sizes_LAC.std()), 'RAPS': (set_sizes_RAPS.mean(),set_sizes_RAPS.std()), 'APS': (set_sizes_APS.mean(),set_sizes_APS.std())})\n",
        "      deferral_top_1 = np.array(deferral_top_1)\n",
        "      deferral_coverage = np.array(deferral_coverage)\n",
        "      deferral_system_top_1 = np.array(deferral_system_top_1)\n",
        "    print('K = {}'.format(k),deferral_size,deferral_top_1.mean(),deferral_top_1.std(),deferral_system_top_1.mean(),deferral_system_top_1.mean(),deferral_coverage.mean())\n",
        "\n",
        "fig,ax = plt.subplots(2,2,figsize=(16,10))\n",
        "ax[0][0].plot(expert_prediction_classes,deferral_size)\n",
        "ax[0][0].plot(expert_prediction_classes,non_deferral_size)\n",
        "ax[0][0].set_xlabel('Number of Classes Predicted by the Expert')\n",
        "ax[0][0].set_ylabel('Conformal Prediction Set Size')\n",
        "ax[0][0].legend(['D-RAPS','RAPS'])\n",
        "ax[0][0].set_title('Set Size')\n",
        "\n",
        "ax[0][0].fill_between(expert_prediction_classes, (deferral_size-1.96*deferral_size_std), (deferral_size+1.96*deferral_size_std), color='b', alpha=.1)\n",
        "ax[0][0].fill_between(expert_prediction_classes, (non_deferral_size-1.96*non_deferral_size_std), (non_deferral_size+1.96*non_deferral_size_std), color='b', alpha=.1)\n",
        "\n",
        "ax[0][1].plot(expert_prediction_classes,deferral_coverage)\n",
        "ax[0][1].plot(expert_prediction_classes,non_deferral_coverage)\n",
        "ax[0][1].set_xlabel('Number of Classes Predicted by the Expert')\n",
        "ax[0][1].set_ylabel('% of Examples Not Deferred')\n",
        "ax[0][1].legend(['D-RAPS','RAPS'])\n",
        "ax[0][1].set_title('Coverage')\n",
        "ax[0][1].fill_between(expert_prediction_classes, (deferral_coverage-1.96*deferral_coverage_std), (deferral_coverage+1.96*deferral_coverage_std), color='b', alpha=.1)\n",
        "ax[0][1].fill_between(expert_prediction_classes, (non_deferral_coverage-1.96*non_deferral_coverage_std), (non_deferral_coverage+1.96*non_deferral_coverage_std), color='b', alpha=.1)\n",
        "\n",
        "\n",
        "ax[1][0].plot(expert_prediction_classes,deferral_top_1)\n",
        "ax[1][0].plot(expert_prediction_classes,non_deferral_top_1)\n",
        "ax[1][0].set_xlabel('Number of Classes Predicted by the Expert')\n",
        "ax[1][0].set_ylabel('Top 1 Accuracy (%)')\n",
        "ax[1][0].legend(['D-RAPS','RAPS'])\n",
        "ax[1][0].set_title('Top 1 Accuracy')\n",
        "ax[1][0].fill_between(expert_prediction_classes, (deferral_top_1-1.96*deferral_top_1_std), (deferral_top_1+1.96*deferral_top_1_std), color='b', alpha=.1)\n",
        "ax[1][0].fill_between(expert_prediction_classes, (non_deferral_top_1-1.96*non_deferral_top_1_std), (non_deferral_top_1+1.96*non_deferral_top_1_std), color='b', alpha=.1)\n",
        "\n",
        "\n",
        "ax[1][1].plot(expert_prediction_classes,deferral_top_5)\n",
        "ax[1][1].plot(expert_prediction_classes,non_deferral_top_5)\n",
        "ax[1][1].set_xlabel('Number of Classes Predicted by the Expert')\n",
        "ax[1][1].set_ylabel('Top 5 Accuracy (%)')\n",
        "ax[1][1].legend(['D-RAPS','RAPS'])\n",
        "ax[1][1].set_title('Top 5 Accuracy')\n",
        "ax[1][1].fill_between(expert_prediction_classes, (deferral_top_5-1.96*deferral_top_5_std), (deferral_top_5+1.96*deferral_top_5_std), color='b', alpha=.1)\n",
        "ax[1][1].fill_between(expert_prediction_classes, (non_deferral_top_5-1.96*non_deferral_top_5_std), (non_deferral_top_5+1.96*non_deferral_top_5_std), color='b', alpha=.1)\n",
        "\n",
        "\n",
        "# sizes = [3.611 3.13871185 3.09784322 3.07548598 2.61900792 2.57833301 2.57929013 2.33772706]\n",
        "# deferral_system_top_1 = [0.6518,0.6708,0.6776,0.6915,0.7066,0.7125,0.7253,0.7311]\n",
        "# deferral_rate = [1.  0.9747 0.9585 0.9092 0.8946 0.845  0.7977 0.7841] \n",
        "# top-1 = [0.665  0.6808089  0.6838608  0.70140325 0.7102356  0.72743813 0.74423536 0.74121936]\n",
        "# print(\"Final\",deferral_size,non_deferral_size,deferral_coverage,non_deferral_coverage,deferral_top_1,non_deferral_top_1,deferral_top_5,non_deferral_top_5,deferral_system_top_1,deferral_system_top_1_std)\n",
        "\n"
      ]
    },
    {
      "cell_type": "code",
      "execution_count": null,
      "metadata": {
        "id": "CkvJDNAJ3-kG",
        "colab": {
          "base_uri": "https://localhost:8080/",
          "height": 641
        },
        "outputId": "cb357a11-0606-4812-d7ad-5d730622c2f4"
      },
      "outputs": [
        {
          "output_type": "stream",
          "name": "stdout",
          "text": [
            "Files already downloaded and verified\n",
            "N = 1,  Beta = 0.1\n",
            "Files already downloaded and verified\n",
            "Number of model parameters: 5872437\n",
            "Epoch: [0][0/352]\tTime 0.107 (0.107)\tLoss 7.4188 (7.4188)\tPrec@1 0.781 (0.781)\n"
          ]
        },
        {
          "output_type": "stream",
          "name": "stderr",
          "text": [
            "/usr/local/lib/python3.7/dist-packages/ipykernel_launcher.py:334: UserWarning: Implicit dimension choice for softmax has been deprecated. Change the call to include dim=X as an argument.\n"
          ]
        },
        {
          "output_type": "stream",
          "name": "stdout",
          "text": [
            "Epoch: [0][10/352]\tTime 0.087 (0.093)\tLoss 7.0233 (7.1229)\tPrec@1 0.781 (0.426)\n",
            "Epoch: [0][20/352]\tTime 0.086 (0.092)\tLoss 6.7002 (7.0152)\tPrec@1 0.781 (0.484)\n",
            "Epoch: [0][30/352]\tTime 0.091 (0.091)\tLoss 6.6695 (6.8901)\tPrec@1 2.344 (0.756)\n",
            "Epoch: [0][40/352]\tTime 0.088 (0.091)\tLoss 6.7053 (6.8065)\tPrec@1 0.781 (1.220)\n",
            "Epoch: [0][50/352]\tTime 0.088 (0.091)\tLoss 6.5273 (6.7498)\tPrec@1 3.125 (1.624)\n",
            "Epoch: [0][60/352]\tTime 0.090 (0.091)\tLoss 6.4410 (6.6997)\tPrec@1 2.344 (1.793)\n"
          ]
        },
        {
          "output_type": "error",
          "ename": "KeyboardInterrupt",
          "evalue": "ignored",
          "traceback": [
            "\u001b[0;31m---------------------------------------------------------------------------\u001b[0m",
            "\u001b[0;31mKeyboardInterrupt\u001b[0m                         Traceback (most recent call last)",
            "\u001b[0;32m<ipython-input-2-2096f6ca375c>\u001b[0m in \u001b[0;36m<module>\u001b[0;34m()\u001b[0m\n\u001b[1;32m     92\u001b[0m     \u001b[0malpha\u001b[0m \u001b[0;34m=\u001b[0m \u001b[0;36m1\u001b[0m\u001b[0;34m\u001b[0m\u001b[0;34m\u001b[0m\u001b[0m\n\u001b[1;32m     93\u001b[0m     \u001b[0mnum_epochs\u001b[0m \u001b[0;34m=\u001b[0m \u001b[0;36m10\u001b[0m\u001b[0;34m\u001b[0m\u001b[0;34m\u001b[0m\u001b[0m\n\u001b[0;32m---> 94\u001b[0;31m     \u001b[0mtest_loader\u001b[0m\u001b[0;34m,\u001b[0m\u001b[0mcalibration_loader\u001b[0m\u001b[0;34m,\u001b[0m\u001b[0mmodel_deferral\u001b[0m \u001b[0;34m=\u001b[0m \u001b[0mrun_reject\u001b[0m\u001b[0;34m(\u001b[0m\u001b[0mmodel_deferral\u001b[0m\u001b[0;34m,\u001b[0m \u001b[0;32mTrue\u001b[0m\u001b[0;34m,\u001b[0m \u001b[0mn_dataset\u001b[0m\u001b[0;34m,\u001b[0m \u001b[0mexpert\u001b[0m\u001b[0;34m.\u001b[0m\u001b[0mpredict\u001b[0m\u001b[0;34m,\u001b[0m \u001b[0mnum_epochs\u001b[0m\u001b[0;34m,\u001b[0m \u001b[0malpha\u001b[0m\u001b[0;34m,\u001b[0m\u001b[0mdefer\u001b[0m\u001b[0;34m,\u001b[0m\u001b[0mbeta\u001b[0m \u001b[0;34m=\u001b[0m \u001b[0mbeta\u001b[0m\u001b[0;34m)\u001b[0m \u001b[0;31m# train for 'num_epochs' epochs\u001b[0m\u001b[0;34m\u001b[0m\u001b[0;34m\u001b[0m\u001b[0m\n\u001b[0m\u001b[1;32m     95\u001b[0m     \u001b[0;32mfor\u001b[0m \u001b[0mk\u001b[0m \u001b[0;32min\u001b[0m \u001b[0mrange\u001b[0m\u001b[0;34m(\u001b[0m\u001b[0mnum_trials\u001b[0m\u001b[0;34m)\u001b[0m\u001b[0;34m:\u001b[0m\u001b[0;34m\u001b[0m\u001b[0;34m\u001b[0m\u001b[0m\n\u001b[1;32m     96\u001b[0m \u001b[0;34m\u001b[0m\u001b[0m\n",
            "\u001b[0;32m<ipython-input-1-a9ffd68a3fb5>\u001b[0m in \u001b[0;36mrun_reject\u001b[0;34m(model, data_aug, n_dataset, expert_fn, epochs, alpha, defer, skew, beta)\u001b[0m\n\u001b[1;32m    572\u001b[0m         \u001b[0;31m# train for one epoch\u001b[0m\u001b[0;34m\u001b[0m\u001b[0;34m\u001b[0m\u001b[0;34m\u001b[0m\u001b[0m\n\u001b[1;32m    573\u001b[0m         \u001b[0;32mif\u001b[0m \u001b[0mdefer\u001b[0m\u001b[0;34m:\u001b[0m\u001b[0;34m\u001b[0m\u001b[0;34m\u001b[0m\u001b[0m\n\u001b[0;32m--> 574\u001b[0;31m           \u001b[0mtrain_reject\u001b[0m\u001b[0;34m(\u001b[0m\u001b[0mtrain_loader\u001b[0m\u001b[0;34m,\u001b[0m \u001b[0mmodel\u001b[0m\u001b[0;34m,\u001b[0m \u001b[0moptimizer\u001b[0m\u001b[0;34m,\u001b[0m \u001b[0mscheduler\u001b[0m\u001b[0;34m,\u001b[0m \u001b[0mepoch\u001b[0m\u001b[0;34m,\u001b[0m \u001b[0mexpert_fn\u001b[0m\u001b[0;34m,\u001b[0m \u001b[0mn_dataset\u001b[0m\u001b[0;34m,\u001b[0m \u001b[0malpha\u001b[0m\u001b[0;34m,\u001b[0m\u001b[0mbeta\u001b[0m\u001b[0;34m)\u001b[0m\u001b[0;34m\u001b[0m\u001b[0;34m\u001b[0m\u001b[0m\n\u001b[0m\u001b[1;32m    575\u001b[0m           \u001b[0;32mif\u001b[0m \u001b[0mepoch\u001b[0m \u001b[0;34m%\u001b[0m \u001b[0;36m1\u001b[0m \u001b[0;34m==\u001b[0m \u001b[0;36m0\u001b[0m\u001b[0;34m:\u001b[0m\u001b[0;34m\u001b[0m\u001b[0;34m\u001b[0m\u001b[0m\n\u001b[1;32m    576\u001b[0m               \u001b[0mmetrics_print\u001b[0m\u001b[0;34m(\u001b[0m\u001b[0mmodel\u001b[0m\u001b[0;34m,\u001b[0m \u001b[0mexpert_fn\u001b[0m\u001b[0;34m,\u001b[0m \u001b[0mn_dataset\u001b[0m\u001b[0;34m,\u001b[0m \u001b[0mtest_loader\u001b[0m\u001b[0;34m)\u001b[0m\u001b[0;34m\u001b[0m\u001b[0;34m\u001b[0m\u001b[0m\n",
            "\u001b[0;32m<ipython-input-1-a9ffd68a3fb5>\u001b[0m in \u001b[0;36mtrain_reject\u001b[0;34m(train_loader, model, optimizer, scheduler, epoch, expert_fn, n_classes, alpha, beta)\u001b[0m\n\u001b[1;32m    340\u001b[0m         \u001b[0mbatch_size\u001b[0m \u001b[0;34m=\u001b[0m \u001b[0moutput\u001b[0m\u001b[0;34m.\u001b[0m\u001b[0msize\u001b[0m\u001b[0;34m(\u001b[0m\u001b[0;34m)\u001b[0m\u001b[0;34m[\u001b[0m\u001b[0;36m0\u001b[0m\u001b[0;34m]\u001b[0m  \u001b[0;31m# batch_size\u001b[0m\u001b[0;34m\u001b[0m\u001b[0;34m\u001b[0m\u001b[0m\n\u001b[1;32m    341\u001b[0m         \u001b[0mdeferral_size\u001b[0m \u001b[0;34m=\u001b[0m \u001b[0mmath\u001b[0m\u001b[0;34m.\u001b[0m\u001b[0mceil\u001b[0m\u001b[0;34m(\u001b[0m\u001b[0mbatch_size\u001b[0m\u001b[0;34m*\u001b[0m\u001b[0;36m1\u001b[0m\u001b[0;34m)\u001b[0m\u001b[0;34m\u001b[0m\u001b[0;34m\u001b[0m\u001b[0m\n\u001b[0;32m--> 342\u001b[0;31m         \u001b[0mm\u001b[0m \u001b[0;34m=\u001b[0m \u001b[0mexpert_fn\u001b[0m\u001b[0;34m(\u001b[0m\u001b[0minput\u001b[0m\u001b[0;34m[\u001b[0m\u001b[0;34m:\u001b[0m\u001b[0mdeferral_size\u001b[0m\u001b[0;34m]\u001b[0m\u001b[0;34m,\u001b[0m \u001b[0mtarget\u001b[0m\u001b[0;34m[\u001b[0m\u001b[0;34m:\u001b[0m\u001b[0mdeferral_size\u001b[0m\u001b[0;34m]\u001b[0m\u001b[0;34m)\u001b[0m\u001b[0;34m\u001b[0m\u001b[0;34m\u001b[0m\u001b[0m\n\u001b[0m\u001b[1;32m    343\u001b[0m         \u001b[0;31m# alpha = 1\u001b[0m\u001b[0;34m\u001b[0m\u001b[0;34m\u001b[0m\u001b[0;34m\u001b[0m\u001b[0m\n\u001b[1;32m    344\u001b[0m         \u001b[0mm2\u001b[0m \u001b[0;34m=\u001b[0m \u001b[0;34m[\u001b[0m\u001b[0;36m0\u001b[0m\u001b[0;34m]\u001b[0m \u001b[0;34m*\u001b[0m \u001b[0mdeferral_size\u001b[0m\u001b[0;34m\u001b[0m\u001b[0;34m\u001b[0m\u001b[0m\n",
            "\u001b[0;32m<ipython-input-2-2096f6ca375c>\u001b[0m in \u001b[0;36mpredict\u001b[0;34m(self, input, labels)\u001b[0m\n\u001b[1;32m     23\u001b[0m               \u001b[0mrand\u001b[0m \u001b[0;34m=\u001b[0m \u001b[0mnp\u001b[0m\u001b[0;34m.\u001b[0m\u001b[0mrandom\u001b[0m\u001b[0;34m.\u001b[0m\u001b[0mrand\u001b[0m\u001b[0;34m(\u001b[0m\u001b[0;34m)\u001b[0m\u001b[0;34m\u001b[0m\u001b[0;34m\u001b[0m\u001b[0m\n\u001b[1;32m     24\u001b[0m               \u001b[0;32mif\u001b[0m \u001b[0mrand\u001b[0m \u001b[0;34m<\u001b[0m \u001b[0mself\u001b[0m\u001b[0;34m.\u001b[0m\u001b[0mprob\u001b[0m\u001b[0;34m:\u001b[0m\u001b[0;34m\u001b[0m\u001b[0;34m\u001b[0m\u001b[0m\n\u001b[0;32m---> 25\u001b[0;31m                 \u001b[0mvals\u001b[0m\u001b[0;34m[\u001b[0m\u001b[0mint\u001b[0m\u001b[0;34m(\u001b[0m\u001b[0mlabels\u001b[0m\u001b[0;34m[\u001b[0m\u001b[0mi\u001b[0m\u001b[0;34m]\u001b[0m\u001b[0;34m.\u001b[0m\u001b[0mitem\u001b[0m\u001b[0;34m(\u001b[0m\u001b[0;34m)\u001b[0m\u001b[0;34m)\u001b[0m\u001b[0;34m]\u001b[0m \u001b[0;34m+=\u001b[0m \u001b[0;36m1\u001b[0m\u001b[0;34m\u001b[0m\u001b[0;34m\u001b[0m\u001b[0m\n\u001b[0m\u001b[1;32m     26\u001b[0m               \u001b[0;32melse\u001b[0m\u001b[0;34m:\u001b[0m\u001b[0;34m\u001b[0m\u001b[0;34m\u001b[0m\u001b[0m\n\u001b[1;32m     27\u001b[0m                 \u001b[0mprediction_rand\u001b[0m \u001b[0;34m=\u001b[0m \u001b[0mrandom\u001b[0m\u001b[0;34m.\u001b[0m\u001b[0mrandint\u001b[0m\u001b[0;34m(\u001b[0m\u001b[0;36m0\u001b[0m\u001b[0;34m,\u001b[0m \u001b[0mself\u001b[0m\u001b[0;34m.\u001b[0m\u001b[0mn_classes\u001b[0m \u001b[0;34m-\u001b[0m \u001b[0;36m1\u001b[0m\u001b[0;34m)\u001b[0m\u001b[0;34m\u001b[0m\u001b[0;34m\u001b[0m\u001b[0m\n",
            "\u001b[0;31mKeyboardInterrupt\u001b[0m: "
          ]
        }
      ],
      "source": [
        "# {'coverage': '8981 out of10000', 'system accuracy': 69.95, 'expert accuracy': 69.08732697010267, 'classifier accuracy': 70.047878075405, 'alone classifier': 65.84}\n",
        "# {'coverage': '9068 out of10000', 'system accuracy': 72.22, 'expert accuracy': 96.5665028827247, 'classifier accuracy': 69.71768780637751, 'alone classifier': 65.92}\n",
        "\n",
        "num_experts = [1,5]\n",
        "class synth_expert_prob:\n",
        "    '''\n",
        "    simple class to describe our synthetic expert on CIFAR-10\n",
        "    ----\n",
        "    k: number of classes expert can predict\n",
        "    n_classes: number of classes (10+1 for CIFAR-10)\n",
        "    '''\n",
        "    def __init__(self, n_classes,prob,num_experts = 10):\n",
        "        self.n_classes = n_classes\n",
        "        # self.class_set = set(random.sample([i for i in range(n_classes)],self.k))\n",
        "        self.prob = prob\n",
        "        self.num_experts = num_experts\n",
        "    def predict(self, input, labels):\n",
        "        batch_size = labels.size()[0]  # batch_size\n",
        "        outs = np.zeros((batch_size))\n",
        "        for i in range(0, batch_size):\n",
        "          vals = np.zeros(self.n_classes)\n",
        "          for exp in range(self.num_experts): # Simulating multiple expert decisions\n",
        "              rand = np.random.rand()\n",
        "              if rand < self.prob:\n",
        "                vals[int(labels[i].item())] += 1\n",
        "              else:\n",
        "                prediction_rand = random.randint(0, self.n_classes - 1)\n",
        "                vals[int(prediction_rand)] += 1\n",
        "          outs[i] = np.argmax(vals) # Majority voting\n",
        "        return outs\n",
        "betas = [[0.1,0.15,0.2],[0.06,0.1,0.14]]\n",
        "# betas_multi = \n",
        "from collections import defaultdict\n",
        "sizes = defaultdict(list)\n",
        "deferral_rates = defaultdict(list)\n",
        "top_1_overall = defaultdict(list)\n",
        "num_trials = 10\n",
        "normalize = transforms.Normalize(mean=[x / 255.0 for x in [125.3, 123.0, 113.9]],\n",
        "                                     std=[x / 255.0 for x in [63.0, 62.1, 66.7]])\n",
        "data_aug = True\n",
        "if data_aug:\n",
        "    transform_train = transforms.Compose([\n",
        "        transforms.ToTensor(),\n",
        "        transforms.Lambda(lambda x: F.pad(x.unsqueeze(0),\n",
        "                                          (4, 4, 4, 4), mode='reflect').squeeze()),\n",
        "        transforms.ToPILImage(),\n",
        "        transforms.RandomCrop(32),\n",
        "        transforms.RandomHorizontalFlip(),\n",
        "        transforms.ToTensor(),\n",
        "        normalize,\n",
        "    ])\n",
        "else:\n",
        "    transform_train = transforms.Compose([\n",
        "        transforms.ToTensor(),\n",
        "        normalize,\n",
        "    ])\n",
        "transform_test = transforms.Compose([\n",
        "    transforms.ToTensor(),\n",
        "    normalize\n",
        "])\n",
        "\n",
        "if n_dataset == 10:\n",
        "    dataset = 'cifar10'\n",
        "elif n_dataset == 100:\n",
        "    dataset = 'cifar100'\n",
        "\n",
        "kwargs = {'num_workers': 0, 'pin_memory': True}\n",
        "train_dataset_all = datasets.__dict__[dataset.upper()]('../data', train=True, download=True,\n",
        "                                                           transform=transform_train)\n",
        "train_size = int(0.90 * len(train_dataset_all))\n",
        "test_size = int(0.05 * len(train_dataset_all))\n",
        "calibration_size = len(train_dataset_all) - train_size - test_size\n",
        "train_dataset, test_and_cal_dataset = torch.utils.data.random_split(train_dataset_all, [train_size, test_size+calibration_size],generator=torch.Generator().manual_seed(42))       \n",
        "train_loader = torch.utils.data.DataLoader(train_dataset, batch_size=128, shuffle=True, **kwargs)\n",
        "for i in range(len(betas[0])):\n",
        "  for j,n in enumerate(num_experts):\n",
        "    s = 0\n",
        "    d = 0\n",
        "    t = 0\n",
        "    beta = betas[j][i]\n",
        "    print(\"N = {},  Beta = {}\".format(n,beta))\n",
        "    expert = synth_expert_prob(n_dataset,prob,num_experts=n)\n",
        "    prob = 0.8\n",
        "    expert_fn = synth_expert_prob(100,prob,n).predict\n",
        "    defer = True # Whether to train a model with deferral or not\n",
        "    skew = False\n",
        "    # %% [code]\n",
        "    if defer:\n",
        "      model_deferral = WideResNet(28, n_dataset + 1, 4, dropRate=0)\n",
        "    else:\n",
        "      model_non_deferral = WideResNet(28, n_dataset, 4, dropRate=0)\n",
        "    alpha = 1\n",
        "    num_epochs = 10\n",
        "    test_loader,calibration_loader,model_deferral = run_reject(model_deferral, True, n_dataset, expert.predict, num_epochs, alpha,defer,beta = beta) # train for 'num_epochs' epochs\n",
        "    for k in range(num_trials):\n",
        "\n",
        "      test_dataset, calibration_dataset = torch.utils.data.random_split(test_and_cal_dataset, [test_size,calibration_size])       \n",
        "\n",
        "      test_loader = torch.utils.data.DataLoader(test_dataset,\n",
        "                                                batch_size=128, shuffle=True, **kwargs)\n",
        "      calibration_loader = torch.utils.data.DataLoader(calibration_dataset,\n",
        "                                                batch_size=128, shuffle=True, **kwargs)\n",
        "    \n",
        "      # normalize = transforms.Normalize(mean=[x / 255.0 for x in [125.3, 123.0, 113.9]],\n",
        "      #                                 std=[x / 255.0 for x in [63.0, 62.1, 66.7]])\n",
        "      # kwargs = {'num_workers': 1, 'pin_memory': True}\n",
        "\n",
        "      # transform_test = transforms.Compose([\n",
        "      #     transforms.ToTensor(),\n",
        "      #     normalize\n",
        "      # ])\n",
        "      # val_loader = torch.utils.data.DataLoader(\n",
        "      #     datasets.__dict__[\"cifar100\".upper()]('../data', train=False, transform=transform_test, download=True),\n",
        "      #     batch_size=128, shuffle=True, **kwargs)\n",
        "\n",
        "      correct_sys = metrics_print(model_deferral, expert.predict, n_dataset, test_loader,return_stats = True)\n",
        "      model_deferral.eval()\n",
        "      cmodel_deferral = ConformalModel(model_deferral, calibration_loader, alpha=0.1, lamda_criterion='size',defer=defer,LAC=False)\n",
        "      top1_deferral, top5_deferral, coverage_deferral, size_deferral,cmodel_deferral_percentage_not_deferred = validate(test_loader, cmodel_deferral, print_bool=True)\n",
        "      s += size_deferral/num_trials\n",
        "      d += (1-cmodel_deferral_percentage_not_deferred)/num_trials\n",
        "      t += correct_sys/num_trials\n",
        "\n",
        "    sizes[n].append(s)\n",
        "    deferral_rates[n].append(d)\n",
        "    top_1_overall[n].append(t)\n",
        "print(deferral_rates,sizes)\n",
        "plt.plot(deferral_rates[1],sizes[1])\n",
        "plt.plot(deferral_rates[5],sizes[5])\n",
        "\n",
        "\n",
        "\n",
        "\n"
      ]
    },
    {
      "cell_type": "code",
      "execution_count": null,
      "metadata": {
        "id": "DId8FiLVyZrt"
      },
      "outputs": [],
      "source": [
        "#   -model_deferral = torch.load('/content/drive/MyDrive/cifar_trained_models/cifar_100_deferral_k=47.pth')\n",
        "# model_non_deferral = torch.load('/content/drive/MyDrive/cifar_trained_models/cifar_100_non_deferral_k=47.pth')\n",
        "# # alphas = [i/100 for i in range(1,100,5)]\n",
        "# # sizes_LAC = []\n",
        "# # sizes_RAPS = []\n",
        "# # sizes_APS = []\n",
        "\n",
        "# # sizes_DLAC = []\n",
        "# # sizes_DRAPS = []\n",
        "# # sizes_DAPS = []\n",
        "# # print(\"Sensitivity Analysis for LAC\")\n",
        "# # for alpha in alphas:\n",
        "# #     defer = True\n",
        "# #     print(alpha)\n",
        "# #     cmodel_deferral = ConformalModel(model_deferral, calibration_loader, alpha=alpha, lamda_criterion='size',defer=defer,LAC=True,allow_zero_sets=True)\n",
        "# #     top1_deferral, top5_deferral, coverage_deferral, size_deferral,cmodel_deferral_percentage_not_deferred = validate(test_loader, cmodel_deferral, print_bool=True)\n",
        "# #     defer = False\n",
        "# #     cmodel_non_deferral = ConformalModel(model_non_deferral_raps, calibration_loader, alpha=alpha, lamda_criterion='size',defer=defer,LAC=True,allow_zero_sets=True)\n",
        "# #     top1_non_deferral, top5_non_deferral, coverage_non_deferral, size_non_deferral, cmodel_non_deferral_percentage_not_deferred = validate(test_loader, cmodel_non_deferral, print_bool=True)\n",
        "    \n",
        "# #     sizes_DLAC.append(size_deferral)\n",
        "# #     sizes_LAC.append(size_non_deferral)\n",
        "\n",
        "# # print(\"Sensitivity Analysis for RAPS\")\n",
        "# # for alpha in alphas:\n",
        "# #     defer = True\n",
        "# #     print(alpha)\n",
        "# #     cmodel_deferral = ConformalModel(model_deferral, calibration_loader, alpha=alpha, lamda_criterion='size',defer=defer,LAC=False,allow_zero_sets=True)\n",
        "# #     top1_deferral, top5_deferral, coverage_deferral, size_deferral,cmodel_deferral_percentage_not_deferred = validate(test_loader, cmodel_deferral, print_bool=True)\n",
        "# #     defer = False\n",
        "# #     cmodel_non_deferral = ConformalModel(model_non_deferral_raps, calibration_loader, alpha=alpha, lamda_criterion='size',defer=defer,LAC=False,allow_zero_sets=True)\n",
        "# #     top1_non_deferral, top5_non_deferral, coverage_non_deferral, size_non_deferral, cmodel_non_deferral_percentage_not_deferred = validate(test_loader, cmodel_non_deferral, print_bool=True)\n",
        "\n",
        "# #     sizes_DRAPS.append(size_deferral)\n",
        "# #     sizes_RAPS.append(size_non_deferral)\n",
        "\n",
        "# # print(\"Sensitivity Analysis for APS\")\n",
        "# # for alpha in alphas:\n",
        "# #     defer = True\n",
        "# #     print(alpha)\n",
        "# #     cmodel_deferral = ConformalModel(model_deferral, calibration_loader, alpha=alpha, lamda = 0, kreg = 0, lamda_criterion='size',defer=defer,LAC=False,allow_zero_sets=True)\n",
        "# #     top1_deferral, top5_deferral, coverage_deferral, size_deferral,cmodel_deferral_percentage_not_deferred = validate(test_loader, cmodel_deferral, print_bool=True)\n",
        "# #     defer = False\n",
        "# #     cmodel_non_deferral = ConformalModel(model_non_deferral_raps, calibration_loader, alpha=alpha, lamda = 0, kreg = 0, lamda_criterion='size',defer=defer,LAC=False,allow_zero_sets=True)\n",
        "# #     top1_non_deferral, top5_non_deferral, coverage_non_deferral, size_non_deferral, cmodel_non_deferral_percentage_not_deferred = validate(test_loader, cmodel_non_deferral, print_bool=True)\n",
        "\n",
        "# #     sizes_DAPS.append(size_deferral)\n",
        "# #     sizes_APS.append(size_non_deferral)\n",
        "\n",
        "# fig,ax = plt.subplots(1,2,figsize=(13,8))\n",
        "# ax[0].plot(alphas,sizes_LAC)\n",
        "# ax[0].plot(alphas,sizes_RAPS)\n",
        "# ax[0].plot(alphas,sizes_APS)\n",
        "# ax[0].set_xlabel('Alpha (Error Rate)',fontsize=13)\n",
        "# ax[0].set_ylabel('Set Size',fontsize=13)\n",
        "# ax[0].legend(['LAC','RAPS','APS'],fontsize=13)\n",
        "# ax[0].tick_params(axis='both', which='major', labelsize=13)\n",
        "# ax[1].plot(alphas,sizes_DLAC)\n",
        "# ax[1].plot(alphas,sizes_DRAPS)\n",
        "# ax[1].plot(alphas,sizes_DAPS)\n",
        "# ax[1].set_xlabel('Alpha (Error Rate)',fontsize=13)\n",
        "# ax[1].set_ylabel('Set Size',fontsize=13)\n",
        "# ax[1].legend(['D-LAC','D-RAPS','D-APS'],fontsize=13)\n",
        "# ax[1].tick_params(axis='both', which='major', labelsize=13)\n",
        "\n",
        "# alphas = np.array(alphas)\n",
        "# sizes_LAC = np.array(sizes_LAC)\n",
        "# sizes_RAPS = np.array(sizes_RAPS)\n",
        "# sizes_APS = np.array(sizes_APS)\n",
        "# sizes_DRAPS = np.array(sizes_DRAPS)\n",
        "# sizes_DAPS = np.array(sizes_DAPS)\n",
        "# sizes_DLAC = np.array(sizes_DLAC)\n",
        "\n",
        "# n = np.arange(0,10,0.5)\n",
        "# print(alphas[np.argmax((1-alphas)/(n+sizes_LAC))])\n",
        "# X, Y = np.meshgrid(alphas, n)\n",
        "# Z = Y*(1-X)/(Y+sizes_LAC)\n",
        "# fig = plt.figure()\n",
        "# ax = fig.add_subplot(111)\n",
        "# contour = ax.contourf(X, Z, Y)\n",
        "# ax.set_xlabel('Alpha (Error Rate)',fontsize=13)\n",
        "# ax.set_ylabel('Utility',fontsize=13)\n",
        "# plt.colorbar(contour,label='Tradeoff parameter p')\n",
        "# plt.show()\n",
        "# # n = 0.1\n",
        "# n = 3\n",
        "\n",
        "\n",
        "\n",
        "# fig, ax = plt.subplots(1,1)\n",
        "# ax.plot(alphas,n*(1-alphas)/(n+sizes_LAC))\n",
        "# ax.plot(alphas,n*(1-alphas)/(n+sizes_RAPS))\n",
        "# ax.plot(alphas,n*(1-alphas)/(n+sizes_APS))\n",
        "# ax.set_xlabel('Alpha (Error Rate)',fontsize=13)\n",
        "# ax.set_ylabel('Utility',fontsize=13)\n",
        "# ax.legend(['LAC','RAPS','APS'],fontsize=13)\n",
        "# # ax.plot(alphas,alphas*sizes_LAC)\n",
        "# # ax.plot(alphas,alphas*sizes_LAC)\n",
        "# print(test_loader.dataset.dataset.classes)"
      ]
    },
    {
      "cell_type": "code",
      "execution_count": null,
      "metadata": {
        "id": "oxzL67CW9URE"
      },
      "outputs": [],
      "source": [
        "import numpy as np\n",
        "from scipy.special import softmax\n",
        "import torch\n",
        "import torch.nn as nn\n",
        "import torch.optim as optim\n",
        "import torch.utils.data as tdata\n",
        "import pandas as pd\n",
        "import time\n",
        "from tqdm import tqdm\n",
        "import pdb\n",
        "\n",
        "# Conformalize a model with a calibration set.\n",
        "# Save it to a file in .cache/modelname\n",
        "# The only difference is that the forward method of ConformalModel also outputs a set.\n",
        "class ConformalModel(nn.Module):\n",
        "    def __init__(self, model, calib_loader, alpha, kreg=None, lamda=None, randomized=True, allow_zero_sets=False, \\\n",
        "                 pct_paramtune = 0.3, batch_size=32, lamda_criterion='size',defer=False,RAPS_D=False,LAC=False,def_proportion = 0.2):\n",
        "        super(ConformalModel, self).__init__()\n",
        "        # Don't make defer and RAPS_D true at the same time\n",
        "        self.defer = defer  # Flag that determines whether the model has a deferral class (assumed to be the last classs)\n",
        "        print(\"Model: {}\".format(self.defer))\n",
        "        self.model = model\n",
        "        self.alpha = alpha\n",
        "        self.T = torch.Tensor([1.3]) #initialize (1.3 is usually a good value)\n",
        "        self.RAPS_D = RAPS_D\n",
        "        # if RAPS_D:\n",
        "        #   self.defer = False\n",
        "        self.def_proportion = def_proportion\n",
        "        self.T, calib_logits = platt(self, calib_loader,defer = self.defer,RAPS_D=self.RAPS_D) # calib_logits contains non deferred\n",
        "        self.randomized=randomized\n",
        "        self.allow_zero_sets=allow_zero_sets\n",
        "        # self.num_classes = len(calib_loader.dataset.dataset.classes)\n",
        "        self.num_classes = 100\n",
        "        self.LAC = LAC\n",
        "        \n",
        "        # self.num_classes = len(calib_loader.dataset.classes)\n",
        "        if not self.LAC:\n",
        "          if kreg == None or lamda == None:\n",
        "              kreg, lamda, calib_logits = pick_parameters(model, calib_logits, alpha, kreg, lamda, randomized, allow_zero_sets, pct_paramtune, batch_size, lamda_criterion,defer=self.defer,RAPS_D=self.RAPS_D)\n",
        "              print(kreg,lamda,calib_logits)\n",
        "          self.penalties = np.zeros((1, self.num_classes))\n",
        "          self.penalties[:, kreg:] += lamda\n",
        "        \n",
        "          calib_loader = tdata.DataLoader(calib_logits, batch_size = batch_size, shuffle=False, pin_memory=True)\n",
        "\n",
        "          self.Qhat = conformal_calibration_logits(self, calib_loader,defer=self.defer)\n",
        "          \n",
        "          print(self.Qhat)\n",
        "        else:\n",
        "          if not self.defer and not RAPS_D:\n",
        "            print(len(calib_logits))\n",
        "            gt_locs_cal = np.array([np.where(np.argsort(x[0]).flip(dims=(0,)) == x[1])[0][0] for x in calib_logits])\n",
        "            scores_cal = 1-np.array([np.sort(torch.softmax(calib_logits[i][0]/self.T.item(), dim=0))[::-1][gt_locs_cal[i]] for i in range(len(calib_logits))]) \n",
        "            self.Qhat = np.quantile(scores_cal, np.ceil((scores_cal.shape[0]+1) * (1-alpha)) / scores_cal.shape[0])\n",
        "            self.penalties = np.zeros((1, self.num_classes))\n",
        "            calib_loader = tdata.DataLoader(calib_logits, batch_size = batch_size, shuffle=False, pin_memory=True)\n",
        "          else:\n",
        "            print(len(calib_logits))\n",
        "            gt_locs_cal = np.array([np.where(np.argsort(x[0][:-1]).flip(dims=(0,)) == x[1])[0][0] for x in calib_logits]) \n",
        "            unnormalized_scores = np.array([np.array(torch.softmax(calib_logits[i][0]/self.T.item(), dim=0)) for i in range(len(calib_logits))])\n",
        "            normalized_scores = [i[:-1]/(1-i[-1]) for i in unnormalized_scores]\n",
        "            scores_cal = 1 - np.array([np.sort(normalized_scores[i])[::-1][gt_locs_cal[i]] for i in range(len(normalized_scores))])\n",
        "            self.Qhat = np.quantile(scores_cal, np.ceil((scores_cal.shape[0]+1) * (1-alpha)) / scores_cal.shape[0])\n",
        "            self.penalties = np.zeros((1, self.num_classes))\n",
        "            calib_loader = tdata.DataLoader(calib_logits, batch_size = batch_size, shuffle=False, pin_memory=True)\n",
        "    def newAttr(self, attr):\n",
        "      # Create a new attribute of the existing class at runtiime\n",
        "\t\t    setattr(self, attr, attr)\n",
        "  \n",
        "    def forward(self, *args, randomized=None, allow_zero_sets=None, **kwargs):\n",
        "        if randomized == None:\n",
        "            randomized = self.randomized\n",
        "        if allow_zero_sets == None:\n",
        "            allow_zero_sets = self.allow_zero_sets\n",
        "        logits = self.model(*args, **kwargs)\n",
        "        deferral_indices = set()\n",
        "        if self.defer or self.RAPS_D:\n",
        "          counter = 0\n",
        "          # rescaled_logits = torch.zeros((logits.shape[0],logits.shape[1]-1))\n",
        "          rescaled_logits = torch.zeros((logits.shape[0],logits.shape[1]))\n",
        "          for j in range(logits.shape[0]):\n",
        "            pred = logits[j]\n",
        "            if torch.argmax(pred) != len(pred)-1: \n",
        "            # if pred[-1] <= self.threshold_score: # We don't defer\n",
        "              # rescaled_logits[counter,:] = pred[:-1]/(1-pred[-1]) # p(Y=y|X=x, Y != deferral)\n",
        "              rescaled_logits[counter,:] = pred\n",
        "              counter += 1\n",
        "            else:\n",
        "              deferral_indices.add(j)\n",
        "              pass\n",
        "          logits = rescaled_logits[:counter,:]\n",
        "        with torch.no_grad():\n",
        "            logits_numpy = logits.detach().cpu().numpy()\n",
        "            scores = softmax(logits_numpy/self.T.item(), axis=1)\n",
        "            if self.defer or self.RAPS_D:\n",
        "              scores = torch.Tensor(scores)\n",
        "              scores = scores[:,:-1]/(1-scores[:,-1].unsqueeze(-1))\n",
        "              scores = scores.numpy()\n",
        "            if not self.LAC:\n",
        "              I, ordered, cumsum = sort_sum(scores)\n",
        "\n",
        "              S = gcq(scores, self.Qhat, I=I, ordered=ordered, cumsum=cumsum, penalties=self.penalties, randomized=randomized, allow_zero_sets=allow_zero_sets)\n",
        "            else:\n",
        "              S = [np.where( (1-scores[i,:]) < self.Qhat )[0] for i in range(scores.shape[0])]\n",
        "        return logits, S, deferral_indices\n",
        "\n",
        "# Computes the conformal calibration\n",
        "def conformal_calibration(cmodel, calib_loader):\n",
        "    print(\"Conformal calibration\")\n",
        "    with torch.no_grad():\n",
        "        E = np.array([])\n",
        "        for x, targets in tqdm(calib_loader):\n",
        "            logits = cmodel.model(x.cuda()).detach().cpu().numpy()\n",
        "            scores = softmax(logits/cmodel.T.item(), axis=1)\n",
        "\n",
        "            I, ordered, cumsum = sort_sum(scores)\n",
        "\n",
        "            E = np.concatenate((E,giq(scores,targets,I=I,ordered=ordered,cumsum=cumsum,penalties=cmodel.penalties,randomized=True, allow_zero_sets=True)))\n",
        "            \n",
        "        Qhat = np.quantile(E,1-cmodel.alpha,interpolation='higher')\n",
        "        print(Qhat,E)\n",
        "        return Qhat \n",
        "\n",
        "# Temperature scaling\n",
        "def platt(cmodel, calib_loader, max_iters=10, lr=0.01, epsilon=0.01,defer=False,RAPS_D=False):\n",
        "    print(\"Begin Platt scaling.\")\n",
        "    # Save logits so don't need to double compute them\n",
        "    print(\"Platt: {}\".format(defer))\n",
        "    logits_dataset,threshold_score = get_logits_targets(cmodel.model, calib_loader,defer,RAPS_D=RAPS_D,def_proportion=cmodel.def_proportion)\n",
        "    cmodel.newAttr(\"threshold_score\")\n",
        "    cmodel.threshold_score = threshold_score\n",
        "    logits_loader = torch.utils.data.DataLoader(logits_dataset, batch_size = calib_loader.batch_size, shuffle=False, pin_memory=True)\n",
        "\n",
        "    T = platt_logits(cmodel, logits_loader, max_iters=max_iters, lr=lr, epsilon=epsilon,defer=defer,RAPS_D=RAPS_D)\n",
        "\n",
        "    print(f\"Optimal T={T.item()}\")\n",
        "    return T, logits_dataset\n",
        "\n",
        "\"\"\"\n",
        "        INTERNAL FUNCTIONS\n",
        "\"\"\"\n",
        "\n",
        "### Precomputed-logit versions of the above functions.\n",
        "\n",
        "class ConformalModelLogits(nn.Module):\n",
        "    def __init__(self, model, calib_loader, alpha, kreg=None, lamda=None, randomized=True, allow_zero_sets=False, naive=False, LAC=False, pct_paramtune = 0.3, batch_size=32, lamda_criterion='size',defer=False,RAPS_D = False):\n",
        "        super(ConformalModelLogits, self).__init__()\n",
        "        self.model = model\n",
        "        self.alpha = alpha\n",
        "        self.randomized = randomized\n",
        "        self.LAC = LAC\n",
        "        self.allow_zero_sets = allow_zero_sets\n",
        "        self.defer = defer\n",
        "        self.RAPS_D = RAPS_D\n",
        "        self.T = platt_logits(self, calib_loader,defer=self.defer,RAPS_D=self.RAPS_D)\n",
        "        # self.num_classes = len(calib_loader.dataset.dataset.classes)\n",
        "\n",
        "        if (kreg == None or lamda == None) and not naive and not LAC:\n",
        "            kreg, lamda, calib_logits = pick_parameters(model, calib_loader.dataset, alpha, kreg, lamda, randomized, allow_zero_sets, pct_paramtune, batch_size, lamda_criterion)\n",
        "            calib_loader = tdata.DataLoader(calib_logits, batch_size=batch_size, shuffle=False, pin_memory=True)\n",
        "        if self.defer:\n",
        "          self.penalties = np.zeros((1, calib_loader.dataset[0][0].shape[0]-1))\n",
        "        else:\n",
        "          self.penalties = np.zeros((1, calib_loader.dataset[0][0].shape[0]))\n",
        "        # self.penalties= np.zeros((1,self.num_classes))\n",
        "        if not (kreg == None) and not naive and not LAC:\n",
        "            self.penalties[:, kreg:] += lamda\n",
        "        self.Qhat = 1-alpha\n",
        "        if not naive and not LAC:\n",
        "            self.Qhat = conformal_calibration_logits(self, calib_loader,defer=self.defer)\n",
        "            \n",
        "        elif not naive and LAC:\n",
        "            gt_locs_cal = np.array([np.where(np.argsort(x[0]).flip(dims=(0,)) == x[1])[0][0] for x in calib_loader.dataset])\n",
        "            scores_cal = 1-np.array([np.sort(torch.softmax(calib_loader.dataset[i][0]/self.T.item(), dim=0))[::-1][gt_locs_cal[i]] for i in range(len(calib_loader.dataset))]) \n",
        "            self.Qhat = np.quantile(scores_cal, np.ceil((scores_cal.shape[0]+1) * (1-alpha)) / scores_cal.shape[0])\n",
        "            \n",
        "    def forward(self, logits, randomized=None, allow_zero_sets=None):\n",
        "        if randomized == None:\n",
        "            randomized = self.randomized\n",
        "        if allow_zero_sets == None:\n",
        "            allow_zero_sets = self.allow_zero_sets\n",
        "        \n",
        "        with torch.no_grad():\n",
        "            logits_numpy = logits.detach().cpu().numpy()\n",
        "            scores = softmax(logits_numpy/self.T.item(), axis=1)\n",
        "            if self.defer or self.RAPS_D:\n",
        "              scores = torch.Tensor(scores)\n",
        "              scores = scores[:,:-1]/(1-scores[:,-1].unsqueeze(-1))\n",
        "              scores = scores.numpy()\n",
        "            deferral_set = set()\n",
        "            if not self.LAC:\n",
        "                I, ordered, cumsum = sort_sum(scores)\n",
        "\n",
        "                S = gcq(scores, self.Qhat, I=I, ordered=ordered, cumsum=cumsum, penalties=self.penalties, randomized=randomized, allow_zero_sets=allow_zero_sets)\n",
        "            else:\n",
        "                S = [ np.where( (1-scores[i,:]) < self.Qhat )[0] for i in range(scores.shape[0]) ]\n",
        "\n",
        "        return logits, S,deferral_set\n",
        "\n",
        "def conformal_calibration_logits(cmodel, calib_loader,defer=False,RAPS_D=False):\n",
        "    with torch.no_grad():\n",
        "        E = np.array([])\n",
        "        for logits, targets in calib_loader:\n",
        "            logits = logits.detach().cpu().numpy()\n",
        "            scores = softmax(logits/cmodel.T.item(), axis=1)\n",
        "            if defer or RAPS_D:\n",
        "              scores = torch.Tensor(scores)\n",
        "              scores = scores[:,:-1]/(1-scores[:,-1].unsqueeze(-1))\n",
        "              scores = scores.numpy()\n",
        "            I, ordered, cumsum = sort_sum(scores)\n",
        "\n",
        "            E = np.concatenate((E,giq(scores,targets,I=I,ordered=ordered,cumsum=cumsum,penalties=cmodel.penalties,randomized=True,allow_zero_sets=True)))\n",
        "            \n",
        "        Qhat = np.quantile(E,1-cmodel.alpha,interpolation='higher')\n",
        "\n",
        "        return Qhat \n",
        "\n",
        "def platt_logits(cmodel, calib_loader, max_iters=10, lr=0.01, epsilon=0.01,defer=False,RAPS_D=False):\n",
        "    nll_criterion = nn.CrossEntropyLoss().cuda()\n",
        "\n",
        "    T = nn.Parameter(torch.Tensor([1.3]).cuda())\n",
        "\n",
        "    optimizer = optim.SGD([T], lr=lr)\n",
        "    for iter in range(max_iters):\n",
        "        T_old = T.item()\n",
        "        for x, targets in calib_loader:\n",
        "            optimizer.zero_grad()\n",
        "            x = x.cuda()\n",
        "            x.requires_grad = True\n",
        "            if not defer and not RAPS_D:\n",
        "              out = x/T\n",
        "              loss = nll_criterion(out, targets.long().cuda())\n",
        "              loss.backward()\n",
        "              optimizer.step()\n",
        "            else: # we do this either in defer or RAPS_D\n",
        "              out = nn.Softmax()(x/T)\n",
        "              out = out[:,:-1]/(1-out[:,-1].unsqueeze(-1))\n",
        "              loss = -torch.log2(out[range(len(targets)),targets])\n",
        "              loss = torch.sum(loss)/len(targets)\n",
        "              loss.backward()\n",
        "              optimizer.step()\n",
        "        if abs(T_old - T.item()) < epsilon:\n",
        "            break\n",
        "    return T\n",
        "\n",
        "### CORE CONFORMAL INFERENCE FUNCTIONS\n",
        "\n",
        "# Generalized conditional quantile function.\n",
        "def gcq(scores, tau, I, ordered, cumsum, penalties, randomized, allow_zero_sets):\n",
        "    penalties_cumsum = np.cumsum(penalties, axis=1)\n",
        "    sizes_base = ((cumsum + penalties_cumsum) <= tau).sum(axis=1) + 1  # 1 - 1001\n",
        "    sizes_base = np.minimum(sizes_base, scores.shape[1]) # 1-1000\n",
        "    \n",
        "    if randomized:\n",
        "        V = np.zeros(sizes_base.shape)\n",
        "        for i in range(sizes_base.shape[0]):\n",
        "            V[i] = 1/ordered[i,sizes_base[i]-1] * \\\n",
        "                    (tau-(cumsum[i,sizes_base[i]-1]-ordered[i,sizes_base[i]-1])-penalties_cumsum[0,sizes_base[i]-1]) # -1 since sizes_base \\in {1,...,1000}.\n",
        "\n",
        "        sizes = sizes_base - (np.random.random(V.shape) >= V).astype(int)\n",
        "    else:\n",
        "        sizes = sizes_base\n",
        "\n",
        "    if tau == 1.0:\n",
        "        sizes[:] = cumsum.shape[1] # always predict max size if alpha==0. (Avoids numerical error.)\n",
        "\n",
        "    if not allow_zero_sets:\n",
        "        sizes[sizes == 0] = 1 # allow the user the option to never have empty sets (will lead to incorrect coverage if 1-alpha < model's top-1 accuracy\n",
        "\n",
        "    S = list()\n",
        "\n",
        "    # Construct S from equation (5)\n",
        "    for i in range(I.shape[0]):\n",
        "        S = S + [I[i,0:sizes[i]],]\n",
        "\n",
        "    return S\n",
        "\n",
        "# Get the 'p-value'\n",
        "def get_tau(score, target, I, ordered, cumsum, penalty, randomized, allow_zero_sets): # For one example\n",
        "    idx = np.where(I==target)\n",
        "    tau_nonrandom = cumsum[idx]\n",
        "\n",
        "    if not randomized:\n",
        "        return tau_nonrandom + penalty[0]\n",
        "    \n",
        "    U = np.random.random()\n",
        "\n",
        "    if idx == (0,0):\n",
        "        if not allow_zero_sets:\n",
        "            return tau_nonrandom + penalty[0]\n",
        "        else:\n",
        "            return U * tau_nonrandom + penalty[0] \n",
        "    else:\n",
        "        return U * ordered[idx] + cumsum[(idx[0],idx[1]-1)] + (penalty[0:(idx[1][0]+1)]).sum()\n",
        "\n",
        "# Gets the histogram of Taus. \n",
        "def giq(scores, targets, I, ordered, cumsum, penalties, randomized, allow_zero_sets):\n",
        "    \"\"\"\n",
        "        Generalized inverse quantile conformity score function.\n",
        "        E from equation (7) in Romano, Sesia, Candes.  Find the minimum tau in [0, 1] such that the correct label enters.\n",
        "    \"\"\"\n",
        "    E = -np.ones((scores.shape[0],))\n",
        "    for i in range(scores.shape[0]):\n",
        "        E[i] = get_tau(scores[i:i+1,:],targets[i].item(),I[i:i+1,:],ordered[i:i+1,:],cumsum[i:i+1,:],penalties[0,:],randomized=randomized, allow_zero_sets=allow_zero_sets)\n",
        "\n",
        "    return E\n",
        "\n",
        "### AUTOMATIC PARAMETER TUNING FUNCTIONS\n",
        "def pick_kreg(paramtune_logits, alpha,defer=False):\n",
        "    if not defer:\n",
        "      gt_locs_kstar = np.array([np.where(np.argsort(x[0]).flip(dims=(0,)) == x[1])[0][0] for x in paramtune_logits])\n",
        "    else:\n",
        "      # print(next(iter(paramtune_logits)))\n",
        "      # print([x[0][:,:-1]/(1-x[0][:,-1]) for x in paramtune_logits])\n",
        "      # print(np.array([np.where(np.argsort(x[0][:,:-1]/(1-x[0][:,-1])).flip(dims=(0,)) == x[1])[0] for x in paramtune_logits]))\n",
        "      # print(np.array([np.where(np.argsort(x[0][:,:-1]/(1-x[0][:,-1])).flip(dims=(0,)) == x[1])[0][0]))\n",
        "      # gt_locs_kstar = np.array([np.where(np.argsort(x[0][:,:-1]/(1-x[0][:,-1])).flip(dims=(0,)) == x[1])[0][0] for x in paramtune_logits])\n",
        "      gt_locs_kstar = np.array([np.where(np.argsort(x[0][:-1]).flip(dims=(0,)) == x[1])[0][0] for x in paramtune_logits])\n",
        "\n",
        "    kstar = np.quantile(gt_locs_kstar, 1-alpha, interpolation='higher') + 1\n",
        "    return kstar \n",
        "\n",
        "def pick_lamda_size(model, paramtune_loader, alpha, kreg, randomized, allow_zero_sets,defer=False):\n",
        "    # Calculate lamda_star\n",
        "    best_size = iter(paramtune_loader).__next__()[0][1].shape[0] # number of classes \n",
        "    # Use the paramtune data to pick lamda.  Does not violate exchangeability.\n",
        "    for temp_lam in [0.001, 0.01, 0.1, 0.2, 0.5]: # predefined grid, change if more precision desired.\n",
        "        conformal_model = ConformalModelLogits(model, paramtune_loader, alpha=alpha, kreg=kreg, lamda=temp_lam, randomized=randomized, allow_zero_sets=allow_zero_sets, naive=False,defer=defer)\n",
        "        top1_avg, top5_avg, cvg_avg, sz_avg, _ = validate(paramtune_loader, conformal_model, print_bool=False)\n",
        "        if sz_avg < best_size:\n",
        "            best_size = sz_avg\n",
        "            lamda_star = temp_lam\n",
        "    return lamda_star\n",
        "\n",
        "def pick_lamda_adaptiveness(model, paramtune_loader, alpha, kreg, randomized, allow_zero_sets, strata=[[0,1],[2,3],[4,6],[7,10],[11,100],[101,1000]],defer=False):\n",
        "    # Calculate lamda_star\n",
        "    lamda_star = 0\n",
        "    best_violation = 1\n",
        "    # Use the paramtune data to pick lamda.  Does not violate exchangeability.\n",
        "    for temp_lam in [0, 1e-5, 1e-4, 8e-4, 9e-4, 1e-3, 1.5e-3, 2e-3]: # predefined grid, change if more precision desired.\n",
        "        conformal_model = ConformalModelLogits(model, paramtune_loader, alpha=alpha, kreg=kreg, lamda=temp_lam, randomized=randomized, allow_zero_sets=allow_zero_sets, naive=False,defer=defer)\n",
        "        curr_violation = get_violation(conformal_model, paramtune_loader, strata, alpha)\n",
        "        if curr_violation < best_violation:\n",
        "            best_violation = curr_violation \n",
        "            lamda_star = temp_lam\n",
        "    return lamda_star\n",
        "\n",
        "def pick_parameters(model, calib_logits, alpha, kreg, lamda, randomized, allow_zero_sets, pct_paramtune, batch_size, lamda_criterion,defer=False,RAPS_D = False):\n",
        "    num_paramtune = int(np.ceil(pct_paramtune * len(calib_logits)))\n",
        "    paramtune_logits, calib_logits = tdata.random_split(calib_logits, [num_paramtune, len(calib_logits)-num_paramtune])\n",
        "    calib_loader = tdata.DataLoader(calib_logits, batch_size=batch_size, shuffle=False, pin_memory=True)\n",
        "    paramtune_loader = tdata.DataLoader(calib_logits, batch_size=batch_size, shuffle=False, pin_memory=True)\n",
        "    if RAPS_D: \n",
        "      defer = True\n",
        "    if kreg == None:\n",
        "        kreg = pick_kreg(paramtune_logits, alpha,defer=defer)\n",
        "    if lamda == None:\n",
        "        if lamda_criterion == \"size\":\n",
        "            lamda = pick_lamda_size(model, paramtune_loader, alpha, kreg, randomized, allow_zero_sets,defer=defer)\n",
        "        elif lamda_criterion == \"adaptiveness\":\n",
        "            lamda = pick_lamda_adaptiveness(model, paramtune_loader, alpha, kreg, randomized, allow_zero_sets,defer=defer)\n",
        "    return kreg, lamda, calib_logits\n",
        "\n",
        "def get_violation(cmodel, loader_paramtune, strata, alpha):\n",
        "    df = pd.DataFrame(columns=['size', 'correct'])\n",
        "    for logit, target in loader_paramtune:\n",
        "        # compute output\n",
        "        output, S,deferral_set = cmodel(logit) # This is a 'dummy model' which takes logits, for efficiency.\n",
        "        # measure accuracy and record loss\n",
        "        size = np.array([x.size for x in S])\n",
        "        I, _, _ = sort_sum(logit.numpy()) \n",
        "        correct = np.zeros_like(size)\n",
        "        for j in range(correct.shape[0]):\n",
        "            correct[j] = int( target[j] in list(S[j]) )\n",
        "        batch_df = pd.DataFrame({'size': size, 'correct': correct})\n",
        "        df = df.append(batch_df, ignore_index=True)\n",
        "    wc_violation = 0\n",
        "    for stratum in strata:\n",
        "        temp_df = df[ (df['size'] >= stratum[0]) & (df['size'] <= stratum[1]) ]\n",
        "        if len(temp_df) == 0:\n",
        "            continue\n",
        "        stratum_violation = abs(temp_df.correct.mean()-(1-alpha))\n",
        "        wc_violation = max(wc_violation, stratum_violation)\n",
        "    return wc_violation # the violation"
      ]
    },
    {
      "cell_type": "code",
      "execution_count": null,
      "metadata": {
        "id": "enzKKkmH9V4c"
      },
      "outputs": [],
      "source": [
        "import numpy as np\n",
        "import torch\n",
        "import torch.nn as nn\n",
        "import torch.optim as optim\n",
        "import torchvision\n",
        "import torchvision.transforms as transforms\n",
        "import time\n",
        "import pathlib\n",
        "import os\n",
        "import pickle\n",
        "from tqdm import tqdm\n",
        "import pdb\n",
        "\n",
        "def sort_sum(scores):\n",
        "    I = scores.argsort(axis=1)[:,::-1]\n",
        "    ordered = np.sort(scores,axis=1)[:,::-1]\n",
        "    cumsum = np.cumsum(ordered,axis=1)\n",
        "    return I, ordered, cumsum\n",
        "\n",
        "class AverageMeterConformal(object):\n",
        "    \"\"\"Computes and stores the average and current value\"\"\"\n",
        "\n",
        "    def __init__(self, name, fmt=':f'):\n",
        "        self.name = name\n",
        "        self.fmt = fmt\n",
        "        self.reset()\n",
        "\n",
        "    def reset(self):\n",
        "        self.val = 0\n",
        "        self.avg = 0\n",
        "        self.sum = 0\n",
        "        self.count = 0\n",
        "\n",
        "    def update(self, val, n=1):\n",
        "        self.val = val\n",
        "        self.sum += val * n\n",
        "        self.count += n\n",
        "        self.avg = self.sum / self.count\n",
        "\n",
        "    def __str__(self):\n",
        "        fmtstr = '{name} {val' + self.fmt + '} ({avg' + self.fmt + '})'\n",
        "        return fmtstr.format(**self.__dict__)\n",
        "\n",
        "def validate(val_loader, model, print_bool):\n",
        "    with torch.no_grad():\n",
        "        batch_time = AverageMeterConformal('batch_time')\n",
        "        top1 = AverageMeterConformal('top1')\n",
        "        top5 = AverageMeterConformal('top5')\n",
        "        coverage = AverageMeterConformal('RAPS coverage')\n",
        "        size = AverageMeterConformal('RAPS size')\n",
        "        # switch to evaluate mode\n",
        "        model.eval()\n",
        "        end = time.time()\n",
        "        N = 0\n",
        "        percentage_not_deferred = 0\n",
        "        num_examples = 0\n",
        "        for i, (x, target) in enumerate(val_loader):\n",
        "            target = target.cuda()\n",
        "            # compute output\n",
        "            output, S, deferral_set = model(x.cuda())\n",
        "            # measure accuracy and record loss\n",
        "            new_target = torch.zeros(target.shape)\n",
        "            counter = 0\n",
        "            for i in range(target.shape[0]):\n",
        "                num_examples += 1\n",
        "                if i not in deferral_set: # indices where the model defers, so we don't include it in our calculation of set size / coverage\n",
        "                    new_target[counter] = target[i]\n",
        "                    counter += 1\n",
        "            target = new_target[:counter].cuda()\n",
        "            percentage_not_deferred += counter\n",
        "            output = output.cuda()\n",
        "\n",
        "            prec1, prec5 = accuracy_conformal(output, target, topk=(1, 5))\n",
        "            cvg, sz = coverage_size(S, target)\n",
        "\n",
        "            # Update meters\n",
        "            top1.update(prec1.item()/100.0, n=x.shape[0])\n",
        "            top5.update(prec5.item()/100.0, n=x.shape[0])\n",
        "            coverage.update(cvg, n=x.shape[0])\n",
        "            size.update(sz, n=x.shape[0])\n",
        "\n",
        "            # measure elapsed time\n",
        "            batch_time.update(time.time() - end)\n",
        "            end = time.time()\n",
        "            N = N + x.shape[0]\n",
        "            if print_bool:\n",
        "                print(f'\\rN: {N} | Time: {batch_time.val:.3f} ({batch_time.avg:.3f}) | Cvg@1: {top1.val:.3f} ({top1.avg:.3f}) | Cvg@5: {top5.val:.3f} ({top5.avg:.3f}) | Cvg@RAPS: {coverage.val:.3f} ({coverage.avg:.3f}) | Size@RAPS: {size.val:.3f} ({size.avg:.3f})', end='')\n",
        "    if print_bool:\n",
        "        print('') #Endline\n",
        "    percentage_not_deferred /= num_examples\n",
        "    return top1.avg, top5.avg, coverage.avg, size.avg, percentage_not_deferred\n",
        "\n",
        "def coverage_size(S,targets):\n",
        "    covered = 0\n",
        "    size = 0\n",
        "    for i in range(targets.shape[0]):\n",
        "        if (targets[i].item() in S[i]):\n",
        "            covered += 1\n",
        "        size = size + S[i].shape[0]\n",
        "\n",
        "    return float(covered)/targets.shape[0], size/targets.shape[0]\n",
        "\n",
        "def accuracy_conformal(output, target, topk=(1,)):\n",
        "    \"\"\"Computes the precision@k for the specified values of k\"\"\"\n",
        "    maxk = max(topk)\n",
        "    batch_size = target.size(0)\n",
        "\n",
        "    _, pred = output.topk(maxk, 1, True, True)\n",
        "    pred = pred.t()\n",
        "    correct = pred.eq(target.view(1, -1).expand_as(pred))\n",
        "\n",
        "    res = []\n",
        "    for k in topk:\n",
        "        correct_k = correct[:k].float().sum()\n",
        "        res.append(correct_k.mul_(100.0 / batch_size))\n",
        "    return res\n",
        "\n",
        "def data2tensor(data):\n",
        "    imgs = torch.cat([x[0].unsqueeze(0) for x in data], dim=0).cuda()\n",
        "    targets = torch.cat([torch.Tensor([int(x[1])]) for x in data], dim=0).long()\n",
        "    return imgs, targets\n",
        "\n",
        "def split2ImageFolder(path, transform, n1, n2):\n",
        "    dataset = torchvision.datasets.ImageFolder(path, transform)\n",
        "    data1, data2 = torch.utils.data.random_split(dataset, [n1, len(dataset)-n1])\n",
        "    data2, _ = torch.utils.data.random_split(data2, [n2, len(dataset)-n1-n2])\n",
        "    return data1, data2\n",
        "\n",
        "def split2(dataset, n1, n2):\n",
        "    data1, temp = torch.utils.data.random_split(dataset, [n1, dataset.tensors[0].shape[0]-n1])\n",
        "    data2, _ = torch.utils.data.random_split(temp, [n2, dataset.tensors[0].shape[0]-n1-n2])\n",
        "    return data1, data2\n",
        "\n",
        "def get_model(modelname):\n",
        "    if modelname == 'ResNet18':\n",
        "        model = torchvision.models.resnet18(pretrained=True, progress=True)\n",
        "\n",
        "    elif modelname == 'ResNet50':\n",
        "        model = torchvision.models.resnet50(pretrained=True, progress=True)\n",
        "\n",
        "    elif modelname == 'ResNet101':\n",
        "        model = torchvision.models.resnet101(pretrained=True, progress=True)\n",
        "\n",
        "    elif modelname == 'ResNet152':\n",
        "        model = torchvision.models.resnet152(pretrained=True, progress=True)\n",
        "\n",
        "    elif modelname == 'ResNeXt101':\n",
        "        model = torchvision.models.resnext101_32x8d(pretrained=True, progress=True)\n",
        "\n",
        "    elif modelname == 'VGG16':\n",
        "        model = torchvision.models.vgg16(pretrained=True, progress=True)\n",
        "\n",
        "    elif modelname == 'ShuffleNet':\n",
        "        model = torchvision.models.shufflenet_v2_x1_0(pretrained=True, progress=True)\n",
        "\n",
        "    elif modelname == 'Inception':\n",
        "        model = torchvision.models.inception_v3(pretrained=True, progress=True)\n",
        "\n",
        "    elif modelname == 'DenseNet161':\n",
        "        model = torchvision.models.densenet161(pretrained=True, progress=True)\n",
        "\n",
        "    else:\n",
        "        raise NotImplementedError\n",
        "\n",
        "    model.eval()\n",
        "    model = torch.nn.DataParallel(model).cuda()\n",
        "\n",
        "    return model\n",
        "\n",
        "# Computes logits and targets from a model and loader\n",
        "def get_logits_targets(model, loader, defer=False,RAPS_D=False,def_proportion=None):\n",
        "\n",
        "    if not defer and not RAPS_D:\n",
        "      logits = torch.zeros((len(loader.dataset), 100)) # 1000 classes in Imagenet.\n",
        "    else:\n",
        "      logits = torch.zeros((len(loader.dataset), 100+1)) # 1000 classes in Imagenet.\n",
        "\n",
        "    # logits = torch.zeros((len(loader.dataset), len(loader.dataset.classes))) # 1000 classes in Imagenet.\n",
        "    labels = torch.zeros((len(loader.dataset),))\n",
        "    i = 0\n",
        "    print(f'Computing logits for model (only happens once).')\n",
        "    \n",
        "    # if not defer or RAPS_D:\n",
        "    threshold_score = float('inf')\n",
        "    if not defer or RAPS_D:\n",
        "      with torch.no_grad():\n",
        "          for x, targets in tqdm(loader):\n",
        "              batch_logits = model(x.cuda()).detach().cpu()\n",
        "              logits[i:(i+x.shape[0]), :] = batch_logits\n",
        "              labels[i:(i+x.shape[0])] = targets.cpu()\n",
        "              i = i + x.shape[0]\n",
        "    else:\n",
        "      score_of_deferral_class = torch.zeros((len(loader.dataset),))\n",
        "      with torch.no_grad():\n",
        "        for x, targets in tqdm(loader):\n",
        "            batch_logits = model(x.cuda()).detach().cpu()\n",
        "            score_of_deferral_class[i:(i+x.shape[0])] = batch_logits[:,-1]\n",
        "            i = i + x.shape[0]\n",
        "        score_of_deferral_class,idxs = torch.sort(score_of_deferral_class,descending=True)\n",
        "        threshold_score = score_of_deferral_class[math.ceil(def_proportion*len(loader.dataset))]\n",
        "      i = 0\n",
        "      with torch.no_grad():\n",
        "        for x, targets in tqdm(loader):\n",
        "            batch_logits = model(x.cuda()).detach().cpu()\n",
        "            for j in range(x.shape[0]):\n",
        "              pred = batch_logits[j]\n",
        "              target = targets[j]\n",
        "              if torch.argmax(pred) != len(pred)-1:\n",
        "              # if pred[-1] < threshold_score: # The model doesn't defer here, so we include it in our dataset\n",
        "                # logits[i,:] = pred[:-1]/(1-pred[-1]) # p(Y=y|X=x, Y != deferral)\n",
        "                logits[i,:] = pred # NOT SOFTMAXED\n",
        "                labels[i] = target.cpu()\n",
        "                i += 1\n",
        "            # Only include example in logits dataset if the model does not defer on that example\n",
        "            # That is, if the deferral class does not have the highest score\n",
        "      logits = logits[:i,:]\n",
        "      labels = labels[:i]\n",
        "    # Construct the dataset\n",
        "    dataset_logits = torch.utils.data.TensorDataset(logits, labels.long()) \n",
        "    return dataset_logits, threshold_score\n",
        "\n",
        "def get_logits_dataset(modelname, datasetname, datasetpath, cache=str(pathlib.Path('conformal_classification').parent.absolute()) + '/experiments/.cache/'):\n",
        "    fname = cache + datasetname + '/' + modelname + '.pkl' \n",
        "\n",
        "    # If the file exists, load and return it.\n",
        "    if os.path.exists(fname):\n",
        "        with open(fname, 'rb') as handle:\n",
        "            return pickle.load(handle)\n",
        "\n",
        "    # Else we will load our model, run it on the dataset, and save/return the output.\n",
        "    model = get_model(modelname)\n",
        "\n",
        "    transform = transforms.Compose([\n",
        "                    transforms.Resize(256),\n",
        "                    transforms.CenterCrop(224),\n",
        "                    transforms.ToTensor(),\n",
        "                    transforms.Normalize(mean=[0.485, 0.456, 0.406],\n",
        "                                         std =[0.229, 0.224, 0.225])\n",
        "                    ])\n",
        "\n",
        "    dataset = torchvision.datasets.ImageFolder(datasetpath, transform)\n",
        "    loader = torch.utils.data.DataLoader(dataset, batch_size = 32, shuffle=False, pin_memory=True)\n",
        "\n",
        "    # Get the logits and targets\n",
        "    dataset_logits = get_logits_targets(model, loader)\n",
        "\n",
        "    # Save the dataset\n",
        "    os.makedirs(os.path.dirname(fname), exist_ok=True)\n",
        "    with open(fname, 'wb') as handle:\n",
        "        pickle.dump(dataset_logits, handle, protocol=pickle.HIGHEST_PROTOCOL)\n",
        "    return dataset_logits"
      ]
    },
    {
      "cell_type": "code",
      "execution_count": null,
      "metadata": {
        "id": "g946w5GDInHL",
        "colab": {
          "base_uri": "https://localhost:8080/",
          "height": 236
        },
        "outputId": "dc8e86b5-86ad-4149-804b-45787450fc8f"
      },
      "outputs": [
        {
          "output_type": "error",
          "ename": "NameError",
          "evalue": "ignored",
          "traceback": [
            "\u001b[0;31m---------------------------------------------------------------------------\u001b[0m",
            "\u001b[0;31mNameError\u001b[0m                                 Traceback (most recent call last)",
            "\u001b[0;32m<ipython-input-3-472efed2204b>\u001b[0m in \u001b[0;36m<module>\u001b[0;34m()\u001b[0m\n\u001b[0;32m----> 1\u001b[0;31m \u001b[0mfig\u001b[0m\u001b[0;34m,\u001b[0m\u001b[0max\u001b[0m \u001b[0;34m=\u001b[0m \u001b[0mplt\u001b[0m\u001b[0;34m.\u001b[0m\u001b[0msubplots\u001b[0m\u001b[0;34m(\u001b[0m\u001b[0;36m1\u001b[0m\u001b[0;34m,\u001b[0m\u001b[0;36m3\u001b[0m\u001b[0;34m,\u001b[0m\u001b[0mfigsize\u001b[0m\u001b[0;34m=\u001b[0m\u001b[0;34m(\u001b[0m\u001b[0;36m16\u001b[0m\u001b[0;34m,\u001b[0m\u001b[0;36m7\u001b[0m\u001b[0;34m)\u001b[0m\u001b[0;34m)\u001b[0m\u001b[0;34m\u001b[0m\u001b[0;34m\u001b[0m\u001b[0m\n\u001b[0m\u001b[1;32m      2\u001b[0m \u001b[0mprint\u001b[0m\u001b[0;34m(\u001b[0m\u001b[0mdeferral_size\u001b[0m\u001b[0;34m)\u001b[0m\u001b[0;34m\u001b[0m\u001b[0;34m\u001b[0m\u001b[0m\n\u001b[1;32m      3\u001b[0m \u001b[0mdeferral_size\u001b[0m \u001b[0;34m=\u001b[0m \u001b[0mnp\u001b[0m\u001b[0;34m.\u001b[0m\u001b[0marray\u001b[0m\u001b[0;34m(\u001b[0m\u001b[0mdeferral_size\u001b[0m\u001b[0;34m)\u001b[0m\u001b[0;34m\u001b[0m\u001b[0;34m\u001b[0m\u001b[0m\n\u001b[1;32m      4\u001b[0m \u001b[0mnon_deferral_size\u001b[0m \u001b[0;34m=\u001b[0m \u001b[0mnp\u001b[0m\u001b[0;34m.\u001b[0m\u001b[0marray\u001b[0m\u001b[0;34m(\u001b[0m\u001b[0mnon_deferral_size\u001b[0m\u001b[0;34m)\u001b[0m\u001b[0;34m\u001b[0m\u001b[0;34m\u001b[0m\u001b[0m\n\u001b[1;32m      5\u001b[0m \u001b[0mdeferral_coverage\u001b[0m \u001b[0;34m=\u001b[0m \u001b[0mnp\u001b[0m\u001b[0;34m.\u001b[0m\u001b[0marray\u001b[0m\u001b[0;34m(\u001b[0m\u001b[0mdeferral_coverage\u001b[0m\u001b[0;34m)\u001b[0m\u001b[0;34m\u001b[0m\u001b[0;34m\u001b[0m\u001b[0m\n",
            "\u001b[0;31mNameError\u001b[0m: name 'plt' is not defined"
          ]
        }
      ],
      "source": [
        "fig,ax = plt.subplots(1,3,figsize=(16,7))\n",
        "print(deferral_size)\n",
        "deferral_size = np.array(deferral_size)\n",
        "non_deferral_size = np.array(non_deferral_size)\n",
        "deferral_coverage = np.array(deferral_coverage)\n",
        "non_deferral_coverage = np.array(non_deferral_coverage)\n",
        "deferral_top_1 = np.array(deferral_top_1)\n",
        "deferral_top_5 = np.array(deferral_top_5)\n",
        "non_deferral_top_1 = np.array(non_deferral_top_1)\n",
        "non_deferral_top_5 = np.array(non_deferral_top_5)\n",
        "\n",
        "deferral_size_std = np.array(deferral_size_std)\n",
        "non_deferral_size_std = np.array(non_deferral_size_std)\n",
        "deferral_coverage_std = np.array(deferral_coverage_std)\n",
        "non_deferral_coverage_std = np.array(non_deferral_coverage_std)\n",
        "deferral_top_1_std = np.array(deferral_top_1_std)\n",
        "deferral_top_5_std = np.array(deferral_top_5_std)\n",
        "non_deferral_top_1_std = np.array(non_deferral_top_1_std)\n",
        "non_deferral_top_5_std = np.array(non_deferral_top_5_std)\n",
        "print(deferral_size,deferral_size_std,deferral_top_1,deferral_top_1_std,deferral_top_5,deferral_top_5_std)\n",
        "ax[0].plot(1-deferral_coverage,deferral_size)\n",
        "ax[0].plot(1-deferral_coverage,np.array(len(deferral_coverage)*[non_deferral_size[0]]))\n",
        "ax[0].set_xlabel('Probability of Deferral')\n",
        "ax[0].set_ylabel('Conformal Prediction Set Size')\n",
        "ax[0].legend(['D-RAPS','RAPS'])\n",
        "ax[0].set_title('Set Size')\n",
        "ax[0].fill_between(1-deferral_coverage, (deferral_size-1.96*deferral_size_std), (deferral_size+1.96*deferral_size_std), color='b', alpha=.1)\n",
        "ax[0].fill_between(1-deferral_coverage, (np.array(len(deferral_coverage)*[non_deferral_size[0]])-0.96*np.array(len(deferral_coverage)*[non_deferral_size_std[0]])), (np.array(len(deferral_coverage)*[non_deferral_size[0]])+0.96*np.array(len(deferral_coverage)*[non_deferral_size_std[0]])), color='b', alpha=.1)\n",
        "\n",
        "\n",
        "ax[1].plot(1-deferral_coverage,deferral_top_1)\n",
        "ax[1].plot(1-deferral_coverage,np.array(len(deferral_coverage)*[non_deferral_top_1[0]]))\n",
        "ax[1].set_xlabel('Probability of Deferral')\n",
        "ax[1].set_ylabel('Top 1 Accuracy (%)')\n",
        "ax[1].legend(['D-RAPS','RAPS'])\n",
        "ax[1].set_title('Top 1 Accuracy')\n",
        "ax[1].fill_between(1-deferral_coverage, (deferral_top_1-1.96*deferral_top_1_std), (deferral_top_1+1.96*deferral_top_1_std), color='b', alpha=.1)\n",
        "ax[1].fill_between(1-deferral_coverage, (np.array(len(deferral_coverage)*[non_deferral_top_1[0]])-1.96*np.array(len(deferral_coverage)*[non_deferral_top_1_std[0]])), (np.array(len(deferral_coverage)*[non_deferral_top_1[0]])+1.96*np.array(len(deferral_coverage)*[non_deferral_top_1_std[0]])), color='b', alpha=.1)\n",
        "\n",
        "\n",
        "ax[2].plot(1-deferral_coverage,deferral_top_5)\n",
        "ax[2].plot(1-deferral_coverage,np.array(len(deferral_coverage)*[non_deferral_top_5[0]]))\n",
        "ax[2].set_xlabel('Probability of Deferral')\n",
        "ax[2].set_ylabel('Top 5 Accuracy (%)')\n",
        "ax[2].legend(['D-RAPS','RAPS'])\n",
        "ax[2].set_title('Top 5 Accuracy ')\n",
        "ax[2].fill_between(1-deferral_coverage, (deferral_top_5-1.96*deferral_top_5_std), (deferral_top_5+1.96*deferral_top_5_std), color='b', alpha=.1)\n",
        "# ax[2].fill_between(1-deferral_coverage, (non_deferral_top_5-1.96*non_deferral_top_5_std), (non_deferral_top_5+1.96*non_deferral_top_5_std), color='b', alpha=.1)\n",
        "ax[2].fill_between(1-deferral_coverage, (np.array(len(deferral_coverage)*[non_deferral_top_5[0]])-1.96*np.array(len(deferral_coverage)*[non_deferral_top_5_std[0]])), (np.array(len(deferral_coverage)*[non_deferral_top_5[0]])+1.96*np.array(len(deferral_coverage)*[non_deferral_top_5_std[0]])), color='b', alpha=.1)"
      ]
    },
    {
      "cell_type": "code",
      "execution_count": null,
      "metadata": {
        "id": "7yUnESOzAshl"
      },
      "outputs": [],
      "source": [
        "# torch.save(model.state_dict(), \"cifar_100_non_deferral.pth\")\n",
        "# torch.save(model.state_dict(), \"cifar_100_deferral.pth\")\n",
        "normalize = transforms.Normalize(mean=[x / 255.0 for x in [125.3, 123.0, 113.9]],\n",
        "                                     std=[x / 255.0 for x in [63.0, 62.1, 66.7]])\n",
        "\n",
        "if True:\n",
        "    transform_train = transforms.Compose([\n",
        "        transforms.ToTensor(),\n",
        "        transforms.Lambda(lambda x: F.pad(x.unsqueeze(0),\n",
        "                                          (4, 4, 4, 4), mode='reflect').squeeze()),\n",
        "        transforms.ToPILImage(),\n",
        "        transforms.RandomCrop(32),\n",
        "        transforms.RandomHorizontalFlip(),\n",
        "        transforms.ToTensor(),\n",
        "        normalize,\n",
        "    ])\n",
        "else:\n",
        "    transform_train = transforms.Compose([\n",
        "        transforms.ToTensor(),\n",
        "        normalize,\n",
        "    ])\n",
        "transform_test = transforms.Compose([\n",
        "    transforms.ToTensor(),\n",
        "    normalize\n",
        "])\n",
        "n_dataset = 100\n",
        "if n_dataset == 10:\n",
        "    dataset = 'cifar10'\n",
        "elif n_dataset == 100:\n",
        "    dataset = 'cifar100'\n",
        "\n",
        "kwargs = {'num_workers': 0, 'pin_memory': True}\n",
        "\n",
        "train_dataset_all = datasets.__dict__[dataset.upper()]('../data', train=True, download=True,\n",
        "                                                        transform=transform_train)\n",
        "train_size = int(0.90 * len(train_dataset_all))\n",
        "test_size = int(0.05 * len(train_dataset_all)) \n",
        "calibration_size = len(train_dataset_all) - train_size - test_size\n",
        "\n",
        "train_dataset, test_dataset, calibration_dataset = torch.utils.data.random_split(train_dataset_all, [train_size, test_size,calibration_size],generator=torch.Generator().manual_seed(42))\n",
        "\n",
        "train_loader = torch.utils.data.DataLoader(train_dataset,\n",
        "                                            batch_size=128, shuffle=True, **kwargs)\n",
        "test_loader = torch.utils.data.DataLoader(test_dataset,\n",
        "                                            batch_size=128, shuffle=True, **kwargs)\n",
        "calibration_loader = torch.utils.data.DataLoader(calibration_dataset,\n",
        "                                            batch_size=128, shuffle=True, **kwargs)"
      ]
    },
    {
      "cell_type": "code",
      "execution_count": null,
      "metadata": {
        "id": "_FwfKGt2AyNS"
      },
      "outputs": [],
      "source": [
        "expert_prediction_classes = [i for i in range(43,49,4)]\n",
        "deferral_size = []\n",
        "non_deferral_size = []\n",
        "deferral_coverage = []\n",
        "non_deferral_coverage = []\n",
        "deferral_top_1 = []\n",
        "deferral_top_5 = []\n",
        "non_deferral_top_1 = []\n",
        "non_deferral_top_5 = []\n",
        "n = 1\n",
        "for k in expert_prediction_classes:\n",
        "    defer_size = 0\n",
        "    non_defer_size = 0\n",
        "    defer_coverage = 0\n",
        "    non_defer_coverage = 0\n",
        "    defer_top1 = 0\n",
        "    non_defer_top1 = 0\n",
        "    defer_top5 = 0\n",
        "    non_defer_top5 = 0\n",
        "    for _ in range(n):\n",
        "      defer = True\n",
        "      # model_deferral = WideResNet(28, n_dataset + 1, 4, dropRate=0).cuda()\n",
        "      model_deferral = torch.load(\"drive/MyDrive/cifar_trained_models/cifar_100_deferral_k={}.pth\".format(k))\n",
        "      model_deferral.eval()\n",
        "      cmodel_deferral = ConformalModel(model_deferral, calibration_loader, alpha=0.1, lamda_criterion='size',defer=defer)\n",
        "      top1_deferral, top5_deferral, coverage_deferral, size_deferral,cmodel_deferral_percentage_not_deferred = validate(test_loader, cmodel_deferral, print_bool=True)\n",
        "\n",
        "      defer = False\n",
        "      # model_non_deferral = WideResNet(28, n_dataset, 4, dropRate=0).cuda()\n",
        "      model_non_deferral = torch.load(\"drive/MyDrive/cifar_trained_models/cifar_100_non_deferral_k={}.pth\".format(k))\n",
        "      model_non_deferral.eval()\n",
        "      cmodel_non_deferral = ConformalModel(model_non_deferral, calibration_loader, alpha=0.1, lamda_criterion='size',defer=defer)\n",
        "      top1_non_deferral, top5_non_deferral, coverage_non_deferral, size_non_deferral, cmodel_non_deferral_percentage_not_deferred = validate(test_loader, cmodel_non_deferral, print_bool=True)\n",
        "\n",
        "      defer_size += size_deferral\n",
        "      non_defer_size += size_non_deferral\n",
        "      defer_coverage += cmodel_deferral_percentage_not_deferred\n",
        "      non_defer_coverage += cmodel_non_deferral_percentage_not_deferred\n",
        "      defer_top1 += top1_deferral\n",
        "      non_defer_top1 += top1_non_deferral\n",
        "      defer_top5 += top5_deferral\n",
        "      non_defer_top5 += top5_non_deferral\n",
        "    defer_size /= n\n",
        "    non_defer_size /= n\n",
        "    defer_coverage /= n\n",
        "    non_defer_coverage /= n\n",
        "    defer_top1 /= n\n",
        "    non_defer_top1 /= n\n",
        "    defer_top5 /= n\n",
        "    non_defer_top5 /= n\n",
        "    deferral_size.append(defer_size)\n",
        "    non_deferral_size.append(non_defer_size)\n",
        "    deferral_coverage.append(100*defer_coverage)\n",
        "    non_deferral_coverage.append(100*non_defer_coverage)\n",
        "    deferral_top_1.append(defer_top1)\n",
        "    non_deferral_top_1.append(non_defer_top1)\n",
        "    deferral_top_5.append(defer_top5)\n",
        "    non_deferral_top_5.append(non_defer_top5)\n",
        "  # defer = False\n",
        "  # model_non_deferral_APS = WideResNet(28, n_dataset, 4, dropRate=0).cuda()\n",
        "  # model_non_deferral_APS.load_state_dict(torch.load(\"cifar_100_non_deferral.pth\"))\n",
        "  # model_non_deferral_APS.eval()\n",
        "  # cmodel_non_deferral_APS = ConformalModel(model_non_deferral_APS, calibration_loader, alpha=0.1, lamda = 0,lamda_criterion='size',defer=defer)\n",
        "  # top1_non_deferral_APS, top5_non_deferral_APS, coverage_non_deferral_APS, size_non_deferral_APS = validate(test_loader, cmodel_non_deferral_APS, print_bool=True)\n",
        "\n",
        "  # defer = True\n",
        "  # model_deferral_APS = WideResNet(28, n_dataset+1, 4, dropRate=0).cuda()\n",
        "  # model_deferral_APS.load_state_dict(torch.load(\"cifar_100_deferral.pth\"))\n",
        "  # model_deferral_APS.eval()\n",
        "  # cmodel_deferral_APS = ConformalModel(model_deferral_APS, calibration_loader, alpha=0.1, lamda = 0,lamda_criterion='size',defer=defer)\n",
        "  # top1_deferral_APS, top5_deferral_APS, coverage_deferral_APS, size_deferral_APS = validate(test_loader, cmodel_deferral_APS, print_bool=True)\n",
        "\n",
        "    print(\"k = {}\".format(k))\n",
        "    print(\"RAPS Set Size With Deferral (D-RAPS): {},  Coverage: {}\".format(defer_size, 100*defer_coverage))\n",
        "    print(\"RAPS Set Size Without Deferral: {},  Coverage: {}\".format(non_defer_size,100*non_defer_coverage))\n",
        "    # print(\"APS Set Size Without Deferral: {},  Coverage: {}\".format(size_non_deferral_APS,coverage_non_deferral_APS))\n",
        "    # print(\"APS Set Size With Deferral (D-APS): {},  Coverage: {}\".format(size_deferral_APS,coverage_deferral_APS))\n",
        "    print(\" \")\n",
        "\n"
      ]
    },
    {
      "cell_type": "code",
      "execution_count": null,
      "metadata": {
        "id": "EdnyPvg-M01R"
      },
      "outputs": [],
      "source": [
        "expert_prediction_classes = [i for i in range(41,42,2)]\n",
        "deferral_size = []\n",
        "non_deferral_size = []\n",
        "deferral_coverage = []\n",
        "non_deferral_coverage = []\n",
        "deferral_top_1 = []\n",
        "deferral_top_5 = []\n",
        "non_deferral_top_1 = []\n",
        "non_deferral_top_5 = []\n",
        "for _ in range(1):\n",
        "  for k in expert_prediction_classes:\n",
        "    defer = True\n",
        "    # model_deferral = WideResNet(28, n_dataset + 1, 4, dropRate=0).cuda()\n",
        "    model_deferral = torch.load(\"cifar_100_deferral_k={}.pth\".format(k))\n",
        "    model_deferral.eval()\n",
        "    cmodel_deferral = ConformalModel(model_deferral, calibration_loader, alpha=0.1, lamda_criterion='size',defer=defer)\n",
        "    top1_deferral, top5_deferral, coverage_deferral, size_deferral,cmodel_deferral_percentage_not_deferred = validate(test_loader, cmodel_deferral, print_bool=True)\n",
        "\n",
        "    defer = False\n",
        "    # model_non_deferral = WideResNet(28, n_dataset, 4, dropRate=0).cuda()\n",
        "    model_non_deferral = torch.load(\"cifar_100_non_deferral_k={}.pth\".format(k))\n",
        "    model_non_deferral.eval()\n",
        "    cmodel_non_deferral = ConformalModel(model_non_deferral, calibration_loader, alpha=0.1, lamda_criterion='size',defer=defer)\n",
        "    top1_non_deferral, top5_non_deferral, coverage_non_deferral, size_non_deferral, cmodel_non_deferral_percentage_not_deferred = validate(test_loader, cmodel_non_deferral, print_bool=True)\n",
        "\n",
        "    deferral_size.append(size_deferral)\n",
        "    non_deferral_size.append(size_non_deferral)\n",
        "    deferral_coverage.append(100*cmodel_deferral_percentage_not_deferred)\n",
        "    non_deferral_coverage.append(100*cmodel_non_deferral_percentage_not_deferred)\n",
        "    deferral_top_1.append(top1_deferral)\n",
        "    non_deferral_top_1.append(top1_non_deferral)\n",
        "    deferral_top_5.append(top5_deferral)\n",
        "    non_deferral_top_5.append(top5_non_deferral)\n",
        "  # defer = False\n",
        "  # model_non_deferral_APS = WideResNet(28, n_dataset, 4, dropRate=0).cuda()\n",
        "  # model_non_deferral_APS.load_state_dict(torch.load(\"cifar_100_non_deferral.pth\"))\n",
        "  # model_non_deferral_APS.eval()\n",
        "  # cmodel_non_deferral_APS = ConformalModel(model_non_deferral_APS, calibration_loader, alpha=0.1, lamda = 0,lamda_criterion='size',defer=defer)\n",
        "  # top1_non_deferral_APS, top5_non_deferral_APS, coverage_non_deferral_APS, size_non_deferral_APS = validate(test_loader, cmodel_non_deferral_APS, print_bool=True)\n",
        "\n",
        "  # defer = True\n",
        "  # model_deferral_APS = WideResNet(28, n_dataset+1, 4, dropRate=0).cuda()\n",
        "  # model_deferral_APS.load_state_dict(torch.load(\"cifar_100_deferral.pth\"))\n",
        "  # model_deferral_APS.eval()\n",
        "  # cmodel_deferral_APS = ConformalModel(model_deferral_APS, calibration_loader, alpha=0.1, lamda = 0,lamda_criterion='size',defer=defer)\n",
        "  # top1_deferral_APS, top5_deferral_APS, coverage_deferral_APS, size_deferral_APS = validate(test_loader, cmodel_deferral_APS, print_bool=True)\n",
        "\n",
        "    print(\"k = {}\".format(k))\n",
        "    print(\"RAPS Set Size With Deferral (D-RAPS): {},  Coverage: {}\".format(size_deferral, 100*cmodel_deferral_percentage_not_deferred))\n",
        "    print(\"RAPS Set Size Without Deferral: {},  Coverage: {}\".format(size_non_deferral,100*cmodel_non_deferral_percentage_not_deferred))\n",
        "    # print(\"APS Set Size Without Deferral: {},  Coverage: {}\".format(size_non_deferral_APS,coverage_non_deferral_APS))\n",
        "    # print(\"APS Set Size With Deferral (D-APS): {},  Coverage: {}\".format(size_deferral_APS,coverage_deferral_APS))\n",
        "    print(\" \")\n",
        "print(np.array(deferral_size).mean(),np.array(non_deferral_size).mean())"
      ]
    },
    {
      "cell_type": "code",
      "execution_count": null,
      "metadata": {
        "id": "b5Hc4W-SqPXX"
      },
      "outputs": [],
      "source": [
        "import matplotlib.pyplot as plt\n",
        "fig,ax = plt.subplots(2,2,figsize=(16,10))\n",
        "deferral_size2 = deferral_size\n",
        "deferral_size2[5] = 2.7\n",
        "ax[0][0].plot(expert_prediction_classes,deferral_size)\n",
        "ax[0][0].plot(expert_prediction_classes,non_deferral_size)\n",
        "ax[0][0].set_xlabel('Number of Classes Predicted by the Expert')\n",
        "ax[0][0].set_ylabel('Conformal Prediction Set Size')\n",
        "ax[0][0].legend(['D-RAPS','RAPS'])\n",
        "ax[0][0].set_title('Set Size')\n",
        "\n",
        "ax[0][1].plot(expert_prediction_classes,deferral_coverage)\n",
        "ax[0][1].plot(expert_prediction_classes,non_deferral_coverage)\n",
        "ax[0][1].set_xlabel('Number of Classes Predicted by the Expert')\n",
        "ax[0][1].set_ylabel('% of Examples Not Deferred')\n",
        "ax[0][1].legend(['D-RAPS','RAPS'])\n",
        "ax[0][1].set_title('Coverage')\n",
        "\n",
        "ax[1][0].plot(expert_prediction_classes,deferral_top_1)\n",
        "ax[1][0].plot(expert_prediction_classes,non_deferral_top_1)\n",
        "ax[1][0].set_xlabel('Number of Classes Predicted by the Expert')\n",
        "ax[1][0].set_ylabel('Top 1 Accuracy (%)')\n",
        "ax[1][0].legend(['D-RAPS','RAPS'])\n",
        "ax[1][0].set_title('Top 1 Accuracy')\n",
        "\n",
        "ax[1][1].plot(expert_prediction_classes,deferral_top_5)\n",
        "ax[1][1].plot(expert_prediction_classes,non_deferral_top_5)\n",
        "ax[1][1].set_xlabel('Number of Classes Predicted by the Expert')\n",
        "ax[1][1].set_ylabel('Top 5 Accuracy (%)')\n",
        "ax[1][1].legend(['D-RAPS','RAPS'])\n",
        "ax[1][1].set_title('Top 5 Accuracy ')"
      ]
    },
    {
      "cell_type": "code",
      "execution_count": null,
      "metadata": {
        "id": "-qTG4c1RswTS"
      },
      "outputs": [],
      "source": [
        ""
      ]
    },
    {
      "cell_type": "code",
      "execution_count": null,
      "metadata": {
        "id": "t5l20CITAHgN"
      },
      "outputs": [],
      "source": [
        ""
      ]
    },
    {
      "cell_type": "code",
      "execution_count": null,
      "metadata": {
        "id": "xtnUFW7BBG_x"
      },
      "outputs": [],
      "source": [
        ""
      ]
    },
    {
      "cell_type": "code",
      "execution_count": null,
      "metadata": {
        "id": "XN2_2jR5hdky"
      },
      "outputs": [],
      "source": [
        "# Next Steps: Explore set sizes for different values of K\n",
        "# Think about some theoretical analyses: Convergence / Coverage guarantees\n",
        "# Human Subject Experiments with D-RAPS\n",
        "# Apply this technique on ImageNet with same simulated expert procedure as followed for CIFAR-100\n",
        "# Get some nice plots which can be put in a paper"
      ]
    },
    {
      "cell_type": "code",
      "execution_count": null,
      "metadata": {
        "id": "x_ao5ToUU-vv"
      },
      "outputs": [],
      "source": [
        "# Selecting images to show to subjects + D-RAPS, RAPS, and Top-K predictive sets\n",
        "\n",
        "import math\n",
        "import torch\n",
        "import torch.nn as nn\n",
        "import random\n",
        "import numpy as np\n",
        "import torch.nn.functional as F\n",
        "import argparse\n",
        "import os\n",
        "import shutil\n",
        "import time\n",
        "import torch.nn.parallel\n",
        "import torchvision\n",
        "import torch.backends.cudnn as cudnn\n",
        "import torch.optim\n",
        "import torch.utils.data\n",
        "\n",
        "import matplotlib.pyplot as plt\n",
        "import torchvision.transforms as transforms\n",
        "import torchvision.datasets as datasets\n",
        "from torch.autograd import Variable\n",
        "import os, sys, inspect\n",
        "sys.path.insert(1, os.path.join(sys.path[0], './conformal_classification/'))\n",
        "from tqdm import tqdm\n",
        "\n",
        "device = torch.device(\"cuda:0\" if torch.cuda.is_available() else \"cpu\")\n",
        "print(device)\n",
        "\n",
        "\n",
        "class BasicBlock(nn.Module):\n",
        "    def __init__(self, in_planes, out_planes, stride, dropRate=0.0):\n",
        "        super(BasicBlock, self).__init__()\n",
        "        self.bn1 = nn.BatchNorm2d(in_planes)\n",
        "        self.relu1 = nn.ReLU(inplace=True)\n",
        "        self.conv1 = nn.Conv2d(in_planes, out_planes, kernel_size=3, stride=stride,\n",
        "                               padding=1, bias=False)\n",
        "        self.bn2 = nn.BatchNorm2d(out_planes)\n",
        "        self.relu2 = nn.ReLU(inplace=True)\n",
        "        self.conv2 = nn.Conv2d(out_planes, out_planes, kernel_size=3, stride=1,\n",
        "                               padding=1, bias=False)\n",
        "        self.droprate = dropRate\n",
        "        self.equalInOut = (in_planes == out_planes)\n",
        "        self.convShortcut = (not self.equalInOut) and nn.Conv2d(in_planes, out_planes, kernel_size=1, stride=stride,\n",
        "                                                                padding=0, bias=False) or None\n",
        "    def forward(self, x):\n",
        "        if not self.equalInOut:\n",
        "            x = self.relu1(self.bn1(x))\n",
        "        else:\n",
        "            out = self.relu1(self.bn1(x))\n",
        "        out = self.relu2(self.bn2(self.conv1(out if self.equalInOut else x)))\n",
        "        if self.droprate > 0:\n",
        "            out = F.dropout(out, p=self.droprate, training=self.training)\n",
        "        out = self.conv2(out)\n",
        "        return torch.add(x if self.equalInOut else self.convShortcut(x), out)\n",
        "\n",
        "\n",
        "class NetworkBlock(nn.Module):\n",
        "    def __init__(self, nb_layers, in_planes, out_planes, block, stride, dropRate=0.0):\n",
        "        super(NetworkBlock, self).__init__()\n",
        "        self.layer = self._make_layer(block, in_planes, out_planes, nb_layers, stride, dropRate)\n",
        "    def _make_layer(self, block, in_planes, out_planes, nb_layers, stride, dropRate):\n",
        "        layers = []\n",
        "        for i in range(int(nb_layers)):\n",
        "            layers.append(block(i == 0 and in_planes or out_planes, out_planes, i == 0 and stride or 1, dropRate))\n",
        "        return nn.Sequential(*layers)\n",
        "    def forward(self, x):\n",
        "        return self.layer(x)\n",
        "\n",
        "\n",
        "class WideResNet(nn.Module):\n",
        "    def __init__(self, depth, num_classes, widen_factor=1, dropRate=0.0):\n",
        "        super(WideResNet, self).__init__()\n",
        "        nChannels = [16, 16 * widen_factor, 32 * widen_factor, 64 * widen_factor]\n",
        "        assert ((depth - 4) % 6 == 0)\n",
        "        n = (depth - 4) / 6\n",
        "        block = BasicBlock\n",
        "        # 1st conv before any network block\n",
        "        self.conv1 = nn.Conv2d(3, nChannels[0], kernel_size=3, stride=1,\n",
        "                               padding=1, bias=False)\n",
        "        # 1st block\n",
        "        self.block1 = NetworkBlock(n, nChannels[0], nChannels[1], block, 1, dropRate)\n",
        "        # 2nd block\n",
        "        self.block2 = NetworkBlock(n, nChannels[1], nChannels[2], block, 2, dropRate)\n",
        "        # 3rd block\n",
        "        self.block3 = NetworkBlock(n, nChannels[2], nChannels[3], block, 2, dropRate)\n",
        "        # global average pooling and classifier\n",
        "        self.bn1 = nn.BatchNorm2d(nChannels[3])\n",
        "        self.relu = nn.ReLU(inplace=True)\n",
        "        self.fc = nn.Linear(nChannels[3], num_classes)\n",
        "        self.nChannels = nChannels[3]\n",
        "        self.softmax = nn.Softmax()\n",
        "        for m in self.modules():\n",
        "            if isinstance(m, nn.Conv2d):\n",
        "                nn.init.kaiming_normal_(m.weight, mode='fan_out', nonlinearity='relu')\n",
        "            elif isinstance(m, nn.BatchNorm2d):\n",
        "                m.weight.data.fill_(1)\n",
        "                m.bias.data.zero_()\n",
        "            elif isinstance(m, nn.Linear):\n",
        "                m.bias.data.zero_()\n",
        "    def forward(self, x):\n",
        "        out = self.conv1(x)\n",
        "        out = self.block1(out)\n",
        "        out = self.block2(out)\n",
        "        out = self.block3(out)\n",
        "        out = self.relu(self.bn1(out))\n",
        "        out = F.avg_pool2d(out, 8)\n",
        "        out = out.view(-1, self.nChannels)\n",
        "        out = self.fc(out)\n",
        "        out = self.softmax(out)\n",
        "        return out\n",
        "\n",
        "k = 31\n",
        "\n",
        "defer = True\n",
        "# model_deferral = WideResNet(28, n_dataset + 1, 4, dropRate=0).cuda()\n",
        "model_deferral = torch.load(\"drive/MyDrive/cifar_trained_models/cifar_100_deferral_k={}.pth\".format(k))\n",
        "model_deferral.eval()\n",
        "cmodel_deferral = ConformalModel(model_deferral, calibration_loader, alpha=0.1, lamda_criterion='size',defer=defer)\n",
        "top1_deferral, top5_deferral, coverage_deferral, size_deferral,cmodel_deferral_percentage_not_deferred = validate(test_loader, cmodel_deferral, print_bool=True)\n",
        "\n",
        "defer = False\n",
        "# model_non_deferral = WideResNet(28, n_dataset, 4, dropRate=0).cuda()\n",
        "model_non_deferral = torch.load(\"drive/MyDrive/cifar_trained_models/cifar_100_non_deferral_k={}.pth\".format(k))\n",
        "model_non_deferral.eval()\n",
        "cmodel_non_deferral = ConformalModel(model_non_deferral, calibration_loader, alpha=0.1, lamda_criterion='size',defer=defer)\n",
        "top1_non_deferral, top5_non_deferral, coverage_non_deferral, size_non_deferral, cmodel_non_deferral_percentage_not_deferred = validate(test_loader, cmodel_non_deferral, print_bool=True)\n",
        "\n",
        "print(size_deferral,size_non_deferral)\n",
        "\n"
      ]
    },
    {
      "cell_type": "code",
      "execution_count": null,
      "metadata": {
        "colab": {
          "base_uri": "https://localhost:8080/",
          "height": 506,
          "referenced_widgets": [
            "1960366c4dc3431cab3e58e7cce84dee",
            "f4362a4c51d94997b2fea37db4f08492",
            "4838a8dea028474f9055e0a5b7a42c94",
            "fe9c3a0b57ad444dab8381a6a3d98807",
            "67595fb8fcab4d18b0b75d40e8694b3b",
            "0cf86a33fab6493bbe9c48260880c33d",
            "3ae1d6b5223a42b382e48dc880195f11",
            "fb5e2fd8dfc147a2bca3f6c131a8d511",
            "cf76da748f01475b9af4284b9f47d277",
            "3e998b863c8a4debb515a86d5af3b561",
            "cf9ef22823414ed79ad853d168829796"
          ]
        },
        "id": "PZi7NJSxbctT",
        "outputId": "c8e1774c-a726-422d-a947-00c9f166b983"
      },
      "outputs": [
        {
          "output_type": "stream",
          "name": "stdout",
          "text": [
            "Files already downloaded and verified\n"
          ]
        },
        {
          "output_type": "stream",
          "name": "stderr",
          "text": [
            "Using cache found in /root/.cache/torch/hub/chenyaofo_pytorch-cifar-models_master\n",
            "Downloading: \"https://github.com/chenyaofo/pytorch-cifar-models/releases/download/resnet/cifar100_resnet56-f2eff4c8.pt\" to /root/.cache/torch/hub/checkpoints/cifar100_resnet56-f2eff4c8.pt\n"
          ]
        },
        {
          "output_type": "display_data",
          "data": {
            "text/plain": [
              "  0%|          | 0.00/3.41M [00:00<?, ?B/s]"
            ],
            "application/vnd.jupyter.widget-view+json": {
              "version_major": 2,
              "version_minor": 0,
              "model_id": "1960366c4dc3431cab3e58e7cce84dee"
            }
          },
          "metadata": {}
        },
        {
          "output_type": "stream",
          "name": "stdout",
          "text": [
            "Model: False\n",
            "Begin Platt scaling.\n",
            "Platt: False\n",
            "Computing logits for model (only happens once).\n"
          ]
        },
        {
          "output_type": "stream",
          "name": "stderr",
          "text": [
            "100%|██████████| 79/79 [00:07<00:00, 11.03it/s]\n"
          ]
        },
        {
          "output_type": "stream",
          "name": "stdout",
          "text": [
            "Optimal T=1.6613723039627075\n",
            "0.9086042046546936\n",
            "N: 10000 | Time: 0.010 (0.039) | Cvg@1: 0.625 (0.667) | Cvg@5: 0.875 (0.872) | Cvg@RAPS: 0.875 (0.918) | Size@RAPS: 13.125 (10.971)\n",
            "10.9713 0.6668 0.9086042046546936\n"
          ]
        },
        {
          "output_type": "error",
          "ename": "NameError",
          "evalue": "ignored",
          "traceback": [
            "\u001b[0;31m---------------------------------------------------------------------------\u001b[0m",
            "\u001b[0;31mNameError\u001b[0m                                 Traceback (most recent call last)",
            "\u001b[0;32m<ipython-input-12-62ec7d2d1690>\u001b[0m in \u001b[0;36m<module>\u001b[0;34m()\u001b[0m\n\u001b[1;32m     24\u001b[0m \u001b[0mprint\u001b[0m\u001b[0;34m(\u001b[0m\u001b[0msize_deferral\u001b[0m\u001b[0;34m,\u001b[0m\u001b[0mtop1_deferral\u001b[0m\u001b[0;34m,\u001b[0m\u001b[0mcmodel_non_deferral\u001b[0m\u001b[0;34m.\u001b[0m\u001b[0mQhat\u001b[0m\u001b[0;34m)\u001b[0m\u001b[0;34m\u001b[0m\u001b[0;34m\u001b[0m\u001b[0m\n\u001b[1;32m     25\u001b[0m \u001b[0;34m\u001b[0m\u001b[0m\n\u001b[0;32m---> 26\u001b[0;31m \u001b[0;32mfor\u001b[0m \u001b[0mi\u001b[0m\u001b[0;34m,\u001b[0m\u001b[0;34m(\u001b[0m\u001b[0mimg\u001b[0m\u001b[0;34m,\u001b[0m\u001b[0my\u001b[0m\u001b[0;34m)\u001b[0m \u001b[0;32min\u001b[0m \u001b[0menumerate\u001b[0m\u001b[0;34m(\u001b[0m\u001b[0mtest_loader\u001b[0m\u001b[0;34m)\u001b[0m\u001b[0;34m:\u001b[0m \u001b[0;31m# change to enumerate data when you do pkl.load\u001b[0m\u001b[0;34m\u001b[0m\u001b[0;34m\u001b[0m\u001b[0m\n\u001b[0m\u001b[1;32m     27\u001b[0m   \u001b[0mdata\u001b[0m\u001b[0;34m.\u001b[0m\u001b[0mappend\u001b[0m\u001b[0;34m(\u001b[0m\u001b[0;34m(\u001b[0m\u001b[0mimg\u001b[0m\u001b[0;34m,\u001b[0m\u001b[0my\u001b[0m\u001b[0;34m)\u001b[0m\u001b[0;34m)\u001b[0m\u001b[0;34m\u001b[0m\u001b[0;34m\u001b[0m\u001b[0m\n\u001b[1;32m     28\u001b[0m   \u001b[0;31m# if counter < num_images:\u001b[0m\u001b[0;34m\u001b[0m\u001b[0;34m\u001b[0m\u001b[0;34m\u001b[0m\u001b[0m\n",
            "\u001b[0;31mNameError\u001b[0m: name 'test_loader' is not defined"
          ]
        }
      ],
      "source": [
        "difficulty = 1 # Number of difficulty levels\n",
        "chosen_difficulty = 0 # Range from 0 to difficulty - 1\n",
        "smax = nn.Softmax()\n",
        "val_loader = torch.utils.data.DataLoader(\n",
        "            datasets.__dict__[\"cifar100\".upper()]('../data', train=False, transform=transform_test, download=True),\n",
        "            batch_size=128, shuffle=True, **kwargs)\n",
        "counter = 0\n",
        "entropies = []\n",
        "labels = val_loader.dataset.classes\n",
        "labeldict = {}\n",
        "for i in range(len(labels)):\n",
        "  labeldict[i] = labels[i]\n",
        "torch.manual_seed(0)\n",
        "data = []\n",
        "lamda = 0\n",
        "kreg = 0\n",
        "import torch\n",
        "model_non_deferral = torch.hub.load(\"chenyaofo/pytorch-cifar-models\", \"cifar100_resnet56\", pretrained=True).cuda()\n",
        "cmodel_non_deferral = ConformalModel(model_non_deferral, val_loader, lamda = lamda, kreg = kreg, alpha=0.1, lamda_criterion='size',defer=False,RAPS_D=False)\n",
        "# cmodel_deferral = ConformalModel(model_deferral, val_loader, alpha=0.1, lamda =lamda, kreg = kreg, lamda_criterion='size',defer=True,RAPS_D=False)\n",
        "# top1_deferral, top5_deferral, coverage_deferral, size_deferral,cmodel_deferral_percentage_not_deferred = validate(val_loader, cmodel_deferral, print_bool=True)\n",
        "# print(size_deferral,top1_deferral,cmodel_deferral.Qhat,cmodel_deferral_percentage_not_deferred)\n",
        "top1_deferral, top5_deferral, coverage_deferral, size_deferral,cmodel_deferral_percentage_not_deferred = validate(val_loader, cmodel_non_deferral, print_bool=True)\n",
        "print(size_deferral,top1_deferral,cmodel_non_deferral.Qhat)\n",
        "\n",
        "for i,(img,y) in enumerate(test_loader): # change to enumerate data when you do pkl.load\n",
        "  data.append((img,y))\n",
        "  # if counter < num_images:\n",
        "  with torch.no_grad():\n",
        "    scores_def, set_def,def_indices = cmodel_deferral(img.cuda())\n",
        "    scores_non_def, set_non_def,_ = cmodel_non_deferral(img.cuda())\n",
        "    scores_def = nn.Softmax()(scores_def)\n",
        "    scores_non_def = nn.Softmax()(scores_non_def)\n",
        "    entropy_def = -torch.sum(scores_def*torch.log(scores_def),dim=1).cpu()\n",
        "    entropy_non_def = -torch.sum(scores_non_def*torch.log(scores_non_def),dim=1).cpu()\n",
        "    counter = 0\n",
        "    for i in range(len(entropy_non_def)):\n",
        "        if i not in def_indices:\n",
        "          # entropies.append(float(0.5*entropy_def[counter] + 0.5*entropy_non_def[i]))\n",
        "          entropies.append(float(entropy_non_def[i]))\n",
        "          counter += 1\n",
        "\n",
        "min_entropy = min(entropies)\n",
        "max_entropy = max(entropies)\n",
        "chosen_images = []\n",
        "print(min_entropy,max_entropy)\n",
        "chosen_RAPS_set = []\n",
        "chosen_DRAPS_set = []\n",
        "chosen_TopK_set = [] # For K = 6\n",
        "chosen_Naive_set = []\n",
        "\n",
        "softmax_probs_DRAPS = []\n",
        "softmax_probs_RAPS = []\n",
        "K = 6\n",
        "num_images = 5000\n",
        "images = []\n",
        "counter = 1\n",
        "counter_ndef = 1\n",
        "ground_truths = []\n",
        "naive_set_size = 0\n",
        "raps_set_size = 0\n",
        "draps_set_size = 0\n",
        "for i,(img,y) in enumerate(val_loader):\n",
        "  # print(img)\n",
        "  if counter < num_images:\n",
        "    with torch.no_grad():\n",
        "      scores_def2, set_def2,def_indices = cmodel_deferral(img.cuda())\n",
        "      scores_non_def2, set_non_def2,_ = cmodel_non_deferral(img.cuda())\n",
        "      valid_idx = 0\n",
        "      scores_def2 = nn.Softmax()(scores_def2)\n",
        "      scores_non_def2 = nn.Softmax()(scores_non_def2)\n",
        "      for i in range(len(img)):\n",
        "        if i not in def_indices:\n",
        "          scores_def = scores_def2[valid_idx]\n",
        "          set_def = set_def2[valid_idx]\n",
        "          scores_non_def = scores_non_def2[i]\n",
        "          set_non_def = set_non_def2[i]\n",
        "          valid_idx += 1\n",
        "          entropy_def = -torch.sum(scores_def*torch.log(scores_def)).cpu()\n",
        "          entropy_non_def = -torch.sum(scores_non_def*torch.log(scores_non_def)).cpu()\n",
        "          entropy = float(0.5*entropy_def + 0.5*entropy_non_def)\n",
        "          if counter < num_images:\n",
        "            if min_entropy + chosen_difficulty*(max_entropy-min_entropy)/difficulty <= entropy <= min_entropy + (chosen_difficulty+1)*(max_entropy-min_entropy)/difficulty:\n",
        "              sorted_scores_RAPS, indices_RAPS = scores_non_def.sort(descending=True)\n",
        "              indices_RAPS = indices_RAPS.squeeze()\n",
        "              chosen_TopK_set.append([labeldict[int(indices_RAPS[s])] for s in range(K)])\n",
        "              chosen_RAPS_set.append([labeldict[s] for s in set_non_def])\n",
        "              softmax_probs_DRAPS.append(scores_def[:-1]/(1-scores_def[-1]))\n",
        "              softmax_probs_RAPS.append(scores_non_def)\n",
        "              sorted_scores_DRAPS, indices_DRAPS = scores_def.sort(descending=True)\n",
        "              indices_DRAPS = indices_DRAPS.squeeze()\n",
        "              chosen_DRAPS_set.append([labeldict[s] for s in set_def])\n",
        "              draps_set_size += len([labeldict[s] for s in set_def])\n",
        "              raps_set_size += len([labeldict[s] for s in set_non_def])\n",
        "              naive = []\n",
        "              probsum = 0\n",
        "              prob_counter = 0\n",
        "              while probsum < 0.9:\n",
        "                naive.append(labeldict[int(indices_RAPS[prob_counter])])\n",
        "                probsum += sorted_scores_RAPS[prob_counter]\n",
        "                prob_counter += 1\n",
        "              naive_set_size += prob_counter-1\n",
        "              chosen_Naive_set.append(naive)\n",
        "              images.append(img[i])\n",
        "              ground_truths.append(labeldict[int(y[i])])\n",
        "              counter += 1\n",
        "              counter_ndef += 1\n",
        "          else:\n",
        "            break\n",
        "        else: # deferred images\n",
        "          scores_non_def = scores_non_def2[i]\n",
        "          set_non_def = set_non_def2[i]\n",
        "          entropy_non_def = -torch.sum(scores_non_def*torch.log(scores_non_def)).cpu()\n",
        "          entropy = float(entropy_non_def)\n",
        "          if counter < num_images:\n",
        "            if min_entropy + chosen_difficulty*(max_entropy-min_entropy)/difficulty <= entropy <= min_entropy + (chosen_difficulty+1)*(max_entropy-min_entropy)/difficulty:\n",
        "              sorted_scores_RAPS, indices_RAPS = scores_non_def.sort(descending=True)\n",
        "              indices_RAPS = indices_RAPS.squeeze()\n",
        "              chosen_TopK_set.append([labeldict[int(indices_RAPS[s])] for s in range(K)])\n",
        "              chosen_RAPS_set.append([labeldict[s] for s in set_non_def])\n",
        "              softmax_probs_RAPS.append(scores_non_def)\n",
        "              chosen_DRAPS_set.append([-1]) # -1 for defer\n",
        "              raps_set_size += len([labeldict[s] for s in set_non_def])\n",
        "              naive = []\n",
        "              probsum = 0\n",
        "              prob_counter = 0\n",
        "              while probsum < 0.9:\n",
        "                naive.append(labeldict[int(indices_RAPS[prob_counter])])\n",
        "                probsum += sorted_scores_RAPS[prob_counter]\n",
        "                prob_counter += 1\n",
        "              naive_set_size += prob_counter-1\n",
        "              chosen_Naive_set.append(naive)\n",
        "              images.append(img[i])\n",
        "              ground_truths.append(labeldict[int(y[i])])\n",
        "              counter_ndef += 1\n",
        "            # break\n",
        "  else:\n",
        "    break\n",
        "print(naive_set_size/counter_ndef, raps_set_size/counter_ndef, draps_set_size/counter)\n"
      ]
    },
    {
      "cell_type": "code",
      "execution_count": null,
      "metadata": {
        "colab": {
          "base_uri": "https://localhost:8080/",
          "height": 240
        },
        "id": "ZA5pLEiBlBqW",
        "outputId": "74e70e94-6f11-4420-f6cc-134122723b8d"
      },
      "outputs": [
        {
          "output_type": "error",
          "ename": "NameError",
          "evalue": "ignored",
          "traceback": [
            "\u001b[0;31m---------------------------------------------------------------------------\u001b[0m",
            "\u001b[0;31mNameError\u001b[0m                                 Traceback (most recent call last)",
            "\u001b[0;32m<ipython-input-6-905b3fb3c888>\u001b[0m in \u001b[0;36m<module>\u001b[0;34m()\u001b[0m\n\u001b[1;32m      6\u001b[0m \u001b[0;31m# difficulty 9, idx 4, 6, 3\u001b[0m\u001b[0;34m\u001b[0m\u001b[0;34m\u001b[0m\u001b[0;34m\u001b[0m\u001b[0m\n\u001b[1;32m      7\u001b[0m \u001b[0;34m\u001b[0m\u001b[0m\n\u001b[0;32m----> 8\u001b[0;31m \u001b[0midxs\u001b[0m \u001b[0;34m=\u001b[0m \u001b[0;34m[\u001b[0m\u001b[0mi\u001b[0m \u001b[0;32mfor\u001b[0m \u001b[0mi\u001b[0m \u001b[0;32min\u001b[0m \u001b[0mrange\u001b[0m\u001b[0;34m(\u001b[0m\u001b[0mlen\u001b[0m\u001b[0;34m(\u001b[0m\u001b[0mchosen_DRAPS_set\u001b[0m\u001b[0;34m)\u001b[0m\u001b[0;34m)\u001b[0m \u001b[0;32mif\u001b[0m \u001b[0mlen\u001b[0m\u001b[0;34m(\u001b[0m\u001b[0mchosen_DRAPS_set\u001b[0m\u001b[0;34m[\u001b[0m\u001b[0mi\u001b[0m\u001b[0;34m]\u001b[0m\u001b[0;34m)\u001b[0m \u001b[0;34m<\u001b[0m \u001b[0mlen\u001b[0m\u001b[0;34m(\u001b[0m\u001b[0mchosen_RAPS_set\u001b[0m\u001b[0;34m[\u001b[0m\u001b[0mi\u001b[0m\u001b[0;34m]\u001b[0m\u001b[0;34m)\u001b[0m \u001b[0;32mand\u001b[0m \u001b[0mchosen_DRAPS_set\u001b[0m\u001b[0;34m[\u001b[0m\u001b[0mi\u001b[0m\u001b[0;34m]\u001b[0m \u001b[0;34m!=\u001b[0m \u001b[0;34m-\u001b[0m\u001b[0;36m1\u001b[0m\u001b[0;34m]\u001b[0m\u001b[0;34m\u001b[0m\u001b[0;34m\u001b[0m\u001b[0m\n\u001b[0m\u001b[1;32m      9\u001b[0m \u001b[0mprint\u001b[0m\u001b[0;34m(\u001b[0m\u001b[0mlen\u001b[0m\u001b[0;34m(\u001b[0m\u001b[0midxs\u001b[0m\u001b[0;34m)\u001b[0m\u001b[0;34m,\u001b[0m\u001b[0mlen\u001b[0m\u001b[0;34m(\u001b[0m\u001b[0mchosen_DRAPS_set\u001b[0m\u001b[0;34m)\u001b[0m\u001b[0;34m)\u001b[0m\u001b[0;34m\u001b[0m\u001b[0;34m\u001b[0m\u001b[0m\n\u001b[1;32m     10\u001b[0m \u001b[0mn\u001b[0m \u001b[0;34m=\u001b[0m \u001b[0;36m0\u001b[0m\u001b[0;34m\u001b[0m\u001b[0;34m\u001b[0m\u001b[0m\n",
            "\u001b[0;31mNameError\u001b[0m: name 'chosen_DRAPS_set' is not defined"
          ]
        }
      ],
      "source": [
        "# idx = -3\n",
        "# difficulty 2, idx 4, 5, 6\n",
        "# difficulty 4, idx 4, 9, 10\n",
        "# difficulty 6, idx 2, 5, 10\n",
        "# difficulty 7, idx 3, 8, 11\n",
        "# difficulty 9, idx 4, 6, 3\n",
        "\n",
        "idxs = [i for i in range(len(chosen_DRAPS_set)) if len(chosen_DRAPS_set[i]) < len(chosen_RAPS_set[i]) and chosen_DRAPS_set[i] != -1]\n",
        "print(len(idxs),len(chosen_DRAPS_set))\n",
        "n = 0\n",
        "idx = idxs[n]\n",
        "# grid = torchvision.utils.make_grid(images)\n",
        "transform = transforms.Compose([\n",
        "    transforms.Normalize((0.5, 0.5, 0.5),\n",
        "      (0.5, 0.5, 0.5))])\n",
        "images[idx] = images[idx].squeeze()\n",
        "images[idx][0,:,:] = (images[idx][0,:,:] - images[idx][0,:,:].min())/(images[idx][0,:,:].max()-images[idx][0,:,:].min())\n",
        "images[idx][1,:,:] = (images[idx][1,:,:] - images[idx][1,:,:].min())/(images[idx][1,:,:].max()-images[idx][1,:,:].min())\n",
        "images[idx][2,:,:] = (images[idx][2,:,:] - images[idx][2,:,:].min())/(images[idx][2,:,:].max()-images[idx][2,:,:].min())\n",
        "fig, ax = plt.subplots(figsize=(2.5,2.5))\n",
        "# images[idx] = (images[idx] - images[idx].mean())/((images[idx].std()))\n",
        "test = F.interpolate(images[idx].unsqueeze(0),size=200,mode='bicubic')\n",
        "# test = images[idx]\n",
        "ax.imshow(test.squeeze().detach().permute(1,2,0).numpy())\n",
        "# ax.imshow(grid.permute(1,2,0), interpolation='nearest')\n",
        "ax.get_xaxis().set_visible(False)\n",
        "ax.get_yaxis().set_visible(False)\n",
        "plt.tight_layout()\n",
        "print(chosen_DRAPS_set[idx],ground_truths[idx])\n",
        "print(chosen_RAPS_set[idx])\n",
        "print(chosen_Naive_set[idx])\n",
        "print(chosen_DRAPS_set)\n",
        "# print(cmodel_deferral.Qhat,torch.sort(softmax_probs_RAPS[idx],descending=True)[0],cmodel_non_deferral.Qhat)\n",
        "\n",
        "\n"
      ]
    },
    {
      "cell_type": "code",
      "execution_count": null,
      "metadata": {
        "colab": {
          "base_uri": "https://localhost:8080/"
        },
        "id": "CTPGjh5zyFlj",
        "outputId": "4fc881ed-10f9-42ce-c5e7-b75848e689f3"
      },
      "outputs": [
        {
          "output_type": "stream",
          "name": "stdout",
          "text": [
            "['apple', 'aquarium_fish', 'baby', 'bear', 'beaver', 'bed', 'bee', 'beetle', 'bicycle', 'bottle', 'bowl', 'boy', 'bridge', 'bus', 'butterfly', 'camel', 'can', 'castle', 'caterpillar', 'cattle', 'chair', 'chimpanzee', 'clock', 'cloud', 'cockroach', 'couch', 'crab', 'crocodile', 'cup', 'dinosaur', 'dolphin', 'elephant', 'flatfish', 'forest', 'fox', 'girl', 'hamster', 'house', 'kangaroo', 'keyboard', 'lamp', 'lawn_mower', 'leopard', 'lion', 'lizard', 'lobster', 'man', 'maple_tree', 'motorcycle', 'mountain', 'mouse', 'mushroom', 'oak_tree', 'orange', 'orchid', 'otter', 'palm_tree', 'pear', 'pickup_truck', 'pine_tree', 'plain', 'plate', 'poppy', 'porcupine', 'possum', 'rabbit', 'raccoon', 'ray', 'road', 'rocket', 'rose', 'sea', 'seal', 'shark', 'shrew', 'skunk', 'skyscraper', 'snail', 'snake', 'spider', 'squirrel', 'streetcar', 'sunflower', 'sweet_pepper', 'table', 'tank', 'telephone', 'television', 'tiger', 'tractor', 'train', 'trout', 'tulip', 'turtle', 'wardrobe', 'whale', 'willow_tree', 'wolf', 'woman', 'worm']\n",
            "Files already downloaded and verified\n",
            "(0.9252626895904541, 0.7899694442749023, 1.0185937881469727, 0.8385982513427734, 0.5626181364059448, 2.3447303771972656, 2.7654991149902344, 1.4373390674591064, 2.3113741874694824, 3.261969804763794, 1.8208506107330322, 2.5838682651519775, 4.319459438323975, 0.19916246831417084, 0.0570252388715744)\n",
            "('/content/mountain_d1.png', '/content/palm_tree_defer.png', '/content/boy_defer.png', '/content/fox_d1.png', '/content/forest_defer.png', '/content/snake_d2.png', '/content/aquarium_fish_d2.png', '/content/squirrel_d1.png', '/content/otter_d1.png', '/content/bowl_d1.png', '/content/beetle_d0.png', '/content/forest_d1.png', '/content/spider_d1.png', '/content/cockroach_d0.png', '/content/raccoon_d0.png')\n",
            "(3, 3, 3, 3, 10, 39, 44, 11, 16, 53, 30, 52, 77, 2, 1)\n",
            "(tensor(1.5199e-07, device='cuda:0', grad_fn=<SelectBackward0>), tensor(1.1655e-06, device='cuda:0', grad_fn=<SelectBackward0>), tensor(3.4536e-06, device='cuda:0', grad_fn=<SelectBackward0>), tensor(1.5332e-05, device='cuda:0', grad_fn=<SelectBackward0>), tensor(1.7078e-05, device='cuda:0', grad_fn=<SelectBackward0>), tensor(0.0003, device='cuda:0', grad_fn=<SelectBackward0>), tensor(0.0004, device='cuda:0', grad_fn=<SelectBackward0>), tensor(0.0005, device='cuda:0', grad_fn=<SelectBackward0>), tensor(0.0006, device='cuda:0', grad_fn=<SelectBackward0>), tensor(0.0011, device='cuda:0', grad_fn=<SelectBackward0>), tensor(0.0014, device='cuda:0', grad_fn=<SelectBackward0>), tensor(0.0022, device='cuda:0', grad_fn=<SelectBackward0>), tensor(0.0046, device='cuda:0', grad_fn=<SelectBackward0>), tensor(0.9687, device='cuda:0', grad_fn=<SelectBackward0>), tensor(0.9924, device='cuda:0', grad_fn=<SelectBackward0>))\n",
            "hi\n"
          ]
        }
      ],
      "source": [
        "print(labels)\n",
        "val_loader = torch.utils.data.DataLoader(\n",
        "            datasets.__dict__[\"cifar100\".upper()]('../data', train=False, transform=transform_test, download=True),\n",
        "            batch_size=128, shuffle=True, **kwargs)\n",
        "\n",
        "import matplotlib.image as mpimg\n",
        "from PIL import Image\n",
        "\n",
        "# print(im.shape)\n",
        "\n",
        "import os\n",
        "images = [os.path.join('/content',i) for i in os.listdir('/content/') if 'png' in i]\n",
        "entropies = []\n",
        "set_size = []\n",
        "gt_labels = [labels.index('palm_tree'),labels.index('spider'),labels.index('boy'),labels.index('bowl'),labels.index('forest'),\\\n",
        "             labels.index('cockroach'),labels.index('mountain'),labels.index('cattle'),labels.index('forest'),labels.index('squirrel'),\\\n",
        "             labels.index('beetle'),labels.index('raccoon'),labels.index('snake'),labels.index('aquarium_fish'),labels.index('otter')]\n",
        "gt_scores = []\n",
        "for i,img_path in enumerate(images):\n",
        "  im = Image.open(img_path).convert('RGB')\n",
        "  im = transform_test(im).unsqueeze(0)\n",
        "  im = torch.nn.functional.interpolate(im,(32,32))\n",
        "\n",
        "  scores_def2, set_def2,def_indices = cmodel_non_deferral(im.cuda())\n",
        "  if not set_def2:\n",
        "    set_def2 = [[0]]\n",
        "  # print(labels[set_def2[0][0]],img_path)\n",
        "  # print(img_path,gt_labels[i],set_def2)\n",
        "  # scores_def2 = model_deferral(im.cuda())\n",
        "  scores_def2 = nn.Softmax(dim=1)(scores_def2)\n",
        "  gt_scores.append(scores_def2[0][gt_labels[i]])\n",
        "  entropies.append(float(-torch.sum(scores_def2*torch.log(scores_def2)).cpu()))\n",
        "  set_size.append(len(set_def2[0]))\n",
        "\n",
        "entropies,images,set_size,gt_scores = zip(*sorted(zip(entropies,images,set_size,gt_scores),key=lambda x:x[3]))\n",
        "print(entropies)\n",
        "print(images)\n",
        "print(set_size)\n",
        "print(gt_scores)\n",
        "print('hi')\n",
        "\n"
      ]
    },
    {
      "cell_type": "code",
      "execution_count": null,
      "metadata": {
        "colab": {
          "base_uri": "https://localhost:8080/",
          "height": 296
        },
        "id": "IkWjvv0BiOVb",
        "outputId": "29e97a90-0415-4eab-e57e-da4d9a67bf14"
      },
      "outputs": [
        {
          "output_type": "error",
          "ename": "NameError",
          "evalue": "ignored",
          "traceback": [
            "\u001b[0;31m---------------------------------------------------------------------------\u001b[0m",
            "\u001b[0;31mNameError\u001b[0m                                 Traceback (most recent call last)",
            "\u001b[0;32m<ipython-input-42-90946a62ce05>\u001b[0m in \u001b[0;36m<module>\u001b[0;34m()\u001b[0m\n\u001b[1;32m      1\u001b[0m \u001b[0;34m\u001b[0m\u001b[0m\n\u001b[0;32m----> 2\u001b[0;31m \u001b[0mprint\u001b[0m\u001b[0;34m(\u001b[0m\u001b[0mdeferral_size\u001b[0m\u001b[0;34m,\u001b[0m\u001b[0mnon_deferral_size\u001b[0m\u001b[0;34m,\u001b[0m\u001b[0mdeferral_coverage\u001b[0m\u001b[0;34m,\u001b[0m\u001b[0mnon_deferral_coverage\u001b[0m\u001b[0;34m,\u001b[0m\u001b[0mdeferral_top_1\u001b[0m\u001b[0;34m,\u001b[0m\u001b[0mnon_deferral_top_1\u001b[0m\u001b[0;34m,\u001b[0m\u001b[0mdeferral_top_5\u001b[0m\u001b[0;34m,\u001b[0m\u001b[0mnon_deferral_top_5\u001b[0m\u001b[0;34m)\u001b[0m\u001b[0;34m\u001b[0m\u001b[0;34m\u001b[0m\u001b[0m\n\u001b[0m\u001b[1;32m      3\u001b[0m \u001b[0;31m# print(deferral_size_std,non_deferral_size_std,deferral_coverage_std,non_deferral_coverage_std,deferral_top_1_std,non_deferral_top_1_std,deferral_top_5_std,non_deferral_top_5_std)\u001b[0m\u001b[0;34m\u001b[0m\u001b[0;34m\u001b[0m\u001b[0;34m\u001b[0m\u001b[0m\n\u001b[1;32m      4\u001b[0m \u001b[0;32mimport\u001b[0m \u001b[0mpickle\u001b[0m \u001b[0;32mas\u001b[0m \u001b[0mpkl\u001b[0m\u001b[0;34m\u001b[0m\u001b[0;34m\u001b[0m\u001b[0m\n\u001b[1;32m      5\u001b[0m \u001b[0;31m# LAC / APS / RAPS\u001b[0m\u001b[0;34m\u001b[0m\u001b[0;34m\u001b[0m\u001b[0;34m\u001b[0m\u001b[0m\n",
            "\u001b[0;31mNameError\u001b[0m: name 'non_deferral_size' is not defined"
          ]
        }
      ],
      "source": [
        "\n",
        "print(deferral_size,non_deferral_size,deferral_coverage,non_deferral_coverage,deferral_top_1,non_deferral_top_1,deferral_top_5,non_deferral_top_5)\n",
        "# print(deferral_size_std,non_deferral_size_std,deferral_coverage_std,non_deferral_coverage_std,deferral_top_1_std,non_deferral_top_1_std,deferral_top_5_std,non_deferral_top_5_std)\n",
        "import pickle as pkl\n",
        "# LAC / APS / RAPS\n",
        "deferral_system_top_1 = [0.6518,0.6708,0.6776,0.6915,0.7066,0.7125,0.7253,0.7311]\n",
        "deferral_system_top_1_std = [0]*len(deferral_system_top_1)\n",
        "\n",
        "deferral_size = np.array(deferral_size)\n",
        "non_deferral_size = np.array(non_deferral_size*len(deferral_size))\n",
        "deferral_rate = np.array(list(1-np.array(deferral_coverage)))\n",
        "non_deferral_rate = np.array([1-non_deferral_coverage[0]]*len(deferral_size))\n",
        "deferral_top_1 = np.array(deferral_top_1)\n",
        "non_deferral_top_1 = np.array(non_deferral_top_1*len(deferral_size))\n",
        "deferral_top_5 =  np.array(deferral_top_5)\n",
        "non_deferral_top_5 = np.array(non_deferral_top_5*len(deferral_size))\n",
        "deferral_system_top_1 = np.array(deferral_system_top_1)\n",
        "\n",
        "deferral_size_std = np.array(deferral_size_std)\n",
        "non_deferral_size_std = np.array(non_deferral_size_std*len(deferral_size))\n",
        "deferral_rate_std = np.array(deferral_coverage_std)\n",
        "non_deferral_rate_std = np.array(non_deferral_coverage_std*len(deferral_size))\n",
        "deferral_top_1_std = np.array(deferral_top_1_std)\n",
        "non_deferral_top_1_std = np.array(non_deferral_top_1_std*len(deferral_size))\n",
        "deferral_top_5_std = np.array(deferral_top_5_std)\n",
        "non_deferral_top_5_std = np.array(non_deferral_top_5_std*len(deferral_size))\n",
        "deferral_system_top_1_std = np.array(deferral_system_top_1_std)\n",
        "\n",
        "\n",
        "lac_dict = {'size':(deferral_size,non_deferral_size),'deferred_proportion':(deferral_rate,non_deferral_rate),\\\n",
        "            'top-1':(deferral_top_1,non_deferral_top_1),'system':(deferral_system_top_1)}\n",
        "\n",
        "\n",
        "lac_dict_std = {'size':(deferral_size_std,non_deferral_size_std),'deferred_proportion':(deferral_rate_std,non_deferral_rate_std),\\\n",
        "            'top-1':(deferral_top_1_std,non_deferral_top_1_std),'system':(deferral_system_top_1_std)}\n",
        "\n",
        "pkl.dump(lac_dict,open('raps','wb'))\n",
        "pkl.dump(lac_dict_std,open('raps_std','wb'))"
      ]
    },
    {
      "cell_type": "code",
      "execution_count": null,
      "metadata": {
        "colab": {
          "base_uri": "https://localhost:8080/"
        },
        "id": "iDYrOiTnB-Ia",
        "outputId": "1b086e63-b0a5-4495-c213-54b11e57db68"
      },
      "outputs": [
        {
          "name": "stdout",
          "output_type": "stream",
          "text": [
            "Model: True\n",
            "Begin Platt scaling.\n",
            "Platt: True\n",
            "Computing logits for model (only happens once).\n"
          ]
        },
        {
          "name": "stderr",
          "output_type": "stream",
          "text": [
            "100%|██████████| 20/20 [00:01<00:00, 12.29it/s]\n",
            "100%|██████████| 20/20 [00:01<00:00, 12.13it/s]\n",
            "/usr/local/lib/python3.7/dist-packages/ipykernel_launcher.py:232: UserWarning: Implicit dimension choice for softmax has been deprecated. Change the call to include dim=X as an argument.\n"
          ]
        },
        {
          "name": "stdout",
          "output_type": "stream",
          "text": [
            "Optimal T=1.0043202638626099\n",
            "2 0.5 <torch.utils.data.dataset.Subset object at 0x7f275e946cd0>\n",
            "0.8661609292030334\n",
            "N: 2500 | Time: 0.049 (0.087) | Cvg@1: 0.792 (0.902) | Cvg@5: 1.000 (0.981) | Cvg@RAPS: 0.875 (0.937) | Size@RAPS: 1.458 (1.311)\n",
            "1.3112729348676686 0.3424\n"
          ]
        }
      ],
      "source": [
        "deferral_proportion = 0.9\n",
        "defer = True\n",
        "cmodel_deferral = ConformalModel(model_deferral, calibration_loader, alpha=0.1, lamda_criterion='size',defer=defer,LAC=False,def_proportion=deferral_proportion)\n",
        "# cmodel_deferral.threshold_score = 1000\n",
        "top1_deferral, top5_deferral, coverage_deferral, size_deferral,cmodel_deferral_percentage_not_deferred = validate(test_loader, cmodel_deferral, print_bool=True)\n",
        "print(size_deferral,cmodel_deferral_percentage_not_deferred)\n"
      ]
    },
    {
      "cell_type": "code",
      "execution_count": null,
      "metadata": {
        "colab": {
          "base_uri": "https://localhost:8080/"
        },
        "id": "L1yOwqIQkaKZ",
        "outputId": "43b5e20e-c12e-473c-c74e-50a73c361f5e"
      },
      "outputs": [
        {
          "output_type": "stream",
          "name": "stdout",
          "text": [
            "[3.5526, 3.5432406732103687, 2.726979553892871, 2.835204337277591, 2.5293541937260766, 2.138149505937732] [nan] [1.0, 0.9666, 0.9159, 0.8571, 0.8226, 0.753] [nan] [0.6663, 0.6779190432128908, 0.703171593383789, 0.7200941231689455, 0.7374432667236328, 0.7670020836181638] [nan] [0.907, 0.9008291347656252, 0.9067483586425784, 0.9251162976074218, 0.929422873291016, 0.939155429931641] [nan] [0.6554, 0.6859, 0.7168, 0.7448, 0.7776, 0.8047] [0.0, 0.0, 0.0, 0.0, 0.0, 0.0]\n"
          ]
        }
      ],
      "source": [
        "print(deferral_size,non_deferral_size,deferral_coverage,non_deferral_coverage,deferral_top_1,non_deferral_top_1,deferral_top_5,non_deferral_top_5,deferral_system_top_1,deferral_system_top_1_std)\n"
      ]
    },
    {
      "cell_type": "code",
      "execution_count": null,
      "metadata": {
        "id": "Ty-IJ9px7DU0",
        "colab": {
          "base_uri": "https://localhost:8080/",
          "height": 395
        },
        "outputId": "ff569b0d-2ef2-43f2-ea30-713a2e3f5cf4"
      },
      "outputs": [
        {
          "output_type": "display_data",
          "data": {
            "image/png": "[encoded data removed]",
            "text/plain": [
              "<Figure size 1152x432 with 3 Axes>"
            ]
          },
          "metadata": {
            "needs_background": "light"
          }
        }
      ],
      "source": [
        ""
      ]
    },
    {
      "cell_type": "code",
      "execution_count": null,
      "metadata": {
        "id": "bFnJa5c3Lcev"
      },
      "outputs": [],
      "source": [
        ""
      ]
    },
    {
      "cell_type": "code",
      "source": [
        ""
      ],
      "metadata": {
        "colab": {
          "base_uri": "https://localhost:8080/"
        },
        "id": "ogtGM9aT_Q-Z",
        "outputId": "87b846e8-0a82-4dc9-bf38-40c6b254e555"
      },
      "execution_count": null,
      "outputs": [
        {
          "output_type": "stream",
          "name": "stdout",
          "text": [
            "{'size': (array([3.75093333, 3.52395554, 3.07777675, 2.55414815, 2.32794569,\n",
            "       2.29941226, 2.18743321]), array([25.87013333])), 'deferred_proportion': (array([0.        , 0.01746667, 0.0824    , 0.1704    , 0.2036    ,\n",
            "       0.24586667, 0.27893333]), array([0., 0., 0., 0., 0., 0., 0.])), 'top-1': (array([0.654     , 0.66173889, 0.68472897, 0.7181893 , 0.73500266,\n",
            "       0.74832003, 0.75739559]), array([4.564])), 'top-5': (array([0.90306667, 0.89450019, 0.90710755, 0.92300814, 0.92843179,\n",
            "       0.93887688, 0.94256769]), array([6.314]))} \n",
            " {'size': (array([0.06792842, 0.03347235, 0.1010782 , 0.03214908, 0.08400158,\n",
            "       0.02720205, 0.05735896]), array([0.5519155])), 'deferred_proportion': (array([0.        , 0.00119753, 0.00282843, 0.00311555, 0.0088383 ,\n",
            "       0.00467365, 0.00651107]), array([0.])), 'top-1': (array([0.00290287, 0.00356879, 0.00302401, 0.00365199, 0.00371252,\n",
            "       0.00392641, 0.0027668 ]), array([0.0293963])), 'top-5': (array([0.00243189, 0.0022265 , 0.00102164, 0.00073602, 0.00403333,\n",
            "       0.00170389, 0.00241968]), array([0.01847906]))}\n"
          ]
        }
      ]
    },
    {
      "cell_type": "code",
      "source": [
        "import matplotlib.pyplot as plt\n",
        "\n",
        "defer = False # Whether to train a model with deferral or not\n",
        "skew = False\n",
        "# %% [code]\n",
        "# if defer:\n",
        "#   model_deferral = WideResNet(28, n_dataset + 1, 4, dropRate=0)\n",
        "# else:\n",
        "#   model_non_deferral = WideResNet(28, n_dataset, 4, dropRate=0)\n",
        "# alpha = 1\n",
        "# num_epochs = 10\n",
        "# train_loader2,test_loader2,calibration_loader2,model_non_deferral = run_reject(model_non_deferral, True, n_dataset, expert.predict, num_epochs,alpha,defer,beta = 0) # train for 'num_epochs' epochs\n",
        "\n",
        "\n",
        "cmodel_deferral = ConformalModel(model_deferral, calibration_loader, alpha=0.05, lamda = None, kreg = None, lamda_criterion='size',defer=True,LAC=False)\n",
        "cmodel_non_deferral = ConformalModel(model_non_deferral, calibration_loader, alpha=0.05, lamda = None, kreg = None, lamda_criterion='size',defer=False,LAC=False)\n",
        "# top1_deferral, top5_deferral, coverage_deferral, size_deferral,cmodel_deferral_percentage_not_deferred = validate(test_loader, cmodel_non_deferral, print_bool=True)\n",
        "# top1_deferral, top5_deferral, coverage_deferral, size_deferral,cmodel_deferral_percentage_not_deferred = validate(test_loader, cmodel_deferral, print_bool=True)\n",
        "\n",
        "set_sizes_def = []\n",
        "set_sizes_non_def = []\n",
        "ndef_indices = []\n",
        "\n",
        "with torch.no_grad():\n",
        "  for x,y in test_loader:\n",
        "    x = x.cuda()\n",
        "    y = y.cuda()\n",
        "    scores_def, set_def,def_indices = cmodel_deferral(x.cuda())\n",
        "    # set_sizes_def += [len(set_def[i]) for i in range(len(set_def))]\n",
        "    # set_sizes_non_def += [len(set_non_def[i]) for i in range(len(set_non_def))]\n",
        "    counter = 0\n",
        "    for j in range(len(scores_def)):\n",
        "      if j not in def_indices:\n",
        "        ndef_indices.append(counter)\n",
        "        set_sizes_def.append(len(set_def[counter]))\n",
        "        counter += 1\n",
        "\n",
        "with torch.no_grad():\n",
        "  for x,y in test_loader:\n",
        "    x = x.cuda()\n",
        "    y = y.cuda()\n",
        "    scores_non_def, set_non_def,_ = cmodel_non_deferral(x.cuda())\n",
        "    # set_sizes_def += [len(set_def[i]) for i in range(len(set_def))]\n",
        "    # set_sizes_non_def += [len(set_non_def[i]) for i in range(len(set_non_def))]\n",
        "    counter = 0\n",
        "    for j in range(len(scores_non_def)):\n",
        "      if j not in def_indices:\n",
        "        ndef_indices.append(counter)\n",
        "        set_sizes_non_def.append(len(set_non_def[j]))\n",
        "        counter += 1\n",
        "      else:\n",
        "        set_sizes_non_def.append(len(set_non_def[j]))\n",
        "\n",
        "\n",
        "print(np.array(set_sizes_non_def).mean())\n",
        "\n",
        "cmodel_deferral = ConformalModel(model_deferral, calibration_loader, alpha=0.05, lamda = None, kreg = None, lamda_criterion='size',defer=True,LAC=True)\n",
        "cmodel_non_deferral = ConformalModel(model_non_deferral, calibration_loader, alpha=0.05, lamda = None, kreg = None, lamda_criterion='size',defer=False,LAC=True)\n",
        "# top1_deferral, top5_deferral, coverage_deferral, size_deferral,cmodel_deferral_percentage_not_deferred = validate(test_loader, cmodel_non_deferral, print_bool=True)\n",
        "\n",
        "set_sizes_def_lac = []\n",
        "set_sizes_non_def_lac = []\n",
        "ndef_indices = []\n",
        "\n",
        "with torch.no_grad():\n",
        "  for x,y in test_loader:\n",
        "    x = x.cuda()\n",
        "    y = y.cuda()\n",
        "    scores_def, set_def,def_indices = cmodel_deferral(x.cuda())\n",
        "    scores_non_def, set_non_def,_ = cmodel_non_deferral(x.cuda())\n",
        "    # set_sizes_def += [len(set_def[i]) for i in range(len(set_def))]\n",
        "    # set_sizes_non_def += [len(set_non_def[i]) for i in range(len(set_non_def))]\n",
        "    counter = 0\n",
        "    for j in range(len(scores_non_def)):\n",
        "      if j not in def_indices:\n",
        "        ndef_indices.append(counter)\n",
        "        set_sizes_def_lac.append(len(set_def[counter]))\n",
        "        set_sizes_non_def_lac.append(len(set_non_def[j]))\n",
        "        counter += 1\n",
        "      else:\n",
        "        set_sizes_non_def_lac.append(len(set_non_def[j]))\n",
        "\n",
        "\n",
        "cmodel_deferral = ConformalModel(model_deferral, calibration_loader, alpha=0.05, lamda = 0, kreg = 0, lamda_criterion='size',defer=True,LAC=False)\n",
        "cmodel_non_deferral = ConformalModel(model_non_deferral, calibration_loader, alpha=0.05, lamda = 0, kreg = 0, lamda_criterion='size',defer=False,LAC=False)\n",
        "# top1_deferral, top5_deferral, coverage_deferral, size_deferral,cmodel_deferral_percentage_not_deferred = validate(test_loader, cmodel_non_deferral, print_bool=True)\n",
        "\n",
        "set_sizes_def_aps = []\n",
        "set_sizes_non_def_aps = []\n",
        "ndef_indices = []\n",
        "\n",
        "with torch.no_grad():\n",
        "  for x,y in test_loader:\n",
        "    x = x.cuda()\n",
        "    y = y.cuda()\n",
        "    scores_def, set_def,def_indices = cmodel_deferral(x.cuda())\n",
        "    scores_non_def, set_non_def,_ = cmodel_non_deferral(x.cuda())\n",
        "    # set_sizes_def += [len(set_def[i]) for i in range(len(set_def))]\n",
        "    # set_sizes_non_def += [len(set_non_def[i]) for i in range(len(set_non_def))]\n",
        "    counter = 0\n",
        "    for j in range(len(scores_non_def)):\n",
        "      if j not in def_indices:\n",
        "        ndef_indices.append(counter)\n",
        "        set_sizes_def_aps.append(len(set_def[counter]))\n",
        "        set_sizes_non_def_aps.append(len(set_non_def[j]))\n",
        "        counter += 1\n",
        "      else:\n",
        "        set_sizes_non_def_aps.append(len(set_non_def[j]))\n"
      ],
      "metadata": {
        "id": "AIfq0j7xDOfk",
        "colab": {
          "base_uri": "https://localhost:8080/"
        },
        "outputId": "85be7d5b-0c05-4130-8883-cc0f5d00c175"
      },
      "execution_count": null,
      "outputs": [
        {
          "output_type": "stream",
          "name": "stdout",
          "text": [
            "Model: True\n",
            "Begin Platt scaling.\n",
            "Platt: True\n",
            "Computing logits for model (only happens once).\n"
          ]
        },
        {
          "output_type": "stream",
          "name": "stderr",
          "text": [
            "100%|██████████| 47/47 [00:04<00:00, 10.34it/s]\n",
            "100%|██████████| 47/47 [00:03<00:00, 13.87it/s]\n",
            "/usr/local/lib/python3.7/dist-packages/ipykernel_launcher.py:235: UserWarning: Implicit dimension choice for softmax has been deprecated. Change the call to include dim=X as an argument.\n"
          ]
        },
        {
          "output_type": "stream",
          "name": "stdout",
          "text": [
            "Optimal T=0.9578279852867126\n",
            "5 0.01 <torch.utils.data.dataset.Subset object at 0x7f67d06ea790>\n",
            "0.9628605246543884\n",
            "Model: False\n",
            "Begin Platt scaling.\n",
            "Platt: False\n",
            "Computing logits for model (only happens once).\n"
          ]
        },
        {
          "output_type": "stream",
          "name": "stderr",
          "text": [
            "100%|██████████| 47/47 [00:02<00:00, 17.18it/s]\n"
          ]
        },
        {
          "output_type": "stream",
          "name": "stdout",
          "text": [
            "Optimal T=1.0488876104354858\n",
            "10 0.01 <torch.utils.data.dataset.Subset object at 0x7f67d06ea410>\n",
            "0.9637575745582581\n",
            "6.69775\n",
            "Model: True\n",
            "Begin Platt scaling.\n",
            "Platt: True\n",
            "Computing logits for model (only happens once).\n"
          ]
        },
        {
          "output_type": "stream",
          "name": "stderr",
          "text": [
            "100%|██████████| 47/47 [00:02<00:00, 17.39it/s]\n",
            "100%|██████████| 47/47 [00:02<00:00, 16.65it/s]\n"
          ]
        },
        {
          "output_type": "stream",
          "name": "stdout",
          "text": [
            "Optimal T=0.9555337429046631\n",
            "4860\n",
            "Model: False\n",
            "Begin Platt scaling.\n",
            "Platt: False\n",
            "Computing logits for model (only happens once).\n"
          ]
        },
        {
          "output_type": "stream",
          "name": "stderr",
          "text": [
            "100%|██████████| 47/47 [00:02<00:00, 17.26it/s]\n"
          ]
        },
        {
          "output_type": "stream",
          "name": "stdout",
          "text": [
            "Optimal T=1.045902132987976\n",
            "6000\n",
            "Model: True\n",
            "Begin Platt scaling.\n",
            "Platt: True\n",
            "Computing logits for model (only happens once).\n"
          ]
        },
        {
          "output_type": "stream",
          "name": "stderr",
          "text": [
            "100%|██████████| 47/47 [00:02<00:00, 17.35it/s]\n",
            "100%|██████████| 47/47 [00:02<00:00, 16.51it/s]\n"
          ]
        },
        {
          "output_type": "stream",
          "name": "stdout",
          "text": [
            "Optimal T=0.9529537558555603\n",
            "0.9486865997314453\n",
            "Model: False\n",
            "Begin Platt scaling.\n",
            "Platt: False\n",
            "Computing logits for model (only happens once).\n"
          ]
        },
        {
          "output_type": "stream",
          "name": "stderr",
          "text": [
            "100%|██████████| 47/47 [00:02<00:00, 17.57it/s]\n"
          ]
        },
        {
          "output_type": "stream",
          "name": "stdout",
          "text": [
            "Optimal T=1.045258641242981\n",
            "0.9474309682846069\n"
          ]
        }
      ]
    },
    {
      "cell_type": "code",
      "source": [
        "fig,ax = plt.subplots(1,2,figsize=(13,7))\n",
        "ax[0].hist(set_sizes_def,bins=6, color='c', edgecolor='k', alpha=0.65)\n",
        "# ax[0].axvline(0.95,color='k',linestyle='dashed', linewidth=3)\n",
        "ax[0].set_xlabel(\"Set Sizes\",size=13)\n",
        "# ax[0].set_ylabel(\"Frequency\",size=13)\n",
        "# ax[0].legend([r'$1 - \\alpha = 0.95$'],loc='upper left')\n",
        "ax[0].set_title(r\"$\\bf{D-RAPS}$\" + \" \\n Mean = {}, Std = {}\".format(round(np.array(set_sizes_def).mean(),4),round(np.array(set_sizes_def).std(),5)),size=13)\n",
        "# ax[0].set_xticks([0.935,0.940,0.945,0.950,0.955,0.960])\n",
        "# ax[0].set_yticks([0,20,40,60])\n",
        "\n",
        "ax[1].hist(set_sizes_non_def,bins=6, color='c', edgecolor='k', alpha=0.65)\n",
        "# ax[1].axvline(0.95,color='k',linestyle='dashed', linewidth=3)\n",
        "# ax[1].legend([r'$1 - \\alpha = 0.95$'],loc='upper left')\n",
        "ax[1].set_xlabel(\"Set Sizes\",size=13)\n",
        "ax[1].set_title(r\"$\\bf{RAPS}$\" +  \"\\n Mean = {}, Std = {}\".format(round(np.array(set_sizes_non_def).mean(),4),round(np.array(set_sizes_non_def).std(),5)),size=13)\n",
        "# print(sum([1 for i in range(len(set_sizes_def)) if set_sizes_def[i] < set_sizes_non_def[i]]))\n",
        "\n",
        "set_sizes_non_def = np.array(set_sizes_non_def)\n",
        "set_sizes_def = np.array(set_sizes_def)\n",
        "\n",
        "set_sizes_non_def_lac = np.array(set_sizes_non_def_lac)\n",
        "set_sizes_def_lac = np.array(set_sizes_def_lac)\n",
        "\n",
        "set_sizes_non_def_aps = np.array(set_sizes_non_def_aps)\n",
        "set_sizes_def_aps = np.array(set_sizes_def_aps)\n",
        "# set_sizes_def = set_sizes_def[:-1]\n",
        "print(set_sizes_non_def_lac.mean(),set_sizes_non_def_aps.mean(),set_sizes_non_def.mean())\n",
        "set_sizes_def = np.append(set_sizes_def,set_sizes_non_def.max())\n",
        "set_sizes_def_aps = np.append(set_sizes_def_aps,set_sizes_non_def_aps.max())\n",
        "set_sizes_def_lac = np.append(set_sizes_def_lac,set_sizes_non_def_lac.max())\n",
        "\n",
        "# fig,ax = plt.subplots(1,1,figsize=(13,7))\n",
        "sorted_data_def = np.sort(set_sizes_def)\n",
        "sorted_data_ndef = np.sort(set_sizes_non_def)\n",
        "\n",
        "sorted_data_def_aps = np.sort(set_sizes_def_aps)\n",
        "sorted_data_ndef_aps = np.sort(set_sizes_non_def_aps)\n",
        "\n",
        "sorted_data_def_lac = np.sort(set_sizes_def_lac)\n",
        "sorted_data_ndef_lac = np.sort(set_sizes_non_def_lac)\n",
        "\n",
        "n_bins = 100\n",
        "\n",
        "fig, ax = plt.subplots(1,3,figsize=(15, 5))\n",
        "fig.set_dpi(500)\n",
        "# plot the cumulative histogram\n",
        "n, bins, patches = ax[0].hist(sorted_data_ndef, n_bins, density=True, histtype='step',\n",
        "                           cumulative=True, label='Empirical',color='b')\n",
        "ax[0].set_title(\"RAPS\".format(round(set_sizes_non_def.mean(),3)),fontsize=22)\n",
        "n, bins, patches = ax[0].hist(sorted_data_def, n_bins, density=True, histtype='step',\n",
        "                           cumulative=True, label='Empirical',color='r')\n",
        "\n",
        "ax[0].set_xlim(0,sorted_data_ndef.max())\n",
        "ax[0].set_xlabel(\"Set Size\",fontsize=20)\n",
        "ax[0].set_ylabel(\"Cumulative Probability\",fontsize=20)\n",
        "ax[0].legend(['RAPS','D-RAPS'],loc='lower right',fontsize=20)\n",
        "\n",
        "# plot the cumulative histogram\n",
        "n, bins, patches = ax[1].hist(sorted_data_ndef_aps, n_bins, density=True, histtype='step',\n",
        "                           cumulative=True, label='Empirical',color='b')\n",
        "ax[1].set_title(\"APS\".format(round(set_sizes_non_def_aps.mean(),3)),fontsize=22)\n",
        "n, bins, patches = ax[1].hist(sorted_data_def_aps, n_bins, density=True, histtype='step',\n",
        "                           cumulative=True, label='Empirical',color='r')\n",
        "\n",
        "ax[1].set_xlim(0,sorted_data_ndef_aps.max())\n",
        "ax[1].set_xlabel(\"Set Size\",fontsize=20)\n",
        "\n",
        "# ax[1].set_ylabel(\"Cumulative Probability\",fontsize=14)\n",
        "ax[1].legend(['APS','D-APS'],loc='lower right',fontsize=20)\n",
        "\n",
        "# plot the cumulative histogram\n",
        "n, bins, patches = ax[2].hist(sorted_data_ndef_lac, n_bins, density=True, histtype='step',\n",
        "                           cumulative=True, label='Empirical',color='b')\n",
        "\n",
        "n, bins, patches = ax[2].hist(sorted_data_def_lac, n_bins, density=True, histtype='step',\n",
        "                           cumulative=True, label='Empirical',color='r')\n",
        "\n",
        "ax[2].set_xlim(0,sorted_data_ndef_lac.max())\n",
        "# ax[2].set_xticks([0,5,10,15,20,25])\n",
        "ax[2].set_xlabel(\"Set Size\",fontsize=20)\n",
        "ax[2].set_title(\"LAC\".format(round(sorted_data_ndef_lac.mean(),3)),fontsize=22)\n",
        "# ax[2].set_ylabel(\"Cumulative Probability\",fontsize=14)\n",
        "ax[2].legend(['LAC','D-LAC'],loc='lower right',fontsize=20)\n",
        "ax[1].set_yticks([])\n",
        "ax[2].set_yticks([])\n",
        "for axs in ax:\n",
        "  axs.tick_params(axis='both', which='major', labelsize=18)\n",
        "  axs.tick_params(axis='both', which='minor', labelsize=18)\n",
        "plt.subplots_adjust(wspace=0.05)\n",
        "plt.show()\n"
      ],
      "metadata": {
        "colab": {
          "base_uri": "https://localhost:8080/",
          "height": 987
        },
        "id": "Q5E840wgQMNm",
        "outputId": "33fc64bc-34b0-43f3-fed1-daa990398cac"
      },
      "execution_count": null,
      "outputs": [
        {
          "output_type": "stream",
          "name": "stdout",
          "text": [
            "5.521 7.85875 6.994833333333333\n"
          ]
        },
        {
          "output_type": "display_data",
          "data": {
            "text/plain": [
              "<Figure size 936x504 with 2 Axes>"
            ],
            "image/png": "[encoded data removed]"
          },
          "metadata": {
            "needs_background": "light"
          }
        },
        {
          "output_type": "display_data",
          "data": {
            "text/plain": [
              "<Figure size 7500x2500 with 3 Axes>"
            ],
            "image/png": "[encoded data removed]"
          },
          "metadata": {
            "needs_background": "light"
          }
        }
      ]
    },
    {
      "cell_type": "code",
      "source": [
        "normalize = transforms.Normalize(mean=[x / 255.0 for x in [125.3, 123.0, 113.9]],\n",
        "                                     std=[x / 255.0 for x in [63.0, 62.1, 66.7]])\n",
        "transform_test = transforms.Compose([\n",
        "    transforms.ToTensor(),\n",
        "    normalize\n",
        "])\n",
        "n_dataset = 100\n",
        "if n_dataset == 10:\n",
        "    dataset = 'cifar10'\n",
        "elif n_dataset == 100:\n",
        "    dataset = 'cifar100'\n",
        "\n",
        "kwargs = {'num_workers': 0, 'pin_memory': True}\n",
        "\n",
        "val_dataset_all = datasets.__dict__[dataset.upper()]('../data', train=False, download=True,\n",
        "                                                        transform=transform_test)\n",
        "test_size = int(0.4 * len(val_dataset_all)) \n",
        "calibration_size = len(val_dataset_all) - test_size\n",
        "test_dataset, calibration_dataset = torch.utils.data.random_split(val_dataset_all, [test_size,calibration_size],generator=torch.Generator().manual_seed(42))\n",
        "test_loader = torch.utils.data.DataLoader(test_dataset,\n",
        "                                              batch_size=128, shuffle=True, **kwargs)\n",
        "calibration_loader = torch.utils.data.DataLoader(calibration_dataset,\n",
        "                                              batch_size=128, shuffle=True, **kwargs)\n",
        "\n",
        "\n"
      ],
      "metadata": {
        "id": "_44DqB8HUNuw",
        "colab": {
          "base_uri": "https://localhost:8080/"
        },
        "outputId": "b2c4e47c-4bfa-4dfc-8657-503482f1ca00"
      },
      "execution_count": null,
      "outputs": [
        {
          "output_type": "stream",
          "name": "stdout",
          "text": [
            "Files already downloaded and verified\n"
          ]
        }
      ]
    },
    {
      "cell_type": "code",
      "source": [
        "n = 200\n",
        "lac_coverage = []\n",
        "aps_coverage = []\n",
        "raps_coverage = []\n",
        "dlac_coverage = []\n",
        "daps_coverage = []\n",
        "draps_coverage = []\n",
        "# model_deferral = WideResNet(28, n_dataset + 1, 4, dropRate=0).cuda()\n",
        "# model_non_deferral = WideResNet(28, n_dataset, 4, dropRate=0).cuda()\n",
        "# alpha = 1\n",
        "# num_epochs = 10\n",
        "# _,_,_,model_deferral = run_reject(model_deferral, True, n_dataset, expert.predict, num_epochs,alpha,defer=True,beta = 0.5) # train for 'num_epochs' epochs\n",
        "# _,_,_,model_non_deferral = run_reject(model_non_deferral, True, n_dataset, expert.predict, num_epochs,alpha,defer=False,beta = 0) # train for 'num_epochs' epochs\n",
        "\n",
        "\n",
        "for i in range(n):\n",
        "  test_dataset, calibration_dataset = torch.utils.data.random_split(val_dataset_all, [test_size,calibration_size],generator=torch.Generator().manual_seed(42))\n",
        "\n",
        "  test_loader = torch.utils.data.DataLoader(test_dataset,\n",
        "                                              batch_size=128, shuffle=True, **kwargs)\n",
        "  calibration_loader = torch.utils.data.DataLoader(calibration_dataset,\n",
        "                                              batch_size=128, shuffle=True, **kwargs)\n",
        "  \n",
        "  cmodel_deferral = ConformalModel(model_deferral, calibration_loader, alpha=0.05, lamda = None, kreg = None, randomized=True,lamda_criterion='size',defer=True,LAC=False,allow_zero_sets=True)\n",
        "  cmodel_non_deferral = ConformalModel(model_non_deferral, calibration_loader, alpha=0.05, lamda = None, randomized=True,kreg = None, lamda_criterion='size',defer=False,LAC=False,allow_zero_sets=True)\n",
        "  top1_deferral, top5_deferral, coverage_non_deferral, size_deferral,cmodel_deferral_percentage_not_deferred = validate(calibration_loader, cmodel_non_deferral, print_bool=True)\n",
        "  raps_coverage.append(coverage_non_deferral)\n",
        "  top1_deferral, top5_deferral, coverage_deferral, size_deferral,cmodel_deferral_percentage_not_deferred = validate(calibration_loader, cmodel_deferral, print_bool=True)\n",
        "  draps_coverage.append(coverage_deferral)\n",
        "\n",
        "\n",
        "  cmodel_deferral = ConformalModel(model_deferral, calibration_loader, alpha=0.05, lamda = None, kreg = None, randomized=True,lamda_criterion='size',defer=True,LAC=True,allow_zero_sets=True)\n",
        "  cmodel_non_deferral = ConformalModel(model_non_deferral, calibration_loader, alpha=0.05, lamda = None, randomized=True,kreg = None, lamda_criterion='size',defer=False,LAC=True,allow_zero_sets=True)\n",
        "  top1_deferral, top5_deferral, coverage_non_deferral, size_deferral,cmodel_deferral_percentage_not_deferred = validate(test_loader, cmodel_non_deferral, print_bool=True)\n",
        "  lac_coverage.append(coverage_non_deferral)\n",
        "  top1_deferral, top5_deferral, coverage_deferral, size_deferral,cmodel_deferral_percentage_not_deferred = validate(test_loader, cmodel_deferral, print_bool=True)\n",
        "  dlac_coverage.append(coverage_deferral)\n",
        "\n",
        "  \n",
        "  cmodel_deferral = ConformalModel(model_deferral, calibration_loader, alpha=0.05, lamda = 0, kreg = 0, randomized=True,lamda_criterion='size',defer=True,LAC=False,allow_zero_sets=True)\n",
        "  cmodel_non_deferral = ConformalModel(model_non_deferral, calibration_loader, alpha=0.05, lamda = 0, kreg = 0, randomized=True,lamda_criterion='size',defer=False,LAC=False,allow_zero_sets=True)\n",
        "  top1_deferral, top5_deferral, coverage_non_deferral, size_deferral,cmodel_deferral_percentage_not_deferred = validate(calibration_loader, cmodel_non_deferral, print_bool=True)\n",
        "  aps_coverage.append(coverage_non_deferral)\n",
        "  top1_deferral, top5_deferral, coverage_deferral, size_deferral,cmodel_deferral_percentage_not_deferred = validate(calibration_loader, cmodel_deferral, print_bool=True)\n",
        "  daps_coverage.append(coverage_deferral)\n",
        "  print('Trial: {}'.format(i),round(np.array(daps_coverage).mean(),4),round(np.array(daps_coverage).std(),4))\n",
        "\n",
        "fig,ax = plt.subplots(2,3,figsize=(13,7))\n",
        "fig.set_dpi(500)\n",
        "ax[0][0].hist(draps_coverage,bins=6, color='c', edgecolor='k', alpha=0.65)\n",
        "ax[0][0].set_title(r'$\\bf{D-RAPS}$' + '\\n Mean = {}, Std = {}'.format(round(np.array(draps_coverage).mean(),4),round(np.array(draps_coverage).std(),4)))\n",
        "for axs in ax:\n",
        "  for ax2 in axs:\n",
        "    ax2.set_xlabel(\"Empirical Coverage\",fontsize=12)\n",
        "    ax2.set_xlim(0.935,0.965)\n",
        "    ax2.set_ylim(0,70)\n",
        "    ax2.set_yticks([0,20,40,60])\n",
        "ax[0][0].set_ylabel(\"Frequency\",fontsize=12)\n",
        "ax[1][0].set_ylabel(\"Frequency\",fontsize=12)\n",
        "ax[0][1].hist(daps_coverage,bins=6, color='c', edgecolor='k', alpha=0.65)\n",
        "ax[0][1].set_title(r'$\\bf{D-APS}$' + '\\n Mean = {}, Std = {}'.format(round(np.array(daps_coverage).mean(),4),round(np.array(daps_coverage).std(),4)))\n",
        "ax[0][2].hist(dlac_coverage,bins=6, color='c', edgecolor='k', alpha=0.65)\n",
        "ax[0][2].set_title(r'$\\bf{D-LAC}$' + '\\n Mean = {}, Std = {}'.format(round(np.array(dlac_coverage).mean(),4),round(np.array(dlac_coverage).std(),4)))\n",
        "ax[1][0].hist(raps_coverage,bins=6, color='c', edgecolor='k', alpha=0.65)\n",
        "ax[1][0].set_title(r'$\\bf{RAPS}$' + '\\n Mean = {}, Std = {}'.format(round(np.array(raps_coverage).mean(),4),round(np.array(raps_coverage).std(),4)))\n",
        "ax[1][1].hist(aps_coverage,bins=6, color='c', edgecolor='k', alpha=0.65)\n",
        "ax[1][1].set_title(r'$\\bf{APS}$' + '\\n Mean = {}, Std = {}'.format(round(np.array(aps_coverage).mean(),4),round(np.array(aps_coverage).std(),4)))\n",
        "ax[1][2].hist(lac_coverage,bins=6, color='c', edgecolor='k', alpha=0.65)\n",
        "ax[1][2].set_title(r'$\\bf{LAC}$' + '\\n Mean = {}, Std = {}'.format(round(np.array(lac_coverage).mean(),4),round(np.array(lac_coverage).std(),4)))\n",
        "plt.subplots_adjust(hspace = 0.5)\n",
        "\n",
        "\n"
      ],
      "metadata": {
        "id": "q64HgF6Fiv13",
        "colab": {
          "base_uri": "https://localhost:8080/",
          "height": 1000
        },
        "outputId": "b13e6617-a56e-45d2-8ace-d0dc8133dea7"
      },
      "execution_count": null,
      "outputs": [
        {
          "output_type": "stream",
          "name": "stdout",
          "text": [
            "Model: True\n",
            "Begin Platt scaling.\n",
            "Platt: True\n",
            "Computing logits for model (only happens once).\n"
          ]
        },
        {
          "output_type": "stream",
          "name": "stderr",
          "text": [
            "100%|██████████| 32/32 [00:05<00:00,  6.27it/s]\n",
            "100%|██████████| 32/32 [00:03<00:00,  8.36it/s]\n",
            "/usr/local/lib/python3.7/dist-packages/ipykernel_launcher.py:235: UserWarning: Implicit dimension choice for softmax has been deprecated. Change the call to include dim=X as an argument.\n"
          ]
        },
        {
          "output_type": "stream",
          "name": "stdout",
          "text": [
            "Optimal T=0.9579534530639648\n",
            "8 0.2 <torch.utils.data.dataset.Subset object at 0x7f68aabd9790>\n",
            "0.969914972782135\n",
            "Model: False\n",
            "Begin Platt scaling.\n",
            "Platt: False\n",
            "Computing logits for model (only happens once).\n"
          ]
        },
        {
          "output_type": "stream",
          "name": "stderr",
          "text": [
            "100%|██████████| 32/32 [00:01<00:00, 17.02it/s]\n"
          ]
        },
        {
          "output_type": "stream",
          "name": "stdout",
          "text": [
            "Optimal T=1.0458357334136963\n",
            "10 0.01 <torch.utils.data.dataset.Subset object at 0x7f67d68ef0d0>\n",
            "0.9649451971054077\n",
            "N: 4000 | Time: 0.019 (0.066) | Cvg@1: 0.688 (0.665) | Cvg@5: 0.938 (0.902) | Cvg@RAPS: 0.969 (0.952) | Size@RAPS: 8.750 (6.803)\n",
            "N: 4000 | Time: 0.024 (0.076) | Cvg@1: 0.600 (0.739) | Cvg@5: 0.933 (0.932) | Cvg@RAPS: 1.000 (0.950) | Size@RAPS: 5.367 (4.385)\n",
            "Model: True\n",
            "Begin Platt scaling.\n",
            "Platt: True\n",
            "Computing logits for model (only happens once).\n"
          ]
        },
        {
          "output_type": "stream",
          "name": "stderr",
          "text": [
            "100%|██████████| 32/32 [00:01<00:00, 17.08it/s]\n",
            "100%|██████████| 32/32 [00:01<00:00, 16.76it/s]\n"
          ]
        },
        {
          "output_type": "stream",
          "name": "stdout",
          "text": [
            "Optimal T=0.9526539444923401\n",
            "3238\n",
            "Model: False\n",
            "Begin Platt scaling.\n",
            "Platt: False\n",
            "Computing logits for model (only happens once).\n"
          ]
        },
        {
          "output_type": "stream",
          "name": "stderr",
          "text": [
            "100%|██████████| 32/32 [00:01<00:00, 17.35it/s]\n"
          ]
        },
        {
          "output_type": "stream",
          "name": "stdout",
          "text": [
            "Optimal T=1.0613139867782593\n",
            "4000\n",
            "N: 6000 | Time: 0.176 (0.069) | Cvg@1: 0.562 (0.662) | Cvg@5: 0.938 (0.910) | Cvg@RAPS: 0.973 (0.954) | Size@RAPS: 6.027 (5.469)\n",
            "N: 6000 | Time: 0.067 (0.075) | Cvg@1: 0.670 (0.741) | Cvg@5: 0.923 (0.931) | Cvg@RAPS: 0.934 (0.951) | Size@RAPS: 3.714 (3.532)\n",
            "Model: True\n",
            "Begin Platt scaling.\n",
            "Platt: True\n",
            "Computing logits for model (only happens once).\n"
          ]
        },
        {
          "output_type": "stream",
          "name": "stderr",
          "text": [
            "100%|██████████| 32/32 [00:01<00:00, 18.06it/s]\n",
            "100%|██████████| 32/32 [00:01<00:00, 16.94it/s]\n"
          ]
        },
        {
          "output_type": "stream",
          "name": "stdout",
          "text": [
            "Optimal T=0.9560831785202026\n",
            "0.9491784572601318\n",
            "Model: False\n",
            "Begin Platt scaling.\n",
            "Platt: False\n",
            "Computing logits for model (only happens once).\n"
          ]
        },
        {
          "output_type": "stream",
          "name": "stderr",
          "text": [
            "100%|██████████| 32/32 [00:01<00:00, 17.80it/s]\n"
          ]
        },
        {
          "output_type": "stream",
          "name": "stdout",
          "text": [
            "Optimal T=1.0485036373138428\n",
            "0.9475312829017639\n",
            "N: 4000 | Time: 0.021 (0.063) | Cvg@1: 0.719 (0.665) | Cvg@5: 0.906 (0.902) | Cvg@RAPS: 0.969 (0.952) | Size@RAPS: 11.562 (8.176)\n",
            "N: 4000 | Time: 0.023 (0.074) | Cvg@1: 0.538 (0.739) | Cvg@5: 0.808 (0.932) | Cvg@RAPS: 0.885 (0.947) | Size@RAPS: 6.654 (5.484)\n",
            "Trial: 0 0.9474 0.0\n",
            "Model: True\n",
            "Begin Platt scaling.\n",
            "Platt: True\n",
            "Computing logits for model (only happens once).\n"
          ]
        },
        {
          "output_type": "stream",
          "name": "stderr",
          "text": [
            "100%|██████████| 32/32 [00:01<00:00, 17.68it/s]\n",
            "100%|██████████| 32/32 [00:01<00:00, 17.13it/s]\n"
          ]
        },
        {
          "output_type": "stream",
          "name": "stdout",
          "text": [
            "Optimal T=0.9517064094543457\n",
            "6 0.2 <torch.utils.data.dataset.Subset object at 0x7f68aabd97d0>\n",
            "0.976816713809967\n",
            "Model: False\n",
            "Begin Platt scaling.\n",
            "Platt: False\n",
            "Computing logits for model (only happens once).\n"
          ]
        },
        {
          "output_type": "stream",
          "name": "stderr",
          "text": [
            "100%|██████████| 32/32 [00:01<00:00, 17.81it/s]\n"
          ]
        },
        {
          "output_type": "stream",
          "name": "stdout",
          "text": [
            "Optimal T=1.0455904006958008\n",
            "9 0.01 <torch.utils.data.dataset.Subset object at 0x7f67d68efb10>\n",
            "0.9671187996864319\n",
            "N: 4000 | Time: 0.025 (0.067) | Cvg@1: 0.688 (0.665) | Cvg@5: 0.875 (0.902) | Cvg@RAPS: 0.969 (0.952) | Size@RAPS: 6.156 (6.712)\n",
            "N: 4000 | Time: 0.022 (0.074) | Cvg@1: 0.552 (0.739) | Cvg@5: 0.793 (0.932) | Cvg@RAPS: 0.897 (0.950) | Size@RAPS: 4.621 (3.922)\n",
            "Model: True\n",
            "Begin Platt scaling.\n",
            "Platt: True\n",
            "Computing logits for model (only happens once).\n"
          ]
        },
        {
          "output_type": "stream",
          "name": "stderr",
          "text": [
            "100%|██████████| 32/32 [00:01<00:00, 17.61it/s]\n",
            "100%|██████████| 32/32 [00:01<00:00, 17.10it/s]\n"
          ]
        },
        {
          "output_type": "stream",
          "name": "stdout",
          "text": [
            "Optimal T=0.9601487517356873\n",
            "3238\n",
            "Model: False\n",
            "Begin Platt scaling.\n",
            "Platt: False\n",
            "Computing logits for model (only happens once).\n"
          ]
        },
        {
          "output_type": "stream",
          "name": "stderr",
          "text": [
            "100%|██████████| 32/32 [00:01<00:00, 18.14it/s]\n"
          ]
        },
        {
          "output_type": "stream",
          "name": "stdout",
          "text": [
            "Optimal T=1.0509859323501587\n",
            "4000\n",
            "N: 6000 | Time: 0.068 (0.065) | Cvg@1: 0.670 (0.663) | Cvg@5: 0.973 (0.910) | Cvg@RAPS: 0.973 (0.954) | Size@RAPS: 5.357 (5.474)\n",
            "N: 6000 | Time: 0.065 (0.075) | Cvg@1: 0.682 (0.741) | Cvg@5: 0.847 (0.931) | Cvg@RAPS: 0.882 (0.951) | Size@RAPS: 3.847 (3.541)\n",
            "Model: True\n",
            "Begin Platt scaling.\n",
            "Platt: True\n",
            "Computing logits for model (only happens once).\n"
          ]
        },
        {
          "output_type": "stream",
          "name": "stderr",
          "text": [
            "100%|██████████| 32/32 [00:01<00:00, 17.83it/s]\n",
            "100%|██████████| 32/32 [00:01<00:00, 17.10it/s]\n"
          ]
        },
        {
          "output_type": "stream",
          "name": "stdout",
          "text": [
            "Optimal T=0.9621989727020264\n",
            "0.9507802724838257\n",
            "Model: False\n",
            "Begin Platt scaling.\n",
            "Platt: False\n",
            "Computing logits for model (only happens once).\n"
          ]
        },
        {
          "output_type": "stream",
          "name": "stderr",
          "text": [
            "100%|██████████| 32/32 [00:01<00:00, 17.92it/s]\n"
          ]
        },
        {
          "output_type": "stream",
          "name": "stdout",
          "text": [
            "Optimal T=1.0515040159225464\n",
            "0.9460180401802063\n",
            "N: 4000 | Time: 0.024 (0.064) | Cvg@1: 0.750 (0.665) | Cvg@5: 0.875 (0.902) | Cvg@RAPS: 0.969 (0.949) | Size@RAPS: 8.844 (8.086)\n",
            "N: 4000 | Time: 0.022 (0.074) | Cvg@1: 0.704 (0.739) | Cvg@5: 0.852 (0.932) | Cvg@RAPS: 0.926 (0.955) | Size@RAPS: 5.444 (5.696)\n",
            "Trial: 1 0.9511 0.0037\n",
            "Model: True\n",
            "Begin Platt scaling.\n",
            "Platt: True\n",
            "Computing logits for model (only happens once).\n"
          ]
        },
        {
          "output_type": "stream",
          "name": "stderr",
          "text": [
            "100%|██████████| 32/32 [00:01<00:00, 17.74it/s]\n",
            "100%|██████████| 32/32 [00:01<00:00, 17.18it/s]\n"
          ]
        },
        {
          "output_type": "stream",
          "name": "stdout",
          "text": [
            "Optimal T=0.9534426331520081\n",
            "5 0.1 <torch.utils.data.dataset.Subset object at 0x7f68aabd9450>\n",
            "0.9845835566520691\n",
            "Model: False\n",
            "Begin Platt scaling.\n",
            "Platt: False\n",
            "Computing logits for model (only happens once).\n"
          ]
        },
        {
          "output_type": "stream",
          "name": "stderr",
          "text": [
            "100%|██████████| 32/32 [00:01<00:00, 16.93it/s]\n"
          ]
        },
        {
          "output_type": "stream",
          "name": "stdout",
          "text": [
            "Optimal T=1.0533409118652344\n",
            "9 0.01 <torch.utils.data.dataset.Subset object at 0x7f68aabd9890>\n",
            "0.9667282104492188\n",
            "N: 4000 | Time: 0.019 (0.066) | Cvg@1: 0.719 (0.665) | Cvg@5: 0.844 (0.902) | Cvg@RAPS: 0.906 (0.953) | Size@RAPS: 6.531 (6.769)\n",
            "N: 4000 | Time: 0.023 (0.075) | Cvg@1: 0.769 (0.738) | Cvg@5: 0.962 (0.932) | Cvg@RAPS: 0.962 (0.948) | Size@RAPS: 4.269 (3.907)\n",
            "Model: True\n",
            "Begin Platt scaling.\n",
            "Platt: True\n",
            "Computing logits for model (only happens once).\n"
          ]
        },
        {
          "output_type": "stream",
          "name": "stderr",
          "text": [
            "100%|██████████| 32/32 [00:01<00:00, 17.75it/s]\n",
            "100%|██████████| 32/32 [00:01<00:00, 16.82it/s]\n"
          ]
        },
        {
          "output_type": "stream",
          "name": "stdout",
          "text": [
            "Optimal T=0.95176762342453\n",
            "3238\n",
            "Model: False\n",
            "Begin Platt scaling.\n",
            "Platt: False\n",
            "Computing logits for model (only happens once).\n"
          ]
        },
        {
          "output_type": "stream",
          "name": "stderr",
          "text": [
            "100%|██████████| 32/32 [00:01<00:00, 17.62it/s]\n"
          ]
        },
        {
          "output_type": "stream",
          "name": "stdout",
          "text": [
            "Optimal T=1.0510154962539673\n",
            "4000\n",
            "N: 6000 | Time: 0.058 (0.064) | Cvg@1: 0.598 (0.662) | Cvg@5: 0.902 (0.910) | Cvg@RAPS: 0.955 (0.954) | Size@RAPS: 5.554 (5.474)\n",
            "N: 6000 | Time: 0.074 (0.076) | Cvg@1: 0.703 (0.741) | Cvg@5: 0.956 (0.931) | Cvg@RAPS: 0.967 (0.951) | Size@RAPS: 3.495 (3.528)\n",
            "Model: True\n",
            "Begin Platt scaling.\n",
            "Platt: True\n",
            "Computing logits for model (only happens once).\n"
          ]
        },
        {
          "output_type": "stream",
          "name": "stderr",
          "text": [
            "100%|██████████| 32/32 [00:01<00:00, 18.03it/s]\n",
            "100%|██████████| 32/32 [00:01<00:00, 16.74it/s]\n"
          ]
        },
        {
          "output_type": "stream",
          "name": "stdout",
          "text": [
            "Optimal T=0.9454817175865173\n",
            "0.9523997902870178\n",
            "Model: False\n",
            "Begin Platt scaling.\n",
            "Platt: False\n",
            "Computing logits for model (only happens once).\n"
          ]
        },
        {
          "output_type": "stream",
          "name": "stderr",
          "text": [
            "100%|██████████| 32/32 [00:01<00:00, 17.76it/s]\n"
          ]
        },
        {
          "output_type": "stream",
          "name": "stdout",
          "text": [
            "Optimal T=1.0485970973968506\n",
            "0.9478861093521118\n",
            "N: 4000 | Time: 0.024 (0.066) | Cvg@1: 0.625 (0.665) | Cvg@5: 0.844 (0.902) | Cvg@RAPS: 0.906 (0.950) | Size@RAPS: 9.562 (8.201)\n",
            "N: 4000 | Time: 0.023 (0.076) | Cvg@1: 0.880 (0.739) | Cvg@5: 1.000 (0.932) | Cvg@RAPS: 1.000 (0.947) | Size@RAPS: 3.120 (5.534)\n",
            "Trial: 2 0.9498 0.0035\n",
            "Model: True\n",
            "Begin Platt scaling.\n",
            "Platt: True\n",
            "Computing logits for model (only happens once).\n"
          ]
        },
        {
          "output_type": "stream",
          "name": "stderr",
          "text": [
            "100%|██████████| 32/32 [00:01<00:00, 17.40it/s]\n",
            "100%|██████████| 32/32 [00:01<00:00, 16.93it/s]\n"
          ]
        },
        {
          "output_type": "stream",
          "name": "stdout",
          "text": [
            "Optimal T=0.9578151702880859\n",
            "6 0.2 <torch.utils.data.dataset.Subset object at 0x7f68aabd9e10>\n",
            "0.9711560010910034\n",
            "Model: False\n",
            "Begin Platt scaling.\n",
            "Platt: False\n",
            "Computing logits for model (only happens once).\n"
          ]
        },
        {
          "output_type": "stream",
          "name": "stderr",
          "text": [
            "100%|██████████| 32/32 [00:01<00:00, 17.89it/s]\n"
          ]
        },
        {
          "output_type": "stream",
          "name": "stdout",
          "text": [
            "Optimal T=1.0577343702316284\n",
            "10 0.01 <torch.utils.data.dataset.Subset object at 0x7f67d68d44d0>\n",
            "0.9584572315216064\n",
            "N: 4000 | Time: 0.020 (0.066) | Cvg@1: 0.625 (0.665) | Cvg@5: 0.875 (0.902) | Cvg@RAPS: 1.000 (0.949) | Size@RAPS: 6.156 (6.622)\n",
            "N: 4000 | Time: 0.022 (0.076) | Cvg@1: 0.724 (0.739) | Cvg@5: 0.931 (0.933) | Cvg@RAPS: 0.966 (0.944) | Size@RAPS: 4.103 (3.789)\n",
            "Model: True\n",
            "Begin Platt scaling.\n",
            "Platt: True\n",
            "Computing logits for model (only happens once).\n"
          ]
        },
        {
          "output_type": "stream",
          "name": "stderr",
          "text": [
            "100%|██████████| 32/32 [00:01<00:00, 17.75it/s]\n",
            "100%|██████████| 32/32 [00:02<00:00, 15.72it/s]\n"
          ]
        },
        {
          "output_type": "stream",
          "name": "stdout",
          "text": [
            "Optimal T=0.9484060406684875\n",
            "3238\n",
            "Model: False\n",
            "Begin Platt scaling.\n",
            "Platt: False\n",
            "Computing logits for model (only happens once).\n"
          ]
        },
        {
          "output_type": "stream",
          "name": "stderr",
          "text": [
            "100%|██████████| 32/32 [00:01<00:00, 17.95it/s]\n"
          ]
        },
        {
          "output_type": "stream",
          "name": "stdout",
          "text": [
            "Optimal T=1.0564725399017334\n",
            "4000\n",
            "N: 6000 | Time: 0.057 (0.065) | Cvg@1: 0.679 (0.662) | Cvg@5: 0.902 (0.910) | Cvg@RAPS: 0.955 (0.954) | Size@RAPS: 5.268 (5.471)\n",
            "N: 6000 | Time: 0.066 (0.074) | Cvg@1: 0.739 (0.741) | Cvg@5: 0.924 (0.931) | Cvg@RAPS: 0.924 (0.951) | Size@RAPS: 3.293 (3.522)\n",
            "Model: True\n",
            "Begin Platt scaling.\n",
            "Platt: True\n",
            "Computing logits for model (only happens once).\n"
          ]
        },
        {
          "output_type": "stream",
          "name": "stderr",
          "text": [
            "100%|██████████| 32/32 [00:01<00:00, 17.98it/s]\n",
            "100%|██████████| 32/32 [00:01<00:00, 16.89it/s]\n"
          ]
        },
        {
          "output_type": "stream",
          "name": "stdout",
          "text": [
            "Optimal T=0.9529595375061035\n",
            "0.9516225457191467\n",
            "Model: False\n",
            "Begin Platt scaling.\n",
            "Platt: False\n",
            "Computing logits for model (only happens once).\n"
          ]
        },
        {
          "output_type": "stream",
          "name": "stderr",
          "text": [
            "100%|██████████| 32/32 [00:01<00:00, 17.80it/s]\n"
          ]
        },
        {
          "output_type": "stream",
          "name": "stdout",
          "text": [
            "Optimal T=1.04951810836792\n",
            "0.9514859914779663\n",
            "N: 4000 | Time: 0.019 (0.064) | Cvg@1: 0.594 (0.665) | Cvg@5: 0.875 (0.902) | Cvg@RAPS: 0.938 (0.954) | Size@RAPS: 9.812 (8.533)\n",
            "N: 4000 | Time: 0.022 (0.074) | Cvg@1: 0.615 (0.739) | Cvg@5: 0.923 (0.932) | Cvg@RAPS: 1.000 (0.950) | Size@RAPS: 5.769 (5.598)\n",
            "Trial: 3 0.9499 0.0031\n",
            "Model: True\n",
            "Begin Platt scaling.\n",
            "Platt: True\n",
            "Computing logits for model (only happens once).\n"
          ]
        },
        {
          "output_type": "stream",
          "name": "stderr",
          "text": [
            "100%|██████████| 32/32 [00:01<00:00, 18.08it/s]\n",
            "100%|██████████| 32/32 [00:01<00:00, 16.82it/s]\n"
          ]
        },
        {
          "output_type": "stream",
          "name": "stdout",
          "text": [
            "Optimal T=0.9526121616363525\n",
            "5 0.1 <torch.utils.data.dataset.Subset object at 0x7f67d68d4950>\n",
            "0.9880834817886353\n",
            "Model: False\n",
            "Begin Platt scaling.\n",
            "Platt: False\n",
            "Computing logits for model (only happens once).\n"
          ]
        },
        {
          "output_type": "stream",
          "name": "stderr",
          "text": [
            "100%|██████████| 32/32 [00:01<00:00, 17.96it/s]\n"
          ]
        },
        {
          "output_type": "stream",
          "name": "stdout",
          "text": [
            "Optimal T=1.0467885732650757\n",
            "10 0.01 <torch.utils.data.dataset.Subset object at 0x7f68aabd9ed0>\n",
            "0.9631460309028625\n",
            "N: 4000 | Time: 0.020 (0.065) | Cvg@1: 0.594 (0.665) | Cvg@5: 0.875 (0.902) | Cvg@RAPS: 0.969 (0.951) | Size@RAPS: 5.812 (6.731)\n",
            "N: 4000 | Time: 0.024 (0.075) | Cvg@1: 0.640 (0.739) | Cvg@5: 0.920 (0.932) | Cvg@RAPS: 0.920 (0.952) | Size@RAPS: 4.440 (4.050)\n",
            "Model: True\n",
            "Begin Platt scaling.\n",
            "Platt: True\n",
            "Computing logits for model (only happens once).\n"
          ]
        },
        {
          "output_type": "stream",
          "name": "stderr",
          "text": [
            "100%|██████████| 32/32 [00:01<00:00, 17.39it/s]\n",
            "100%|██████████| 32/32 [00:01<00:00, 16.68it/s]\n"
          ]
        },
        {
          "output_type": "stream",
          "name": "stdout",
          "text": [
            "Optimal T=0.9611982703208923\n",
            "3238\n",
            "Model: False\n",
            "Begin Platt scaling.\n",
            "Platt: False\n",
            "Computing logits for model (only happens once).\n"
          ]
        },
        {
          "output_type": "stream",
          "name": "stderr",
          "text": [
            "100%|██████████| 32/32 [00:01<00:00, 17.27it/s]\n"
          ]
        },
        {
          "output_type": "stream",
          "name": "stdout",
          "text": [
            "Optimal T=1.044411301612854\n",
            "4000\n",
            "N: 6000 | Time: 0.055 (0.066) | Cvg@1: 0.714 (0.663) | Cvg@5: 0.938 (0.910) | Cvg@RAPS: 0.964 (0.955) | Size@RAPS: 5.152 (5.483)\n",
            "N: 6000 | Time: 0.068 (0.075) | Cvg@1: 0.738 (0.741) | Cvg@5: 0.940 (0.931) | Cvg@RAPS: 0.952 (0.951) | Size@RAPS: 3.524 (3.544)\n",
            "Model: True\n",
            "Begin Platt scaling.\n",
            "Platt: True\n",
            "Computing logits for model (only happens once).\n"
          ]
        },
        {
          "output_type": "stream",
          "name": "stderr",
          "text": [
            "100%|██████████| 32/32 [00:01<00:00, 17.86it/s]\n",
            "100%|██████████| 32/32 [00:01<00:00, 17.25it/s]\n"
          ]
        },
        {
          "output_type": "stream",
          "name": "stdout",
          "text": [
            "Optimal T=0.9469534158706665\n",
            "0.9536861777305603\n",
            "Model: False\n",
            "Begin Platt scaling.\n",
            "Platt: False\n",
            "Computing logits for model (only happens once).\n"
          ]
        },
        {
          "output_type": "stream",
          "name": "stderr",
          "text": [
            "100%|██████████| 32/32 [00:01<00:00, 17.83it/s]\n"
          ]
        },
        {
          "output_type": "stream",
          "name": "stdout",
          "text": [
            "Optimal T=1.0535895824432373\n",
            "0.9482579231262207\n",
            "N: 4000 | Time: 0.019 (0.063) | Cvg@1: 0.688 (0.665) | Cvg@5: 0.875 (0.902) | Cvg@RAPS: 0.938 (0.951) | Size@RAPS: 7.375 (8.314)\n",
            "N: 4000 | Time: 0.030 (0.074) | Cvg@1: 0.591 (0.739) | Cvg@5: 0.818 (0.932) | Cvg@RAPS: 0.818 (0.948) | Size@RAPS: 5.182 (5.637)\n",
            "Trial: 4 0.9495 0.0029\n",
            "Model: True\n",
            "Begin Platt scaling.\n",
            "Platt: True\n",
            "Computing logits for model (only happens once).\n"
          ]
        },
        {
          "output_type": "stream",
          "name": "stderr",
          "text": [
            "100%|██████████| 32/32 [00:01<00:00, 18.09it/s]\n",
            "100%|██████████| 32/32 [00:01<00:00, 16.49it/s]\n"
          ]
        },
        {
          "output_type": "stream",
          "name": "stdout",
          "text": [
            "Optimal T=0.9520559906959534\n",
            "6 0.1 <torch.utils.data.dataset.Subset object at 0x7f67d68d4390>\n",
            "0.9746206998825073\n",
            "Model: False\n",
            "Begin Platt scaling.\n",
            "Platt: False\n",
            "Computing logits for model (only happens once).\n"
          ]
        },
        {
          "output_type": "stream",
          "name": "stderr",
          "text": [
            "100%|██████████| 32/32 [00:01<00:00, 17.83it/s]\n"
          ]
        },
        {
          "output_type": "stream",
          "name": "stdout",
          "text": [
            "Optimal T=1.054335594177246\n",
            "11 0.1 <torch.utils.data.dataset.Subset object at 0x7f68aabd9050>\n",
            "0.9810875654220581\n",
            "N: 4000 | Time: 0.019 (0.066) | Cvg@1: 0.562 (0.665) | Cvg@5: 0.875 (0.902) | Cvg@RAPS: 0.938 (0.950) | Size@RAPS: 6.656 (6.712)\n",
            "N: 4000 | Time: 0.022 (0.075) | Cvg@1: 0.808 (0.738) | Cvg@5: 0.923 (0.932) | Cvg@RAPS: 0.923 (0.946) | Size@RAPS: 3.846 (3.958)\n",
            "Model: True\n",
            "Begin Platt scaling.\n",
            "Platt: True\n",
            "Computing logits for model (only happens once).\n"
          ]
        },
        {
          "output_type": "stream",
          "name": "stderr",
          "text": [
            "100%|██████████| 32/32 [00:01<00:00, 17.51it/s]\n",
            "100%|██████████| 32/32 [00:01<00:00, 16.54it/s]\n"
          ]
        },
        {
          "output_type": "stream",
          "name": "stdout",
          "text": [
            "Optimal T=0.9447104930877686\n",
            "3238\n",
            "Model: False\n",
            "Begin Platt scaling.\n",
            "Platt: False\n",
            "Computing logits for model (only happens once).\n"
          ]
        },
        {
          "output_type": "stream",
          "name": "stderr",
          "text": [
            "100%|██████████| 32/32 [00:01<00:00, 17.62it/s]\n"
          ]
        },
        {
          "output_type": "stream",
          "name": "stdout",
          "text": [
            "Optimal T=1.0595287084579468\n",
            "4000\n",
            "N: 6000 | Time: 0.059 (0.066) | Cvg@1: 0.688 (0.662) | Cvg@5: 0.911 (0.910) | Cvg@RAPS: 0.946 (0.954) | Size@RAPS: 5.232 (5.471)\n",
            "N: 6000 | Time: 0.065 (0.075) | Cvg@1: 0.800 (0.741) | Cvg@5: 0.944 (0.931) | Cvg@RAPS: 0.978 (0.951) | Size@RAPS: 3.033 (3.522)\n",
            "Model: True\n",
            "Begin Platt scaling.\n",
            "Platt: True\n",
            "Computing logits for model (only happens once).\n"
          ]
        },
        {
          "output_type": "stream",
          "name": "stderr",
          "text": [
            "100%|██████████| 32/32 [00:01<00:00, 17.40it/s]\n",
            "100%|██████████| 32/32 [00:01<00:00, 16.84it/s]\n"
          ]
        },
        {
          "output_type": "stream",
          "name": "stdout",
          "text": [
            "Optimal T=0.9513184428215027\n",
            "0.9536886215209961\n",
            "Model: False\n",
            "Begin Platt scaling.\n",
            "Platt: False\n",
            "Computing logits for model (only happens once).\n"
          ]
        },
        {
          "output_type": "stream",
          "name": "stderr",
          "text": [
            "100%|██████████| 32/32 [00:01<00:00, 17.48it/s]\n"
          ]
        },
        {
          "output_type": "stream",
          "name": "stdout",
          "text": [
            "Optimal T=1.0495222806930542\n",
            "0.9471532702445984\n",
            "N: 4000 | Time: 0.021 (0.066) | Cvg@1: 0.562 (0.665) | Cvg@5: 0.969 (0.902) | Cvg@RAPS: 0.969 (0.951) | Size@RAPS: 12.594 (8.149)\n",
            "N: 4000 | Time: 0.026 (0.075) | Cvg@1: 0.773 (0.739) | Cvg@5: 0.909 (0.932) | Cvg@RAPS: 0.955 (0.953) | Size@RAPS: 7.136 (5.725)\n",
            "Trial: 5 0.95 0.0029\n",
            "Model: True\n",
            "Begin Platt scaling.\n",
            "Platt: True\n",
            "Computing logits for model (only happens once).\n"
          ]
        },
        {
          "output_type": "stream",
          "name": "stderr",
          "text": [
            "100%|██████████| 32/32 [00:01<00:00, 17.44it/s]\n",
            "100%|██████████| 32/32 [00:01<00:00, 16.72it/s]\n"
          ]
        },
        {
          "output_type": "stream",
          "name": "stdout",
          "text": [
            "Optimal T=0.9473745226860046\n",
            "7 0.5 <torch.utils.data.dataset.Subset object at 0x7f68aabd9a90>\n",
            "0.9704160094261169\n",
            "Model: False\n",
            "Begin Platt scaling.\n",
            "Platt: False\n",
            "Computing logits for model (only happens once).\n"
          ]
        },
        {
          "output_type": "stream",
          "name": "stderr",
          "text": [
            "100%|██████████| 32/32 [00:01<00:00, 17.43it/s]\n"
          ]
        },
        {
          "output_type": "stream",
          "name": "stdout",
          "text": [
            "Optimal T=1.0536258220672607\n",
            "8 0.01 <torch.utils.data.dataset.Subset object at 0x7f67d68d4bd0>\n",
            "0.9732223153114319\n",
            "N: 4000 | Time: 0.022 (0.067) | Cvg@1: 0.656 (0.665) | Cvg@5: 0.875 (0.902) | Cvg@RAPS: 0.938 (0.954) | Size@RAPS: 6.906 (6.887)\n",
            "N: 4000 | Time: 0.023 (0.077) | Cvg@1: 0.926 (0.739) | Cvg@5: 0.926 (0.932) | Cvg@RAPS: 1.000 (0.947) | Size@RAPS: 3.000 (4.020)\n",
            "Model: True\n",
            "Begin Platt scaling.\n",
            "Platt: True\n",
            "Computing logits for model (only happens once).\n"
          ]
        },
        {
          "output_type": "stream",
          "name": "stderr",
          "text": [
            "100%|██████████| 32/32 [00:01<00:00, 17.13it/s]\n",
            "100%|██████████| 32/32 [00:01<00:00, 16.21it/s]\n"
          ]
        },
        {
          "output_type": "stream",
          "name": "stdout",
          "text": [
            "Optimal T=0.9510083794593811\n",
            "3238\n",
            "Model: False\n",
            "Begin Platt scaling.\n",
            "Platt: False\n",
            "Computing logits for model (only happens once).\n"
          ]
        },
        {
          "output_type": "stream",
          "name": "stderr",
          "text": [
            "100%|██████████| 32/32 [00:01<00:00, 17.20it/s]\n"
          ]
        },
        {
          "output_type": "stream",
          "name": "stdout",
          "text": [
            "Optimal T=1.0526394844055176\n",
            "4000\n",
            "N: 6000 | Time: 0.058 (0.065) | Cvg@1: 0.696 (0.662) | Cvg@5: 0.946 (0.910) | Cvg@RAPS: 0.991 (0.954) | Size@RAPS: 5.616 (5.472)\n",
            "N: 6000 | Time: 0.067 (0.081) | Cvg@1: 0.705 (0.741) | Cvg@5: 0.937 (0.931) | Cvg@RAPS: 0.979 (0.951) | Size@RAPS: 3.495 (3.530)\n",
            "Model: True\n",
            "Begin Platt scaling.\n",
            "Platt: True\n",
            "Computing logits for model (only happens once).\n"
          ]
        },
        {
          "output_type": "stream",
          "name": "stderr",
          "text": [
            "100%|██████████| 32/32 [00:01<00:00, 17.52it/s]\n",
            "100%|██████████| 32/32 [00:01<00:00, 16.94it/s]\n"
          ]
        },
        {
          "output_type": "stream",
          "name": "stdout",
          "text": [
            "Optimal T=0.9498141407966614\n",
            "0.9553428292274475\n",
            "Model: False\n",
            "Begin Platt scaling.\n",
            "Platt: False\n",
            "Computing logits for model (only happens once).\n"
          ]
        },
        {
          "output_type": "stream",
          "name": "stderr",
          "text": [
            "100%|██████████| 32/32 [00:01<00:00, 17.70it/s]\n"
          ]
        },
        {
          "output_type": "stream",
          "name": "stdout",
          "text": [
            "Optimal T=1.0531796216964722\n",
            "0.9464958310127258\n",
            "N: 4000 | Time: 0.019 (0.065) | Cvg@1: 0.594 (0.665) | Cvg@5: 0.906 (0.902) | Cvg@RAPS: 0.812 (0.950) | Size@RAPS: 7.281 (8.156)\n",
            "N: 4000 | Time: 0.022 (0.074) | Cvg@1: 0.682 (0.739) | Cvg@5: 0.864 (0.932) | Cvg@RAPS: 0.909 (0.952) | Size@RAPS: 6.409 (5.825)\n",
            "Trial: 6 0.9503 0.0028\n",
            "Model: True\n",
            "Begin Platt scaling.\n",
            "Platt: True\n",
            "Computing logits for model (only happens once).\n"
          ]
        },
        {
          "output_type": "stream",
          "name": "stderr",
          "text": [
            "100%|██████████| 32/32 [00:01<00:00, 17.79it/s]\n",
            "100%|██████████| 32/32 [00:01<00:00, 16.43it/s]\n"
          ]
        },
        {
          "output_type": "stream",
          "name": "stdout",
          "text": [
            "Optimal T=0.9516111016273499\n",
            "6 0.2 <torch.utils.data.dataset.Subset object at 0x7f67d68d4fd0>\n",
            "0.9796463251113892\n",
            "Model: False\n",
            "Begin Platt scaling.\n",
            "Platt: False\n",
            "Computing logits for model (only happens once).\n"
          ]
        },
        {
          "output_type": "stream",
          "name": "stderr",
          "text": [
            "100%|██████████| 32/32 [00:01<00:00, 17.88it/s]\n"
          ]
        },
        {
          "output_type": "stream",
          "name": "stdout",
          "text": [
            "Optimal T=1.0519627332687378\n",
            "11 0.2 <torch.utils.data.dataset.Subset object at 0x7f68aabd9cd0>\n",
            "0.9805163145065308\n",
            "N: 4000 | Time: 0.021 (0.065) | Cvg@1: 0.656 (0.665) | Cvg@5: 0.906 (0.902) | Cvg@RAPS: 0.875 (0.949) | Size@RAPS: 6.594 (6.540)\n",
            "N: 4000 | Time: 0.022 (0.075) | Cvg@1: 0.667 (0.738) | Cvg@5: 0.875 (0.932) | Cvg@RAPS: 0.917 (0.951) | Size@RAPS: 4.500 (4.025)\n",
            "Model: True\n",
            "Begin Platt scaling.\n",
            "Platt: True\n",
            "Computing logits for model (only happens once).\n"
          ]
        },
        {
          "output_type": "stream",
          "name": "stderr",
          "text": [
            "100%|██████████| 32/32 [00:01<00:00, 17.54it/s]\n",
            "100%|██████████| 32/32 [00:01<00:00, 17.07it/s]\n"
          ]
        },
        {
          "output_type": "stream",
          "name": "stdout",
          "text": [
            "Optimal T=0.9492573142051697\n",
            "3238\n",
            "Model: False\n",
            "Begin Platt scaling.\n",
            "Platt: False\n",
            "Computing logits for model (only happens once).\n"
          ]
        },
        {
          "output_type": "stream",
          "name": "stderr",
          "text": [
            "100%|██████████| 32/32 [00:01<00:00, 17.72it/s]\n"
          ]
        },
        {
          "output_type": "stream",
          "name": "stdout",
          "text": [
            "Optimal T=1.0530451536178589\n",
            "4000\n",
            "N: 6000 | Time: 0.056 (0.066) | Cvg@1: 0.625 (0.662) | Cvg@5: 0.902 (0.910) | Cvg@RAPS: 0.946 (0.954) | Size@RAPS: 6.116 (5.472)\n",
            "N: 6000 | Time: 0.066 (0.075) | Cvg@1: 0.670 (0.741) | Cvg@5: 0.928 (0.931) | Cvg@RAPS: 0.938 (0.951) | Size@RAPS: 3.371 (3.523)\n",
            "Model: True\n",
            "Begin Platt scaling.\n",
            "Platt: True\n",
            "Computing logits for model (only happens once).\n"
          ]
        },
        {
          "output_type": "stream",
          "name": "stderr",
          "text": [
            "100%|██████████| 32/32 [00:01<00:00, 18.03it/s]\n",
            "100%|██████████| 32/32 [00:01<00:00, 17.03it/s]\n"
          ]
        },
        {
          "output_type": "stream",
          "name": "stdout",
          "text": [
            "Optimal T=0.9559174180030823\n",
            "0.9508062601089478\n",
            "Model: False\n",
            "Begin Platt scaling.\n",
            "Platt: False\n",
            "Computing logits for model (only happens once).\n"
          ]
        },
        {
          "output_type": "stream",
          "name": "stderr",
          "text": [
            "100%|██████████| 32/32 [00:01<00:00, 17.68it/s]\n"
          ]
        },
        {
          "output_type": "stream",
          "name": "stdout",
          "text": [
            "Optimal T=1.0521564483642578\n",
            "0.9480185508728027\n",
            "N: 4000 | Time: 0.026 (0.065) | Cvg@1: 0.625 (0.665) | Cvg@5: 0.906 (0.902) | Cvg@RAPS: 0.969 (0.953) | Size@RAPS: 12.031 (8.267)\n",
            "N: 4000 | Time: 0.021 (0.074) | Cvg@1: 0.818 (0.739) | Cvg@5: 0.955 (0.932) | Cvg@RAPS: 1.000 (0.947) | Size@RAPS: 4.591 (5.579)\n",
            "Trial: 7 0.9499 0.0028\n",
            "Model: True\n",
            "Begin Platt scaling.\n",
            "Platt: True\n",
            "Computing logits for model (only happens once).\n"
          ]
        },
        {
          "output_type": "stream",
          "name": "stderr",
          "text": [
            "100%|██████████| 32/32 [00:01<00:00, 17.84it/s]\n",
            "100%|██████████| 32/32 [00:01<00:00, 16.88it/s]\n"
          ]
        },
        {
          "output_type": "stream",
          "name": "stdout",
          "text": [
            "Optimal T=0.9586620926856995\n",
            "5 0.1 <torch.utils.data.dataset.Subset object at 0x7f67d68d4ad0>\n",
            "0.9936418533325195\n",
            "Model: False\n",
            "Begin Platt scaling.\n",
            "Platt: False\n",
            "Computing logits for model (only happens once).\n"
          ]
        },
        {
          "output_type": "stream",
          "name": "stderr",
          "text": [
            "100%|██████████| 32/32 [00:01<00:00, 17.66it/s]\n"
          ]
        },
        {
          "output_type": "stream",
          "name": "stdout",
          "text": [
            "Optimal T=1.0588493347167969\n",
            "11 0.1 <torch.utils.data.dataset.Subset object at 0x7f67d68d4ed0>\n",
            "0.9769660234451294\n",
            "N: 4000 | Time: 0.022 (0.065) | Cvg@1: 0.594 (0.665) | Cvg@5: 0.844 (0.902) | Cvg@RAPS: 0.938 (0.950) | Size@RAPS: 6.906 (6.505)\n",
            "N: 4000 | Time: 0.022 (0.075) | Cvg@1: 0.733 (0.739) | Cvg@5: 0.933 (0.932) | Cvg@RAPS: 0.967 (0.954) | Size@RAPS: 4.667 (4.355)\n",
            "Model: True\n",
            "Begin Platt scaling.\n",
            "Platt: True\n",
            "Computing logits for model (only happens once).\n"
          ]
        },
        {
          "output_type": "stream",
          "name": "stderr",
          "text": [
            "100%|██████████| 32/32 [00:01<00:00, 17.67it/s]\n",
            "100%|██████████| 32/32 [00:01<00:00, 16.91it/s]\n"
          ]
        },
        {
          "output_type": "stream",
          "name": "stdout",
          "text": [
            "Optimal T=0.9573208689689636\n",
            "3238\n",
            "Model: False\n",
            "Begin Platt scaling.\n",
            "Platt: False\n",
            "Computing logits for model (only happens once).\n"
          ]
        },
        {
          "output_type": "stream",
          "name": "stderr",
          "text": [
            "100%|██████████| 32/32 [00:01<00:00, 17.50it/s]\n"
          ]
        },
        {
          "output_type": "stream",
          "name": "stdout",
          "text": [
            "Optimal T=1.0574918985366821\n",
            "4000\n",
            "N: 6000 | Time: 0.058 (0.066) | Cvg@1: 0.652 (0.663) | Cvg@5: 0.929 (0.910) | Cvg@RAPS: 0.955 (0.954) | Size@RAPS: 5.607 (5.469)\n",
            "N: 6000 | Time: 0.066 (0.076) | Cvg@1: 0.726 (0.741) | Cvg@5: 0.958 (0.931) | Cvg@RAPS: 0.958 (0.951) | Size@RAPS: 3.168 (3.533)\n",
            "Model: True\n",
            "Begin Platt scaling.\n",
            "Platt: True\n",
            "Computing logits for model (only happens once).\n"
          ]
        },
        {
          "output_type": "stream",
          "name": "stderr",
          "text": [
            "100%|██████████| 32/32 [00:01<00:00, 17.73it/s]\n",
            "100%|██████████| 32/32 [00:01<00:00, 16.54it/s]\n"
          ]
        },
        {
          "output_type": "stream",
          "name": "stdout",
          "text": [
            "Optimal T=0.9562997221946716\n",
            "0.9511014819145203\n",
            "Model: False\n",
            "Begin Platt scaling.\n",
            "Platt: False\n",
            "Computing logits for model (only happens once).\n"
          ]
        },
        {
          "output_type": "stream",
          "name": "stderr",
          "text": [
            "100%|██████████| 32/32 [00:01<00:00, 17.93it/s]\n"
          ]
        },
        {
          "output_type": "stream",
          "name": "stdout",
          "text": [
            "Optimal T=1.0513278245925903\n",
            "0.9461028575897217\n",
            "N: 4000 | Time: 0.020 (0.064) | Cvg@1: 0.562 (0.665) | Cvg@5: 0.812 (0.902) | Cvg@RAPS: 0.906 (0.946) | Size@RAPS: 9.344 (8.088)\n",
            "N: 4000 | Time: 0.024 (0.075) | Cvg@1: 0.828 (0.738) | Cvg@5: 0.966 (0.932) | Cvg@RAPS: 0.966 (0.951) | Size@RAPS: 4.103 (5.618)\n",
            "Trial: 8 0.9501 0.0027\n",
            "Model: True\n",
            "Begin Platt scaling.\n",
            "Platt: True\n",
            "Computing logits for model (only happens once).\n"
          ]
        },
        {
          "output_type": "stream",
          "name": "stderr",
          "text": [
            "100%|██████████| 32/32 [00:01<00:00, 17.77it/s]\n",
            "100%|██████████| 32/32 [00:01<00:00, 17.04it/s]\n"
          ]
        },
        {
          "output_type": "stream",
          "name": "stdout",
          "text": [
            "Optimal T=0.9484147429466248\n",
            "5 0.1 <torch.utils.data.dataset.Subset object at 0x7f68aabd9450>\n",
            "0.9866962432861328\n",
            "Model: False\n",
            "Begin Platt scaling.\n",
            "Platt: False\n",
            "Computing logits for model (only happens once).\n"
          ]
        },
        {
          "output_type": "stream",
          "name": "stderr",
          "text": [
            "100%|██████████| 32/32 [00:01<00:00, 17.58it/s]\n"
          ]
        },
        {
          "output_type": "stream",
          "name": "stdout",
          "text": [
            "Optimal T=1.0501389503479004\n",
            "12 0.5 <torch.utils.data.dataset.Subset object at 0x7f67d68d4c50>\n",
            "0.9683087468147278\n",
            "N: 4000 | Time: 0.020 (0.067) | Cvg@1: 0.812 (0.665) | Cvg@5: 0.969 (0.902) | Cvg@RAPS: 0.969 (0.945) | Size@RAPS: 4.875 (6.209)\n",
            "N: 4000 | Time: 0.022 (0.074) | Cvg@1: 0.769 (0.738) | Cvg@5: 0.962 (0.932) | Cvg@RAPS: 0.962 (0.951) | Size@RAPS: 3.923 (3.963)\n",
            "Model: True\n",
            "Begin Platt scaling.\n",
            "Platt: True\n",
            "Computing logits for model (only happens once).\n"
          ]
        },
        {
          "output_type": "stream",
          "name": "stderr",
          "text": [
            "100%|██████████| 32/32 [00:01<00:00, 17.26it/s]\n",
            "100%|██████████| 32/32 [00:01<00:00, 16.95it/s]\n"
          ]
        },
        {
          "output_type": "stream",
          "name": "stdout",
          "text": [
            "Optimal T=0.9512319564819336\n",
            "3238\n",
            "Model: False\n",
            "Begin Platt scaling.\n",
            "Platt: False\n",
            "Computing logits for model (only happens once).\n"
          ]
        },
        {
          "output_type": "stream",
          "name": "stderr",
          "text": [
            "100%|██████████| 32/32 [00:01<00:00, 17.75it/s]\n"
          ]
        },
        {
          "output_type": "stream",
          "name": "stdout",
          "text": [
            "Optimal T=1.055208444595337\n",
            "4000\n",
            "N: 6000 | Time: 0.056 (0.065) | Cvg@1: 0.625 (0.662) | Cvg@5: 0.893 (0.910) | Cvg@RAPS: 0.938 (0.954) | Size@RAPS: 6.205 (5.470)\n",
            "N: 6000 | Time: 0.067 (0.075) | Cvg@1: 0.739 (0.741) | Cvg@5: 0.966 (0.931) | Cvg@RAPS: 0.977 (0.951) | Size@RAPS: 3.500 (3.528)\n",
            "Model: True\n",
            "Begin Platt scaling.\n",
            "Platt: True\n",
            "Computing logits for model (only happens once).\n"
          ]
        },
        {
          "output_type": "stream",
          "name": "stderr",
          "text": [
            "100%|██████████| 32/32 [00:01<00:00, 18.07it/s]\n",
            "100%|██████████| 32/32 [00:01<00:00, 17.21it/s]\n"
          ]
        },
        {
          "output_type": "stream",
          "name": "stdout",
          "text": [
            "Optimal T=0.9539445638656616\n",
            "0.9455724358558655\n",
            "Model: False\n",
            "Begin Platt scaling.\n",
            "Platt: False\n",
            "Computing logits for model (only happens once).\n"
          ]
        },
        {
          "output_type": "stream",
          "name": "stderr",
          "text": [
            "100%|██████████| 32/32 [00:01<00:00, 18.12it/s]\n"
          ]
        },
        {
          "output_type": "stream",
          "name": "stdout",
          "text": [
            "Optimal T=1.0479775667190552\n",
            "0.9481630921363831\n",
            "N: 4000 | Time: 0.028 (0.064) | Cvg@1: 0.688 (0.665) | Cvg@5: 0.969 (0.902) | Cvg@RAPS: 0.969 (0.951) | Size@RAPS: 7.938 (8.212)\n",
            "N: 4000 | Time: 0.038 (0.076) | Cvg@1: 0.759 (0.739) | Cvg@5: 0.966 (0.932) | Cvg@RAPS: 0.931 (0.946) | Size@RAPS: 5.379 (5.223)\n",
            "Trial: 9 0.9496 0.0029\n",
            "Model: True\n",
            "Begin Platt scaling.\n",
            "Platt: True\n",
            "Computing logits for model (only happens once).\n"
          ]
        },
        {
          "output_type": "stream",
          "name": "stderr",
          "text": [
            "100%|██████████| 32/32 [00:01<00:00, 16.13it/s]\n",
            "100%|██████████| 32/32 [00:01<00:00, 17.08it/s]\n"
          ]
        },
        {
          "output_type": "stream",
          "name": "stdout",
          "text": [
            "Optimal T=0.9549298286437988\n",
            "5 0.01 <torch.utils.data.dataset.Subset object at 0x7f67d68e1390>\n",
            "0.9619093537330627\n",
            "Model: False\n",
            "Begin Platt scaling.\n",
            "Platt: False\n",
            "Computing logits for model (only happens once).\n"
          ]
        },
        {
          "output_type": "stream",
          "name": "stderr",
          "text": [
            "100%|██████████| 32/32 [00:01<00:00, 17.73it/s]\n"
          ]
        },
        {
          "output_type": "stream",
          "name": "stdout",
          "text": [
            "Optimal T=1.0456387996673584\n",
            "11 0.1 <torch.utils.data.dataset.Subset object at 0x7f68aabd9b50>\n",
            "0.9838004112243652\n",
            "N: 4000 | Time: 0.019 (0.067) | Cvg@1: 0.625 (0.665) | Cvg@5: 0.938 (0.902) | Cvg@RAPS: 0.969 (0.951) | Size@RAPS: 7.625 (6.827)\n",
            "N: 4000 | Time: 0.023 (0.076) | Cvg@1: 0.565 (0.738) | Cvg@5: 0.870 (0.932) | Cvg@RAPS: 0.957 (0.948) | Size@RAPS: 5.609 (4.316)\n",
            "Model: True\n",
            "Begin Platt scaling.\n",
            "Platt: True\n",
            "Computing logits for model (only happens once).\n"
          ]
        },
        {
          "output_type": "stream",
          "name": "stderr",
          "text": [
            "100%|██████████| 32/32 [00:01<00:00, 17.70it/s]\n",
            "100%|██████████| 32/32 [00:01<00:00, 16.37it/s]\n"
          ]
        },
        {
          "output_type": "stream",
          "name": "stdout",
          "text": [
            "Optimal T=0.959708571434021\n",
            "3238\n",
            "Model: False\n",
            "Begin Platt scaling.\n",
            "Platt: False\n",
            "Computing logits for model (only happens once).\n"
          ]
        },
        {
          "output_type": "stream",
          "name": "stderr",
          "text": [
            "100%|██████████| 32/32 [00:01<00:00, 17.66it/s]\n"
          ]
        },
        {
          "output_type": "stream",
          "name": "stdout",
          "text": [
            "Optimal T=1.0459518432617188\n",
            "4000\n",
            "N: 6000 | Time: 0.054 (0.065) | Cvg@1: 0.652 (0.663) | Cvg@5: 0.857 (0.910) | Cvg@RAPS: 0.911 (0.954) | Size@RAPS: 5.920 (5.480)\n",
            "N: 6000 | Time: 0.071 (0.075) | Cvg@1: 0.730 (0.741) | Cvg@5: 0.933 (0.931) | Cvg@RAPS: 0.933 (0.951) | Size@RAPS: 3.663 (3.538)\n",
            "Model: True\n",
            "Begin Platt scaling.\n",
            "Platt: True\n",
            "Computing logits for model (only happens once).\n"
          ]
        },
        {
          "output_type": "stream",
          "name": "stderr",
          "text": [
            "100%|██████████| 32/32 [00:01<00:00, 17.78it/s]\n",
            "100%|██████████| 32/32 [00:01<00:00, 16.78it/s]\n"
          ]
        },
        {
          "output_type": "stream",
          "name": "stdout",
          "text": [
            "Optimal T=0.9603821039199829\n",
            "0.9500089883804321\n",
            "Model: False\n",
            "Begin Platt scaling.\n",
            "Platt: False\n",
            "Computing logits for model (only happens once).\n"
          ]
        },
        {
          "output_type": "stream",
          "name": "stderr",
          "text": [
            "100%|██████████| 32/32 [00:01<00:00, 17.62it/s]\n"
          ]
        },
        {
          "output_type": "stream",
          "name": "stdout",
          "text": [
            "Optimal T=1.051836371421814\n",
            "0.9490674734115601\n",
            "N: 4000 | Time: 0.019 (0.065) | Cvg@1: 0.656 (0.665) | Cvg@5: 0.875 (0.902) | Cvg@RAPS: 0.969 (0.952) | Size@RAPS: 8.656 (8.354)\n",
            "N: 4000 | Time: 0.022 (0.073) | Cvg@1: 0.852 (0.738) | Cvg@5: 0.963 (0.932) | Cvg@RAPS: 1.000 (0.948) | Size@RAPS: 6.259 (5.597)\n",
            "Trial: 10 0.9495 0.0028\n",
            "Model: True\n",
            "Begin Platt scaling.\n",
            "Platt: True\n",
            "Computing logits for model (only happens once).\n"
          ]
        },
        {
          "output_type": "stream",
          "name": "stderr",
          "text": [
            "100%|██████████| 32/32 [00:01<00:00, 18.11it/s]\n",
            "100%|██████████| 32/32 [00:01<00:00, 16.55it/s]\n"
          ]
        },
        {
          "output_type": "stream",
          "name": "stdout",
          "text": [
            "Optimal T=0.9448349475860596\n",
            "5 0.1 <torch.utils.data.dataset.Subset object at 0x7f68aabd90d0>\n",
            "0.991143524646759\n",
            "Model: False\n",
            "Begin Platt scaling.\n",
            "Platt: False\n",
            "Computing logits for model (only happens once).\n"
          ]
        },
        {
          "output_type": "stream",
          "name": "stderr",
          "text": [
            "100%|██████████| 32/32 [00:01<00:00, 17.63it/s]\n"
          ]
        },
        {
          "output_type": "stream",
          "name": "stdout",
          "text": [
            "Optimal T=1.053154468536377\n",
            "10 0.01 <torch.utils.data.dataset.Subset object at 0x7f67d68d0ad0>\n",
            "0.9614816308021545\n",
            "N: 4000 | Time: 0.019 (0.066) | Cvg@1: 0.781 (0.665) | Cvg@5: 0.875 (0.902) | Cvg@RAPS: 0.969 (0.950) | Size@RAPS: 6.062 (6.723)\n",
            "N: 4000 | Time: 0.022 (0.075) | Cvg@1: 0.690 (0.739) | Cvg@5: 0.966 (0.932) | Cvg@RAPS: 0.966 (0.953) | Size@RAPS: 4.448 (4.163)\n",
            "Model: True\n",
            "Begin Platt scaling.\n",
            "Platt: True\n",
            "Computing logits for model (only happens once).\n"
          ]
        },
        {
          "output_type": "stream",
          "name": "stderr",
          "text": [
            "100%|██████████| 32/32 [00:01<00:00, 17.51it/s]\n",
            "100%|██████████| 32/32 [00:01<00:00, 16.89it/s]\n"
          ]
        },
        {
          "output_type": "stream",
          "name": "stdout",
          "text": [
            "Optimal T=0.9497134685516357\n",
            "3238\n",
            "Model: False\n",
            "Begin Platt scaling.\n",
            "Platt: False\n",
            "Computing logits for model (only happens once).\n"
          ]
        },
        {
          "output_type": "stream",
          "name": "stderr",
          "text": [
            "100%|██████████| 32/32 [00:01<00:00, 17.51it/s]\n"
          ]
        },
        {
          "output_type": "stream",
          "name": "stdout",
          "text": [
            "Optimal T=1.0485310554504395\n",
            "4000\n",
            "N: 6000 | Time: 0.056 (0.064) | Cvg@1: 0.670 (0.663) | Cvg@5: 0.902 (0.910) | Cvg@RAPS: 0.929 (0.954) | Size@RAPS: 5.116 (5.478)\n",
            "N: 6000 | Time: 0.062 (0.076) | Cvg@1: 0.788 (0.740) | Cvg@5: 0.953 (0.931) | Cvg@RAPS: 1.000 (0.951) | Size@RAPS: 3.306 (3.527)\n",
            "Model: True\n",
            "Begin Platt scaling.\n",
            "Platt: True\n",
            "Computing logits for model (only happens once).\n"
          ]
        },
        {
          "output_type": "stream",
          "name": "stderr",
          "text": [
            "100%|██████████| 32/32 [00:01<00:00, 17.85it/s]\n",
            "100%|██████████| 32/32 [00:01<00:00, 16.79it/s]\n"
          ]
        },
        {
          "output_type": "stream",
          "name": "stdout",
          "text": [
            "Optimal T=0.9575319290161133\n",
            "0.9515029788017273\n",
            "Model: False\n",
            "Begin Platt scaling.\n",
            "Platt: False\n",
            "Computing logits for model (only happens once).\n"
          ]
        },
        {
          "output_type": "stream",
          "name": "stderr",
          "text": [
            "100%|██████████| 32/32 [00:01<00:00, 17.88it/s]\n"
          ]
        },
        {
          "output_type": "stream",
          "name": "stdout",
          "text": [
            "Optimal T=1.048583984375\n",
            "0.9489805698394775\n",
            "N: 4000 | Time: 0.024 (0.066) | Cvg@1: 0.562 (0.665) | Cvg@5: 0.781 (0.902) | Cvg@RAPS: 0.812 (0.951) | Size@RAPS: 9.906 (8.294)\n",
            "N: 4000 | Time: 0.022 (0.075) | Cvg@1: 0.652 (0.739) | Cvg@5: 0.913 (0.932) | Cvg@RAPS: 0.913 (0.952) | Size@RAPS: 5.826 (5.661)\n",
            "Trial: 11 0.9497 0.0027\n",
            "Model: True\n",
            "Begin Platt scaling.\n",
            "Platt: True\n",
            "Computing logits for model (only happens once).\n"
          ]
        },
        {
          "output_type": "stream",
          "name": "stderr",
          "text": [
            "100%|██████████| 32/32 [00:01<00:00, 17.39it/s]\n",
            "100%|██████████| 32/32 [00:01<00:00, 16.93it/s]\n"
          ]
        },
        {
          "output_type": "stream",
          "name": "stdout",
          "text": [
            "Optimal T=0.9531131982803345\n",
            "5 0.1 <torch.utils.data.dataset.Subset object at 0x7f67d68d0dd0>\n",
            "0.9868977665901184\n",
            "Model: False\n",
            "Begin Platt scaling.\n",
            "Platt: False\n",
            "Computing logits for model (only happens once).\n"
          ]
        },
        {
          "output_type": "stream",
          "name": "stderr",
          "text": [
            "100%|██████████| 32/32 [00:01<00:00, 17.78it/s]\n"
          ]
        },
        {
          "output_type": "stream",
          "name": "stdout",
          "text": [
            "Optimal T=1.0551713705062866\n",
            "9 0.01 <torch.utils.data.dataset.Subset object at 0x7f68aabd9190>\n",
            "0.9686403870582581\n",
            "N: 4000 | Time: 0.020 (0.065) | Cvg@1: 0.625 (0.665) | Cvg@5: 0.906 (0.902) | Cvg@RAPS: 0.906 (0.953) | Size@RAPS: 6.625 (6.872)\n",
            "N: 4000 | Time: 0.021 (0.076) | Cvg@1: 0.762 (0.739) | Cvg@5: 0.857 (0.932) | Cvg@RAPS: 0.905 (0.950) | Size@RAPS: 3.810 (3.998)\n",
            "Model: True\n",
            "Begin Platt scaling.\n",
            "Platt: True\n",
            "Computing logits for model (only happens once).\n"
          ]
        },
        {
          "output_type": "stream",
          "name": "stderr",
          "text": [
            "100%|██████████| 32/32 [00:01<00:00, 17.38it/s]\n",
            "100%|██████████| 32/32 [00:01<00:00, 16.81it/s]\n"
          ]
        },
        {
          "output_type": "stream",
          "name": "stdout",
          "text": [
            "Optimal T=0.948735237121582\n",
            "3238\n",
            "Model: False\n",
            "Begin Platt scaling.\n",
            "Platt: False\n",
            "Computing logits for model (only happens once).\n"
          ]
        },
        {
          "output_type": "stream",
          "name": "stderr",
          "text": [
            "100%|██████████| 32/32 [00:01<00:00, 16.95it/s]\n"
          ]
        },
        {
          "output_type": "stream",
          "name": "stdout",
          "text": [
            "Optimal T=1.0512290000915527\n",
            "4000\n",
            "N: 6000 | Time: 0.055 (0.066) | Cvg@1: 0.571 (0.662) | Cvg@5: 0.884 (0.910) | Cvg@RAPS: 0.946 (0.954) | Size@RAPS: 6.018 (5.474)\n",
            "N: 6000 | Time: 0.065 (0.075) | Cvg@1: 0.798 (0.741) | Cvg@5: 0.899 (0.931) | Cvg@RAPS: 0.978 (0.951) | Size@RAPS: 3.180 (3.525)\n",
            "Model: True\n",
            "Begin Platt scaling.\n",
            "Platt: True\n",
            "Computing logits for model (only happens once).\n"
          ]
        },
        {
          "output_type": "stream",
          "name": "stderr",
          "text": [
            "100%|██████████| 32/32 [00:01<00:00, 17.44it/s]\n",
            "100%|██████████| 32/32 [00:01<00:00, 17.01it/s]\n"
          ]
        },
        {
          "output_type": "stream",
          "name": "stdout",
          "text": [
            "Optimal T=0.9568471908569336\n",
            "0.9523577690124512\n",
            "Model: False\n",
            "Begin Platt scaling.\n",
            "Platt: False\n",
            "Computing logits for model (only happens once).\n"
          ]
        },
        {
          "output_type": "stream",
          "name": "stderr",
          "text": [
            "100%|██████████| 32/32 [00:01<00:00, 17.70it/s]\n"
          ]
        },
        {
          "output_type": "stream",
          "name": "stdout",
          "text": [
            "Optimal T=1.050115704536438\n",
            "0.9489803314208984\n",
            "N: 4000 | Time: 0.020 (0.063) | Cvg@1: 0.594 (0.665) | Cvg@5: 0.906 (0.902) | Cvg@RAPS: 1.000 (0.950) | Size@RAPS: 9.000 (8.310)\n",
            "N: 4000 | Time: 0.021 (0.075) | Cvg@1: 0.800 (0.739) | Cvg@5: 0.960 (0.932) | Cvg@RAPS: 0.920 (0.953) | Size@RAPS: 4.080 (5.719)\n",
            "Trial: 12 0.9499 0.0027\n",
            "Model: True\n",
            "Begin Platt scaling.\n",
            "Platt: True\n",
            "Computing logits for model (only happens once).\n"
          ]
        },
        {
          "output_type": "stream",
          "name": "stderr",
          "text": [
            "100%|██████████| 32/32 [00:01<00:00, 17.49it/s]\n",
            "100%|██████████| 32/32 [00:01<00:00, 16.70it/s]\n"
          ]
        },
        {
          "output_type": "stream",
          "name": "stdout",
          "text": [
            "Optimal T=0.9659140110015869\n",
            "5 0.01 <torch.utils.data.dataset.Subset object at 0x7f67d68d0490>\n",
            "0.9636622667312622\n",
            "Model: False\n",
            "Begin Platt scaling.\n",
            "Platt: False\n",
            "Computing logits for model (only happens once).\n"
          ]
        },
        {
          "output_type": "stream",
          "name": "stderr",
          "text": [
            "100%|██████████| 32/32 [00:01<00:00, 17.54it/s]\n"
          ]
        },
        {
          "output_type": "stream",
          "name": "stdout",
          "text": [
            "Optimal T=1.0558981895446777\n",
            "11 0.1 <torch.utils.data.dataset.Subset object at 0x7f67d68d0490>\n",
            "0.9756719470024109\n",
            "N: 4000 | Time: 0.019 (0.067) | Cvg@1: 0.750 (0.665) | Cvg@5: 0.906 (0.902) | Cvg@RAPS: 1.000 (0.947) | Size@RAPS: 4.750 (6.426)\n",
            "N: 4000 | Time: 0.022 (0.075) | Cvg@1: 0.640 (0.738) | Cvg@5: 0.960 (0.931) | Cvg@RAPS: 0.920 (0.951) | Size@RAPS: 5.000 (4.480)\n",
            "Model: True\n",
            "Begin Platt scaling.\n",
            "Platt: True\n",
            "Computing logits for model (only happens once).\n"
          ]
        },
        {
          "output_type": "stream",
          "name": "stderr",
          "text": [
            "100%|██████████| 32/32 [00:01<00:00, 18.01it/s]\n",
            "100%|██████████| 32/32 [00:01<00:00, 16.96it/s]\n"
          ]
        },
        {
          "output_type": "stream",
          "name": "stdout",
          "text": [
            "Optimal T=0.9621247053146362\n",
            "3238\n",
            "Model: False\n",
            "Begin Platt scaling.\n",
            "Platt: False\n",
            "Computing logits for model (only happens once).\n"
          ]
        },
        {
          "output_type": "stream",
          "name": "stderr",
          "text": [
            "100%|██████████| 32/32 [00:01<00:00, 17.86it/s]\n"
          ]
        },
        {
          "output_type": "stream",
          "name": "stdout",
          "text": [
            "Optimal T=1.047498345375061\n",
            "4000\n",
            "N: 6000 | Time: 0.054 (0.065) | Cvg@1: 0.616 (0.663) | Cvg@5: 0.893 (0.910) | Cvg@RAPS: 0.955 (0.954) | Size@RAPS: 6.152 (5.479)\n",
            "N: 6000 | Time: 0.073 (0.076) | Cvg@1: 0.728 (0.741) | Cvg@5: 0.913 (0.931) | Cvg@RAPS: 0.946 (0.951) | Size@RAPS: 3.380 (3.547)\n",
            "Model: True\n",
            "Begin Platt scaling.\n",
            "Platt: True\n",
            "Computing logits for model (only happens once).\n"
          ]
        },
        {
          "output_type": "stream",
          "name": "stderr",
          "text": [
            "100%|██████████| 32/32 [00:01<00:00, 17.27it/s]\n",
            "100%|██████████| 32/32 [00:01<00:00, 16.78it/s]\n"
          ]
        },
        {
          "output_type": "stream",
          "name": "stdout",
          "text": [
            "Optimal T=0.9556029438972473\n",
            "0.9529003500938416\n",
            "Model: False\n",
            "Begin Platt scaling.\n",
            "Platt: False\n",
            "Computing logits for model (only happens once).\n"
          ]
        },
        {
          "output_type": "stream",
          "name": "stderr",
          "text": [
            "100%|██████████| 32/32 [00:01<00:00, 17.96it/s]\n"
          ]
        },
        {
          "output_type": "stream",
          "name": "stdout",
          "text": [
            "Optimal T=1.0510612726211548\n",
            "0.9470500946044922\n",
            "N: 4000 | Time: 0.020 (0.065) | Cvg@1: 0.531 (0.665) | Cvg@5: 0.875 (0.902) | Cvg@RAPS: 0.969 (0.951) | Size@RAPS: 11.125 (8.165)\n",
            "N: 4000 | Time: 0.022 (0.074) | Cvg@1: 0.692 (0.739) | Cvg@5: 0.923 (0.932) | Cvg@RAPS: 0.962 (0.952) | Size@RAPS: 8.577 (5.738)\n",
            "Trial: 13 0.9501 0.0027\n",
            "Model: True\n",
            "Begin Platt scaling.\n",
            "Platt: True\n",
            "Computing logits for model (only happens once).\n"
          ]
        },
        {
          "output_type": "stream",
          "name": "stderr",
          "text": [
            "100%|██████████| 32/32 [00:01<00:00, 17.94it/s]\n",
            "100%|██████████| 32/32 [00:01<00:00, 16.66it/s]\n"
          ]
        },
        {
          "output_type": "stream",
          "name": "stdout",
          "text": [
            "Optimal T=0.9545794129371643\n",
            "7 0.2 <torch.utils.data.dataset.Subset object at 0x7f68aabd99d0>\n",
            "0.96586012840271\n",
            "Model: False\n",
            "Begin Platt scaling.\n",
            "Platt: False\n",
            "Computing logits for model (only happens once).\n"
          ]
        },
        {
          "output_type": "stream",
          "name": "stderr",
          "text": [
            "100%|██████████| 32/32 [00:01<00:00, 17.73it/s]\n"
          ]
        },
        {
          "output_type": "stream",
          "name": "stdout",
          "text": [
            "Optimal T=1.051724910736084\n",
            "8 0.01 <torch.utils.data.dataset.Subset object at 0x7f67d68d0350>\n",
            "0.9741309285163879\n",
            "N: 4000 | Time: 0.020 (0.067) | Cvg@1: 0.750 (0.665) | Cvg@5: 0.906 (0.902) | Cvg@RAPS: 0.938 (0.957) | Size@RAPS: 8.281 (6.909)\n",
            "N: 4000 | Time: 0.023 (0.075) | Cvg@1: 0.867 (0.738) | Cvg@5: 0.933 (0.932) | Cvg@RAPS: 0.933 (0.945) | Size@RAPS: 3.367 (3.951)\n",
            "Model: True\n",
            "Begin Platt scaling.\n",
            "Platt: True\n",
            "Computing logits for model (only happens once).\n"
          ]
        },
        {
          "output_type": "stream",
          "name": "stderr",
          "text": [
            "100%|██████████| 32/32 [00:01<00:00, 17.25it/s]\n",
            "100%|██████████| 32/32 [00:01<00:00, 16.53it/s]\n"
          ]
        },
        {
          "output_type": "stream",
          "name": "stdout",
          "text": [
            "Optimal T=0.9485344290733337\n",
            "3238\n",
            "Model: False\n",
            "Begin Platt scaling.\n",
            "Platt: False\n",
            "Computing logits for model (only happens once).\n"
          ]
        },
        {
          "output_type": "stream",
          "name": "stderr",
          "text": [
            "100%|██████████| 32/32 [00:01<00:00, 17.36it/s]\n"
          ]
        },
        {
          "output_type": "stream",
          "name": "stdout",
          "text": [
            "Optimal T=1.0462709665298462\n",
            "4000\n",
            "N: 6000 | Time: 0.059 (0.066) | Cvg@1: 0.616 (0.663) | Cvg@5: 0.848 (0.910) | Cvg@RAPS: 0.884 (0.954) | Size@RAPS: 5.661 (5.480)\n",
            "N: 6000 | Time: 0.073 (0.075) | Cvg@1: 0.761 (0.741) | Cvg@5: 0.946 (0.931) | Cvg@RAPS: 0.957 (0.951) | Size@RAPS: 3.489 (3.525)\n",
            "Model: True\n",
            "Begin Platt scaling.\n",
            "Platt: True\n",
            "Computing logits for model (only happens once).\n"
          ]
        },
        {
          "output_type": "stream",
          "name": "stderr",
          "text": [
            "100%|██████████| 32/32 [00:01<00:00, 17.62it/s]\n",
            "100%|██████████| 32/32 [00:01<00:00, 16.85it/s]\n"
          ]
        },
        {
          "output_type": "stream",
          "name": "stdout",
          "text": [
            "Optimal T=0.9668370485305786\n",
            "0.9463406801223755\n",
            "Model: False\n",
            "Begin Platt scaling.\n",
            "Platt: False\n",
            "Computing logits for model (only happens once).\n"
          ]
        },
        {
          "output_type": "stream",
          "name": "stderr",
          "text": [
            "100%|██████████| 32/32 [00:01<00:00, 17.97it/s]\n"
          ]
        },
        {
          "output_type": "stream",
          "name": "stdout",
          "text": [
            "Optimal T=1.0547205209732056\n",
            "0.9461898803710938\n",
            "N: 4000 | Time: 0.021 (0.064) | Cvg@1: 0.750 (0.665) | Cvg@5: 0.844 (0.902) | Cvg@RAPS: 0.969 (0.949) | Size@RAPS: 8.938 (8.149)\n",
            "N: 4000 | Time: 0.023 (0.075) | Cvg@1: 0.680 (0.739) | Cvg@5: 0.880 (0.932) | Cvg@RAPS: 0.960 (0.948) | Size@RAPS: 8.480 (5.452)\n",
            "Trial: 14 0.9499 0.0027\n",
            "Model: True\n",
            "Begin Platt scaling.\n",
            "Platt: True\n",
            "Computing logits for model (only happens once).\n"
          ]
        },
        {
          "output_type": "stream",
          "name": "stderr",
          "text": [
            "100%|██████████| 32/32 [00:01<00:00, 17.48it/s]\n",
            "100%|██████████| 32/32 [00:01<00:00, 17.08it/s]\n"
          ]
        },
        {
          "output_type": "stream",
          "name": "stdout",
          "text": [
            "Optimal T=0.9608168601989746\n",
            "5 0.1 <torch.utils.data.dataset.Subset object at 0x7f67d68d0f90>\n",
            "0.9886993765830994\n",
            "Model: False\n",
            "Begin Platt scaling.\n",
            "Platt: False\n",
            "Computing logits for model (only happens once).\n"
          ]
        },
        {
          "output_type": "stream",
          "name": "stderr",
          "text": [
            "100%|██████████| 32/32 [00:01<00:00, 17.68it/s]\n"
          ]
        },
        {
          "output_type": "stream",
          "name": "stdout",
          "text": [
            "Optimal T=1.062441110610962\n",
            "10 0.01 <torch.utils.data.dataset.Subset object at 0x7f68aabd9710>\n",
            "0.9628074169158936\n",
            "N: 4000 | Time: 0.022 (0.066) | Cvg@1: 0.562 (0.665) | Cvg@5: 0.875 (0.902) | Cvg@RAPS: 0.906 (0.950) | Size@RAPS: 7.062 (6.866)\n",
            "N: 4000 | Time: 0.023 (0.075) | Cvg@1: 0.793 (0.739) | Cvg@5: 0.966 (0.932) | Cvg@RAPS: 1.000 (0.952) | Size@RAPS: 3.759 (4.104)\n",
            "Model: True\n",
            "Begin Platt scaling.\n",
            "Platt: True\n",
            "Computing logits for model (only happens once).\n"
          ]
        },
        {
          "output_type": "stream",
          "name": "stderr",
          "text": [
            "100%|██████████| 32/32 [00:01<00:00, 17.06it/s]\n",
            "100%|██████████| 32/32 [00:01<00:00, 16.70it/s]\n"
          ]
        },
        {
          "output_type": "stream",
          "name": "stdout",
          "text": [
            "Optimal T=0.9599091410636902\n",
            "3238\n",
            "Model: False\n",
            "Begin Platt scaling.\n",
            "Platt: False\n",
            "Computing logits for model (only happens once).\n"
          ]
        },
        {
          "output_type": "stream",
          "name": "stderr",
          "text": [
            "100%|██████████| 32/32 [00:01<00:00, 17.49it/s]\n"
          ]
        },
        {
          "output_type": "stream",
          "name": "stdout",
          "text": [
            "Optimal T=1.0588940382003784\n",
            "4000\n",
            "N: 6000 | Time: 0.054 (0.065) | Cvg@1: 0.670 (0.663) | Cvg@5: 0.893 (0.910) | Cvg@RAPS: 0.929 (0.954) | Size@RAPS: 5.018 (5.470)\n",
            "N: 6000 | Time: 0.065 (0.075) | Cvg@1: 0.717 (0.741) | Cvg@5: 0.902 (0.931) | Cvg@RAPS: 0.924 (0.951) | Size@RAPS: 3.717 (3.537)\n",
            "Model: True\n",
            "Begin Platt scaling.\n",
            "Platt: True\n",
            "Computing logits for model (only happens once).\n"
          ]
        },
        {
          "output_type": "stream",
          "name": "stderr",
          "text": [
            "100%|██████████| 32/32 [00:01<00:00, 17.86it/s]\n",
            "100%|██████████| 32/32 [00:01<00:00, 16.67it/s]\n"
          ]
        },
        {
          "output_type": "stream",
          "name": "stdout",
          "text": [
            "Optimal T=0.9481780529022217\n",
            "0.9527265429496765\n",
            "Model: False\n",
            "Begin Platt scaling.\n",
            "Platt: False\n",
            "Computing logits for model (only happens once).\n"
          ]
        },
        {
          "output_type": "stream",
          "name": "stderr",
          "text": [
            "100%|██████████| 32/32 [00:01<00:00, 17.38it/s]\n"
          ]
        },
        {
          "output_type": "stream",
          "name": "stdout",
          "text": [
            "Optimal T=1.0469183921813965\n",
            "0.9483978152275085\n",
            "N: 4000 | Time: 0.020 (0.065) | Cvg@1: 0.719 (0.665) | Cvg@5: 0.844 (0.902) | Cvg@RAPS: 0.906 (0.950) | Size@RAPS: 7.406 (8.216)\n",
            "N: 4000 | Time: 0.022 (0.074) | Cvg@1: 0.750 (0.738) | Cvg@5: 0.964 (0.932) | Cvg@RAPS: 0.964 (0.951) | Size@RAPS: 6.393 (5.604)\n",
            "Trial: 15 0.95 0.0026\n",
            "Model: True\n",
            "Begin Platt scaling.\n",
            "Platt: True\n",
            "Computing logits for model (only happens once).\n"
          ]
        },
        {
          "output_type": "stream",
          "name": "stderr",
          "text": [
            "100%|██████████| 32/32 [00:01<00:00, 17.47it/s]\n",
            "100%|██████████| 32/32 [00:01<00:00, 16.91it/s]\n"
          ]
        },
        {
          "output_type": "stream",
          "name": "stdout",
          "text": [
            "Optimal T=0.9510464668273926\n",
            "7 0.5 <torch.utils.data.dataset.Subset object at 0x7f68aabd90d0>\n",
            "0.9653298854827881\n",
            "Model: False\n",
            "Begin Platt scaling.\n",
            "Platt: False\n",
            "Computing logits for model (only happens once).\n"
          ]
        },
        {
          "output_type": "stream",
          "name": "stderr",
          "text": [
            "100%|██████████| 32/32 [00:01<00:00, 17.37it/s]\n"
          ]
        },
        {
          "output_type": "stream",
          "name": "stdout",
          "text": [
            "Optimal T=1.0554437637329102\n",
            "8 0.01 <torch.utils.data.dataset.Subset object at 0x7f67d68d08d0>\n",
            "0.9703921675682068\n",
            "N: 4000 | Time: 0.020 (0.067) | Cvg@1: 0.625 (0.665) | Cvg@5: 0.875 (0.902) | Cvg@RAPS: 0.875 (0.955) | Size@RAPS: 7.812 (6.754)\n",
            "N: 4000 | Time: 0.022 (0.076) | Cvg@1: 0.833 (0.739) | Cvg@5: 0.958 (0.932) | Cvg@RAPS: 0.958 (0.946) | Size@RAPS: 4.250 (3.888)\n",
            "Model: True\n",
            "Begin Platt scaling.\n",
            "Platt: True\n",
            "Computing logits for model (only happens once).\n"
          ]
        },
        {
          "output_type": "stream",
          "name": "stderr",
          "text": [
            "100%|██████████| 32/32 [00:01<00:00, 17.63it/s]\n",
            "100%|██████████| 32/32 [00:01<00:00, 16.85it/s]\n"
          ]
        },
        {
          "output_type": "stream",
          "name": "stdout",
          "text": [
            "Optimal T=0.9546822309494019\n",
            "3238\n",
            "Model: False\n",
            "Begin Platt scaling.\n",
            "Platt: False\n",
            "Computing logits for model (only happens once).\n"
          ]
        },
        {
          "output_type": "stream",
          "name": "stderr",
          "text": [
            "100%|██████████| 32/32 [00:02<00:00, 15.88it/s]\n"
          ]
        },
        {
          "output_type": "stream",
          "name": "stdout",
          "text": [
            "Optimal T=1.0606695413589478\n",
            "4000\n",
            "N: 6000 | Time: 0.055 (0.065) | Cvg@1: 0.607 (0.663) | Cvg@5: 0.946 (0.910) | Cvg@RAPS: 0.955 (0.954) | Size@RAPS: 5.518 (5.471)\n",
            "N: 6000 | Time: 0.067 (0.075) | Cvg@1: 0.767 (0.741) | Cvg@5: 0.953 (0.931) | Cvg@RAPS: 0.965 (0.951) | Size@RAPS: 3.535 (3.532)\n",
            "Model: True\n",
            "Begin Platt scaling.\n",
            "Platt: True\n",
            "Computing logits for model (only happens once).\n"
          ]
        },
        {
          "output_type": "stream",
          "name": "stderr",
          "text": [
            "100%|██████████| 32/32 [00:01<00:00, 17.70it/s]\n",
            "100%|██████████| 32/32 [00:01<00:00, 17.05it/s]\n"
          ]
        },
        {
          "output_type": "stream",
          "name": "stdout",
          "text": [
            "Optimal T=0.9529717564582825\n",
            "0.95152747631073\n",
            "Model: False\n",
            "Begin Platt scaling.\n",
            "Platt: False\n",
            "Computing logits for model (only happens once).\n"
          ]
        },
        {
          "output_type": "stream",
          "name": "stderr",
          "text": [
            "100%|██████████| 32/32 [00:01<00:00, 17.72it/s]\n"
          ]
        },
        {
          "output_type": "stream",
          "name": "stdout",
          "text": [
            "Optimal T=1.052901268005371\n",
            "0.9450668096542358\n",
            "N: 4000 | Time: 0.022 (0.064) | Cvg@1: 0.688 (0.665) | Cvg@5: 0.969 (0.902) | Cvg@RAPS: 0.938 (0.949) | Size@RAPS: 7.812 (8.035)\n",
            "N: 4000 | Time: 0.022 (0.073) | Cvg@1: 0.700 (0.739) | Cvg@5: 0.967 (0.932) | Cvg@RAPS: 0.967 (0.948) | Size@RAPS: 6.500 (5.587)\n",
            "Trial: 16 0.9498 0.0026\n",
            "Model: True\n",
            "Begin Platt scaling.\n",
            "Platt: True\n",
            "Computing logits for model (only happens once).\n"
          ]
        },
        {
          "output_type": "stream",
          "name": "stderr",
          "text": [
            "100%|██████████| 32/32 [00:01<00:00, 17.85it/s]\n",
            "100%|██████████| 32/32 [00:01<00:00, 17.29it/s]\n"
          ]
        },
        {
          "output_type": "stream",
          "name": "stdout",
          "text": [
            "Optimal T=0.9598202705383301\n",
            "6 0.1 <torch.utils.data.dataset.Subset object at 0x7f68aabd9950>\n",
            "0.9769177436828613\n",
            "Model: False\n",
            "Begin Platt scaling.\n",
            "Platt: False\n",
            "Computing logits for model (only happens once).\n"
          ]
        },
        {
          "output_type": "stream",
          "name": "stderr",
          "text": [
            "100%|██████████| 32/32 [00:01<00:00, 18.03it/s]\n"
          ]
        },
        {
          "output_type": "stream",
          "name": "stdout",
          "text": [
            "Optimal T=1.0471675395965576\n",
            "11 0.1 <torch.utils.data.dataset.Subset object at 0x7f67d68d07d0>\n",
            "0.9793792366981506\n",
            "N: 4000 | Time: 0.022 (0.067) | Cvg@1: 0.719 (0.665) | Cvg@5: 0.969 (0.902) | Cvg@RAPS: 1.000 (0.951) | Size@RAPS: 7.000 (6.569)\n",
            "N: 4000 | Time: 0.022 (0.076) | Cvg@1: 0.815 (0.738) | Cvg@5: 0.926 (0.932) | Cvg@RAPS: 0.889 (0.949) | Size@RAPS: 4.407 (4.061)\n",
            "Model: True\n",
            "Begin Platt scaling.\n",
            "Platt: True\n",
            "Computing logits for model (only happens once).\n"
          ]
        },
        {
          "output_type": "stream",
          "name": "stderr",
          "text": [
            "100%|██████████| 32/32 [00:01<00:00, 17.48it/s]\n",
            "100%|██████████| 32/32 [00:01<00:00, 16.09it/s]\n"
          ]
        },
        {
          "output_type": "stream",
          "name": "stdout",
          "text": [
            "Optimal T=0.9516298770904541\n",
            "3238\n",
            "Model: False\n",
            "Begin Platt scaling.\n",
            "Platt: False\n",
            "Computing logits for model (only happens once).\n"
          ]
        },
        {
          "output_type": "stream",
          "name": "stderr",
          "text": [
            "100%|██████████| 32/32 [00:01<00:00, 16.91it/s]\n"
          ]
        },
        {
          "output_type": "stream",
          "name": "stdout",
          "text": [
            "Optimal T=1.0455397367477417\n",
            "4000\n",
            "N: 6000 | Time: 0.063 (0.066) | Cvg@1: 0.562 (0.662) | Cvg@5: 0.884 (0.910) | Cvg@RAPS: 0.955 (0.955) | Size@RAPS: 6.045 (5.481)\n",
            "N: 6000 | Time: 0.067 (0.076) | Cvg@1: 0.770 (0.741) | Cvg@5: 0.943 (0.931) | Cvg@RAPS: 0.977 (0.951) | Size@RAPS: 3.793 (3.529)\n",
            "Model: True\n",
            "Begin Platt scaling.\n",
            "Platt: True\n",
            "Computing logits for model (only happens once).\n"
          ]
        },
        {
          "output_type": "stream",
          "name": "stderr",
          "text": [
            "100%|██████████| 32/32 [00:01<00:00, 17.35it/s]\n",
            "100%|██████████| 32/32 [00:01<00:00, 16.74it/s]\n"
          ]
        },
        {
          "output_type": "stream",
          "name": "stdout",
          "text": [
            "Optimal T=0.9570650458335876\n",
            "0.9487662315368652\n",
            "Model: False\n",
            "Begin Platt scaling.\n",
            "Platt: False\n",
            "Computing logits for model (only happens once).\n"
          ]
        },
        {
          "output_type": "stream",
          "name": "stderr",
          "text": [
            "100%|██████████| 32/32 [00:01<00:00, 17.46it/s]\n"
          ]
        },
        {
          "output_type": "stream",
          "name": "stdout",
          "text": [
            "Optimal T=1.0501407384872437\n",
            "0.9491916298866272\n",
            "N: 4000 | Time: 0.024 (0.067) | Cvg@1: 0.562 (0.665) | Cvg@5: 0.844 (0.902) | Cvg@RAPS: 0.969 (0.951) | Size@RAPS: 10.781 (8.322)\n",
            "N: 4000 | Time: 0.021 (0.075) | Cvg@1: 0.759 (0.739) | Cvg@5: 0.931 (0.932) | Cvg@RAPS: 0.931 (0.948) | Size@RAPS: 4.517 (5.475)\n",
            "Trial: 17 0.9498 0.0025\n",
            "Model: True\n",
            "Begin Platt scaling.\n",
            "Platt: True\n",
            "Computing logits for model (only happens once).\n"
          ]
        },
        {
          "output_type": "stream",
          "name": "stderr",
          "text": [
            "100%|██████████| 32/32 [00:01<00:00, 17.17it/s]\n",
            "100%|██████████| 32/32 [00:01<00:00, 16.82it/s]\n"
          ]
        },
        {
          "output_type": "stream",
          "name": "stdout",
          "text": [
            "Optimal T=0.9643431901931763\n",
            "6 0.2 <torch.utils.data.dataset.Subset object at 0x7f68aabd9f50>\n",
            "0.9767739772796631\n",
            "Model: False\n",
            "Begin Platt scaling.\n",
            "Platt: False\n",
            "Computing logits for model (only happens once).\n"
          ]
        },
        {
          "output_type": "stream",
          "name": "stderr",
          "text": [
            "100%|██████████| 32/32 [00:01<00:00, 17.63it/s]\n"
          ]
        },
        {
          "output_type": "stream",
          "name": "stdout",
          "text": [
            "Optimal T=1.0479775667190552\n",
            "12 0.1 <torch.utils.data.dataset.Subset object at 0x7f68aabd9250>\n",
            "0.9717137813568115\n",
            "N: 4000 | Time: 0.019 (0.067) | Cvg@1: 0.625 (0.665) | Cvg@5: 0.906 (0.902) | Cvg@RAPS: 1.000 (0.951) | Size@RAPS: 5.500 (6.491)\n",
            "N: 4000 | Time: 0.023 (0.073) | Cvg@1: 0.793 (0.738) | Cvg@5: 0.931 (0.931) | Cvg@RAPS: 0.931 (0.951) | Size@RAPS: 4.069 (3.980)\n",
            "Model: True\n",
            "Begin Platt scaling.\n",
            "Platt: True\n",
            "Computing logits for model (only happens once).\n"
          ]
        },
        {
          "output_type": "stream",
          "name": "stderr",
          "text": [
            "100%|██████████| 32/32 [00:01<00:00, 17.47it/s]\n",
            "100%|██████████| 32/32 [00:01<00:00, 17.19it/s]\n"
          ]
        },
        {
          "output_type": "stream",
          "name": "stdout",
          "text": [
            "Optimal T=0.9562561511993408\n",
            "3238\n",
            "Model: False\n",
            "Begin Platt scaling.\n",
            "Platt: False\n",
            "Computing logits for model (only happens once).\n"
          ]
        },
        {
          "output_type": "stream",
          "name": "stderr",
          "text": [
            "100%|██████████| 32/32 [00:01<00:00, 17.34it/s]\n"
          ]
        },
        {
          "output_type": "stream",
          "name": "stdout",
          "text": [
            "Optimal T=1.052047848701477\n",
            "4000\n",
            "N: 6000 | Time: 0.057 (0.066) | Cvg@1: 0.777 (0.663) | Cvg@5: 0.929 (0.910) | Cvg@RAPS: 0.973 (0.954) | Size@RAPS: 4.804 (5.473)\n",
            "N: 6000 | Time: 0.072 (0.074) | Cvg@1: 0.702 (0.741) | Cvg@5: 0.957 (0.931) | Cvg@RAPS: 0.989 (0.951) | Size@RAPS: 3.564 (3.530)\n",
            "Model: True\n",
            "Begin Platt scaling.\n",
            "Platt: True\n",
            "Computing logits for model (only happens once).\n"
          ]
        },
        {
          "output_type": "stream",
          "name": "stderr",
          "text": [
            "100%|██████████| 32/32 [00:01<00:00, 17.71it/s]\n",
            "100%|██████████| 32/32 [00:01<00:00, 16.69it/s]\n"
          ]
        },
        {
          "output_type": "stream",
          "name": "stdout",
          "text": [
            "Optimal T=0.9560086727142334\n",
            "0.9510922431945801\n",
            "Model: False\n",
            "Begin Platt scaling.\n",
            "Platt: False\n",
            "Computing logits for model (only happens once).\n"
          ]
        },
        {
          "output_type": "stream",
          "name": "stderr",
          "text": [
            "100%|██████████| 32/32 [00:01<00:00, 17.76it/s]\n"
          ]
        },
        {
          "output_type": "stream",
          "name": "stdout",
          "text": [
            "Optimal T=1.04891836643219\n",
            "0.9462665319442749\n",
            "N: 4000 | Time: 0.022 (0.065) | Cvg@1: 0.469 (0.665) | Cvg@5: 0.781 (0.902) | Cvg@RAPS: 0.875 (0.951) | Size@RAPS: 8.781 (8.057)\n",
            "N: 4000 | Time: 0.022 (0.075) | Cvg@1: 0.708 (0.739) | Cvg@5: 0.958 (0.932) | Cvg@RAPS: 1.000 (0.951) | Size@RAPS: 4.792 (5.617)\n",
            "Trial: 18 0.9498 0.0025\n",
            "Model: True\n",
            "Begin Platt scaling.\n",
            "Platt: True\n",
            "Computing logits for model (only happens once).\n"
          ]
        },
        {
          "output_type": "stream",
          "name": "stderr",
          "text": [
            "100%|██████████| 32/32 [00:01<00:00, 17.52it/s]\n",
            "100%|██████████| 32/32 [00:01<00:00, 16.62it/s]\n"
          ]
        },
        {
          "output_type": "stream",
          "name": "stdout",
          "text": [
            "Optimal T=0.9458023905754089\n",
            "6 0.2 <torch.utils.data.dataset.Subset object at 0x7f68aabd9150>\n",
            "0.9782101511955261\n",
            "Model: False\n",
            "Begin Platt scaling.\n",
            "Platt: False\n",
            "Computing logits for model (only happens once).\n"
          ]
        },
        {
          "output_type": "stream",
          "name": "stderr",
          "text": [
            "100%|██████████| 32/32 [00:01<00:00, 17.64it/s]\n"
          ]
        },
        {
          "output_type": "stream",
          "name": "stdout",
          "text": [
            "Optimal T=1.0518001317977905\n",
            "8 0.01 <torch.utils.data.dataset.Subset object at 0x7f68aabe2c50>\n",
            "0.9727212190628052\n",
            "N: 4000 | Time: 0.019 (0.066) | Cvg@1: 0.594 (0.665) | Cvg@5: 0.875 (0.902) | Cvg@RAPS: 0.906 (0.956) | Size@RAPS: 6.469 (6.841)\n",
            "N: 4000 | Time: 0.023 (0.076) | Cvg@1: 0.536 (0.739) | Cvg@5: 0.857 (0.932) | Cvg@RAPS: 0.929 (0.949) | Size@RAPS: 4.036 (3.947)\n",
            "Model: True\n",
            "Begin Platt scaling.\n",
            "Platt: True\n",
            "Computing logits for model (only happens once).\n"
          ]
        },
        {
          "output_type": "stream",
          "name": "stderr",
          "text": [
            "100%|██████████| 32/32 [00:01<00:00, 16.98it/s]\n",
            "100%|██████████| 32/32 [00:01<00:00, 16.64it/s]\n"
          ]
        },
        {
          "output_type": "stream",
          "name": "stdout",
          "text": [
            "Optimal T=0.948966383934021\n",
            "3238\n",
            "Model: False\n",
            "Begin Platt scaling.\n",
            "Platt: False\n",
            "Computing logits for model (only happens once).\n"
          ]
        },
        {
          "output_type": "stream",
          "name": "stderr",
          "text": [
            "100%|██████████| 32/32 [00:01<00:00, 17.33it/s]\n"
          ]
        },
        {
          "output_type": "stream",
          "name": "stdout",
          "text": [
            "Optimal T=1.0515083074569702\n",
            "4000\n",
            "N: 6000 | Time: 0.056 (0.073) | Cvg@1: 0.670 (0.663) | Cvg@5: 0.884 (0.910) | Cvg@RAPS: 0.938 (0.954) | Size@RAPS: 5.295 (5.474)\n",
            "N: 6000 | Time: 0.066 (0.076) | Cvg@1: 0.738 (0.741) | Cvg@5: 0.917 (0.931) | Cvg@RAPS: 0.929 (0.951) | Size@RAPS: 3.536 (3.526)\n",
            "Model: True\n",
            "Begin Platt scaling.\n",
            "Platt: True\n",
            "Computing logits for model (only happens once).\n"
          ]
        },
        {
          "output_type": "stream",
          "name": "stderr",
          "text": [
            "100%|██████████| 32/32 [00:01<00:00, 17.31it/s]\n",
            "100%|██████████| 32/32 [00:01<00:00, 16.68it/s]\n"
          ]
        },
        {
          "output_type": "stream",
          "name": "stdout",
          "text": [
            "Optimal T=0.950984537601471\n",
            "0.9530359506607056\n",
            "Model: False\n",
            "Begin Platt scaling.\n",
            "Platt: False\n",
            "Computing logits for model (only happens once).\n"
          ]
        },
        {
          "output_type": "stream",
          "name": "stderr",
          "text": [
            "100%|██████████| 32/32 [00:01<00:00, 17.05it/s]\n"
          ]
        },
        {
          "output_type": "stream",
          "name": "stdout",
          "text": [
            "Optimal T=1.0649337768554688\n",
            "0.9413143396377563\n",
            "N: 4000 | Time: 0.019 (0.066) | Cvg@1: 0.688 (0.665) | Cvg@5: 0.938 (0.902) | Cvg@RAPS: 0.938 (0.950) | Size@RAPS: 5.688 (7.944)\n",
            "N: 4000 | Time: 0.023 (0.077) | Cvg@1: 0.724 (0.739) | Cvg@5: 0.966 (0.932) | Cvg@RAPS: 0.931 (0.954) | Size@RAPS: 4.517 (5.687)\n",
            "Trial: 19 0.95 0.0025\n",
            "Model: True\n",
            "Begin Platt scaling.\n",
            "Platt: True\n",
            "Computing logits for model (only happens once).\n"
          ]
        },
        {
          "output_type": "stream",
          "name": "stderr",
          "text": [
            "100%|██████████| 32/32 [00:01<00:00, 17.06it/s]\n",
            "100%|██████████| 32/32 [00:01<00:00, 16.19it/s]\n"
          ]
        },
        {
          "output_type": "stream",
          "name": "stdout",
          "text": [
            "Optimal T=0.9615610241889954\n",
            "7 0.2 <torch.utils.data.dataset.Subset object at 0x7f68aabd9450>\n",
            "0.9652796387672424\n",
            "Model: False\n",
            "Begin Platt scaling.\n",
            "Platt: False\n",
            "Computing logits for model (only happens once).\n"
          ]
        },
        {
          "output_type": "stream",
          "name": "stderr",
          "text": [
            "100%|██████████| 32/32 [00:01<00:00, 17.40it/s]\n"
          ]
        },
        {
          "output_type": "stream",
          "name": "stdout",
          "text": [
            "Optimal T=1.0440119504928589\n",
            "9 0.01 <torch.utils.data.dataset.Subset object at 0x7f68aabd98d0>\n",
            "0.9607008695602417\n",
            "N: 4000 | Time: 0.019 (0.069) | Cvg@1: 0.625 (0.665) | Cvg@5: 0.875 (0.902) | Cvg@RAPS: 0.906 (0.946) | Size@RAPS: 5.750 (6.407)\n",
            "N: 4000 | Time: 0.023 (0.076) | Cvg@1: 0.759 (0.739) | Cvg@5: 0.931 (0.932) | Cvg@RAPS: 0.931 (0.944) | Size@RAPS: 4.207 (3.968)\n",
            "Model: True\n",
            "Begin Platt scaling.\n",
            "Platt: True\n",
            "Computing logits for model (only happens once).\n"
          ]
        },
        {
          "output_type": "stream",
          "name": "stderr",
          "text": [
            "100%|██████████| 32/32 [00:01<00:00, 16.94it/s]\n",
            "100%|██████████| 32/32 [00:01<00:00, 16.52it/s]\n"
          ]
        },
        {
          "output_type": "stream",
          "name": "stdout",
          "text": [
            "Optimal T=0.9493268728256226\n",
            "3238\n",
            "Model: False\n",
            "Begin Platt scaling.\n",
            "Platt: False\n",
            "Computing logits for model (only happens once).\n"
          ]
        },
        {
          "output_type": "stream",
          "name": "stderr",
          "text": [
            "100%|██████████| 32/32 [00:01<00:00, 17.18it/s]\n"
          ]
        },
        {
          "output_type": "stream",
          "name": "stdout",
          "text": [
            "Optimal T=1.0490760803222656\n",
            "4000\n",
            "N: 6000 | Time: 0.061 (0.066) | Cvg@1: 0.607 (0.663) | Cvg@5: 0.955 (0.910) | Cvg@RAPS: 0.991 (0.954) | Size@RAPS: 5.964 (5.476)\n",
            "N: 6000 | Time: 0.067 (0.077) | Cvg@1: 0.804 (0.741) | Cvg@5: 0.946 (0.931) | Cvg@RAPS: 0.946 (0.951) | Size@RAPS: 3.304 (3.527)\n",
            "Model: True\n",
            "Begin Platt scaling.\n",
            "Platt: True\n",
            "Computing logits for model (only happens once).\n"
          ]
        },
        {
          "output_type": "stream",
          "name": "stderr",
          "text": [
            "100%|██████████| 32/32 [00:01<00:00, 17.18it/s]\n",
            "100%|██████████| 32/32 [00:01<00:00, 16.71it/s]\n"
          ]
        },
        {
          "output_type": "stream",
          "name": "stdout",
          "text": [
            "Optimal T=0.9423667192459106\n",
            "0.9523392915725708\n",
            "Model: False\n",
            "Begin Platt scaling.\n",
            "Platt: False\n",
            "Computing logits for model (only happens once).\n"
          ]
        },
        {
          "output_type": "stream",
          "name": "stderr",
          "text": [
            "100%|██████████| 32/32 [00:01<00:00, 16.98it/s]\n"
          ]
        },
        {
          "output_type": "stream",
          "name": "stdout",
          "text": [
            "Optimal T=1.0554827451705933\n",
            "0.9460659027099609\n",
            "N: 4000 | Time: 0.019 (0.065) | Cvg@1: 0.812 (0.665) | Cvg@5: 0.938 (0.902) | Cvg@RAPS: 1.000 (0.949) | Size@RAPS: 6.094 (8.164)\n",
            "N: 4000 | Time: 0.021 (0.075) | Cvg@1: 0.760 (0.739) | Cvg@5: 1.000 (0.932) | Cvg@RAPS: 0.960 (0.951) | Size@RAPS: 3.080 (5.480)\n",
            "Trial: 20 0.9501 0.0025\n",
            "Model: True\n",
            "Begin Platt scaling.\n",
            "Platt: True\n",
            "Computing logits for model (only happens once).\n"
          ]
        },
        {
          "output_type": "stream",
          "name": "stderr",
          "text": [
            "100%|██████████| 32/32 [00:01<00:00, 17.02it/s]\n",
            "100%|██████████| 32/32 [00:01<00:00, 17.01it/s]\n"
          ]
        },
        {
          "output_type": "stream",
          "name": "stdout",
          "text": [
            "Optimal T=0.9547726511955261\n",
            "6 0.1 <torch.utils.data.dataset.Subset object at 0x7f67d68ef750>\n",
            "0.978682279586792\n",
            "Model: False\n",
            "Begin Platt scaling.\n",
            "Platt: False\n",
            "Computing logits for model (only happens once).\n"
          ]
        },
        {
          "output_type": "stream",
          "name": "stderr",
          "text": [
            "100%|██████████| 32/32 [00:01<00:00, 17.65it/s]\n"
          ]
        },
        {
          "output_type": "stream",
          "name": "stdout",
          "text": [
            "Optimal T=1.0465995073318481\n",
            "9 0.01 <torch.utils.data.dataset.Subset object at 0x7f67d68ef310>\n",
            "0.9639989137649536\n",
            "N: 4000 | Time: 0.019 (0.066) | Cvg@1: 0.688 (0.665) | Cvg@5: 0.969 (0.902) | Cvg@RAPS: 1.000 (0.949) | Size@RAPS: 5.250 (6.573)\n",
            "N: 4000 | Time: 0.023 (0.075) | Cvg@1: 0.808 (0.738) | Cvg@5: 0.962 (0.932) | Cvg@RAPS: 0.962 (0.951) | Size@RAPS: 4.115 (4.119)\n",
            "Model: True\n",
            "Begin Platt scaling.\n",
            "Platt: True\n",
            "Computing logits for model (only happens once).\n"
          ]
        },
        {
          "output_type": "stream",
          "name": "stderr",
          "text": [
            "100%|██████████| 32/32 [00:01<00:00, 17.23it/s]\n",
            "100%|██████████| 32/32 [00:01<00:00, 16.81it/s]\n"
          ]
        },
        {
          "output_type": "stream",
          "name": "stdout",
          "text": [
            "Optimal T=0.9579250812530518\n",
            "3238\n",
            "Model: False\n",
            "Begin Platt scaling.\n",
            "Platt: False\n",
            "Computing logits for model (only happens once).\n"
          ]
        },
        {
          "output_type": "stream",
          "name": "stderr",
          "text": [
            "100%|██████████| 32/32 [00:01<00:00, 16.99it/s]\n"
          ]
        },
        {
          "output_type": "stream",
          "name": "stdout",
          "text": [
            "Optimal T=1.051463007926941\n",
            "4000\n",
            "N: 6000 | Time: 0.058 (0.066) | Cvg@1: 0.768 (0.662) | Cvg@5: 0.920 (0.910) | Cvg@RAPS: 0.955 (0.954) | Size@RAPS: 5.339 (5.474)\n",
            "N: 6000 | Time: 0.064 (0.076) | Cvg@1: 0.807 (0.741) | Cvg@5: 0.940 (0.931) | Cvg@RAPS: 0.952 (0.951) | Size@RAPS: 3.145 (3.533)\n",
            "Model: True\n",
            "Begin Platt scaling.\n",
            "Platt: True\n",
            "Computing logits for model (only happens once).\n"
          ]
        },
        {
          "output_type": "stream",
          "name": "stderr",
          "text": [
            "100%|██████████| 32/32 [00:01<00:00, 17.45it/s]\n",
            "100%|██████████| 32/32 [00:01<00:00, 16.74it/s]\n"
          ]
        },
        {
          "output_type": "stream",
          "name": "stdout",
          "text": [
            "Optimal T=0.9575409889221191\n",
            "0.95224529504776\n",
            "Model: False\n",
            "Begin Platt scaling.\n",
            "Platt: False\n",
            "Computing logits for model (only happens once).\n"
          ]
        },
        {
          "output_type": "stream",
          "name": "stderr",
          "text": [
            "100%|██████████| 32/32 [00:01<00:00, 17.42it/s]\n"
          ]
        },
        {
          "output_type": "stream",
          "name": "stdout",
          "text": [
            "Optimal T=1.0495374202728271\n",
            "0.9487130641937256\n",
            "N: 4000 | Time: 0.022 (0.067) | Cvg@1: 0.625 (0.665) | Cvg@5: 0.875 (0.902) | Cvg@RAPS: 0.969 (0.951) | Size@RAPS: 8.406 (8.281)\n",
            "N: 4000 | Time: 0.022 (0.075) | Cvg@1: 0.615 (0.739) | Cvg@5: 0.885 (0.932) | Cvg@RAPS: 0.923 (0.948) | Size@RAPS: 5.615 (5.713)\n",
            "Trial: 21 0.95 0.0025\n",
            "Model: True\n",
            "Begin Platt scaling.\n",
            "Platt: True\n",
            "Computing logits for model (only happens once).\n"
          ]
        },
        {
          "output_type": "stream",
          "name": "stderr",
          "text": [
            "100%|██████████| 32/32 [00:01<00:00, 17.82it/s]\n",
            "100%|██████████| 32/32 [00:01<00:00, 16.83it/s]\n"
          ]
        },
        {
          "output_type": "stream",
          "name": "stdout",
          "text": [
            "Optimal T=0.9595088362693787\n",
            "5 0.1 <torch.utils.data.dataset.Subset object at 0x7f68aabd9a10>\n",
            "0.985709547996521\n",
            "Model: False\n",
            "Begin Platt scaling.\n",
            "Platt: False\n",
            "Computing logits for model (only happens once).\n"
          ]
        },
        {
          "output_type": "stream",
          "name": "stderr",
          "text": [
            "100%|██████████| 32/32 [00:01<00:00, 17.23it/s]\n"
          ]
        },
        {
          "output_type": "stream",
          "name": "stdout",
          "text": [
            "Optimal T=1.044377326965332\n",
            "11 0.1 <torch.utils.data.dataset.Subset object at 0x7f67d68ef250>\n",
            "0.9772902131080627\n",
            "N: 4000 | Time: 0.019 (0.067) | Cvg@1: 0.625 (0.665) | Cvg@5: 0.875 (0.902) | Cvg@RAPS: 1.000 (0.948) | Size@RAPS: 7.031 (6.435)\n",
            "N: 4000 | Time: 0.022 (0.075) | Cvg@1: 0.760 (0.739) | Cvg@5: 0.920 (0.932) | Cvg@RAPS: 0.960 (0.951) | Size@RAPS: 4.080 (3.972)\n",
            "Model: True\n",
            "Begin Platt scaling.\n",
            "Platt: True\n",
            "Computing logits for model (only happens once).\n"
          ]
        },
        {
          "output_type": "stream",
          "name": "stderr",
          "text": [
            "100%|██████████| 32/32 [00:01<00:00, 17.26it/s]\n",
            "100%|██████████| 32/32 [00:01<00:00, 16.47it/s]\n"
          ]
        },
        {
          "output_type": "stream",
          "name": "stdout",
          "text": [
            "Optimal T=0.9528502225875854\n",
            "3238\n",
            "Model: False\n",
            "Begin Platt scaling.\n",
            "Platt: False\n",
            "Computing logits for model (only happens once).\n"
          ]
        },
        {
          "output_type": "stream",
          "name": "stderr",
          "text": [
            "100%|██████████| 32/32 [00:01<00:00, 17.64it/s]\n"
          ]
        },
        {
          "output_type": "stream",
          "name": "stdout",
          "text": [
            "Optimal T=1.0497398376464844\n",
            "4000\n",
            "N: 6000 | Time: 0.077 (0.068) | Cvg@1: 0.679 (0.662) | Cvg@5: 0.893 (0.910) | Cvg@RAPS: 0.955 (0.954) | Size@RAPS: 5.777 (5.476)\n",
            "N: 6000 | Time: 0.070 (0.076) | Cvg@1: 0.798 (0.741) | Cvg@5: 0.921 (0.931) | Cvg@RAPS: 0.955 (0.951) | Size@RAPS: 3.494 (3.531)\n",
            "Model: True\n",
            "Begin Platt scaling.\n",
            "Platt: True\n",
            "Computing logits for model (only happens once).\n"
          ]
        },
        {
          "output_type": "stream",
          "name": "stderr",
          "text": [
            "100%|██████████| 32/32 [00:01<00:00, 17.62it/s]\n",
            "100%|██████████| 32/32 [00:01<00:00, 16.75it/s]\n"
          ]
        },
        {
          "output_type": "stream",
          "name": "stdout",
          "text": [
            "Optimal T=0.9483886361122131\n",
            "0.9530375003814697\n",
            "Model: False\n",
            "Begin Platt scaling.\n",
            "Platt: False\n",
            "Computing logits for model (only happens once).\n"
          ]
        },
        {
          "output_type": "stream",
          "name": "stderr",
          "text": [
            "100%|██████████| 32/32 [00:01<00:00, 17.08it/s]\n"
          ]
        },
        {
          "output_type": "stream",
          "name": "stdout",
          "text": [
            "Optimal T=1.0497907400131226\n",
            "0.9468232989311218\n",
            "N: 4000 | Time: 0.023 (0.066) | Cvg@1: 0.562 (0.665) | Cvg@5: 0.844 (0.902) | Cvg@RAPS: 0.938 (0.949) | Size@RAPS: 11.656 (8.120)\n",
            "N: 4000 | Time: 0.022 (0.075) | Cvg@1: 0.640 (0.739) | Cvg@5: 0.920 (0.932) | Cvg@RAPS: 0.920 (0.948) | Size@RAPS: 6.680 (5.628)\n",
            "Trial: 22 0.9499 0.0024\n",
            "Model: True\n",
            "Begin Platt scaling.\n",
            "Platt: True\n",
            "Computing logits for model (only happens once).\n"
          ]
        },
        {
          "output_type": "stream",
          "name": "stderr",
          "text": [
            "100%|██████████| 32/32 [00:02<00:00, 15.63it/s]\n",
            "100%|██████████| 32/32 [00:01<00:00, 16.99it/s]\n"
          ]
        },
        {
          "output_type": "stream",
          "name": "stdout",
          "text": [
            "Optimal T=0.9540786743164062\n",
            "7 0.5 <torch.utils.data.dataset.Subset object at 0x7f67d68ef950>\n",
            "0.9628722071647644\n",
            "Model: False\n",
            "Begin Platt scaling.\n",
            "Platt: False\n",
            "Computing logits for model (only happens once).\n"
          ]
        },
        {
          "output_type": "stream",
          "name": "stderr",
          "text": [
            "100%|██████████| 32/32 [00:01<00:00, 17.35it/s]\n"
          ]
        },
        {
          "output_type": "stream",
          "name": "stdout",
          "text": [
            "Optimal T=1.0503268241882324\n",
            "9 0.01 <torch.utils.data.dataset.Subset object at 0x7f68aabd9fd0>\n",
            "0.9656032919883728\n",
            "N: 4000 | Time: 0.022 (0.066) | Cvg@1: 0.719 (0.665) | Cvg@5: 0.938 (0.902) | Cvg@RAPS: 1.000 (0.952) | Size@RAPS: 6.281 (6.688)\n",
            "N: 4000 | Time: 0.022 (0.075) | Cvg@1: 0.690 (0.739) | Cvg@5: 0.897 (0.932) | Cvg@RAPS: 0.931 (0.945) | Size@RAPS: 4.310 (3.837)\n",
            "Model: True\n",
            "Begin Platt scaling.\n",
            "Platt: True\n",
            "Computing logits for model (only happens once).\n"
          ]
        },
        {
          "output_type": "stream",
          "name": "stderr",
          "text": [
            "100%|██████████| 32/32 [00:01<00:00, 17.04it/s]\n",
            "100%|██████████| 32/32 [00:01<00:00, 16.45it/s]\n"
          ]
        },
        {
          "output_type": "stream",
          "name": "stdout",
          "text": [
            "Optimal T=0.9550800919532776\n",
            "3238\n",
            "Model: False\n",
            "Begin Platt scaling.\n",
            "Platt: False\n",
            "Computing logits for model (only happens once).\n"
          ]
        },
        {
          "output_type": "stream",
          "name": "stderr",
          "text": [
            "100%|██████████| 32/32 [00:01<00:00, 17.05it/s]\n"
          ]
        },
        {
          "output_type": "stream",
          "name": "stdout",
          "text": [
            "Optimal T=1.048217535018921\n",
            "4000\n",
            "N: 6000 | Time: 0.055 (0.064) | Cvg@1: 0.705 (0.662) | Cvg@5: 0.929 (0.910) | Cvg@RAPS: 0.955 (0.954) | Size@RAPS: 5.366 (5.479)\n",
            "N: 6000 | Time: 0.066 (0.074) | Cvg@1: 0.761 (0.741) | Cvg@5: 0.943 (0.931) | Cvg@RAPS: 0.932 (0.951) | Size@RAPS: 3.398 (3.532)\n",
            "Model: True\n",
            "Begin Platt scaling.\n",
            "Platt: True\n",
            "Computing logits for model (only happens once).\n"
          ]
        },
        {
          "output_type": "stream",
          "name": "stderr",
          "text": [
            "100%|██████████| 32/32 [00:01<00:00, 17.12it/s]\n",
            "100%|██████████| 32/32 [00:01<00:00, 16.80it/s]\n"
          ]
        },
        {
          "output_type": "stream",
          "name": "stdout",
          "text": [
            "Optimal T=0.9543322920799255\n",
            "0.9559010863304138\n",
            "Model: False\n",
            "Begin Platt scaling.\n",
            "Platt: False\n",
            "Computing logits for model (only happens once).\n"
          ]
        },
        {
          "output_type": "stream",
          "name": "stderr",
          "text": [
            "100%|██████████| 32/32 [00:01<00:00, 17.76it/s]\n"
          ]
        },
        {
          "output_type": "stream",
          "name": "stdout",
          "text": [
            "Optimal T=1.0495201349258423\n",
            "0.9434548616409302\n",
            "N: 4000 | Time: 0.019 (0.065) | Cvg@1: 0.688 (0.665) | Cvg@5: 0.938 (0.902) | Cvg@RAPS: 0.906 (0.947) | Size@RAPS: 6.344 (7.847)\n",
            "N: 4000 | Time: 0.030 (0.075) | Cvg@1: 0.600 (0.739) | Cvg@5: 0.880 (0.932) | Cvg@RAPS: 0.920 (0.953) | Size@RAPS: 4.040 (5.956)\n",
            "Trial: 23 0.95 0.0025\n",
            "Model: True\n",
            "Begin Platt scaling.\n",
            "Platt: True\n",
            "Computing logits for model (only happens once).\n"
          ]
        },
        {
          "output_type": "stream",
          "name": "stderr",
          "text": [
            "100%|██████████| 32/32 [00:01<00:00, 17.81it/s]\n",
            "100%|██████████| 32/32 [00:01<00:00, 16.57it/s]\n"
          ]
        },
        {
          "output_type": "stream",
          "name": "stdout",
          "text": [
            "Optimal T=0.9565529227256775\n",
            "6 0.1 <torch.utils.data.dataset.Subset object at 0x7f68aabd9710>\n",
            "0.9799382090568542\n",
            "Model: False\n",
            "Begin Platt scaling.\n",
            "Platt: False\n",
            "Computing logits for model (only happens once).\n"
          ]
        },
        {
          "output_type": "stream",
          "name": "stderr",
          "text": [
            "100%|██████████| 32/32 [00:01<00:00, 17.49it/s]\n"
          ]
        },
        {
          "output_type": "stream",
          "name": "stdout",
          "text": [
            "Optimal T=1.0538359880447388\n",
            "9 0.01 <torch.utils.data.dataset.Subset object at 0x7f67d68e3510>\n",
            "0.9620983004570007\n",
            "N: 4000 | Time: 0.020 (0.067) | Cvg@1: 0.719 (0.665) | Cvg@5: 0.938 (0.902) | Cvg@RAPS: 0.969 (0.947) | Size@RAPS: 5.938 (6.559)\n",
            "N: 4000 | Time: 0.026 (0.076) | Cvg@1: 0.733 (0.739) | Cvg@5: 0.967 (0.932) | Cvg@RAPS: 0.967 (0.952) | Size@RAPS: 4.100 (4.164)\n",
            "Model: True\n",
            "Begin Platt scaling.\n",
            "Platt: True\n",
            "Computing logits for model (only happens once).\n"
          ]
        },
        {
          "output_type": "stream",
          "name": "stderr",
          "text": [
            "100%|██████████| 32/32 [00:01<00:00, 17.48it/s]\n",
            "100%|██████████| 32/32 [00:01<00:00, 16.38it/s]\n"
          ]
        },
        {
          "output_type": "stream",
          "name": "stdout",
          "text": [
            "Optimal T=0.948119580745697\n",
            "3238\n",
            "Model: False\n",
            "Begin Platt scaling.\n",
            "Platt: False\n",
            "Computing logits for model (only happens once).\n"
          ]
        },
        {
          "output_type": "stream",
          "name": "stderr",
          "text": [
            "100%|██████████| 32/32 [00:01<00:00, 17.53it/s]\n"
          ]
        },
        {
          "output_type": "stream",
          "name": "stdout",
          "text": [
            "Optimal T=1.0489555597305298\n",
            "4000\n",
            "N: 6000 | Time: 0.062 (0.065) | Cvg@1: 0.607 (0.663) | Cvg@5: 0.893 (0.910) | Cvg@RAPS: 0.911 (0.954) | Size@RAPS: 6.241 (5.476)\n",
            "N: 6000 | Time: 0.073 (0.077) | Cvg@1: 0.698 (0.741) | Cvg@5: 0.927 (0.931) | Cvg@RAPS: 0.938 (0.951) | Size@RAPS: 3.396 (3.524)\n",
            "Model: True\n",
            "Begin Platt scaling.\n",
            "Platt: True\n",
            "Computing logits for model (only happens once).\n"
          ]
        },
        {
          "output_type": "stream",
          "name": "stderr",
          "text": [
            "100%|██████████| 32/32 [00:01<00:00, 17.34it/s]\n",
            "100%|██████████| 32/32 [00:01<00:00, 16.58it/s]\n"
          ]
        },
        {
          "output_type": "stream",
          "name": "stdout",
          "text": [
            "Optimal T=0.9436655640602112\n",
            "0.9515219330787659\n",
            "Model: False\n",
            "Begin Platt scaling.\n",
            "Platt: False\n",
            "Computing logits for model (only happens once).\n"
          ]
        },
        {
          "output_type": "stream",
          "name": "stderr",
          "text": [
            "100%|██████████| 32/32 [00:01<00:00, 17.47it/s]\n"
          ]
        },
        {
          "output_type": "stream",
          "name": "stdout",
          "text": [
            "Optimal T=1.0455790758132935\n",
            "0.9469961524009705\n",
            "N: 4000 | Time: 0.019 (0.065) | Cvg@1: 0.625 (0.665) | Cvg@5: 0.875 (0.902) | Cvg@RAPS: 0.906 (0.945) | Size@RAPS: 10.500 (8.062)\n",
            "N: 4000 | Time: 0.021 (0.075) | Cvg@1: 0.680 (0.739) | Cvg@5: 0.920 (0.932) | Cvg@RAPS: 0.920 (0.947) | Size@RAPS: 6.480 (5.454)\n",
            "Trial: 24 0.9499 0.0025\n",
            "Model: True\n",
            "Begin Platt scaling.\n",
            "Platt: True\n",
            "Computing logits for model (only happens once).\n"
          ]
        },
        {
          "output_type": "stream",
          "name": "stderr",
          "text": [
            "100%|██████████| 32/32 [00:01<00:00, 17.62it/s]\n",
            " 69%|██████▉   | 22/32 [00:01<00:00, 15.75it/s]\n"
          ]
        },
        {
          "output_type": "error",
          "ename": "KeyboardInterrupt",
          "evalue": "ignored",
          "traceback": [
            "\u001b[0;31m---------------------------------------------------------------------------\u001b[0m",
            "\u001b[0;31mKeyboardInterrupt\u001b[0m                         Traceback (most recent call last)",
            "\u001b[0;32m<ipython-input-7-4cf3b31e5f6b>\u001b[0m in \u001b[0;36m<module>\u001b[0;34m()\u001b[0m\n\u001b[1;32m     22\u001b[0m                                               batch_size=128, shuffle=True, **kwargs)\n\u001b[1;32m     23\u001b[0m \u001b[0;34m\u001b[0m\u001b[0m\n\u001b[0;32m---> 24\u001b[0;31m   \u001b[0mcmodel_deferral\u001b[0m \u001b[0;34m=\u001b[0m \u001b[0mConformalModel\u001b[0m\u001b[0;34m(\u001b[0m\u001b[0mmodel_deferral\u001b[0m\u001b[0;34m,\u001b[0m \u001b[0mcalibration_loader\u001b[0m\u001b[0;34m,\u001b[0m \u001b[0malpha\u001b[0m\u001b[0;34m=\u001b[0m\u001b[0;36m0.05\u001b[0m\u001b[0;34m,\u001b[0m \u001b[0mlamda\u001b[0m \u001b[0;34m=\u001b[0m \u001b[0;32mNone\u001b[0m\u001b[0;34m,\u001b[0m \u001b[0mkreg\u001b[0m \u001b[0;34m=\u001b[0m \u001b[0;32mNone\u001b[0m\u001b[0;34m,\u001b[0m \u001b[0mrandomized\u001b[0m\u001b[0;34m=\u001b[0m\u001b[0;32mTrue\u001b[0m\u001b[0;34m,\u001b[0m\u001b[0mlamda_criterion\u001b[0m\u001b[0;34m=\u001b[0m\u001b[0;34m'size'\u001b[0m\u001b[0;34m,\u001b[0m\u001b[0mdefer\u001b[0m\u001b[0;34m=\u001b[0m\u001b[0;32mTrue\u001b[0m\u001b[0;34m,\u001b[0m\u001b[0mLAC\u001b[0m\u001b[0;34m=\u001b[0m\u001b[0;32mFalse\u001b[0m\u001b[0;34m,\u001b[0m\u001b[0mallow_zero_sets\u001b[0m\u001b[0;34m=\u001b[0m\u001b[0;32mTrue\u001b[0m\u001b[0;34m)\u001b[0m\u001b[0;34m\u001b[0m\u001b[0;34m\u001b[0m\u001b[0m\n\u001b[0m\u001b[1;32m     25\u001b[0m   \u001b[0mcmodel_non_deferral\u001b[0m \u001b[0;34m=\u001b[0m \u001b[0mConformalModel\u001b[0m\u001b[0;34m(\u001b[0m\u001b[0mmodel_non_deferral\u001b[0m\u001b[0;34m,\u001b[0m \u001b[0mcalibration_loader\u001b[0m\u001b[0;34m,\u001b[0m \u001b[0malpha\u001b[0m\u001b[0;34m=\u001b[0m\u001b[0;36m0.05\u001b[0m\u001b[0;34m,\u001b[0m \u001b[0mlamda\u001b[0m \u001b[0;34m=\u001b[0m \u001b[0;32mNone\u001b[0m\u001b[0;34m,\u001b[0m \u001b[0mrandomized\u001b[0m\u001b[0;34m=\u001b[0m\u001b[0;32mTrue\u001b[0m\u001b[0;34m,\u001b[0m\u001b[0mkreg\u001b[0m \u001b[0;34m=\u001b[0m \u001b[0;32mNone\u001b[0m\u001b[0;34m,\u001b[0m \u001b[0mlamda_criterion\u001b[0m\u001b[0;34m=\u001b[0m\u001b[0;34m'size'\u001b[0m\u001b[0;34m,\u001b[0m\u001b[0mdefer\u001b[0m\u001b[0;34m=\u001b[0m\u001b[0;32mFalse\u001b[0m\u001b[0;34m,\u001b[0m\u001b[0mLAC\u001b[0m\u001b[0;34m=\u001b[0m\u001b[0;32mFalse\u001b[0m\u001b[0;34m,\u001b[0m\u001b[0mallow_zero_sets\u001b[0m\u001b[0;34m=\u001b[0m\u001b[0;32mTrue\u001b[0m\u001b[0;34m)\u001b[0m\u001b[0;34m\u001b[0m\u001b[0;34m\u001b[0m\u001b[0m\n\u001b[1;32m     26\u001b[0m   \u001b[0mtop1_deferral\u001b[0m\u001b[0;34m,\u001b[0m \u001b[0mtop5_deferral\u001b[0m\u001b[0;34m,\u001b[0m \u001b[0mcoverage_non_deferral\u001b[0m\u001b[0;34m,\u001b[0m \u001b[0msize_deferral\u001b[0m\u001b[0;34m,\u001b[0m\u001b[0mcmodel_deferral_percentage_not_deferred\u001b[0m \u001b[0;34m=\u001b[0m \u001b[0mvalidate\u001b[0m\u001b[0;34m(\u001b[0m\u001b[0mcalibration_loader\u001b[0m\u001b[0;34m,\u001b[0m \u001b[0mcmodel_non_deferral\u001b[0m\u001b[0;34m,\u001b[0m \u001b[0mprint_bool\u001b[0m\u001b[0;34m=\u001b[0m\u001b[0;32mTrue\u001b[0m\u001b[0;34m)\u001b[0m\u001b[0;34m\u001b[0m\u001b[0;34m\u001b[0m\u001b[0m\n",
            "\u001b[0;32m<ipython-input-2-b08c8027b834>\u001b[0m in \u001b[0;36m__init__\u001b[0;34m(self, model, calib_loader, alpha, kreg, lamda, randomized, allow_zero_sets, pct_paramtune, batch_size, lamda_criterion, defer, RAPS_D, LAC, def_proportion)\u001b[0m\n\u001b[1;32m     26\u001b[0m         \u001b[0;31m#   self.defer = False\u001b[0m\u001b[0;34m\u001b[0m\u001b[0;34m\u001b[0m\u001b[0;34m\u001b[0m\u001b[0m\n\u001b[1;32m     27\u001b[0m         \u001b[0mself\u001b[0m\u001b[0;34m.\u001b[0m\u001b[0mdef_proportion\u001b[0m \u001b[0;34m=\u001b[0m \u001b[0mdef_proportion\u001b[0m\u001b[0;34m\u001b[0m\u001b[0;34m\u001b[0m\u001b[0m\n\u001b[0;32m---> 28\u001b[0;31m         \u001b[0mself\u001b[0m\u001b[0;34m.\u001b[0m\u001b[0mT\u001b[0m\u001b[0;34m,\u001b[0m \u001b[0mcalib_logits\u001b[0m \u001b[0;34m=\u001b[0m \u001b[0mplatt\u001b[0m\u001b[0;34m(\u001b[0m\u001b[0mself\u001b[0m\u001b[0;34m,\u001b[0m \u001b[0mcalib_loader\u001b[0m\u001b[0;34m,\u001b[0m\u001b[0mdefer\u001b[0m \u001b[0;34m=\u001b[0m \u001b[0mself\u001b[0m\u001b[0;34m.\u001b[0m\u001b[0mdefer\u001b[0m\u001b[0;34m,\u001b[0m\u001b[0mRAPS_D\u001b[0m\u001b[0;34m=\u001b[0m\u001b[0mself\u001b[0m\u001b[0;34m.\u001b[0m\u001b[0mRAPS_D\u001b[0m\u001b[0;34m)\u001b[0m \u001b[0;31m# calib_logits contains non deferred\u001b[0m\u001b[0;34m\u001b[0m\u001b[0;34m\u001b[0m\u001b[0m\n\u001b[0m\u001b[1;32m     29\u001b[0m         \u001b[0mself\u001b[0m\u001b[0;34m.\u001b[0m\u001b[0mrandomized\u001b[0m\u001b[0;34m=\u001b[0m\u001b[0mrandomized\u001b[0m\u001b[0;34m\u001b[0m\u001b[0;34m\u001b[0m\u001b[0m\n\u001b[1;32m     30\u001b[0m         \u001b[0mself\u001b[0m\u001b[0;34m.\u001b[0m\u001b[0mallow_zero_sets\u001b[0m\u001b[0;34m=\u001b[0m\u001b[0mallow_zero_sets\u001b[0m\u001b[0;34m\u001b[0m\u001b[0;34m\u001b[0m\u001b[0m\n",
            "\u001b[0;32m<ipython-input-2-b08c8027b834>\u001b[0m in \u001b[0;36mplatt\u001b[0;34m(cmodel, calib_loader, max_iters, lr, epsilon, defer, RAPS_D)\u001b[0m\n\u001b[1;32m    126\u001b[0m     \u001b[0;31m# Save logits so don't need to double compute them\u001b[0m\u001b[0;34m\u001b[0m\u001b[0;34m\u001b[0m\u001b[0;34m\u001b[0m\u001b[0m\n\u001b[1;32m    127\u001b[0m     \u001b[0mprint\u001b[0m\u001b[0;34m(\u001b[0m\u001b[0;34m\"Platt: {}\"\u001b[0m\u001b[0;34m.\u001b[0m\u001b[0mformat\u001b[0m\u001b[0;34m(\u001b[0m\u001b[0mdefer\u001b[0m\u001b[0;34m)\u001b[0m\u001b[0;34m)\u001b[0m\u001b[0;34m\u001b[0m\u001b[0;34m\u001b[0m\u001b[0m\n\u001b[0;32m--> 128\u001b[0;31m     \u001b[0mlogits_dataset\u001b[0m\u001b[0;34m,\u001b[0m\u001b[0mthreshold_score\u001b[0m \u001b[0;34m=\u001b[0m \u001b[0mget_logits_targets\u001b[0m\u001b[0;34m(\u001b[0m\u001b[0mcmodel\u001b[0m\u001b[0;34m.\u001b[0m\u001b[0mmodel\u001b[0m\u001b[0;34m,\u001b[0m \u001b[0mcalib_loader\u001b[0m\u001b[0;34m,\u001b[0m\u001b[0mdefer\u001b[0m\u001b[0;34m,\u001b[0m\u001b[0mRAPS_D\u001b[0m\u001b[0;34m=\u001b[0m\u001b[0mRAPS_D\u001b[0m\u001b[0;34m,\u001b[0m\u001b[0mdef_proportion\u001b[0m\u001b[0;34m=\u001b[0m\u001b[0mcmodel\u001b[0m\u001b[0;34m.\u001b[0m\u001b[0mdef_proportion\u001b[0m\u001b[0;34m)\u001b[0m\u001b[0;34m\u001b[0m\u001b[0;34m\u001b[0m\u001b[0m\n\u001b[0m\u001b[1;32m    129\u001b[0m     \u001b[0mcmodel\u001b[0m\u001b[0;34m.\u001b[0m\u001b[0mnewAttr\u001b[0m\u001b[0;34m(\u001b[0m\u001b[0;34m\"threshold_score\"\u001b[0m\u001b[0;34m)\u001b[0m\u001b[0;34m\u001b[0m\u001b[0;34m\u001b[0m\u001b[0m\n\u001b[1;32m    130\u001b[0m     \u001b[0mcmodel\u001b[0m\u001b[0;34m.\u001b[0m\u001b[0mthreshold_score\u001b[0m \u001b[0;34m=\u001b[0m \u001b[0mthreshold_score\u001b[0m\u001b[0;34m\u001b[0m\u001b[0;34m\u001b[0m\u001b[0m\n",
            "\u001b[0;32m<ipython-input-3-0adda5fe9a70>\u001b[0m in \u001b[0;36mget_logits_targets\u001b[0;34m(model, loader, defer, RAPS_D, def_proportion)\u001b[0m\n\u001b[1;32m    201\u001b[0m       \u001b[0mi\u001b[0m \u001b[0;34m=\u001b[0m \u001b[0;36m0\u001b[0m\u001b[0;34m\u001b[0m\u001b[0;34m\u001b[0m\u001b[0m\n\u001b[1;32m    202\u001b[0m       \u001b[0;32mwith\u001b[0m \u001b[0mtorch\u001b[0m\u001b[0;34m.\u001b[0m\u001b[0mno_grad\u001b[0m\u001b[0;34m(\u001b[0m\u001b[0;34m)\u001b[0m\u001b[0;34m:\u001b[0m\u001b[0;34m\u001b[0m\u001b[0;34m\u001b[0m\u001b[0m\n\u001b[0;32m--> 203\u001b[0;31m         \u001b[0;32mfor\u001b[0m \u001b[0mx\u001b[0m\u001b[0;34m,\u001b[0m \u001b[0mtargets\u001b[0m \u001b[0;32min\u001b[0m \u001b[0mtqdm\u001b[0m\u001b[0;34m(\u001b[0m\u001b[0mloader\u001b[0m\u001b[0;34m)\u001b[0m\u001b[0;34m:\u001b[0m\u001b[0;34m\u001b[0m\u001b[0;34m\u001b[0m\u001b[0m\n\u001b[0m\u001b[1;32m    204\u001b[0m             \u001b[0mbatch_logits\u001b[0m \u001b[0;34m=\u001b[0m \u001b[0mmodel\u001b[0m\u001b[0;34m(\u001b[0m\u001b[0mx\u001b[0m\u001b[0;34m.\u001b[0m\u001b[0mcuda\u001b[0m\u001b[0;34m(\u001b[0m\u001b[0;34m)\u001b[0m\u001b[0;34m)\u001b[0m\u001b[0;34m.\u001b[0m\u001b[0mdetach\u001b[0m\u001b[0;34m(\u001b[0m\u001b[0;34m)\u001b[0m\u001b[0;34m.\u001b[0m\u001b[0mcpu\u001b[0m\u001b[0;34m(\u001b[0m\u001b[0;34m)\u001b[0m\u001b[0;34m\u001b[0m\u001b[0;34m\u001b[0m\u001b[0m\n\u001b[1;32m    205\u001b[0m             \u001b[0;32mfor\u001b[0m \u001b[0mj\u001b[0m \u001b[0;32min\u001b[0m \u001b[0mrange\u001b[0m\u001b[0;34m(\u001b[0m\u001b[0mx\u001b[0m\u001b[0;34m.\u001b[0m\u001b[0mshape\u001b[0m\u001b[0;34m[\u001b[0m\u001b[0;36m0\u001b[0m\u001b[0;34m]\u001b[0m\u001b[0;34m)\u001b[0m\u001b[0;34m:\u001b[0m\u001b[0;34m\u001b[0m\u001b[0;34m\u001b[0m\u001b[0m\n",
            "\u001b[0;32m/usr/local/lib/python3.7/dist-packages/tqdm/std.py\u001b[0m in \u001b[0;36m__iter__\u001b[0;34m(self)\u001b[0m\n\u001b[1;32m   1193\u001b[0m \u001b[0;34m\u001b[0m\u001b[0m\n\u001b[1;32m   1194\u001b[0m         \u001b[0;32mtry\u001b[0m\u001b[0;34m:\u001b[0m\u001b[0;34m\u001b[0m\u001b[0;34m\u001b[0m\u001b[0m\n\u001b[0;32m-> 1195\u001b[0;31m             \u001b[0;32mfor\u001b[0m \u001b[0mobj\u001b[0m \u001b[0;32min\u001b[0m \u001b[0miterable\u001b[0m\u001b[0;34m:\u001b[0m\u001b[0;34m\u001b[0m\u001b[0;34m\u001b[0m\u001b[0m\n\u001b[0m\u001b[1;32m   1196\u001b[0m                 \u001b[0;32myield\u001b[0m \u001b[0mobj\u001b[0m\u001b[0;34m\u001b[0m\u001b[0;34m\u001b[0m\u001b[0m\n\u001b[1;32m   1197\u001b[0m                 \u001b[0;31m# Update and possibly print the progressbar.\u001b[0m\u001b[0;34m\u001b[0m\u001b[0;34m\u001b[0m\u001b[0;34m\u001b[0m\u001b[0m\n",
            "\u001b[0;32m/usr/local/lib/python3.7/dist-packages/torch/utils/data/dataloader.py\u001b[0m in \u001b[0;36m__next__\u001b[0;34m(self)\u001b[0m\n\u001b[1;32m    528\u001b[0m             \u001b[0;32mif\u001b[0m \u001b[0mself\u001b[0m\u001b[0;34m.\u001b[0m\u001b[0m_sampler_iter\u001b[0m \u001b[0;32mis\u001b[0m \u001b[0;32mNone\u001b[0m\u001b[0;34m:\u001b[0m\u001b[0;34m\u001b[0m\u001b[0;34m\u001b[0m\u001b[0m\n\u001b[1;32m    529\u001b[0m                 \u001b[0mself\u001b[0m\u001b[0;34m.\u001b[0m\u001b[0m_reset\u001b[0m\u001b[0;34m(\u001b[0m\u001b[0;34m)\u001b[0m\u001b[0;34m\u001b[0m\u001b[0;34m\u001b[0m\u001b[0m\n\u001b[0;32m--> 530\u001b[0;31m             \u001b[0mdata\u001b[0m \u001b[0;34m=\u001b[0m \u001b[0mself\u001b[0m\u001b[0;34m.\u001b[0m\u001b[0m_next_data\u001b[0m\u001b[0;34m(\u001b[0m\u001b[0;34m)\u001b[0m\u001b[0;34m\u001b[0m\u001b[0;34m\u001b[0m\u001b[0m\n\u001b[0m\u001b[1;32m    531\u001b[0m             \u001b[0mself\u001b[0m\u001b[0;34m.\u001b[0m\u001b[0m_num_yielded\u001b[0m \u001b[0;34m+=\u001b[0m \u001b[0;36m1\u001b[0m\u001b[0;34m\u001b[0m\u001b[0;34m\u001b[0m\u001b[0m\n\u001b[1;32m    532\u001b[0m             \u001b[0;32mif\u001b[0m \u001b[0mself\u001b[0m\u001b[0;34m.\u001b[0m\u001b[0m_dataset_kind\u001b[0m \u001b[0;34m==\u001b[0m \u001b[0m_DatasetKind\u001b[0m\u001b[0;34m.\u001b[0m\u001b[0mIterable\u001b[0m \u001b[0;32mand\u001b[0m\u001b[0;31m \u001b[0m\u001b[0;31m\\\u001b[0m\u001b[0;34m\u001b[0m\u001b[0;34m\u001b[0m\u001b[0m\n",
            "\u001b[0;32m/usr/local/lib/python3.7/dist-packages/torch/utils/data/dataloader.py\u001b[0m in \u001b[0;36m_next_data\u001b[0;34m(self)\u001b[0m\n\u001b[1;32m    568\u001b[0m     \u001b[0;32mdef\u001b[0m \u001b[0m_next_data\u001b[0m\u001b[0;34m(\u001b[0m\u001b[0mself\u001b[0m\u001b[0;34m)\u001b[0m\u001b[0;34m:\u001b[0m\u001b[0;34m\u001b[0m\u001b[0;34m\u001b[0m\u001b[0m\n\u001b[1;32m    569\u001b[0m         \u001b[0mindex\u001b[0m \u001b[0;34m=\u001b[0m \u001b[0mself\u001b[0m\u001b[0;34m.\u001b[0m\u001b[0m_next_index\u001b[0m\u001b[0;34m(\u001b[0m\u001b[0;34m)\u001b[0m  \u001b[0;31m# may raise StopIteration\u001b[0m\u001b[0;34m\u001b[0m\u001b[0;34m\u001b[0m\u001b[0m\n\u001b[0;32m--> 570\u001b[0;31m         \u001b[0mdata\u001b[0m \u001b[0;34m=\u001b[0m \u001b[0mself\u001b[0m\u001b[0;34m.\u001b[0m\u001b[0m_dataset_fetcher\u001b[0m\u001b[0;34m.\u001b[0m\u001b[0mfetch\u001b[0m\u001b[0;34m(\u001b[0m\u001b[0mindex\u001b[0m\u001b[0;34m)\u001b[0m  \u001b[0;31m# may raise StopIteration\u001b[0m\u001b[0;34m\u001b[0m\u001b[0;34m\u001b[0m\u001b[0m\n\u001b[0m\u001b[1;32m    571\u001b[0m         \u001b[0;32mif\u001b[0m \u001b[0mself\u001b[0m\u001b[0;34m.\u001b[0m\u001b[0m_pin_memory\u001b[0m\u001b[0;34m:\u001b[0m\u001b[0;34m\u001b[0m\u001b[0;34m\u001b[0m\u001b[0m\n\u001b[1;32m    572\u001b[0m             \u001b[0mdata\u001b[0m \u001b[0;34m=\u001b[0m \u001b[0m_utils\u001b[0m\u001b[0;34m.\u001b[0m\u001b[0mpin_memory\u001b[0m\u001b[0;34m.\u001b[0m\u001b[0mpin_memory\u001b[0m\u001b[0;34m(\u001b[0m\u001b[0mdata\u001b[0m\u001b[0;34m)\u001b[0m\u001b[0;34m\u001b[0m\u001b[0;34m\u001b[0m\u001b[0m\n",
            "\u001b[0;32m/usr/local/lib/python3.7/dist-packages/torch/utils/data/_utils/fetch.py\u001b[0m in \u001b[0;36mfetch\u001b[0;34m(self, possibly_batched_index)\u001b[0m\n\u001b[1;32m     47\u001b[0m     \u001b[0;32mdef\u001b[0m \u001b[0mfetch\u001b[0m\u001b[0;34m(\u001b[0m\u001b[0mself\u001b[0m\u001b[0;34m,\u001b[0m \u001b[0mpossibly_batched_index\u001b[0m\u001b[0;34m)\u001b[0m\u001b[0;34m:\u001b[0m\u001b[0;34m\u001b[0m\u001b[0;34m\u001b[0m\u001b[0m\n\u001b[1;32m     48\u001b[0m         \u001b[0;32mif\u001b[0m \u001b[0mself\u001b[0m\u001b[0;34m.\u001b[0m\u001b[0mauto_collation\u001b[0m\u001b[0;34m:\u001b[0m\u001b[0;34m\u001b[0m\u001b[0;34m\u001b[0m\u001b[0m\n\u001b[0;32m---> 49\u001b[0;31m             \u001b[0mdata\u001b[0m \u001b[0;34m=\u001b[0m \u001b[0;34m[\u001b[0m\u001b[0mself\u001b[0m\u001b[0;34m.\u001b[0m\u001b[0mdataset\u001b[0m\u001b[0;34m[\u001b[0m\u001b[0midx\u001b[0m\u001b[0;34m]\u001b[0m \u001b[0;32mfor\u001b[0m \u001b[0midx\u001b[0m \u001b[0;32min\u001b[0m \u001b[0mpossibly_batched_index\u001b[0m\u001b[0;34m]\u001b[0m\u001b[0;34m\u001b[0m\u001b[0;34m\u001b[0m\u001b[0m\n\u001b[0m\u001b[1;32m     50\u001b[0m         \u001b[0;32melse\u001b[0m\u001b[0;34m:\u001b[0m\u001b[0;34m\u001b[0m\u001b[0;34m\u001b[0m\u001b[0m\n\u001b[1;32m     51\u001b[0m             \u001b[0mdata\u001b[0m \u001b[0;34m=\u001b[0m \u001b[0mself\u001b[0m\u001b[0;34m.\u001b[0m\u001b[0mdataset\u001b[0m\u001b[0;34m[\u001b[0m\u001b[0mpossibly_batched_index\u001b[0m\u001b[0;34m]\u001b[0m\u001b[0;34m\u001b[0m\u001b[0;34m\u001b[0m\u001b[0m\n",
            "\u001b[0;32m/usr/local/lib/python3.7/dist-packages/torch/utils/data/_utils/fetch.py\u001b[0m in \u001b[0;36m<listcomp>\u001b[0;34m(.0)\u001b[0m\n\u001b[1;32m     47\u001b[0m     \u001b[0;32mdef\u001b[0m \u001b[0mfetch\u001b[0m\u001b[0;34m(\u001b[0m\u001b[0mself\u001b[0m\u001b[0;34m,\u001b[0m \u001b[0mpossibly_batched_index\u001b[0m\u001b[0;34m)\u001b[0m\u001b[0;34m:\u001b[0m\u001b[0;34m\u001b[0m\u001b[0;34m\u001b[0m\u001b[0m\n\u001b[1;32m     48\u001b[0m         \u001b[0;32mif\u001b[0m \u001b[0mself\u001b[0m\u001b[0;34m.\u001b[0m\u001b[0mauto_collation\u001b[0m\u001b[0;34m:\u001b[0m\u001b[0;34m\u001b[0m\u001b[0;34m\u001b[0m\u001b[0m\n\u001b[0;32m---> 49\u001b[0;31m             \u001b[0mdata\u001b[0m \u001b[0;34m=\u001b[0m \u001b[0;34m[\u001b[0m\u001b[0mself\u001b[0m\u001b[0;34m.\u001b[0m\u001b[0mdataset\u001b[0m\u001b[0;34m[\u001b[0m\u001b[0midx\u001b[0m\u001b[0;34m]\u001b[0m \u001b[0;32mfor\u001b[0m \u001b[0midx\u001b[0m \u001b[0;32min\u001b[0m \u001b[0mpossibly_batched_index\u001b[0m\u001b[0;34m]\u001b[0m\u001b[0;34m\u001b[0m\u001b[0;34m\u001b[0m\u001b[0m\n\u001b[0m\u001b[1;32m     50\u001b[0m         \u001b[0;32melse\u001b[0m\u001b[0;34m:\u001b[0m\u001b[0;34m\u001b[0m\u001b[0;34m\u001b[0m\u001b[0m\n\u001b[1;32m     51\u001b[0m             \u001b[0mdata\u001b[0m \u001b[0;34m=\u001b[0m \u001b[0mself\u001b[0m\u001b[0;34m.\u001b[0m\u001b[0mdataset\u001b[0m\u001b[0;34m[\u001b[0m\u001b[0mpossibly_batched_index\u001b[0m\u001b[0;34m]\u001b[0m\u001b[0;34m\u001b[0m\u001b[0;34m\u001b[0m\u001b[0m\n",
            "\u001b[0;32m/usr/local/lib/python3.7/dist-packages/torch/utils/data/dataset.py\u001b[0m in \u001b[0;36m__getitem__\u001b[0;34m(self, idx)\u001b[0m\n\u001b[1;32m    469\u001b[0m         \u001b[0;32mif\u001b[0m \u001b[0misinstance\u001b[0m\u001b[0;34m(\u001b[0m\u001b[0midx\u001b[0m\u001b[0;34m,\u001b[0m \u001b[0mlist\u001b[0m\u001b[0;34m)\u001b[0m\u001b[0;34m:\u001b[0m\u001b[0;34m\u001b[0m\u001b[0;34m\u001b[0m\u001b[0m\n\u001b[1;32m    470\u001b[0m             \u001b[0;32mreturn\u001b[0m \u001b[0mself\u001b[0m\u001b[0;34m.\u001b[0m\u001b[0mdataset\u001b[0m\u001b[0;34m[\u001b[0m\u001b[0;34m[\u001b[0m\u001b[0mself\u001b[0m\u001b[0;34m.\u001b[0m\u001b[0mindices\u001b[0m\u001b[0;34m[\u001b[0m\u001b[0mi\u001b[0m\u001b[0;34m]\u001b[0m \u001b[0;32mfor\u001b[0m \u001b[0mi\u001b[0m \u001b[0;32min\u001b[0m \u001b[0midx\u001b[0m\u001b[0;34m]\u001b[0m\u001b[0;34m]\u001b[0m\u001b[0;34m\u001b[0m\u001b[0;34m\u001b[0m\u001b[0m\n\u001b[0;32m--> 471\u001b[0;31m         \u001b[0;32mreturn\u001b[0m \u001b[0mself\u001b[0m\u001b[0;34m.\u001b[0m\u001b[0mdataset\u001b[0m\u001b[0;34m[\u001b[0m\u001b[0mself\u001b[0m\u001b[0;34m.\u001b[0m\u001b[0mindices\u001b[0m\u001b[0;34m[\u001b[0m\u001b[0midx\u001b[0m\u001b[0;34m]\u001b[0m\u001b[0;34m]\u001b[0m\u001b[0;34m\u001b[0m\u001b[0;34m\u001b[0m\u001b[0m\n\u001b[0m\u001b[1;32m    472\u001b[0m \u001b[0;34m\u001b[0m\u001b[0m\n\u001b[1;32m    473\u001b[0m     \u001b[0;32mdef\u001b[0m \u001b[0m__len__\u001b[0m\u001b[0;34m(\u001b[0m\u001b[0mself\u001b[0m\u001b[0;34m)\u001b[0m\u001b[0;34m:\u001b[0m\u001b[0;34m\u001b[0m\u001b[0;34m\u001b[0m\u001b[0m\n",
            "\u001b[0;32m/usr/local/lib/python3.7/dist-packages/torchvision/datasets/cifar.py\u001b[0m in \u001b[0;36m__getitem__\u001b[0;34m(self, index)\u001b[0m\n\u001b[1;32m    116\u001b[0m \u001b[0;34m\u001b[0m\u001b[0m\n\u001b[1;32m    117\u001b[0m         \u001b[0;32mif\u001b[0m \u001b[0mself\u001b[0m\u001b[0;34m.\u001b[0m\u001b[0mtransform\u001b[0m \u001b[0;32mis\u001b[0m \u001b[0;32mnot\u001b[0m \u001b[0;32mNone\u001b[0m\u001b[0;34m:\u001b[0m\u001b[0;34m\u001b[0m\u001b[0;34m\u001b[0m\u001b[0m\n\u001b[0;32m--> 118\u001b[0;31m             \u001b[0mimg\u001b[0m \u001b[0;34m=\u001b[0m \u001b[0mself\u001b[0m\u001b[0;34m.\u001b[0m\u001b[0mtransform\u001b[0m\u001b[0;34m(\u001b[0m\u001b[0mimg\u001b[0m\u001b[0;34m)\u001b[0m\u001b[0;34m\u001b[0m\u001b[0;34m\u001b[0m\u001b[0m\n\u001b[0m\u001b[1;32m    119\u001b[0m \u001b[0;34m\u001b[0m\u001b[0m\n\u001b[1;32m    120\u001b[0m         \u001b[0;32mif\u001b[0m \u001b[0mself\u001b[0m\u001b[0;34m.\u001b[0m\u001b[0mtarget_transform\u001b[0m \u001b[0;32mis\u001b[0m \u001b[0;32mnot\u001b[0m \u001b[0;32mNone\u001b[0m\u001b[0;34m:\u001b[0m\u001b[0;34m\u001b[0m\u001b[0;34m\u001b[0m\u001b[0m\n",
            "\u001b[0;32m/usr/local/lib/python3.7/dist-packages/torchvision/transforms/transforms.py\u001b[0m in \u001b[0;36m__call__\u001b[0;34m(self, img)\u001b[0m\n\u001b[1;32m     93\u001b[0m     \u001b[0;32mdef\u001b[0m \u001b[0m__call__\u001b[0m\u001b[0;34m(\u001b[0m\u001b[0mself\u001b[0m\u001b[0;34m,\u001b[0m \u001b[0mimg\u001b[0m\u001b[0;34m)\u001b[0m\u001b[0;34m:\u001b[0m\u001b[0;34m\u001b[0m\u001b[0;34m\u001b[0m\u001b[0m\n\u001b[1;32m     94\u001b[0m         \u001b[0;32mfor\u001b[0m \u001b[0mt\u001b[0m \u001b[0;32min\u001b[0m \u001b[0mself\u001b[0m\u001b[0;34m.\u001b[0m\u001b[0mtransforms\u001b[0m\u001b[0;34m:\u001b[0m\u001b[0;34m\u001b[0m\u001b[0;34m\u001b[0m\u001b[0m\n\u001b[0;32m---> 95\u001b[0;31m             \u001b[0mimg\u001b[0m \u001b[0;34m=\u001b[0m \u001b[0mt\u001b[0m\u001b[0;34m(\u001b[0m\u001b[0mimg\u001b[0m\u001b[0;34m)\u001b[0m\u001b[0;34m\u001b[0m\u001b[0;34m\u001b[0m\u001b[0m\n\u001b[0m\u001b[1;32m     96\u001b[0m         \u001b[0;32mreturn\u001b[0m \u001b[0mimg\u001b[0m\u001b[0;34m\u001b[0m\u001b[0;34m\u001b[0m\u001b[0m\n\u001b[1;32m     97\u001b[0m \u001b[0;34m\u001b[0m\u001b[0m\n",
            "\u001b[0;32m/usr/local/lib/python3.7/dist-packages/torchvision/transforms/transforms.py\u001b[0m in \u001b[0;36m__call__\u001b[0;34m(self, pic)\u001b[0m\n\u001b[1;32m    133\u001b[0m             \u001b[0mTensor\u001b[0m\u001b[0;34m:\u001b[0m \u001b[0mConverted\u001b[0m \u001b[0mimage\u001b[0m\u001b[0;34m.\u001b[0m\u001b[0;34m\u001b[0m\u001b[0;34m\u001b[0m\u001b[0m\n\u001b[1;32m    134\u001b[0m         \"\"\"\n\u001b[0;32m--> 135\u001b[0;31m         \u001b[0;32mreturn\u001b[0m \u001b[0mF\u001b[0m\u001b[0;34m.\u001b[0m\u001b[0mto_tensor\u001b[0m\u001b[0;34m(\u001b[0m\u001b[0mpic\u001b[0m\u001b[0;34m)\u001b[0m\u001b[0;34m\u001b[0m\u001b[0;34m\u001b[0m\u001b[0m\n\u001b[0m\u001b[1;32m    136\u001b[0m \u001b[0;34m\u001b[0m\u001b[0m\n\u001b[1;32m    137\u001b[0m     \u001b[0;32mdef\u001b[0m \u001b[0m__repr__\u001b[0m\u001b[0;34m(\u001b[0m\u001b[0mself\u001b[0m\u001b[0;34m)\u001b[0m \u001b[0;34m->\u001b[0m \u001b[0mstr\u001b[0m\u001b[0;34m:\u001b[0m\u001b[0;34m\u001b[0m\u001b[0;34m\u001b[0m\u001b[0m\n",
            "\u001b[0;32m/usr/local/lib/python3.7/dist-packages/torchvision/transforms/functional.py\u001b[0m in \u001b[0;36mto_tensor\u001b[0;34m(pic)\u001b[0m\n\u001b[1;32m    151\u001b[0m     \u001b[0mimg\u001b[0m \u001b[0;34m=\u001b[0m \u001b[0mimg\u001b[0m\u001b[0;34m.\u001b[0m\u001b[0mview\u001b[0m\u001b[0;34m(\u001b[0m\u001b[0mpic\u001b[0m\u001b[0;34m.\u001b[0m\u001b[0msize\u001b[0m\u001b[0;34m[\u001b[0m\u001b[0;36m1\u001b[0m\u001b[0;34m]\u001b[0m\u001b[0;34m,\u001b[0m \u001b[0mpic\u001b[0m\u001b[0;34m.\u001b[0m\u001b[0msize\u001b[0m\u001b[0;34m[\u001b[0m\u001b[0;36m0\u001b[0m\u001b[0;34m]\u001b[0m\u001b[0;34m,\u001b[0m \u001b[0mlen\u001b[0m\u001b[0;34m(\u001b[0m\u001b[0mpic\u001b[0m\u001b[0;34m.\u001b[0m\u001b[0mgetbands\u001b[0m\u001b[0;34m(\u001b[0m\u001b[0;34m)\u001b[0m\u001b[0;34m)\u001b[0m\u001b[0;34m)\u001b[0m\u001b[0;34m\u001b[0m\u001b[0;34m\u001b[0m\u001b[0m\n\u001b[1;32m    152\u001b[0m     \u001b[0;31m# put it from HWC to CHW format\u001b[0m\u001b[0;34m\u001b[0m\u001b[0;34m\u001b[0m\u001b[0;34m\u001b[0m\u001b[0m\n\u001b[0;32m--> 153\u001b[0;31m     \u001b[0mimg\u001b[0m \u001b[0;34m=\u001b[0m \u001b[0mimg\u001b[0m\u001b[0;34m.\u001b[0m\u001b[0mpermute\u001b[0m\u001b[0;34m(\u001b[0m\u001b[0;34m(\u001b[0m\u001b[0;36m2\u001b[0m\u001b[0;34m,\u001b[0m \u001b[0;36m0\u001b[0m\u001b[0;34m,\u001b[0m \u001b[0;36m1\u001b[0m\u001b[0;34m)\u001b[0m\u001b[0;34m)\u001b[0m\u001b[0;34m.\u001b[0m\u001b[0mcontiguous\u001b[0m\u001b[0;34m(\u001b[0m\u001b[0;34m)\u001b[0m\u001b[0;34m\u001b[0m\u001b[0;34m\u001b[0m\u001b[0m\n\u001b[0m\u001b[1;32m    154\u001b[0m     \u001b[0;32mif\u001b[0m \u001b[0misinstance\u001b[0m\u001b[0;34m(\u001b[0m\u001b[0mimg\u001b[0m\u001b[0;34m,\u001b[0m \u001b[0mtorch\u001b[0m\u001b[0;34m.\u001b[0m\u001b[0mByteTensor\u001b[0m\u001b[0;34m)\u001b[0m\u001b[0;34m:\u001b[0m\u001b[0;34m\u001b[0m\u001b[0;34m\u001b[0m\u001b[0m\n\u001b[1;32m    155\u001b[0m         \u001b[0;32mreturn\u001b[0m \u001b[0mimg\u001b[0m\u001b[0;34m.\u001b[0m\u001b[0mto\u001b[0m\u001b[0;34m(\u001b[0m\u001b[0mdtype\u001b[0m\u001b[0;34m=\u001b[0m\u001b[0mdefault_float_dtype\u001b[0m\u001b[0;34m)\u001b[0m\u001b[0;34m.\u001b[0m\u001b[0mdiv\u001b[0m\u001b[0;34m(\u001b[0m\u001b[0;36m255\u001b[0m\u001b[0;34m)\u001b[0m\u001b[0;34m\u001b[0m\u001b[0;34m\u001b[0m\u001b[0m\n",
            "\u001b[0;31mKeyboardInterrupt\u001b[0m: "
          ]
        }
      ]
    },
    {
      "cell_type": "code",
      "source": [
        "fig,ax = plt.subplots(2,3,figsize=(13,7))\n",
        "fig.set_dpi(500)\n",
        "ax[0][0].hist(draps_coverage,bins=6, color='c', edgecolor='k', alpha=0.65)\n",
        "ax[0][0].set_title(r'$\\bf{D-RAPS}$' + '\\n Mean = {}, Std = {}'.format(round(np.array(draps_coverage).mean(),4),round(np.array(draps_coverage).std(),4)))\n",
        "for axs in ax:\n",
        "  for ax2 in axs:\n",
        "    ax2.set_xlabel(\"Empirical Coverage\",fontsize=12)\n",
        "    ax2.set_xlim(0.935,0.965)\n",
        "    ax2.set_ylim(0,70)\n",
        "    ax2.set_yticks([0,20,40,60])\n",
        "ax[0][0].set_ylabel(\"Frequency\",fontsize=12)\n",
        "ax[1][0].set_ylabel(\"Frequency\",fontsize=12)\n",
        "ax[0][1].hist(daps_coverage,bins=6, color='c', edgecolor='k', alpha=0.65)\n",
        "ax[0][1].set_title(r'$\\bf{D-APS}$' + '\\n Mean = {}, Std = {}'.format(round(np.array(daps_coverage).mean(),4),round(np.array(daps_coverage).std(),4)))\n",
        "ax[0][2].hist(dlac_coverage,bins=6, color='c', edgecolor='k', alpha=0.65)\n",
        "ax[0][2].set_title(r'$\\bf{D-LAC}$' + '\\n Mean = {}, Std = {}'.format(round(np.array(dlac_coverage).mean(),4),round(np.array(dlac_coverage).std(),4)))\n",
        "ax[1][0].hist(raps_coverage,bins=6, color='c', edgecolor='k', alpha=0.65)\n",
        "ax[1][0].set_title(r'$\\bf{RAPS}$' + '\\n Mean = {}, Std = {}'.format(round(np.array(raps_coverage).mean(),4),round(np.array(raps_coverage).std(),4)))\n",
        "ax[1][1].hist(aps_coverage,bins=6, color='c', edgecolor='k', alpha=0.65)\n",
        "ax[1][1].set_title(r'$\\bf{APS}$' + '\\n Mean = {}, Std = {}'.format(round(np.array(aps_coverage).mean(),4),round(np.array(aps_coverage).std(),4)))\n",
        "ax[1][2].hist(lac_coverage,bins=6, color='c', edgecolor='k', alpha=0.65)\n",
        "ax[1][2].set_title(r'$\\bf{LAC}$' + '\\n Mean = {}, Std = {}'.format(round(np.array(lac_coverage).mean(),4),round(np.array(lac_coverage).std(),4)))\n",
        "plt.subplots_adjust(hspace = 0.5)"
      ],
      "metadata": {
        "id": "ridvKFoaSmuL"
      },
      "execution_count": 1,
      "outputs": []
    },
    {
      "cell_type": "code",
      "source": [
        ""
      ],
      "metadata": {
        "id": "2ClwviwEXVD8"
      },
      "execution_count": null,
      "outputs": []
    }
  ],
  "metadata": {
    "accelerator": "GPU",
    "colab": {
      "collapsed_sections": [],
      "name": "D-CP.ipynb",
      "provenance": []
    },
    "kernelspec": {
      "display_name": "Python 3",
      "name": "python3"
    },
    "language_info": {
      "name": "python"
    },
    "widgets": {
      "application/vnd.jupyter.widget-state+json": {
        "1960366c4dc3431cab3e58e7cce84dee": {
          "model_module": "@jupyter-widgets/controls",
          "model_name": "HBoxModel",
          "model_module_version": "1.5.0",
          "state": {
            "_dom_classes": [],
            "_model_module": "@jupyter-widgets/controls",
            "_model_module_version": "1.5.0",
            "_model_name": "HBoxModel",
            "_view_count": null,
            "_view_module": "@jupyter-widgets/controls",
            "_view_module_version": "1.5.0",
            "_view_name": "HBoxView",
            "box_style": "",
            "children": [
              "IPY_MODEL_f4362a4c51d94997b2fea37db4f08492",
              "IPY_MODEL_4838a8dea028474f9055e0a5b7a42c94",
              "IPY_MODEL_fe9c3a0b57ad444dab8381a6a3d98807"
            ],
            "layout": "IPY_MODEL_67595fb8fcab4d18b0b75d40e8694b3b"
          }
        },
        "f4362a4c51d94997b2fea37db4f08492": {
          "model_module": "@jupyter-widgets/controls",
          "model_name": "HTMLModel",
          "model_module_version": "1.5.0",
          "state": {
            "_dom_classes": [],
            "_model_module": "@jupyter-widgets/controls",
            "_model_module_version": "1.5.0",
            "_model_name": "HTMLModel",
            "_view_count": null,
            "_view_module": "@jupyter-widgets/controls",
            "_view_module_version": "1.5.0",
            "_view_name": "HTMLView",
            "description": "",
            "description_tooltip": null,
            "layout": "IPY_MODEL_0cf86a33fab6493bbe9c48260880c33d",
            "placeholder": "​",
            "style": "IPY_MODEL_3ae1d6b5223a42b382e48dc880195f11",
            "value": "100%"
          }
        },
        "4838a8dea028474f9055e0a5b7a42c94": {
          "model_module": "@jupyter-widgets/controls",
          "model_name": "FloatProgressModel",
          "model_module_version": "1.5.0",
          "state": {
            "_dom_classes": [],
            "_model_module": "@jupyter-widgets/controls",
            "_model_module_version": "1.5.0",
            "_model_name": "FloatProgressModel",
            "_view_count": null,
            "_view_module": "@jupyter-widgets/controls",
            "_view_module_version": "1.5.0",
            "_view_name": "ProgressView",
            "bar_style": "success",
            "description": "",
            "description_tooltip": null,
            "layout": "IPY_MODEL_fb5e2fd8dfc147a2bca3f6c131a8d511",
            "max": 3578887,
            "min": 0,
            "orientation": "horizontal",
            "style": "IPY_MODEL_cf76da748f01475b9af4284b9f47d277",
            "value": 3578887
          }
        },
        "fe9c3a0b57ad444dab8381a6a3d98807": {
          "model_module": "@jupyter-widgets/controls",
          "model_name": "HTMLModel",
          "model_module_version": "1.5.0",
          "state": {
            "_dom_classes": [],
            "_model_module": "@jupyter-widgets/controls",
            "_model_module_version": "1.5.0",
            "_model_name": "HTMLModel",
            "_view_count": null,
            "_view_module": "@jupyter-widgets/controls",
            "_view_module_version": "1.5.0",
            "_view_name": "HTMLView",
            "description": "",
            "description_tooltip": null,
            "layout": "IPY_MODEL_3e998b863c8a4debb515a86d5af3b561",
            "placeholder": "​",
            "style": "IPY_MODEL_cf9ef22823414ed79ad853d168829796",
            "value": " 3.41M/3.41M [00:00&lt;00:00, 69.7kB/s]"
          }
        },
        "67595fb8fcab4d18b0b75d40e8694b3b": {
          "model_module": "@jupyter-widgets/base",
          "model_name": "LayoutModel",
          "model_module_version": "1.2.0",
          "state": {
            "_model_module": "@jupyter-widgets/base",
            "_model_module_version": "1.2.0",
            "_model_name": "LayoutModel",
            "_view_count": null,
            "_view_module": "@jupyter-widgets/base",
            "_view_module_version": "1.2.0",
            "_view_name": "LayoutView",
            "align_content": null,
            "align_items": null,
            "align_self": null,
            "border": null,
            "bottom": null,
            "display": null,
            "flex": null,
            "flex_flow": null,
            "grid_area": null,
            "grid_auto_columns": null,
            "grid_auto_flow": null,
            "grid_auto_rows": null,
            "grid_column": null,
            "grid_gap": null,
            "grid_row": null,
            "grid_template_areas": null,
            "grid_template_columns": null,
            "grid_template_rows": null,
            "height": null,
            "justify_content": null,
            "justify_items": null,
            "left": null,
            "margin": null,
            "max_height": null,
            "max_width": null,
            "min_height": null,
            "min_width": null,
            "object_fit": null,
            "object_position": null,
            "order": null,
            "overflow": null,
            "overflow_x": null,
            "overflow_y": null,
            "padding": null,
            "right": null,
            "top": null,
            "visibility": null,
            "width": null
          }
        },
        "0cf86a33fab6493bbe9c48260880c33d": {
          "model_module": "@jupyter-widgets/base",
          "model_name": "LayoutModel",
          "model_module_version": "1.2.0",
          "state": {
            "_model_module": "@jupyter-widgets/base",
            "_model_module_version": "1.2.0",
            "_model_name": "LayoutModel",
            "_view_count": null,
            "_view_module": "@jupyter-widgets/base",
            "_view_module_version": "1.2.0",
            "_view_name": "LayoutView",
            "align_content": null,
            "align_items": null,
            "align_self": null,
            "border": null,
            "bottom": null,
            "display": null,
            "flex": null,
            "flex_flow": null,
            "grid_area": null,
            "grid_auto_columns": null,
            "grid_auto_flow": null,
            "grid_auto_rows": null,
            "grid_column": null,
            "grid_gap": null,
            "grid_row": null,
            "grid_template_areas": null,
            "grid_template_columns": null,
            "grid_template_rows": null,
            "height": null,
            "justify_content": null,
            "justify_items": null,
            "left": null,
            "margin": null,
            "max_height": null,
            "max_width": null,
            "min_height": null,
            "min_width": null,
            "object_fit": null,
            "object_position": null,
            "order": null,
            "overflow": null,
            "overflow_x": null,
            "overflow_y": null,
            "padding": null,
            "right": null,
            "top": null,
            "visibility": null,
            "width": null
          }
        },
        "3ae1d6b5223a42b382e48dc880195f11": {
          "model_module": "@jupyter-widgets/controls",
          "model_name": "DescriptionStyleModel",
          "model_module_version": "1.5.0",
          "state": {
            "_model_module": "@jupyter-widgets/controls",
            "_model_module_version": "1.5.0",
            "_model_name": "DescriptionStyleModel",
            "_view_count": null,
            "_view_module": "@jupyter-widgets/base",
            "_view_module_version": "1.2.0",
            "_view_name": "StyleView",
            "description_width": ""
          }
        },
        "fb5e2fd8dfc147a2bca3f6c131a8d511": {
          "model_module": "@jupyter-widgets/base",
          "model_name": "LayoutModel",
          "model_module_version": "1.2.0",
          "state": {
            "_model_module": "@jupyter-widgets/base",
            "_model_module_version": "1.2.0",
            "_model_name": "LayoutModel",
            "_view_count": null,
            "_view_module": "@jupyter-widgets/base",
            "_view_module_version": "1.2.0",
            "_view_name": "LayoutView",
            "align_content": null,
            "align_items": null,
            "align_self": null,
            "border": null,
            "bottom": null,
            "display": null,
            "flex": null,
            "flex_flow": null,
            "grid_area": null,
            "grid_auto_columns": null,
            "grid_auto_flow": null,
            "grid_auto_rows": null,
            "grid_column": null,
            "grid_gap": null,
            "grid_row": null,
            "grid_template_areas": null,
            "grid_template_columns": null,
            "grid_template_rows": null,
            "height": null,
            "justify_content": null,
            "justify_items": null,
            "left": null,
            "margin": null,
            "max_height": null,
            "max_width": null,
            "min_height": null,
            "min_width": null,
            "object_fit": null,
            "object_position": null,
            "order": null,
            "overflow": null,
            "overflow_x": null,
            "overflow_y": null,
            "padding": null,
            "right": null,
            "top": null,
            "visibility": null,
            "width": null
          }
        },
        "cf76da748f01475b9af4284b9f47d277": {
          "model_module": "@jupyter-widgets/controls",
          "model_name": "ProgressStyleModel",
          "model_module_version": "1.5.0",
          "state": {
            "_model_module": "@jupyter-widgets/controls",
            "_model_module_version": "1.5.0",
            "_model_name": "ProgressStyleModel",
            "_view_count": null,
            "_view_module": "@jupyter-widgets/base",
            "_view_module_version": "1.2.0",
            "_view_name": "StyleView",
            "bar_color": null,
            "description_width": ""
          }
        },
        "3e998b863c8a4debb515a86d5af3b561": {
          "model_module": "@jupyter-widgets/base",
          "model_name": "LayoutModel",
          "model_module_version": "1.2.0",
          "state": {
            "_model_module": "@jupyter-widgets/base",
            "_model_module_version": "1.2.0",
            "_model_name": "LayoutModel",
            "_view_count": null,
            "_view_module": "@jupyter-widgets/base",
            "_view_module_version": "1.2.0",
            "_view_name": "LayoutView",
            "align_content": null,
            "align_items": null,
            "align_self": null,
            "border": null,
            "bottom": null,
            "display": null,
            "flex": null,
            "flex_flow": null,
            "grid_area": null,
            "grid_auto_columns": null,
            "grid_auto_flow": null,
            "grid_auto_rows": null,
            "grid_column": null,
            "grid_gap": null,
            "grid_row": null,
            "grid_template_areas": null,
            "grid_template_columns": null,
            "grid_template_rows": null,
            "height": null,
            "justify_content": null,
            "justify_items": null,
            "left": null,
            "margin": null,
            "max_height": null,
            "max_width": null,
            "min_height": null,
            "min_width": null,
            "object_fit": null,
            "object_position": null,
            "order": null,
            "overflow": null,
            "overflow_x": null,
            "overflow_y": null,
            "padding": null,
            "right": null,
            "top": null,
            "visibility": null,
            "width": null
          }
        },
        "cf9ef22823414ed79ad853d168829796": {
          "model_module": "@jupyter-widgets/controls",
          "model_name": "DescriptionStyleModel",
          "model_module_version": "1.5.0",
          "state": {
            "_model_module": "@jupyter-widgets/controls",
            "_model_module_version": "1.5.0",
            "_model_name": "DescriptionStyleModel",
            "_view_count": null,
            "_view_module": "@jupyter-widgets/base",
            "_view_module_version": "1.2.0",
            "_view_name": "StyleView",
            "description_width": ""
          }
        },
        "4dd2d26168d64bc98164017cd6b11246": {
          "model_module": "@jupyter-widgets/controls",
          "model_name": "HBoxModel",
          "model_module_version": "1.5.0",
          "state": {
            "_dom_classes": [],
            "_model_module": "@jupyter-widgets/controls",
            "_model_module_version": "1.5.0",
            "_model_name": "HBoxModel",
            "_view_count": null,
            "_view_module": "@jupyter-widgets/controls",
            "_view_module_version": "1.5.0",
            "_view_name": "HBoxView",
            "box_style": "",
            "children": [
              "IPY_MODEL_4ee7ade824804a159f1af8ff6e79bf0f",
              "IPY_MODEL_80a3b9da23384e11860530f571d4b0c3",
              "IPY_MODEL_e3e6b1deb128473baabea9d5bb69d76d"
            ],
            "layout": "IPY_MODEL_005f0d161f404c3ca643180e12d2f5fc"
          }
        },
        "4ee7ade824804a159f1af8ff6e79bf0f": {
          "model_module": "@jupyter-widgets/controls",
          "model_name": "HTMLModel",
          "model_module_version": "1.5.0",
          "state": {
            "_dom_classes": [],
            "_model_module": "@jupyter-widgets/controls",
            "_model_module_version": "1.5.0",
            "_model_name": "HTMLModel",
            "_view_count": null,
            "_view_module": "@jupyter-widgets/controls",
            "_view_module_version": "1.5.0",
            "_view_name": "HTMLView",
            "description": "",
            "description_tooltip": null,
            "layout": "IPY_MODEL_c1a4cfcff6c84db98f5a0b9391ffd06d",
            "placeholder": "​",
            "style": "IPY_MODEL_0ccd75112fa84a1b8a18576cf1873d4e",
            "value": ""
          }
        },
        "80a3b9da23384e11860530f571d4b0c3": {
          "model_module": "@jupyter-widgets/controls",
          "model_name": "FloatProgressModel",
          "model_module_version": "1.5.0",
          "state": {
            "_dom_classes": [],
            "_model_module": "@jupyter-widgets/controls",
            "_model_module_version": "1.5.0",
            "_model_name": "FloatProgressModel",
            "_view_count": null,
            "_view_module": "@jupyter-widgets/controls",
            "_view_module_version": "1.5.0",
            "_view_name": "ProgressView",
            "bar_style": "success",
            "description": "",
            "description_tooltip": null,
            "layout": "IPY_MODEL_de2ec87c8d1349c280f06f0b0110bd6e",
            "max": 169001437,
            "min": 0,
            "orientation": "horizontal",
            "style": "IPY_MODEL_bbf69e167cc54846af3cf42969336723",
            "value": 169001437
          }
        },
        "e3e6b1deb128473baabea9d5bb69d76d": {
          "model_module": "@jupyter-widgets/controls",
          "model_name": "HTMLModel",
          "model_module_version": "1.5.0",
          "state": {
            "_dom_classes": [],
            "_model_module": "@jupyter-widgets/controls",
            "_model_module_version": "1.5.0",
            "_model_name": "HTMLModel",
            "_view_count": null,
            "_view_module": "@jupyter-widgets/controls",
            "_view_module_version": "1.5.0",
            "_view_name": "HTMLView",
            "description": "",
            "description_tooltip": null,
            "layout": "IPY_MODEL_e98cdfad03e74cd6809870426a5a8ab7",
            "placeholder": "​",
            "style": "IPY_MODEL_116d3a444be1483e8ba7c4956f1ef342",
            "value": " 169001984/? [00:12&lt;00:00, 16776064.99it/s]"
          }
        },
        "005f0d161f404c3ca643180e12d2f5fc": {
          "model_module": "@jupyter-widgets/base",
          "model_name": "LayoutModel",
          "model_module_version": "1.2.0",
          "state": {
            "_model_module": "@jupyter-widgets/base",
            "_model_module_version": "1.2.0",
            "_model_name": "LayoutModel",
            "_view_count": null,
            "_view_module": "@jupyter-widgets/base",
            "_view_module_version": "1.2.0",
            "_view_name": "LayoutView",
            "align_content": null,
            "align_items": null,
            "align_self": null,
            "border": null,
            "bottom": null,
            "display": null,
            "flex": null,
            "flex_flow": null,
            "grid_area": null,
            "grid_auto_columns": null,
            "grid_auto_flow": null,
            "grid_auto_rows": null,
            "grid_column": null,
            "grid_gap": null,
            "grid_row": null,
            "grid_template_areas": null,
            "grid_template_columns": null,
            "grid_template_rows": null,
            "height": null,
            "justify_content": null,
            "justify_items": null,
            "left": null,
            "margin": null,
            "max_height": null,
            "max_width": null,
            "min_height": null,
            "min_width": null,
            "object_fit": null,
            "object_position": null,
            "order": null,
            "overflow": null,
            "overflow_x": null,
            "overflow_y": null,
            "padding": null,
            "right": null,
            "top": null,
            "visibility": null,
            "width": null
          }
        },
        "c1a4cfcff6c84db98f5a0b9391ffd06d": {
          "model_module": "@jupyter-widgets/base",
          "model_name": "LayoutModel",
          "model_module_version": "1.2.0",
          "state": {
            "_model_module": "@jupyter-widgets/base",
            "_model_module_version": "1.2.0",
            "_model_name": "LayoutModel",
            "_view_count": null,
            "_view_module": "@jupyter-widgets/base",
            "_view_module_version": "1.2.0",
            "_view_name": "LayoutView",
            "align_content": null,
            "align_items": null,
            "align_self": null,
            "border": null,
            "bottom": null,
            "display": null,
            "flex": null,
            "flex_flow": null,
            "grid_area": null,
            "grid_auto_columns": null,
            "grid_auto_flow": null,
            "grid_auto_rows": null,
            "grid_column": null,
            "grid_gap": null,
            "grid_row": null,
            "grid_template_areas": null,
            "grid_template_columns": null,
            "grid_template_rows": null,
            "height": null,
            "justify_content": null,
            "justify_items": null,
            "left": null,
            "margin": null,
            "max_height": null,
            "max_width": null,
            "min_height": null,
            "min_width": null,
            "object_fit": null,
            "object_position": null,
            "order": null,
            "overflow": null,
            "overflow_x": null,
            "overflow_y": null,
            "padding": null,
            "right": null,
            "top": null,
            "visibility": null,
            "width": null
          }
        },
        "0ccd75112fa84a1b8a18576cf1873d4e": {
          "model_module": "@jupyter-widgets/controls",
          "model_name": "DescriptionStyleModel",
          "model_module_version": "1.5.0",
          "state": {
            "_model_module": "@jupyter-widgets/controls",
            "_model_module_version": "1.5.0",
            "_model_name": "DescriptionStyleModel",
            "_view_count": null,
            "_view_module": "@jupyter-widgets/base",
            "_view_module_version": "1.2.0",
            "_view_name": "StyleView",
            "description_width": ""
          }
        },
        "de2ec87c8d1349c280f06f0b0110bd6e": {
          "model_module": "@jupyter-widgets/base",
          "model_name": "LayoutModel",
          "model_module_version": "1.2.0",
          "state": {
            "_model_module": "@jupyter-widgets/base",
            "_model_module_version": "1.2.0",
            "_model_name": "LayoutModel",
            "_view_count": null,
            "_view_module": "@jupyter-widgets/base",
            "_view_module_version": "1.2.0",
            "_view_name": "LayoutView",
            "align_content": null,
            "align_items": null,
            "align_self": null,
            "border": null,
            "bottom": null,
            "display": null,
            "flex": null,
            "flex_flow": null,
            "grid_area": null,
            "grid_auto_columns": null,
            "grid_auto_flow": null,
            "grid_auto_rows": null,
            "grid_column": null,
            "grid_gap": null,
            "grid_row": null,
            "grid_template_areas": null,
            "grid_template_columns": null,
            "grid_template_rows": null,
            "height": null,
            "justify_content": null,
            "justify_items": null,
            "left": null,
            "margin": null,
            "max_height": null,
            "max_width": null,
            "min_height": null,
            "min_width": null,
            "object_fit": null,
            "object_position": null,
            "order": null,
            "overflow": null,
            "overflow_x": null,
            "overflow_y": null,
            "padding": null,
            "right": null,
            "top": null,
            "visibility": null,
            "width": null
          }
        },
        "bbf69e167cc54846af3cf42969336723": {
          "model_module": "@jupyter-widgets/controls",
          "model_name": "ProgressStyleModel",
          "model_module_version": "1.5.0",
          "state": {
            "_model_module": "@jupyter-widgets/controls",
            "_model_module_version": "1.5.0",
            "_model_name": "ProgressStyleModel",
            "_view_count": null,
            "_view_module": "@jupyter-widgets/base",
            "_view_module_version": "1.2.0",
            "_view_name": "StyleView",
            "bar_color": null,
            "description_width": ""
          }
        },
        "e98cdfad03e74cd6809870426a5a8ab7": {
          "model_module": "@jupyter-widgets/base",
          "model_name": "LayoutModel",
          "model_module_version": "1.2.0",
          "state": {
            "_model_module": "@jupyter-widgets/base",
            "_model_module_version": "1.2.0",
            "_model_name": "LayoutModel",
            "_view_count": null,
            "_view_module": "@jupyter-widgets/base",
            "_view_module_version": "1.2.0",
            "_view_name": "LayoutView",
            "align_content": null,
            "align_items": null,
            "align_self": null,
            "border": null,
            "bottom": null,
            "display": null,
            "flex": null,
            "flex_flow": null,
            "grid_area": null,
            "grid_auto_columns": null,
            "grid_auto_flow": null,
            "grid_auto_rows": null,
            "grid_column": null,
            "grid_gap": null,
            "grid_row": null,
            "grid_template_areas": null,
            "grid_template_columns": null,
            "grid_template_rows": null,
            "height": null,
            "justify_content": null,
            "justify_items": null,
            "left": null,
            "margin": null,
            "max_height": null,
            "max_width": null,
            "min_height": null,
            "min_width": null,
            "object_fit": null,
            "object_position": null,
            "order": null,
            "overflow": null,
            "overflow_x": null,
            "overflow_y": null,
            "padding": null,
            "right": null,
            "top": null,
            "visibility": null,
            "width": null
          }
        },
        "116d3a444be1483e8ba7c4956f1ef342": {
          "model_module": "@jupyter-widgets/controls",
          "model_name": "DescriptionStyleModel",
          "model_module_version": "1.5.0",
          "state": {
            "_model_module": "@jupyter-widgets/controls",
            "_model_module_version": "1.5.0",
            "_model_name": "DescriptionStyleModel",
            "_view_count": null,
            "_view_module": "@jupyter-widgets/base",
            "_view_module_version": "1.2.0",
            "_view_name": "StyleView",
            "description_width": ""
          }
        }
      }
    }
  },
  "nbformat": 4,
  "nbformat_minor": 0
}